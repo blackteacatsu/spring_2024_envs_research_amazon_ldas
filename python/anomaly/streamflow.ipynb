{
 "cells": [
  {
   "cell_type": "markdown",
   "metadata": {},
   "source": [
    "## Here are some code for reference purposes for the pandas syntax"
   ]
  },
  {
   "cell_type": "markdown",
   "metadata": {},
   "source": [
    "```python\n",
    "# Sample time series data (monthly temperature data over several years)\n",
    "date_rng = pd.date_range(start='2010-01-01', end='2020-12-31', freq='M')\n",
    "np.random.seed(0)\n",
    "data = pd.DataFrame(date_rng, columns=['date'])\n",
    "data['temperature'] = np.random.normal(loc=15, scale=10, size=(len(date_rng)))  # Random temperature data\n",
    "\n",
    "# Set date as index\n",
    "data.set_index('date', inplace=True)\n",
    "\n",
    "# Extract month and year\n",
    "data['month'] = data.index.month\n",
    "data['year'] = data.index.year\n",
    "\n",
    "# Calculate climatology (mean temperature for each month over all years)\n",
    "climatology = data.groupby('month')['temperature'].mean().rename('climatology_mean')\n",
    "\n",
    "# Merge the climatology with the original data\n",
    "data = data.merge(climatology, left_on='month', right_index=True)\n",
    "\n",
    "# Calculate the anomaly\n",
    "data['anomaly'] = data['temperature'] - data['climatology_mean']\n",
    "print(data.head(12))  # Print first 12 months to check the result\n",
    "```\n",
    "\n",
    "The terminal output:\n",
    "\n",
    "```terminal\n",
    "            temperature  month  year  climatology_mean    anomaly\n",
    "date                                                             \n",
    "2010-01-31    32.640523      1  2010         22.887543   9.752980\n",
    "2011-01-31    22.610377      1  2011         22.887543  -0.277166\n",
    "2012-01-31    37.697546      1  2012         22.887543  14.810003\n",
    "2013-01-31    27.302907      1  2013         22.887543   4.415364\n",
    "2014-01-31    -1.138978      1  2014         22.887543 -24.026522\n",
    "2015-01-31     8.275396      1  2015         22.887543 -14.612148\n",
    "2016-01-31    26.394007      1  2016         22.887543   3.506464\n",
    "2017-01-31    29.882522      1  2017         22.887543   6.994979\n",
    "2018-01-31    15.105000      1  2018         22.887543  -7.782543\n",
    "2019-01-31    34.229420      1  2019         22.887543  11.341877\n",
    "2020-01-31    18.764255      1  2020         22.887543  -4.123288\n",
    "2010-02-28    19.001572      2  2010         17.296001   1.705571\n",
    "\n",
    "```"
   ]
  },
  {
   "cell_type": "markdown",
   "metadata": {},
   "source": [
    "## Code goes under this line"
   ]
  },
  {
   "cell_type": "code",
   "execution_count": 1,
   "metadata": {},
   "outputs": [],
   "source": [
    "import pandas as pd\n",
    "import numpy as np\n",
    "import os"
   ]
  },
  {
   "cell_type": "code",
   "execution_count": 2,
   "metadata": {},
   "outputs": [],
   "source": [
    "nc_path = r\"C:\\Users\\Kris\\Documents\\amazonforcast\\data\\malaria_amazon\\amazon_monthly_ldas\\routing\\csv\\ZonalSt_hybas_lev05_Streamflow_tmax.csv\"\n",
    "\n",
    "data = pd.read_csv(nc_path)\n",
    "\n",
    "data_2001_2020 = pd.read_csv(nc_path)\n"
   ]
  },
  {
   "cell_type": "code",
   "execution_count": 3,
   "metadata": {},
   "outputs": [
    {
     "data": {
      "text/plain": [
       "0       2001-01-31\n",
       "1       2001-01-31\n",
       "2       2001-01-31\n",
       "3       2001-01-31\n",
       "4       2001-01-31\n",
       "           ...    \n",
       "41671   2023-12-31\n",
       "41672   2023-12-31\n",
       "41673   2023-12-31\n",
       "41674   2023-12-31\n",
       "41675   2023-12-31\n",
       "Name: StdTime, Length: 41676, dtype: datetime64[ns]"
      ]
     },
     "execution_count": 3,
     "metadata": {},
     "output_type": "execute_result"
    }
   ],
   "source": [
    "data[\"StdTime\"] = pd.to_datetime(data[\"StdTime\"])\n",
    "data[\"StdTime\"]"
   ]
  },
  {
   "cell_type": "code",
   "execution_count": 4,
   "metadata": {},
   "outputs": [],
   "source": [
    "data.set_index('StdTime', inplace=True)\n"
   ]
  },
  {
   "cell_type": "code",
   "execution_count": 5,
   "metadata": {},
   "outputs": [
    {
     "data": {
      "text/html": [
       "<div>\n",
       "<style scoped>\n",
       "    .dataframe tbody tr th:only-of-type {\n",
       "        vertical-align: middle;\n",
       "    }\n",
       "\n",
       "    .dataframe tbody tr th {\n",
       "        vertical-align: top;\n",
       "    }\n",
       "\n",
       "    .dataframe thead th {\n",
       "        text-align: right;\n",
       "    }\n",
       "</style>\n",
       "<table border=\"1\" class=\"dataframe\">\n",
       "  <thead>\n",
       "    <tr style=\"text-align: right;\">\n",
       "      <th></th>\n",
       "      <th>PFAF_ID</th>\n",
       "      <th>COUNT</th>\n",
       "      <th>AREA</th>\n",
       "      <th>Variable</th>\n",
       "      <th>Dimensions</th>\n",
       "      <th>MAX</th>\n",
       "    </tr>\n",
       "    <tr>\n",
       "      <th>StdTime</th>\n",
       "      <th></th>\n",
       "      <th></th>\n",
       "      <th></th>\n",
       "      <th></th>\n",
       "      <th></th>\n",
       "      <th></th>\n",
       "    </tr>\n",
       "  </thead>\n",
       "  <tbody>\n",
       "    <tr>\n",
       "      <th>2001-01-31</th>\n",
       "      <td>61564</td>\n",
       "      <td>166.0</td>\n",
       "      <td>0.4150</td>\n",
       "      <td>Streamflow_tavg</td>\n",
       "      <td>StdTime</td>\n",
       "      <td>53.298950</td>\n",
       "    </tr>\n",
       "    <tr>\n",
       "      <th>2001-01-31</th>\n",
       "      <td>61565</td>\n",
       "      <td>16.0</td>\n",
       "      <td>0.0400</td>\n",
       "      <td>Streamflow_tavg</td>\n",
       "      <td>StdTime</td>\n",
       "      <td>766.090942</td>\n",
       "    </tr>\n",
       "    <tr>\n",
       "      <th>2001-01-31</th>\n",
       "      <td>61566</td>\n",
       "      <td>321.0</td>\n",
       "      <td>0.8025</td>\n",
       "      <td>Streamflow_tavg</td>\n",
       "      <td>StdTime</td>\n",
       "      <td>200.424118</td>\n",
       "    </tr>\n",
       "    <tr>\n",
       "      <th>2001-01-31</th>\n",
       "      <td>61567</td>\n",
       "      <td>251.0</td>\n",
       "      <td>0.6275</td>\n",
       "      <td>Streamflow_tavg</td>\n",
       "      <td>StdTime</td>\n",
       "      <td>759.766968</td>\n",
       "    </tr>\n",
       "    <tr>\n",
       "      <th>2001-01-31</th>\n",
       "      <td>61568</td>\n",
       "      <td>289.0</td>\n",
       "      <td>0.7225</td>\n",
       "      <td>Streamflow_tavg</td>\n",
       "      <td>StdTime</td>\n",
       "      <td>162.838287</td>\n",
       "    </tr>\n",
       "    <tr>\n",
       "      <th>...</th>\n",
       "      <td>...</td>\n",
       "      <td>...</td>\n",
       "      <td>...</td>\n",
       "      <td>...</td>\n",
       "      <td>...</td>\n",
       "      <td>...</td>\n",
       "    </tr>\n",
       "    <tr>\n",
       "      <th>2023-12-31</th>\n",
       "      <td>67204</td>\n",
       "      <td>698.0</td>\n",
       "      <td>1.7450</td>\n",
       "      <td>Streamflow_tavg</td>\n",
       "      <td>StdTime</td>\n",
       "      <td>965.670715</td>\n",
       "    </tr>\n",
       "    <tr>\n",
       "      <th>2023-12-31</th>\n",
       "      <td>67205</td>\n",
       "      <td>734.0</td>\n",
       "      <td>1.8350</td>\n",
       "      <td>Streamflow_tavg</td>\n",
       "      <td>StdTime</td>\n",
       "      <td>1298.559204</td>\n",
       "    </tr>\n",
       "    <tr>\n",
       "      <th>2023-12-31</th>\n",
       "      <td>67206</td>\n",
       "      <td>722.0</td>\n",
       "      <td>1.8050</td>\n",
       "      <td>Streamflow_tavg</td>\n",
       "      <td>StdTime</td>\n",
       "      <td>1387.592651</td>\n",
       "    </tr>\n",
       "    <tr>\n",
       "      <th>2023-12-31</th>\n",
       "      <td>67207</td>\n",
       "      <td>720.0</td>\n",
       "      <td>1.8000</td>\n",
       "      <td>Streamflow_tavg</td>\n",
       "      <td>StdTime</td>\n",
       "      <td>1394.842651</td>\n",
       "    </tr>\n",
       "    <tr>\n",
       "      <th>2023-12-31</th>\n",
       "      <td>67208</td>\n",
       "      <td>496.0</td>\n",
       "      <td>1.2400</td>\n",
       "      <td>Streamflow_tavg</td>\n",
       "      <td>StdTime</td>\n",
       "      <td>1363.781982</td>\n",
       "    </tr>\n",
       "  </tbody>\n",
       "</table>\n",
       "<p>41676 rows × 6 columns</p>\n",
       "</div>"
      ],
      "text/plain": [
       "            PFAF_ID  COUNT    AREA         Variable Dimensions          MAX\n",
       "StdTime                                                                    \n",
       "2001-01-31    61564  166.0  0.4150  Streamflow_tavg    StdTime    53.298950\n",
       "2001-01-31    61565   16.0  0.0400  Streamflow_tavg    StdTime   766.090942\n",
       "2001-01-31    61566  321.0  0.8025  Streamflow_tavg    StdTime   200.424118\n",
       "2001-01-31    61567  251.0  0.6275  Streamflow_tavg    StdTime   759.766968\n",
       "2001-01-31    61568  289.0  0.7225  Streamflow_tavg    StdTime   162.838287\n",
       "...             ...    ...     ...              ...        ...          ...\n",
       "2023-12-31    67204  698.0  1.7450  Streamflow_tavg    StdTime   965.670715\n",
       "2023-12-31    67205  734.0  1.8350  Streamflow_tavg    StdTime  1298.559204\n",
       "2023-12-31    67206  722.0  1.8050  Streamflow_tavg    StdTime  1387.592651\n",
       "2023-12-31    67207  720.0  1.8000  Streamflow_tavg    StdTime  1394.842651\n",
       "2023-12-31    67208  496.0  1.2400  Streamflow_tavg    StdTime  1363.781982\n",
       "\n",
       "[41676 rows x 6 columns]"
      ]
     },
     "execution_count": 5,
     "metadata": {},
     "output_type": "execute_result"
    }
   ],
   "source": [
    "data"
   ]
  },
  {
   "cell_type": "code",
   "execution_count": 6,
   "metadata": {},
   "outputs": [],
   "source": [
    "data['month'] = data.index.month\n",
    "data['year'] = data.index.year"
   ]
  },
  {
   "cell_type": "code",
   "execution_count": 7,
   "metadata": {},
   "outputs": [],
   "source": [
    "# Filter the data for the years 2001 to 2024 (or beyond your current maximum date)\n",
    "data = data[data.index.year <= 2024]"
   ]
  },
  {
   "cell_type": "code",
   "execution_count": 8,
   "metadata": {},
   "outputs": [],
   "source": [
    "# Calculate climatology (mean temperature for each month over years 2001 to 2020 for each PFAF_ID)\n",
    "climatology_2001_to_2020 = data[data.index.year.isin(range(2001, 2021))].groupby(['PFAF_ID', 'month'])['MAX'].mean().rename('climatology_mean')"
   ]
  },
  {
   "cell_type": "code",
   "execution_count": 9,
   "metadata": {},
   "outputs": [],
   "source": [
    "# Merge the climatology with the original data\n",
    "data = data.merge(climatology_2001_to_2020, left_on=['PFAF_ID', 'month'], right_index=True, suffixes=('', '_clim'))\n",
    "\n",
    "# Calculate the anomaly\n",
    "data['anomaly'] = data['MAX'] - data['climatology_mean']"
   ]
  },
  {
   "cell_type": "code",
   "execution_count": 10,
   "metadata": {},
   "outputs": [
    {
     "data": {
      "text/html": [
       "<div>\n",
       "<style scoped>\n",
       "    .dataframe tbody tr th:only-of-type {\n",
       "        vertical-align: middle;\n",
       "    }\n",
       "\n",
       "    .dataframe tbody tr th {\n",
       "        vertical-align: top;\n",
       "    }\n",
       "\n",
       "    .dataframe thead th {\n",
       "        text-align: right;\n",
       "    }\n",
       "</style>\n",
       "<table border=\"1\" class=\"dataframe\">\n",
       "  <thead>\n",
       "    <tr style=\"text-align: right;\">\n",
       "      <th></th>\n",
       "      <th>PFAF_ID</th>\n",
       "      <th>COUNT</th>\n",
       "      <th>AREA</th>\n",
       "      <th>Variable</th>\n",
       "      <th>Dimensions</th>\n",
       "      <th>MAX</th>\n",
       "      <th>month</th>\n",
       "      <th>year</th>\n",
       "      <th>climatology_mean</th>\n",
       "      <th>anomaly</th>\n",
       "    </tr>\n",
       "    <tr>\n",
       "      <th>StdTime</th>\n",
       "      <th></th>\n",
       "      <th></th>\n",
       "      <th></th>\n",
       "      <th></th>\n",
       "      <th></th>\n",
       "      <th></th>\n",
       "      <th></th>\n",
       "      <th></th>\n",
       "      <th></th>\n",
       "      <th></th>\n",
       "    </tr>\n",
       "  </thead>\n",
       "  <tbody>\n",
       "    <tr>\n",
       "      <th>2001-01-31</th>\n",
       "      <td>61564</td>\n",
       "      <td>166.0</td>\n",
       "      <td>0.415</td>\n",
       "      <td>Streamflow_tavg</td>\n",
       "      <td>StdTime</td>\n",
       "      <td>53.298950</td>\n",
       "      <td>1</td>\n",
       "      <td>2001</td>\n",
       "      <td>66.873812</td>\n",
       "      <td>-13.574861</td>\n",
       "    </tr>\n",
       "    <tr>\n",
       "      <th>2002-01-31</th>\n",
       "      <td>61564</td>\n",
       "      <td>166.0</td>\n",
       "      <td>0.415</td>\n",
       "      <td>Streamflow_tavg</td>\n",
       "      <td>StdTime</td>\n",
       "      <td>69.457275</td>\n",
       "      <td>1</td>\n",
       "      <td>2002</td>\n",
       "      <td>66.873812</td>\n",
       "      <td>2.583464</td>\n",
       "    </tr>\n",
       "    <tr>\n",
       "      <th>2003-01-31</th>\n",
       "      <td>61564</td>\n",
       "      <td>166.0</td>\n",
       "      <td>0.415</td>\n",
       "      <td>Streamflow_tavg</td>\n",
       "      <td>StdTime</td>\n",
       "      <td>61.097664</td>\n",
       "      <td>1</td>\n",
       "      <td>2003</td>\n",
       "      <td>66.873812</td>\n",
       "      <td>-5.776148</td>\n",
       "    </tr>\n",
       "    <tr>\n",
       "      <th>2004-01-31</th>\n",
       "      <td>61564</td>\n",
       "      <td>166.0</td>\n",
       "      <td>0.415</td>\n",
       "      <td>Streamflow_tavg</td>\n",
       "      <td>StdTime</td>\n",
       "      <td>57.528519</td>\n",
       "      <td>1</td>\n",
       "      <td>2004</td>\n",
       "      <td>66.873812</td>\n",
       "      <td>-9.345293</td>\n",
       "    </tr>\n",
       "    <tr>\n",
       "      <th>2005-01-31</th>\n",
       "      <td>61564</td>\n",
       "      <td>166.0</td>\n",
       "      <td>0.415</td>\n",
       "      <td>Streamflow_tavg</td>\n",
       "      <td>StdTime</td>\n",
       "      <td>64.865562</td>\n",
       "      <td>1</td>\n",
       "      <td>2005</td>\n",
       "      <td>66.873812</td>\n",
       "      <td>-2.008249</td>\n",
       "    </tr>\n",
       "    <tr>\n",
       "      <th>...</th>\n",
       "      <td>...</td>\n",
       "      <td>...</td>\n",
       "      <td>...</td>\n",
       "      <td>...</td>\n",
       "      <td>...</td>\n",
       "      <td>...</td>\n",
       "      <td>...</td>\n",
       "      <td>...</td>\n",
       "      <td>...</td>\n",
       "      <td>...</td>\n",
       "    </tr>\n",
       "    <tr>\n",
       "      <th>2019-12-31</th>\n",
       "      <td>67208</td>\n",
       "      <td>496.0</td>\n",
       "      <td>1.240</td>\n",
       "      <td>Streamflow_tavg</td>\n",
       "      <td>StdTime</td>\n",
       "      <td>1349.599243</td>\n",
       "      <td>12</td>\n",
       "      <td>2019</td>\n",
       "      <td>1814.002460</td>\n",
       "      <td>-464.403217</td>\n",
       "    </tr>\n",
       "    <tr>\n",
       "      <th>2020-12-31</th>\n",
       "      <td>67208</td>\n",
       "      <td>496.0</td>\n",
       "      <td>1.240</td>\n",
       "      <td>Streamflow_tavg</td>\n",
       "      <td>StdTime</td>\n",
       "      <td>1546.011719</td>\n",
       "      <td>12</td>\n",
       "      <td>2020</td>\n",
       "      <td>1814.002460</td>\n",
       "      <td>-267.990741</td>\n",
       "    </tr>\n",
       "    <tr>\n",
       "      <th>2021-12-31</th>\n",
       "      <td>67208</td>\n",
       "      <td>496.0</td>\n",
       "      <td>1.240</td>\n",
       "      <td>Streamflow_tavg</td>\n",
       "      <td>StdTime</td>\n",
       "      <td>2432.778564</td>\n",
       "      <td>12</td>\n",
       "      <td>2021</td>\n",
       "      <td>1814.002460</td>\n",
       "      <td>618.776105</td>\n",
       "    </tr>\n",
       "    <tr>\n",
       "      <th>2022-12-31</th>\n",
       "      <td>67208</td>\n",
       "      <td>496.0</td>\n",
       "      <td>1.240</td>\n",
       "      <td>Streamflow_tavg</td>\n",
       "      <td>StdTime</td>\n",
       "      <td>1480.862183</td>\n",
       "      <td>12</td>\n",
       "      <td>2022</td>\n",
       "      <td>1814.002460</td>\n",
       "      <td>-333.140277</td>\n",
       "    </tr>\n",
       "    <tr>\n",
       "      <th>2023-12-31</th>\n",
       "      <td>67208</td>\n",
       "      <td>496.0</td>\n",
       "      <td>1.240</td>\n",
       "      <td>Streamflow_tavg</td>\n",
       "      <td>StdTime</td>\n",
       "      <td>1363.781982</td>\n",
       "      <td>12</td>\n",
       "      <td>2023</td>\n",
       "      <td>1814.002460</td>\n",
       "      <td>-450.220477</td>\n",
       "    </tr>\n",
       "  </tbody>\n",
       "</table>\n",
       "<p>41676 rows × 10 columns</p>\n",
       "</div>"
      ],
      "text/plain": [
       "            PFAF_ID  COUNT   AREA         Variable Dimensions          MAX  \\\n",
       "StdTime                                                                      \n",
       "2001-01-31    61564  166.0  0.415  Streamflow_tavg    StdTime    53.298950   \n",
       "2002-01-31    61564  166.0  0.415  Streamflow_tavg    StdTime    69.457275   \n",
       "2003-01-31    61564  166.0  0.415  Streamflow_tavg    StdTime    61.097664   \n",
       "2004-01-31    61564  166.0  0.415  Streamflow_tavg    StdTime    57.528519   \n",
       "2005-01-31    61564  166.0  0.415  Streamflow_tavg    StdTime    64.865562   \n",
       "...             ...    ...    ...              ...        ...          ...   \n",
       "2019-12-31    67208  496.0  1.240  Streamflow_tavg    StdTime  1349.599243   \n",
       "2020-12-31    67208  496.0  1.240  Streamflow_tavg    StdTime  1546.011719   \n",
       "2021-12-31    67208  496.0  1.240  Streamflow_tavg    StdTime  2432.778564   \n",
       "2022-12-31    67208  496.0  1.240  Streamflow_tavg    StdTime  1480.862183   \n",
       "2023-12-31    67208  496.0  1.240  Streamflow_tavg    StdTime  1363.781982   \n",
       "\n",
       "            month  year  climatology_mean     anomaly  \n",
       "StdTime                                                \n",
       "2001-01-31      1  2001         66.873812  -13.574861  \n",
       "2002-01-31      1  2002         66.873812    2.583464  \n",
       "2003-01-31      1  2003         66.873812   -5.776148  \n",
       "2004-01-31      1  2004         66.873812   -9.345293  \n",
       "2005-01-31      1  2005         66.873812   -2.008249  \n",
       "...           ...   ...               ...         ...  \n",
       "2019-12-31     12  2019       1814.002460 -464.403217  \n",
       "2020-12-31     12  2020       1814.002460 -267.990741  \n",
       "2021-12-31     12  2021       1814.002460  618.776105  \n",
       "2022-12-31     12  2022       1814.002460 -333.140277  \n",
       "2023-12-31     12  2023       1814.002460 -450.220477  \n",
       "\n",
       "[41676 rows x 10 columns]"
      ]
     },
     "execution_count": 10,
     "metadata": {},
     "output_type": "execute_result"
    }
   ],
   "source": [
    "data"
   ]
  },
  {
   "cell_type": "code",
   "execution_count": 11,
   "metadata": {},
   "outputs": [],
   "source": [
    "data.to_csv(r\"C:\\Users\\Kris\\Documents\\amazonforcast\\data\\malaria_amazon\\amazon_monthly_ldas\\routing\\csv\\ZonalSt_hybas_lev05_Streamflow_tmax_anomaly.csv\")"
   ]
  },
  {
   "cell_type": "markdown",
   "metadata": {},
   "source": [
    "checking"
   ]
  },
  {
   "cell_type": "code",
   "execution_count": 45,
   "metadata": {},
   "outputs": [],
   "source": [
    "import plotly"
   ]
  },
  {
   "cell_type": "code",
   "execution_count": 12,
   "metadata": {},
   "outputs": [
    {
     "data": {
      "text/html": [
       "<div>\n",
       "<style scoped>\n",
       "    .dataframe tbody tr th:only-of-type {\n",
       "        vertical-align: middle;\n",
       "    }\n",
       "\n",
       "    .dataframe tbody tr th {\n",
       "        vertical-align: top;\n",
       "    }\n",
       "\n",
       "    .dataframe thead th {\n",
       "        text-align: right;\n",
       "    }\n",
       "</style>\n",
       "<table border=\"1\" class=\"dataframe\">\n",
       "  <thead>\n",
       "    <tr style=\"text-align: right;\">\n",
       "      <th></th>\n",
       "      <th>PFAF_ID</th>\n",
       "      <th>COUNT</th>\n",
       "      <th>AREA</th>\n",
       "      <th>Variable</th>\n",
       "      <th>Dimensions</th>\n",
       "      <th>MAX</th>\n",
       "      <th>month</th>\n",
       "      <th>year</th>\n",
       "      <th>climatology_mean</th>\n",
       "      <th>anomaly</th>\n",
       "    </tr>\n",
       "    <tr>\n",
       "      <th>StdTime</th>\n",
       "      <th></th>\n",
       "      <th></th>\n",
       "      <th></th>\n",
       "      <th></th>\n",
       "      <th></th>\n",
       "      <th></th>\n",
       "      <th></th>\n",
       "      <th></th>\n",
       "      <th></th>\n",
       "      <th></th>\n",
       "    </tr>\n",
       "  </thead>\n",
       "  <tbody>\n",
       "    <tr>\n",
       "      <th>2001-01-31</th>\n",
       "      <td>61564</td>\n",
       "      <td>166.0</td>\n",
       "      <td>0.415</td>\n",
       "      <td>Streamflow_tavg</td>\n",
       "      <td>StdTime</td>\n",
       "      <td>53.298950</td>\n",
       "      <td>1</td>\n",
       "      <td>2001</td>\n",
       "      <td>66.873812</td>\n",
       "      <td>-13.574861</td>\n",
       "    </tr>\n",
       "    <tr>\n",
       "      <th>2002-01-31</th>\n",
       "      <td>61564</td>\n",
       "      <td>166.0</td>\n",
       "      <td>0.415</td>\n",
       "      <td>Streamflow_tavg</td>\n",
       "      <td>StdTime</td>\n",
       "      <td>69.457275</td>\n",
       "      <td>1</td>\n",
       "      <td>2002</td>\n",
       "      <td>66.873812</td>\n",
       "      <td>2.583464</td>\n",
       "    </tr>\n",
       "    <tr>\n",
       "      <th>2003-01-31</th>\n",
       "      <td>61564</td>\n",
       "      <td>166.0</td>\n",
       "      <td>0.415</td>\n",
       "      <td>Streamflow_tavg</td>\n",
       "      <td>StdTime</td>\n",
       "      <td>61.097664</td>\n",
       "      <td>1</td>\n",
       "      <td>2003</td>\n",
       "      <td>66.873812</td>\n",
       "      <td>-5.776148</td>\n",
       "    </tr>\n",
       "    <tr>\n",
       "      <th>2004-01-31</th>\n",
       "      <td>61564</td>\n",
       "      <td>166.0</td>\n",
       "      <td>0.415</td>\n",
       "      <td>Streamflow_tavg</td>\n",
       "      <td>StdTime</td>\n",
       "      <td>57.528519</td>\n",
       "      <td>1</td>\n",
       "      <td>2004</td>\n",
       "      <td>66.873812</td>\n",
       "      <td>-9.345293</td>\n",
       "    </tr>\n",
       "    <tr>\n",
       "      <th>2005-01-31</th>\n",
       "      <td>61564</td>\n",
       "      <td>166.0</td>\n",
       "      <td>0.415</td>\n",
       "      <td>Streamflow_tavg</td>\n",
       "      <td>StdTime</td>\n",
       "      <td>64.865562</td>\n",
       "      <td>1</td>\n",
       "      <td>2005</td>\n",
       "      <td>66.873812</td>\n",
       "      <td>-2.008249</td>\n",
       "    </tr>\n",
       "    <tr>\n",
       "      <th>...</th>\n",
       "      <td>...</td>\n",
       "      <td>...</td>\n",
       "      <td>...</td>\n",
       "      <td>...</td>\n",
       "      <td>...</td>\n",
       "      <td>...</td>\n",
       "      <td>...</td>\n",
       "      <td>...</td>\n",
       "      <td>...</td>\n",
       "      <td>...</td>\n",
       "    </tr>\n",
       "    <tr>\n",
       "      <th>2019-12-31</th>\n",
       "      <td>61564</td>\n",
       "      <td>166.0</td>\n",
       "      <td>0.415</td>\n",
       "      <td>Streamflow_tavg</td>\n",
       "      <td>StdTime</td>\n",
       "      <td>62.324371</td>\n",
       "      <td>12</td>\n",
       "      <td>2019</td>\n",
       "      <td>88.229130</td>\n",
       "      <td>-25.904758</td>\n",
       "    </tr>\n",
       "    <tr>\n",
       "      <th>2020-12-31</th>\n",
       "      <td>61564</td>\n",
       "      <td>166.0</td>\n",
       "      <td>0.415</td>\n",
       "      <td>Streamflow_tavg</td>\n",
       "      <td>StdTime</td>\n",
       "      <td>69.944717</td>\n",
       "      <td>12</td>\n",
       "      <td>2020</td>\n",
       "      <td>88.229130</td>\n",
       "      <td>-18.284412</td>\n",
       "    </tr>\n",
       "    <tr>\n",
       "      <th>2021-12-31</th>\n",
       "      <td>61564</td>\n",
       "      <td>166.0</td>\n",
       "      <td>0.415</td>\n",
       "      <td>Streamflow_tavg</td>\n",
       "      <td>StdTime</td>\n",
       "      <td>64.641136</td>\n",
       "      <td>12</td>\n",
       "      <td>2021</td>\n",
       "      <td>88.229130</td>\n",
       "      <td>-23.587994</td>\n",
       "    </tr>\n",
       "    <tr>\n",
       "      <th>2022-12-31</th>\n",
       "      <td>61564</td>\n",
       "      <td>166.0</td>\n",
       "      <td>0.415</td>\n",
       "      <td>Streamflow_tavg</td>\n",
       "      <td>StdTime</td>\n",
       "      <td>71.331337</td>\n",
       "      <td>12</td>\n",
       "      <td>2022</td>\n",
       "      <td>88.229130</td>\n",
       "      <td>-16.897793</td>\n",
       "    </tr>\n",
       "    <tr>\n",
       "      <th>2023-12-31</th>\n",
       "      <td>61564</td>\n",
       "      <td>166.0</td>\n",
       "      <td>0.415</td>\n",
       "      <td>Streamflow_tavg</td>\n",
       "      <td>StdTime</td>\n",
       "      <td>67.433388</td>\n",
       "      <td>12</td>\n",
       "      <td>2023</td>\n",
       "      <td>88.229130</td>\n",
       "      <td>-20.795742</td>\n",
       "    </tr>\n",
       "  </tbody>\n",
       "</table>\n",
       "<p>276 rows × 10 columns</p>\n",
       "</div>"
      ],
      "text/plain": [
       "            PFAF_ID  COUNT   AREA         Variable Dimensions        MAX  \\\n",
       "StdTime                                                                    \n",
       "2001-01-31    61564  166.0  0.415  Streamflow_tavg    StdTime  53.298950   \n",
       "2002-01-31    61564  166.0  0.415  Streamflow_tavg    StdTime  69.457275   \n",
       "2003-01-31    61564  166.0  0.415  Streamflow_tavg    StdTime  61.097664   \n",
       "2004-01-31    61564  166.0  0.415  Streamflow_tavg    StdTime  57.528519   \n",
       "2005-01-31    61564  166.0  0.415  Streamflow_tavg    StdTime  64.865562   \n",
       "...             ...    ...    ...              ...        ...        ...   \n",
       "2019-12-31    61564  166.0  0.415  Streamflow_tavg    StdTime  62.324371   \n",
       "2020-12-31    61564  166.0  0.415  Streamflow_tavg    StdTime  69.944717   \n",
       "2021-12-31    61564  166.0  0.415  Streamflow_tavg    StdTime  64.641136   \n",
       "2022-12-31    61564  166.0  0.415  Streamflow_tavg    StdTime  71.331337   \n",
       "2023-12-31    61564  166.0  0.415  Streamflow_tavg    StdTime  67.433388   \n",
       "\n",
       "            month  year  climatology_mean    anomaly  \n",
       "StdTime                                               \n",
       "2001-01-31      1  2001         66.873812 -13.574861  \n",
       "2002-01-31      1  2002         66.873812   2.583464  \n",
       "2003-01-31      1  2003         66.873812  -5.776148  \n",
       "2004-01-31      1  2004         66.873812  -9.345293  \n",
       "2005-01-31      1  2005         66.873812  -2.008249  \n",
       "...           ...   ...               ...        ...  \n",
       "2019-12-31     12  2019         88.229130 -25.904758  \n",
       "2020-12-31     12  2020         88.229130 -18.284412  \n",
       "2021-12-31     12  2021         88.229130 -23.587994  \n",
       "2022-12-31     12  2022         88.229130 -16.897793  \n",
       "2023-12-31     12  2023         88.229130 -20.795742  \n",
       "\n",
       "[276 rows x 10 columns]"
      ]
     },
     "execution_count": 12,
     "metadata": {},
     "output_type": "execute_result"
    }
   ],
   "source": [
    "data_61654 = data[data['PFAF_ID'] == 61564]\n",
    "data_61654"
   ]
  },
  {
   "cell_type": "code",
   "execution_count": 57,
   "metadata": {},
   "outputs": [
    {
     "data": {
      "application/vnd.plotly.v1+json": {
       "config": {
        "plotlyServerURL": "https://plot.ly"
       },
       "data": [
        {
         "alignmentgroup": "True",
         "hovertemplate": "StdTime=%{x}<br>anomaly=%{y}<extra></extra>",
         "legendgroup": "",
         "marker": {
          "color": "#636efa"
         },
         "name": "",
         "notched": false,
         "offsetgroup": "",
         "orientation": "v",
         "showlegend": false,
         "type": "box",
         "x": [
          "2001-01-31T00:00:00",
          "2002-01-31T00:00:00",
          "2003-01-31T00:00:00",
          "2004-01-31T00:00:00",
          "2005-01-31T00:00:00",
          "2006-01-31T00:00:00",
          "2007-01-31T00:00:00",
          "2008-01-31T00:00:00",
          "2009-01-31T00:00:00",
          "2010-01-31T00:00:00",
          "2011-01-31T00:00:00",
          "2012-01-31T00:00:00",
          "2013-01-31T00:00:00",
          "2014-01-31T00:00:00",
          "2015-01-31T00:00:00",
          "2016-01-31T00:00:00",
          "2017-01-31T00:00:00",
          "2018-01-31T00:00:00",
          "2019-01-31T00:00:00",
          "2020-01-31T00:00:00",
          "2021-01-31T00:00:00",
          "2022-01-31T00:00:00",
          "2023-01-31T00:00:00",
          "2001-02-28T00:00:00",
          "2002-02-28T00:00:00",
          "2003-02-28T00:00:00",
          "2004-02-29T00:00:00",
          "2005-02-28T00:00:00",
          "2006-02-28T00:00:00",
          "2007-02-28T00:00:00",
          "2008-02-29T00:00:00",
          "2009-02-28T00:00:00",
          "2010-02-28T00:00:00",
          "2011-02-28T00:00:00",
          "2012-02-29T00:00:00",
          "2013-02-28T00:00:00",
          "2014-02-28T00:00:00",
          "2015-02-28T00:00:00",
          "2016-02-29T00:00:00",
          "2017-02-28T00:00:00",
          "2018-02-28T00:00:00",
          "2019-02-28T00:00:00",
          "2020-02-29T00:00:00",
          "2021-02-28T00:00:00",
          "2022-02-28T00:00:00",
          "2023-02-28T00:00:00",
          "2001-03-31T00:00:00",
          "2002-03-31T00:00:00",
          "2003-03-31T00:00:00",
          "2004-03-31T00:00:00",
          "2005-03-31T00:00:00",
          "2006-03-31T00:00:00",
          "2007-03-31T00:00:00",
          "2008-03-31T00:00:00",
          "2009-03-31T00:00:00",
          "2010-03-31T00:00:00",
          "2011-03-31T00:00:00",
          "2012-03-31T00:00:00",
          "2013-03-31T00:00:00",
          "2014-03-31T00:00:00",
          "2015-03-31T00:00:00",
          "2016-03-31T00:00:00",
          "2017-03-31T00:00:00",
          "2018-03-31T00:00:00",
          "2019-03-31T00:00:00",
          "2020-03-31T00:00:00",
          "2021-03-31T00:00:00",
          "2022-03-31T00:00:00",
          "2023-03-31T00:00:00",
          "2001-04-30T00:00:00",
          "2002-04-30T00:00:00",
          "2003-04-30T00:00:00",
          "2004-04-30T00:00:00",
          "2005-04-30T00:00:00",
          "2006-04-30T00:00:00",
          "2007-04-30T00:00:00",
          "2008-04-30T00:00:00",
          "2009-04-30T00:00:00",
          "2010-04-30T00:00:00",
          "2011-04-30T00:00:00",
          "2012-04-30T00:00:00",
          "2013-04-30T00:00:00",
          "2014-04-30T00:00:00",
          "2015-04-30T00:00:00",
          "2016-04-30T00:00:00",
          "2017-04-30T00:00:00",
          "2018-04-30T00:00:00",
          "2019-04-30T00:00:00",
          "2020-04-30T00:00:00",
          "2021-04-30T00:00:00",
          "2022-04-30T00:00:00",
          "2023-04-30T00:00:00",
          "2001-05-31T00:00:00",
          "2002-05-31T00:00:00",
          "2003-05-31T00:00:00",
          "2004-05-31T00:00:00",
          "2005-05-31T00:00:00",
          "2006-05-31T00:00:00",
          "2007-05-31T00:00:00",
          "2008-05-31T00:00:00",
          "2009-05-31T00:00:00",
          "2010-05-31T00:00:00",
          "2011-05-31T00:00:00",
          "2012-05-31T00:00:00",
          "2013-05-31T00:00:00",
          "2014-05-31T00:00:00",
          "2015-05-31T00:00:00",
          "2016-05-31T00:00:00",
          "2017-05-31T00:00:00",
          "2018-05-31T00:00:00",
          "2019-05-31T00:00:00",
          "2020-05-31T00:00:00",
          "2021-05-31T00:00:00",
          "2022-05-31T00:00:00",
          "2023-05-31T00:00:00",
          "2001-06-30T00:00:00",
          "2002-06-30T00:00:00",
          "2003-06-30T00:00:00",
          "2004-06-30T00:00:00",
          "2005-06-30T00:00:00",
          "2006-06-30T00:00:00",
          "2007-06-30T00:00:00",
          "2008-06-30T00:00:00",
          "2009-06-30T00:00:00",
          "2010-06-30T00:00:00",
          "2011-06-30T00:00:00",
          "2012-06-30T00:00:00",
          "2013-06-30T00:00:00",
          "2014-06-30T00:00:00",
          "2015-06-30T00:00:00",
          "2016-06-30T00:00:00",
          "2017-06-30T00:00:00",
          "2018-06-30T00:00:00",
          "2019-06-30T00:00:00",
          "2020-06-30T00:00:00",
          "2021-06-30T00:00:00",
          "2022-06-30T00:00:00",
          "2023-06-30T00:00:00",
          "2001-07-31T00:00:00",
          "2002-07-31T00:00:00",
          "2003-07-31T00:00:00",
          "2004-07-31T00:00:00",
          "2005-07-31T00:00:00",
          "2006-07-31T00:00:00",
          "2007-07-31T00:00:00",
          "2008-07-31T00:00:00",
          "2009-07-31T00:00:00",
          "2010-07-31T00:00:00",
          "2011-07-31T00:00:00",
          "2012-07-31T00:00:00",
          "2013-07-31T00:00:00",
          "2014-07-31T00:00:00",
          "2015-07-31T00:00:00",
          "2016-07-31T00:00:00",
          "2017-07-31T00:00:00",
          "2018-07-31T00:00:00",
          "2019-07-31T00:00:00",
          "2020-07-31T00:00:00",
          "2021-07-31T00:00:00",
          "2022-07-31T00:00:00",
          "2023-07-31T00:00:00",
          "2001-08-31T00:00:00",
          "2002-08-31T00:00:00",
          "2003-08-31T00:00:00",
          "2004-08-31T00:00:00",
          "2005-08-31T00:00:00",
          "2006-08-31T00:00:00",
          "2007-08-31T00:00:00",
          "2008-08-31T00:00:00",
          "2009-08-31T00:00:00",
          "2010-08-31T00:00:00",
          "2011-08-31T00:00:00",
          "2012-08-31T00:00:00",
          "2013-08-31T00:00:00",
          "2014-08-31T00:00:00",
          "2015-08-31T00:00:00",
          "2016-08-31T00:00:00",
          "2017-08-31T00:00:00",
          "2018-08-31T00:00:00",
          "2019-08-31T00:00:00",
          "2020-08-31T00:00:00",
          "2021-08-31T00:00:00",
          "2022-08-31T00:00:00",
          "2023-08-31T00:00:00",
          "2001-09-30T00:00:00",
          "2002-09-30T00:00:00",
          "2003-09-30T00:00:00",
          "2004-09-30T00:00:00",
          "2005-09-30T00:00:00",
          "2006-09-30T00:00:00",
          "2007-09-30T00:00:00",
          "2008-09-30T00:00:00",
          "2009-09-30T00:00:00",
          "2010-09-30T00:00:00",
          "2011-09-30T00:00:00",
          "2012-09-30T00:00:00",
          "2013-09-30T00:00:00",
          "2014-09-30T00:00:00",
          "2015-09-30T00:00:00",
          "2016-09-30T00:00:00",
          "2017-09-30T00:00:00",
          "2018-09-30T00:00:00",
          "2019-09-30T00:00:00",
          "2020-09-30T00:00:00",
          "2021-09-30T00:00:00",
          "2022-09-30T00:00:00",
          "2023-09-30T00:00:00",
          "2001-10-31T00:00:00",
          "2002-10-31T00:00:00",
          "2003-10-31T00:00:00",
          "2004-10-31T00:00:00",
          "2005-10-31T00:00:00",
          "2006-10-31T00:00:00",
          "2007-10-31T00:00:00",
          "2008-10-31T00:00:00",
          "2009-10-31T00:00:00",
          "2010-10-31T00:00:00",
          "2011-10-31T00:00:00",
          "2012-10-31T00:00:00",
          "2013-10-31T00:00:00",
          "2014-10-31T00:00:00",
          "2015-10-31T00:00:00",
          "2016-10-31T00:00:00",
          "2017-10-31T00:00:00",
          "2018-10-31T00:00:00",
          "2019-10-31T00:00:00",
          "2020-10-31T00:00:00",
          "2021-10-31T00:00:00",
          "2022-10-31T00:00:00",
          "2023-10-31T00:00:00",
          "2001-11-30T00:00:00",
          "2002-11-30T00:00:00",
          "2003-11-30T00:00:00",
          "2004-11-30T00:00:00",
          "2005-11-30T00:00:00",
          "2006-11-30T00:00:00",
          "2007-11-30T00:00:00",
          "2008-11-30T00:00:00",
          "2009-11-30T00:00:00",
          "2010-11-30T00:00:00",
          "2011-11-30T00:00:00",
          "2012-11-30T00:00:00",
          "2013-11-30T00:00:00",
          "2014-11-30T00:00:00",
          "2015-11-30T00:00:00",
          "2016-11-30T00:00:00",
          "2017-11-30T00:00:00",
          "2018-11-30T00:00:00",
          "2019-11-30T00:00:00",
          "2020-11-30T00:00:00",
          "2021-11-30T00:00:00",
          "2022-11-30T00:00:00",
          "2023-11-30T00:00:00",
          "2001-12-31T00:00:00",
          "2002-12-31T00:00:00",
          "2003-12-31T00:00:00",
          "2004-12-31T00:00:00",
          "2005-12-31T00:00:00",
          "2006-12-31T00:00:00",
          "2007-12-31T00:00:00",
          "2008-12-31T00:00:00",
          "2009-12-31T00:00:00",
          "2010-12-31T00:00:00",
          "2011-12-31T00:00:00",
          "2012-12-31T00:00:00",
          "2013-12-31T00:00:00",
          "2014-12-31T00:00:00",
          "2015-12-31T00:00:00",
          "2016-12-31T00:00:00",
          "2017-12-31T00:00:00",
          "2018-12-31T00:00:00",
          "2019-12-31T00:00:00",
          "2020-12-31T00:00:00",
          "2021-12-31T00:00:00",
          "2022-12-31T00:00:00",
          "2023-12-31T00:00:00"
         ],
         "x0": " ",
         "xaxis": "x",
         "y": [
          -12.68980623328168,
          3.468518962030828,
          -4.891092549199641,
          -8.460237751836367,
          -1.1231939896293284,
          -2.4974577530570627,
          -4.275087605351985,
          0.4419228926948904,
          -0.3696310623832346,
          1.0388390914253591,
          13.629750956659734,
          4.878133525019109,
          8.903722514276922,
          1.6782205001167654,
          1.6027429000191091,
          -5.245310078496516,
          16.352002848749578,
          9.267400492792547,
          -8.311792622441835,
          4.303457011347234,
          -6.0660536392875315,
          -8.370191822881281,
          -3.2648565872855784,
          -12.584246925685719,
          -10.85113459048064,
          -10.420272163722835,
          -8.535579017970882,
          21.03231496396272,
          13.086186118747875,
          -3.4375718158224373,
          -1.637141517970882,
          20.726864524509594,
          0.7569930035135002,
          3.5928847271463127,
          12.75146169247833,
          6.96664876523225,
          2.6287428814431877,
          6.831539817478344,
          -4.34558039126189,
          -3.0376580279806404,
          -4.26027994570525,
          -6.869300178859554,
          -8.179061226222835,
          -7.147929481838055,
          -4.941722206447437,
          -2.1261590045431475,
          -7.6961034691852035,
          -3.5586522973102035,
          -3.2716878808063115,
          19.67007695073667,
          -5.544270888618797,
          -1.4276479638140955,
          -6.8003515160602035,
          -7.826741591743797,
          -2.5556539452594222,
          56.1378809058148,
          20.84146366948667,
          0.5183054053265153,
          -1.6990026391070785,
          14.596186264701515,
          -9.053120986275047,
          -7.6213659203570785,
          12.623484238334314,
          -6.955190078071922,
          -17.137696639351226,
          -17.89169825678286,
          -7.512738601021141,
          -10.030469313911766,
          -7.805005446724266,
          -60.72655984629756,
          34.8171871019446,
          10.648577482804,
          -36.71072885264523,
          47.53836324940556,
          2.5525234056555632,
          76.4646175218665,
          -40.749959199324906,
          -17.344456879988968,
          49.644076140030535,
          36.35296896229616,
          149.35591390858525,
          -35.732236115828826,
          -40.93570443858272,
          -47.72534677256711,
          4.907534391983688,
          22.44928243885869,
          -49.361584870711624,
          -15.261479585067107,
          11.200045378311813,
          -17.512845246688187,
          -18.797536103621795,
          -65.07265207041866,
          6.3987108313518775,
          -79.48380412226139,
          -11.726777449898123,
          27.150465592094122,
          62.963957413383156,
          76.18282948369566,
          34.82972584600034,
          26.78753529424253,
          -46.56303538446841,
          13.112410172172218,
          169.3071580969769,
          18.64237843389097,
          -46.07444895868716,
          -47.09660472040591,
          -80.4156659997028,
          -22.92390574579656,
          102.8337694251019,
          -57.43092478876528,
          -65.5591291344684,
          -40.83870066767156,
          57.27464161748469,
          -21.803391829780907,
          -75.56719340448795,
          -18.288714864979596,
          48.31374790357506,
          -1.2028689177139995,
          88.35931064771569,
          46.82452060865319,
          74.6059842317,
          72.5600857942,
          123.95077182935631,
          33.58953525709069,
          93.50475742505944,
          -33.87004421068278,
          -25.795184591542096,
          -43.52630946947181,
          -65.35066554857337,
          -79.59430263353434,
          -52.029437521229625,
          9.027569314707904,
          -39.941165426503034,
          -70.94336269212806,
          -14.666736105214,
          -22.52592799974525,
          -57.87955043626869,
          -65.12201259447181,
          -55.51217021112856,
          -34.75769938593328,
          68.07448445195737,
          107.40315876836362,
          -36.486367598823875,
          37.595373734183966,
          -3.249612227730097,
          78.259451492973,
          69.38121662969175,
          132.13902912969175,
          16.590841873832375,
          90.199637039848,
          3.382925614066778,
          -8.613076583198875,
          -82.08817423944888,
          -65.40345133905828,
          -37.6002897179645,
          -20.28278483515203,
          -44.03847636347231,
          -37.8541959679645,
          -7.081155196480097,
          -82.43546427851138,
          -87.62320078974184,
          -19.072842805281937,
          122.9887874437415,
          29.495333464249313,
          5.462694914444626,
          -48.33302804698117,
          58.5471370531165,
          -40.125500886336624,
          0.34138754139775074,
          5.657595427139938,
          53.29498556385872,
          16.21612814198366,
          103.7807796312415,
          -17.3239566968835,
          -49.77245065440303,
          -39.460660188094465,
          37.207354338272694,
          -50.34412118662959,
          6.586184294327438,
          -17.743298737899124,
          -26.291638581649124,
          -15.823910920516312,
          -35.79202005137569,
          -79.49493905772334,
          79.51932326607084,
          -2.660043799358874,
          35.69667617134425,
          26.872793114703654,
          48.893484032672376,
          59.65935317329732,
          61.39142409614894,
          26.19569960884425,
          43.20654860786769,
          14.790044701617688,
          16.750722802203597,
          -50.788713538128405,
          -41.087961279827624,
          -51.845026099163576,
          -3.0255680913510616,
          25.600912011188,
          -33.05471237846044,
          -62.20833786674169,
          -13.360162817913562,
          -48.516916357952624,
          32.03610793403956,
          -84.88298233695653,
          -79.18266495414403,
          41.057039012079656,
          -42.676908741826594,
          31.547898997431247,
          60.40214704430619,
          29.663896311884372,
          21.12883161461872,
          23.98309492028281,
          45.17624067223588,
          -28.014189015264094,
          3.4821641341499685,
          37.87170576012653,
          114.79139875329054,
          -53.4753935440727,
          -58.73908067786175,
          -40.913915882939875,
          -9.631178151006281,
          0.12529157555619008,
          20.17431806481403,
          -23.79565263831097,
          -22.725507984990656,
          16.313249339228094,
          -78.94225908362348,
          -86.80319048010784,
          22.11047330109966,
          -40.760673854662045,
          38.08139004914656,
          -35.307693813158124,
          59.95532193391219,
          89.80340543000591,
          4.492141391920001,
          7.619231846021563,
          -11.6954806783925,
          48.085845615552785,
          23.883605625318438,
          34.19116177766219,
          -39.06460604460345,
          15.020263340162188,
          -48.094803188158124,
          -3.6745151022206244,
          15.546600010084063,
          -43.45015749724017,
          -56.21916994841203,
          18.1492458841075,
          -27.180916164232343,
          -10.42759737761125,
          -61.06307253630267,
          19.065487737241014,
          -0.017970209536329662,
          9.072430486264452,
          23.703968877377733,
          -15.991175775942594,
          15.775570745053486,
          -12.870715265688688,
          4.543187017026156,
          -11.542750482973844,
          24.598919744076923,
          49.76774298626444,
          -4.483126764712125,
          -2.5914183906886876,
          0.4852646537449061,
          -9.52160943072775,
          31.14398657757303,
          -2.885920648989469,
          -26.103243952212118,
          -23.24034417193868,
          -15.61999810260275,
          -20.92357934039572,
          -14.233378534731656,
          -18.131327753481656
         ],
         "y0": " ",
         "yaxis": "y"
        }
       ],
       "layout": {
        "boxmode": "group",
        "legend": {
         "tracegroupgap": 0
        },
        "template": {
         "data": {
          "bar": [
           {
            "error_x": {
             "color": "#f2f5fa"
            },
            "error_y": {
             "color": "#f2f5fa"
            },
            "marker": {
             "line": {
              "color": "rgb(17,17,17)",
              "width": 0.5
             },
             "pattern": {
              "fillmode": "overlay",
              "size": 10,
              "solidity": 0.2
             }
            },
            "type": "bar"
           }
          ],
          "barpolar": [
           {
            "marker": {
             "line": {
              "color": "rgb(17,17,17)",
              "width": 0.5
             },
             "pattern": {
              "fillmode": "overlay",
              "size": 10,
              "solidity": 0.2
             }
            },
            "type": "barpolar"
           }
          ],
          "carpet": [
           {
            "aaxis": {
             "endlinecolor": "#A2B1C6",
             "gridcolor": "#506784",
             "linecolor": "#506784",
             "minorgridcolor": "#506784",
             "startlinecolor": "#A2B1C6"
            },
            "baxis": {
             "endlinecolor": "#A2B1C6",
             "gridcolor": "#506784",
             "linecolor": "#506784",
             "minorgridcolor": "#506784",
             "startlinecolor": "#A2B1C6"
            },
            "type": "carpet"
           }
          ],
          "choropleth": [
           {
            "colorbar": {
             "outlinewidth": 0,
             "ticks": ""
            },
            "type": "choropleth"
           }
          ],
          "contour": [
           {
            "colorbar": {
             "outlinewidth": 0,
             "ticks": ""
            },
            "colorscale": [
             [
              0,
              "#0d0887"
             ],
             [
              0.1111111111111111,
              "#46039f"
             ],
             [
              0.2222222222222222,
              "#7201a8"
             ],
             [
              0.3333333333333333,
              "#9c179e"
             ],
             [
              0.4444444444444444,
              "#bd3786"
             ],
             [
              0.5555555555555556,
              "#d8576b"
             ],
             [
              0.6666666666666666,
              "#ed7953"
             ],
             [
              0.7777777777777778,
              "#fb9f3a"
             ],
             [
              0.8888888888888888,
              "#fdca26"
             ],
             [
              1,
              "#f0f921"
             ]
            ],
            "type": "contour"
           }
          ],
          "contourcarpet": [
           {
            "colorbar": {
             "outlinewidth": 0,
             "ticks": ""
            },
            "type": "contourcarpet"
           }
          ],
          "heatmap": [
           {
            "colorbar": {
             "outlinewidth": 0,
             "ticks": ""
            },
            "colorscale": [
             [
              0,
              "#0d0887"
             ],
             [
              0.1111111111111111,
              "#46039f"
             ],
             [
              0.2222222222222222,
              "#7201a8"
             ],
             [
              0.3333333333333333,
              "#9c179e"
             ],
             [
              0.4444444444444444,
              "#bd3786"
             ],
             [
              0.5555555555555556,
              "#d8576b"
             ],
             [
              0.6666666666666666,
              "#ed7953"
             ],
             [
              0.7777777777777778,
              "#fb9f3a"
             ],
             [
              0.8888888888888888,
              "#fdca26"
             ],
             [
              1,
              "#f0f921"
             ]
            ],
            "type": "heatmap"
           }
          ],
          "heatmapgl": [
           {
            "colorbar": {
             "outlinewidth": 0,
             "ticks": ""
            },
            "colorscale": [
             [
              0,
              "#0d0887"
             ],
             [
              0.1111111111111111,
              "#46039f"
             ],
             [
              0.2222222222222222,
              "#7201a8"
             ],
             [
              0.3333333333333333,
              "#9c179e"
             ],
             [
              0.4444444444444444,
              "#bd3786"
             ],
             [
              0.5555555555555556,
              "#d8576b"
             ],
             [
              0.6666666666666666,
              "#ed7953"
             ],
             [
              0.7777777777777778,
              "#fb9f3a"
             ],
             [
              0.8888888888888888,
              "#fdca26"
             ],
             [
              1,
              "#f0f921"
             ]
            ],
            "type": "heatmapgl"
           }
          ],
          "histogram": [
           {
            "marker": {
             "pattern": {
              "fillmode": "overlay",
              "size": 10,
              "solidity": 0.2
             }
            },
            "type": "histogram"
           }
          ],
          "histogram2d": [
           {
            "colorbar": {
             "outlinewidth": 0,
             "ticks": ""
            },
            "colorscale": [
             [
              0,
              "#0d0887"
             ],
             [
              0.1111111111111111,
              "#46039f"
             ],
             [
              0.2222222222222222,
              "#7201a8"
             ],
             [
              0.3333333333333333,
              "#9c179e"
             ],
             [
              0.4444444444444444,
              "#bd3786"
             ],
             [
              0.5555555555555556,
              "#d8576b"
             ],
             [
              0.6666666666666666,
              "#ed7953"
             ],
             [
              0.7777777777777778,
              "#fb9f3a"
             ],
             [
              0.8888888888888888,
              "#fdca26"
             ],
             [
              1,
              "#f0f921"
             ]
            ],
            "type": "histogram2d"
           }
          ],
          "histogram2dcontour": [
           {
            "colorbar": {
             "outlinewidth": 0,
             "ticks": ""
            },
            "colorscale": [
             [
              0,
              "#0d0887"
             ],
             [
              0.1111111111111111,
              "#46039f"
             ],
             [
              0.2222222222222222,
              "#7201a8"
             ],
             [
              0.3333333333333333,
              "#9c179e"
             ],
             [
              0.4444444444444444,
              "#bd3786"
             ],
             [
              0.5555555555555556,
              "#d8576b"
             ],
             [
              0.6666666666666666,
              "#ed7953"
             ],
             [
              0.7777777777777778,
              "#fb9f3a"
             ],
             [
              0.8888888888888888,
              "#fdca26"
             ],
             [
              1,
              "#f0f921"
             ]
            ],
            "type": "histogram2dcontour"
           }
          ],
          "mesh3d": [
           {
            "colorbar": {
             "outlinewidth": 0,
             "ticks": ""
            },
            "type": "mesh3d"
           }
          ],
          "parcoords": [
           {
            "line": {
             "colorbar": {
              "outlinewidth": 0,
              "ticks": ""
             }
            },
            "type": "parcoords"
           }
          ],
          "pie": [
           {
            "automargin": true,
            "type": "pie"
           }
          ],
          "scatter": [
           {
            "marker": {
             "line": {
              "color": "#283442"
             }
            },
            "type": "scatter"
           }
          ],
          "scatter3d": [
           {
            "line": {
             "colorbar": {
              "outlinewidth": 0,
              "ticks": ""
             }
            },
            "marker": {
             "colorbar": {
              "outlinewidth": 0,
              "ticks": ""
             }
            },
            "type": "scatter3d"
           }
          ],
          "scattercarpet": [
           {
            "marker": {
             "colorbar": {
              "outlinewidth": 0,
              "ticks": ""
             }
            },
            "type": "scattercarpet"
           }
          ],
          "scattergeo": [
           {
            "marker": {
             "colorbar": {
              "outlinewidth": 0,
              "ticks": ""
             }
            },
            "type": "scattergeo"
           }
          ],
          "scattergl": [
           {
            "marker": {
             "line": {
              "color": "#283442"
             }
            },
            "type": "scattergl"
           }
          ],
          "scattermapbox": [
           {
            "marker": {
             "colorbar": {
              "outlinewidth": 0,
              "ticks": ""
             }
            },
            "type": "scattermapbox"
           }
          ],
          "scatterpolar": [
           {
            "marker": {
             "colorbar": {
              "outlinewidth": 0,
              "ticks": ""
             }
            },
            "type": "scatterpolar"
           }
          ],
          "scatterpolargl": [
           {
            "marker": {
             "colorbar": {
              "outlinewidth": 0,
              "ticks": ""
             }
            },
            "type": "scatterpolargl"
           }
          ],
          "scatterternary": [
           {
            "marker": {
             "colorbar": {
              "outlinewidth": 0,
              "ticks": ""
             }
            },
            "type": "scatterternary"
           }
          ],
          "surface": [
           {
            "colorbar": {
             "outlinewidth": 0,
             "ticks": ""
            },
            "colorscale": [
             [
              0,
              "#0d0887"
             ],
             [
              0.1111111111111111,
              "#46039f"
             ],
             [
              0.2222222222222222,
              "#7201a8"
             ],
             [
              0.3333333333333333,
              "#9c179e"
             ],
             [
              0.4444444444444444,
              "#bd3786"
             ],
             [
              0.5555555555555556,
              "#d8576b"
             ],
             [
              0.6666666666666666,
              "#ed7953"
             ],
             [
              0.7777777777777778,
              "#fb9f3a"
             ],
             [
              0.8888888888888888,
              "#fdca26"
             ],
             [
              1,
              "#f0f921"
             ]
            ],
            "type": "surface"
           }
          ],
          "table": [
           {
            "cells": {
             "fill": {
              "color": "#506784"
             },
             "line": {
              "color": "rgb(17,17,17)"
             }
            },
            "header": {
             "fill": {
              "color": "#2a3f5f"
             },
             "line": {
              "color": "rgb(17,17,17)"
             }
            },
            "type": "table"
           }
          ]
         },
         "layout": {
          "annotationdefaults": {
           "arrowcolor": "#f2f5fa",
           "arrowhead": 0,
           "arrowwidth": 1
          },
          "autotypenumbers": "strict",
          "coloraxis": {
           "colorbar": {
            "outlinewidth": 0,
            "ticks": ""
           }
          },
          "colorscale": {
           "diverging": [
            [
             0,
             "#8e0152"
            ],
            [
             0.1,
             "#c51b7d"
            ],
            [
             0.2,
             "#de77ae"
            ],
            [
             0.3,
             "#f1b6da"
            ],
            [
             0.4,
             "#fde0ef"
            ],
            [
             0.5,
             "#f7f7f7"
            ],
            [
             0.6,
             "#e6f5d0"
            ],
            [
             0.7,
             "#b8e186"
            ],
            [
             0.8,
             "#7fbc41"
            ],
            [
             0.9,
             "#4d9221"
            ],
            [
             1,
             "#276419"
            ]
           ],
           "sequential": [
            [
             0,
             "#0d0887"
            ],
            [
             0.1111111111111111,
             "#46039f"
            ],
            [
             0.2222222222222222,
             "#7201a8"
            ],
            [
             0.3333333333333333,
             "#9c179e"
            ],
            [
             0.4444444444444444,
             "#bd3786"
            ],
            [
             0.5555555555555556,
             "#d8576b"
            ],
            [
             0.6666666666666666,
             "#ed7953"
            ],
            [
             0.7777777777777778,
             "#fb9f3a"
            ],
            [
             0.8888888888888888,
             "#fdca26"
            ],
            [
             1,
             "#f0f921"
            ]
           ],
           "sequentialminus": [
            [
             0,
             "#0d0887"
            ],
            [
             0.1111111111111111,
             "#46039f"
            ],
            [
             0.2222222222222222,
             "#7201a8"
            ],
            [
             0.3333333333333333,
             "#9c179e"
            ],
            [
             0.4444444444444444,
             "#bd3786"
            ],
            [
             0.5555555555555556,
             "#d8576b"
            ],
            [
             0.6666666666666666,
             "#ed7953"
            ],
            [
             0.7777777777777778,
             "#fb9f3a"
            ],
            [
             0.8888888888888888,
             "#fdca26"
            ],
            [
             1,
             "#f0f921"
            ]
           ]
          },
          "colorway": [
           "#636efa",
           "#EF553B",
           "#00cc96",
           "#ab63fa",
           "#FFA15A",
           "#19d3f3",
           "#FF6692",
           "#B6E880",
           "#FF97FF",
           "#FECB52"
          ],
          "font": {
           "color": "#f2f5fa"
          },
          "geo": {
           "bgcolor": "rgb(17,17,17)",
           "lakecolor": "rgb(17,17,17)",
           "landcolor": "rgb(17,17,17)",
           "showlakes": true,
           "showland": true,
           "subunitcolor": "#506784"
          },
          "hoverlabel": {
           "align": "left"
          },
          "hovermode": "closest",
          "mapbox": {
           "style": "dark"
          },
          "paper_bgcolor": "rgb(17,17,17)",
          "plot_bgcolor": "rgb(17,17,17)",
          "polar": {
           "angularaxis": {
            "gridcolor": "#506784",
            "linecolor": "#506784",
            "ticks": ""
           },
           "bgcolor": "rgb(17,17,17)",
           "radialaxis": {
            "gridcolor": "#506784",
            "linecolor": "#506784",
            "ticks": ""
           }
          },
          "scene": {
           "xaxis": {
            "backgroundcolor": "rgb(17,17,17)",
            "gridcolor": "#506784",
            "gridwidth": 2,
            "linecolor": "#506784",
            "showbackground": true,
            "ticks": "",
            "zerolinecolor": "#C8D4E3"
           },
           "yaxis": {
            "backgroundcolor": "rgb(17,17,17)",
            "gridcolor": "#506784",
            "gridwidth": 2,
            "linecolor": "#506784",
            "showbackground": true,
            "ticks": "",
            "zerolinecolor": "#C8D4E3"
           },
           "zaxis": {
            "backgroundcolor": "rgb(17,17,17)",
            "gridcolor": "#506784",
            "gridwidth": 2,
            "linecolor": "#506784",
            "showbackground": true,
            "ticks": "",
            "zerolinecolor": "#C8D4E3"
           }
          },
          "shapedefaults": {
           "line": {
            "color": "#f2f5fa"
           }
          },
          "sliderdefaults": {
           "bgcolor": "#C8D4E3",
           "bordercolor": "rgb(17,17,17)",
           "borderwidth": 1,
           "tickwidth": 0
          },
          "ternary": {
           "aaxis": {
            "gridcolor": "#506784",
            "linecolor": "#506784",
            "ticks": ""
           },
           "baxis": {
            "gridcolor": "#506784",
            "linecolor": "#506784",
            "ticks": ""
           },
           "bgcolor": "rgb(17,17,17)",
           "caxis": {
            "gridcolor": "#506784",
            "linecolor": "#506784",
            "ticks": ""
           }
          },
          "title": {
           "x": 0.05
          },
          "updatemenudefaults": {
           "bgcolor": "#506784",
           "borderwidth": 0
          },
          "xaxis": {
           "automargin": true,
           "gridcolor": "#283442",
           "linecolor": "#506784",
           "ticks": "",
           "title": {
            "standoff": 15
           },
           "zerolinecolor": "#283442",
           "zerolinewidth": 2
          },
          "yaxis": {
           "automargin": true,
           "gridcolor": "#283442",
           "linecolor": "#506784",
           "ticks": "",
           "title": {
            "standoff": 15
           },
           "zerolinecolor": "#283442",
           "zerolinewidth": 2
          }
         }
        },
        "title": {
         "text": "Temperature Anomaly for PFAF_ID 61563"
        },
        "xaxis": {
         "anchor": "y",
         "domain": [
          0,
          1
         ],
         "title": {
          "text": "Date"
         }
        },
        "yaxis": {
         "anchor": "x",
         "domain": [
          0,
          1
         ],
         "title": {
          "text": "Anomaly"
         }
        }
       }
      }
     },
     "metadata": {},
     "output_type": "display_data"
    }
   ],
   "source": [
    "fig = plotly.boxplot_frame(data_61654, x=data_61654.index, y='anomaly', title='Temperature Anomaly for PFAF_ID 61563')\n",
    "fig.update_layout(xaxis_title='Date', yaxis_title='Anomaly', template='plotly_dark')\n",
    "fig.show()"
   ]
  }
 ],
 "metadata": {
  "kernelspec": {
   "display_name": "base",
   "language": "python",
   "name": "python3"
  },
  "language_info": {
   "codemirror_mode": {
    "name": "ipython",
    "version": 3
   },
   "file_extension": ".py",
   "mimetype": "text/x-python",
   "name": "python",
   "nbconvert_exporter": "python",
   "pygments_lexer": "ipython3",
   "version": "3.11.7"
  }
 },
 "nbformat": 4,
 "nbformat_minor": 2
}
