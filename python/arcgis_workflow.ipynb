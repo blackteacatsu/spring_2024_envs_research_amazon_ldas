{
 "cells": [
  {
   "cell_type": "markdown",
   "metadata": {},
   "source": [
    "# ArcGIS Workflow"
   ]
  },
  {
   "cell_type": "markdown",
   "metadata": {},
   "source": [
    "Author: Kris Su  \n",
    "Description: **This notebook uses the package arcpy"
   ]
  },
  {
   "cell_type": "code",
   "execution_count": null,
   "metadata": {},
   "outputs": [],
   "source": [
    "import arcpy\n",
    "import os\n",
    "import xarray as xr\n",
    "from arcgis import GIS\n",
    "from arcgis.features import FeatureLayerCollection\n",
    "gis = GIS()"
   ]
  },
  {
   "cell_type": "code",
   "execution_count": null,
   "metadata": {},
   "outputs": [],
   "source": [
    "ds = xr.open_dataset(r\"C:\\Users\\Kris\\Documents\\amazonforcast\\data\\malaria_amazon\\amazon_monthly_ldas\\LIS_HIST_2001_to_2023_Monthly.nc\")"
   ]
  },
  {
   "cell_type": "code",
   "execution_count": null,
   "metadata": {},
   "outputs": [],
   "source": [
    "map = gis.map('South America')"
   ]
  },
  {
   "cell_type": "code",
   "execution_count": null,
   "metadata": {},
   "outputs": [],
   "source": [
    "map"
   ]
  },
  {
   "cell_type": "markdown",
   "metadata": {},
   "source": [
    "### Create a list of variables"
   ]
  },
  {
   "cell_type": "code",
   "execution_count": null,
   "metadata": {},
   "outputs": [],
   "source": [
    "list_of_variables = ['Rainf_tavg','SoilMoist_inst','Qs_tavg','Evap_tavg','SoilTemp_inst','Qair_f_tavg']\n",
    "\n",
    "print(list_of_variables)\n",
    "type(list_of_variables)"
   ]
  },
  {
   "cell_type": "markdown",
   "metadata": {},
   "source": [
    "### Specify ArcGIS project destination"
   ]
  },
  {
   "cell_type": "code",
   "execution_count": null,
   "metadata": {},
   "outputs": [],
   "source": [
    "# Define project destination\n",
    "aprx_path = r\"C:\\Users\\Kris\\Documents\\ArcGIS\\Projects\\amazon_ldas_2001_to_2023\\amazon_ldas_2001_to_2023.aprx\"\n",
    "\n",
    "# Open ArcGIS project file\n",
    "aprx = arcpy.mp.ArcGISProject(aprx_path)\n",
    "\n",
    "map_name = \"Map\"\n",
    "m = aprx.listMaps(map_name)[0]"
   ]
  },
  {
   "cell_type": "markdown",
   "metadata": {},
   "source": [
    "### The workflow is layout as the following"
   ]
  },
  {
   "cell_type": "markdown",
   "metadata": {},
   "source": [
    "Looping through list of variables in the list created earlier"
   ]
  },
  {
   "cell_type": "code",
   "execution_count": null,
   "metadata": {},
   "outputs": [],
   "source": [
    "for vars in list_of_variables:\n",
    "    output_layer_name = \"LIS_HIST_2001_to_2023_Monthly_\" + vars\n",
    "\n",
    "    # Import NetCDF as raster layer\n",
    "    arcpy.md.MakeMultidimensionalRasterLayer(\n",
    "    in_multidimensional_raster=r\"C:\\Users\\Kris\\Documents\\amazonforcast\\data\\malaria_amazon\\amazon_monthly_ldas\\LIS_HIST_2001_to_2023_Monthly.nc\",\n",
    "    out_multidimensional_raster_layer= output_layer_name,\n",
    "    variables=vars,\n",
    "    dimension_def=\"ALL\",\n",
    "    dimension_ranges=None,\n",
    "    dimension_values=None,\n",
    "    dimension=\"\",\n",
    "    start_of_first_iteration=\"\",\n",
    "    end_of_first_iteration=\"\",\n",
    "    iteration_step=None,\n",
    "    iteration_unit=\"\",\n",
    "    template='-82 -20.9999999999981 -49.0000000000019 6.00000000000038 GEOGCS[\"GCS_WGS_1984\",DATUM[\"D_WGS_1984\",SPHEROID[\"WGS_1984\",6378137.0,298.257223563]],PRIMEM[\"Greenwich\",0.0],UNIT[\"Degree\",0.0174532925199433]]',\n",
    "    dimensionless=\"DIMENSIONS\",\n",
    "    spatial_reference=None\n",
    "    )\n",
    "\n",
    "    print(f\"Created and saved multidimensional raster layer for variable: {vars}\") # Check if the import process is complete\n",
    "\n",
    "    # Calculate zonal statistic as table by polygon \n",
    "    arcpy.sa.ZonalStatisticsAsTable(\n",
    "    in_zone_data=r\"C:\\Users\\Kris\\Documents\\ArcGIS\\Projects\\amazon_ldas_2001_to_2023\\amazon_ldas_2001_to_2023.gdb\\hybas_sa_lev02_v1c\",\n",
    "    zone_field=\"PFAF_ID\",\n",
    "    in_value_raster= output_layer_name,\n",
    "    out_table=r\"C:\\Users\\Kris\\Documents\\ArcGIS\\Projects\\amazon_ldas_2001_to_2023\\amazon_ldas_2001_to_2023.gdb\\ZonalSt_hybas_lev05_\" + vars,\n",
    "    ignore_nodata=\"DATA\",\n",
    "    statistics_type=\"MEAN_STD\",\n",
    "    process_as_multidimensional=\"ALL_SLICES\",\n",
    "    percentile_values=90,\n",
    "    percentile_interpolation_type=\"AUTO_DETECT\",\n",
    "    circular_calculation=\"ARITHMETIC\",\n",
    "    circular_wrap_value=360,\n",
    "    out_join_layer=\"\",\n",
    "    )\n",
    "\n",
    "    # Export as new feature class\n",
    "    arcpy.conversion.ExportFeatures(\n",
    "    in_features= ,\n",
    "    out_features=r\"C:\\Users\\Kris\\Documents\\ArcGIS\\Projects\\amazon_ldas_2001_to_2023\\amazon_ldas_2001_to_2023.gdb\\hybas_sa_lev02_v1c_ExportFeatures\",\n",
    "    where_clause=\"\",\n",
    "    use_field_alias_as_name=\"NOT_USE_ALIAS\",\n",
    "    field_mapping='HYBAS_ID \"HYBAS_ID\" true true false 8 Double 0 0,First,#,hybas_sa_lev02_v1c,HYBAS_ID,-1,-1;NEXT_DOWN \"NEXT_DOWN\" true true false 8 Double 0 0,First,#,hybas_sa_lev02_v1c,NEXT_DOWN,-1,-1;NEXT_SINK \"NEXT_SINK\" true true false 8 Double 0 0,First,#,hybas_sa_lev02_v1c,NEXT_SINK,-1,-1;MAIN_BAS \"MAIN_BAS\" true true false 8 Double 0 0,First,#,hybas_sa_lev02_v1c,MAIN_BAS,-1,-1;DIST_SINK \"DIST_SINK\" true true false 8 Double 0 0,First,#,hybas_sa_lev02_v1c,DIST_SINK,-1,-1;DIST_MAIN \"DIST_MAIN\" true true false 8 Double 0 0,First,#,hybas_sa_lev02_v1c,DIST_MAIN,-1,-1;SUB_AREA \"SUB_AREA\" true true false 8 Double 0 0,First,#,hybas_sa_lev02_v1c,SUB_AREA,-1,-1;UP_AREA \"UP_AREA\" true true false 8 Double 0 0,First,#,hybas_sa_lev02_v1c,UP_AREA,-1,-1;PFAF_ID \"PFAF_ID\" true true false 4 Long 0 0,First,#,hybas_sa_lev02_v1c,PFAF_ID,-1,-1;ENDO \"ENDO\" true true false 4 Long 0 0,First,#,hybas_sa_lev02_v1c,ENDO,-1,-1;COAST \"COAST\" true true false 4 Long 0 0,First,#,hybas_sa_lev02_v1c,COAST,-1,-1;ORDER_ \"ORDER\" true true false 4 Long 0 0,First,#,hybas_sa_lev02_v1c,ORDER_,-1,-1;SORT \"SORT\" true true false 8 Double 0 0,First,#,hybas_sa_lev02_v1c,SORT,-1,-1;Shape_Length \"Shape_Length\" false true true 8 Double 0 0,First,#,hybas_sa_lev02_v1c,Shape_Length,-1,-1;Shape_Area \"Shape_Area\" false true true 8 Double 0 0,First,#,hybas_sa_lev02_v1c,Shape_Area,-1,-1',\n",
    "    sort_field=None\n",
    "    )\n",
    "\n",
    "    # Remove previous join operations\n",
    "    arcpy.management.RemoveJoin(\n",
    "    in_layer_or_view=\"hybas_sa_lev05_areaofstudy\",\n",
    "    join_name=\"\"\n",
    "    )\n",
    "\n",
    "\n",
    "    "
   ]
  },
  {
   "cell_type": "code",
   "execution_count": null,
   "metadata": {},
   "outputs": [],
   "source": [
    "\n",
    "with arcpy.EnvManager(outputCoordinateSystem='PROJCS[\"WGS_1984_Web_Mercator_Auxiliary_Sphere\",GEOGCS[\"GCS_WGS_1984\",DATUM[\"D_WGS_1984\",SPHEROID[\"WGS_1984\",6378137.0,298.257223563]],PRIMEM[\"Greenwich\",0.0],UNIT[\"Degree\",0.0174532925199433]],PROJECTION[\"Mercator_Auxiliary_Sphere\"],PARAMETER[\"False_Easting\",0.0],PARAMETER[\"False_Northing\",0.0],PARAMETER[\"Central_Meridian\",0.0],PARAMETER[\"Standard_Parallel_1\",0.0],PARAMETER[\"Auxiliary_Sphere_Type\",0.0],UNIT[\"Meter\",1.0]]'):\n",
    "    arcpy.management.CreateMosaicDataset(\n",
    "        in_workspace=r\"C:\\Users\\Kris\\Documents\\ArcGIS\\Projects\\amazon_ldas_2001_to_2023\\amazon_ldas_2001_to_2023.gdb\",\n",
    "        in_mosaicdataset_name=\"netcdf_\",\n",
    "        coordinate_system='PROJCS[\"WGS_1984_Web_Mercator_Auxiliary_Sphere\",GEOGCS[\"GCS_WGS_1984\",DATUM[\"D_WGS_1984\",SPHEROID[\"WGS_1984\",6378137.0,298.257223563]],PRIMEM[\"Greenwich\",0.0],UNIT[\"Degree\",0.0174532925199433]],PROJECTION[\"Mercator_Auxiliary_Sphere\"],PARAMETER[\"False_Easting\",0.0],PARAMETER[\"False_Northing\",0.0],PARAMETER[\"Central_Meridian\",0.0],PARAMETER[\"Standard_Parallel_1\",0.0],PARAMETER[\"Auxiliary_Sphere_Type\",0.0],UNIT[\"Meter\",1.0]]',\n",
    "        num_bands=None,\n",
    "        pixel_type=\"\",\n",
    "        product_definition=\"NONE\",\n",
    "        product_band_definitions=None\n",
    "    )"
   ]
  },
  {
   "cell_type": "code",
   "execution_count": null,
   "metadata": {},
   "outputs": [],
   "source": [
    "arcpy.management.CreateMosaicDataset(\n",
    "    in_workspace=r\"C:\\Users\\Kris\\Documents\\ArcGIS\\Projects\\bsec_weather_stations\\bsec_weather_stations.gdb\",\n",
    "    in_mosaicdataset_name=\"test\",\n",
    "    coordinate_system='PROJCS[\"WGS_1984_Web_Mercator_Auxiliary_Sphere\",GEOGCS[\"GCS_WGS_1984\",DATUM[\"D_WGS_1984\",SPHEROID[\"WGS_1984\",6378137.0,298.257223563]],PRIMEM[\"Greenwich\",0.0],UNIT[\"Degree\",0.0174532925199433]],PROJECTION[\"Mercator_Auxiliary_Sphere\"],PARAMETER[\"False_Easting\",0.0],PARAMETER[\"False_Northing\",0.0],PARAMETER[\"Central_Meridian\",0.0],PARAMETER[\"Standard_Parallel_1\",0.0],PARAMETER[\"Auxiliary_Sphere_Type\",0.0],UNIT[\"Meter\",1.0]]',\n",
    "    num_bands=None,\n",
    "    pixel_type=\"\",\n",
    "    product_definition=\"NONE\",\n",
    "    product_band_definitions=None\n",
    ")\n",
    "\n",
    "\n",
    "arcpy.management.AddRastersToMosaicDataset(\n",
    "    in_mosaic_dataset=r\"C:\\Users\\Kris\\Documents\\ArcGIS\\Projects\\amazon_ldas_2001_to_2023\\amazon_ldas_2001_to_2023.gdb\\mosaic_main\",\n",
    "    raster_type=r\"NetCDF @ C:\\Users\\Kris\\Documents\\ArcGIS\\Projects\\amazon_ldas_2001_to_2023\\amazon_ldas_2001_to_2023.gdb\\mosaic_main\\RasterType.OBJECTID=1\",\n",
    "    input_path=r\"C:\\Users\\Kris\\Documents\\amazonforcast\\data\\malaria_amazon\\amazon_monthly_ldas\\LIS_HIST_2001_to_2023_Monthly.nc\",\n",
    "    update_cellsize_ranges=\"UPDATE_CELL_SIZES\",\n",
    "    update_boundary=\"UPDATE_BOUNDARY\",\n",
    "    update_overviews=\"NO_OVERVIEWS\",\n",
    "    maximum_pyramid_levels=None,\n",
    "    maximum_cell_size=0,\n",
    "    minimum_dimension=1500,\n",
    "    spatial_reference=None,\n",
    "    filter=\"*.nc;*.nc4\",\n",
    "    sub_folder=\"SUBFOLDERS\",\n",
    "    duplicate_items_action=\"ALLOW_DUPLICATES\",\n",
    "    build_pyramids=\"NO_PYRAMIDS\",\n",
    "    calculate_statistics=\"CALCULATE_STATISTICS\",\n",
    "    build_thumbnails=\"NO_THUMBNAILS\",\n",
    "    operation_description=\"\",\n",
    "    force_spatial_reference=\"NO_FORCE_SPATIAL_REFERENCE\",\n",
    "    estimate_statistics=\"ESTIMATE_STATISTICS\",\n",
    "    aux_inputs=None,\n",
    "    enable_pixel_cache=\"NO_PIXEL_CACHE\",\n",
    "    cache_location=r\"C:\\Users\\Kris\\AppData\\Local\\ESRI\\rasterproxies\\mosaic_main\"\n",
    ")\n",
    "\n",
    "arcpy.management.CopyRaster(\n",
    "    in_raster=r\"C:\\Users\\Kris\\Documents\\ArcGIS\\Projects\\amazon_ldas_2001_to_2023\\amazon_ldas_2001_to_2023.gdb\\mosaic_main\",\n",
    "    out_rasterdataset=r\"C:\\Users\\Kris\\Documents\\ArcGIS\\Projects\\amazon_ldas_2001_to_2023\\mosaic_main_CopyRaster.crf\",\n",
    "    config_keyword=\"\",\n",
    "    background_value=None,\n",
    "    nodata_value=\"\",\n",
    "    onebit_to_eightbit=\"NONE\",\n",
    "    colormap_to_RGB=\"NONE\",\n",
    "    pixel_type=\"\",\n",
    "    scale_pixel_value=\"NONE\",\n",
    "    RGB_to_Colormap=\"NONE\",\n",
    "    format=\"CRF\",\n",
    "    transform=\"NONE\",\n",
    "    process_as_multidimensional=\"ALL_SLICES\",\n",
    "    build_multidimensional_transpose=\"TRANSPOSE\"\n",
    ")"
   ]
  },
  {
   "cell_type": "code",
   "execution_count": null,
   "metadata": {},
   "outputs": [],
   "source": [
    "def make_netcdf_raster_layer():\n",
    "    arcpy\n",
    "    for var in list_of_variables:\n",
    "        arcpy.md.MakeNetCDFRasterLayer(in_netCDF_file=)\n",
    "\n",
    "        if var = \"SoilMoist_tavg\" and \"SoilTemp_inst\":\n",
    "            arcpy.md.MakeNetCDFRasterLayer(in_netCDF_file=)\n",
    "\n",
    "if __name__ == '__main__':\n",
    "    with arcpy.EnvManager()"
   ]
  },
  {
   "cell_type": "markdown",
   "metadata": {},
   "source": [
    "### Process: Zonal Statistics as Table (Zonal Statistics as Table)\n"
   ]
  },
  {
   "cell_type": "code",
   "execution_count": null,
   "metadata": {},
   "outputs": [],
   "source": []
  },
  {
   "cell_type": "markdown",
   "metadata": {},
   "source": [
    "## Share exported feature layers to ArcGIS Online"
   ]
  },
  {
   "cell_type": "markdown",
   "metadata": {},
   "source": [
    "### Sign-in to ArcGIS Enterprise"
   ]
  },
  {
   "cell_type": "code",
   "execution_count": null,
   "metadata": {},
   "outputs": [],
   "source": [
    "arcpy.SignInToPortal('https://gisanddata.maps.arcgis.com', 'qsu4@jh.edu', '!')\n"
   ]
  },
  {
   "cell_type": "markdown",
   "metadata": {},
   "source": [
    "### Define Parameters"
   ]
  },
  {
   "cell_type": "code",
   "execution_count": null,
   "metadata": {},
   "outputs": [],
   "source": [
    "feature_layer_path = \"path/to/your/feature/layer\"\n",
    "service_name = \"MyFeatureLayerService\"\n",
    "service_summary = \"Summary of the feature layer service\"\n",
    "service_tags = \"tags, for, your, service\""
   ]
  },
  {
   "cell_type": "markdown",
   "metadata": {},
   "source": [
    "### Define service defination "
   ]
  },
  {
   "cell_type": "code",
   "execution_count": null,
   "metadata": {},
   "outputs": [],
   "source": []
  },
  {
   "cell_type": "markdown",
   "metadata": {},
   "source": [
    "### Sign in to ArcGIS Online or ArcGIS Enterprise\n"
   ]
  },
  {
   "cell_type": "code",
   "execution_count": null,
   "metadata": {},
   "outputs": [],
   "source": [
    "portal_url = 'https://gisanddata.maps.arcgis.com/'  # Correct portal URL for ArcGIS Online\n",
    "username = 'qsu4_GISandData'             # Replace with your actual username\n",
    "password = '!'             # Replace with your actual password\n",
    "\n",
    "try:\n",
    "    arcpy.SignInToPortal(portal_url, username, password)\n",
    "    print(\"Successfully signed in to the portal.\")\n",
    "except Exception as e:\n",
    "    print(f\"Error signing in to the portal: {e}\")\n"
   ]
  },
  {
   "cell_type": "code",
   "execution_count": null,
   "metadata": {},
   "outputs": [],
   "source": []
  }
 ],
 "metadata": {
  "kernelspec": {
   "display_name": "Python 3",
   "language": "python",
   "name": "python3"
  },
  "language_info": {
   "codemirror_mode": {
    "name": "ipython",
    "version": 3
   },
   "file_extension": ".py",
   "mimetype": "text/x-python",
   "name": "python",
   "nbconvert_exporter": "python",
   "pygments_lexer": "ipython3",
   "version": "3.11.2"
  }
 },
 "nbformat": 4,
 "nbformat_minor": 2
}
