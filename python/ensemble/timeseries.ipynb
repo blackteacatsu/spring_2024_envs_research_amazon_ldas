{
 "cells": [
  {
   "cell_type": "markdown",
   "metadata": {},
   "source": [
    "Description: This jupyter notebook workspace demonstrates method used of grouping mean measurement across all 7 ensemble members by regions"
   ]
  },
  {
   "cell_type": "markdown",
   "metadata": {},
   "source": [
    "## Add packages"
   ]
  },
  {
   "cell_type": "code",
   "execution_count": 24,
   "metadata": {},
   "outputs": [],
   "source": [
    "# import packages\n",
    "import xarray as xr\n",
    "import geopandas as gpd\n",
    "import regionmask\n",
    "import matplotlib.pyplot as plt\n",
    "#import cartopy.crs as ccrs\n",
    "import plotly.express as px\n",
    "\n",
    "import json\n",
    "import urllib.request"
   ]
  },
  {
   "cell_type": "markdown",
   "metadata": {},
   "source": [
    "## Setup"
   ]
  },
  {
   "cell_type": "code",
   "execution_count": 25,
   "metadata": {},
   "outputs": [
    {
     "name": "stdout",
     "output_type": "stream",
     "text": [
      "East-West range of the NetCDF is: -82.0 to -49.0 \n",
      "\n",
      "North-South range of the NetCDF is: -21.0 to 6.0 \n",
      "\n",
      "This line print the bounds of the regions inside the shapefile: [-81.33353475 -20.87498542 -48.875        6.01723395] \n",
      "\n",
      "Here is the original CRS of the shapefile: EPSG:4326\n",
      "\n"
     ]
    },
    {
     "data": {
      "text/html": [
       "<div><svg style=\"position: absolute; width: 0; height: 0; overflow: hidden\">\n",
       "<defs>\n",
       "<symbol id=\"icon-database\" viewBox=\"0 0 32 32\">\n",
       "<path d=\"M16 0c-8.837 0-16 2.239-16 5v4c0 2.761 7.163 5 16 5s16-2.239 16-5v-4c0-2.761-7.163-5-16-5z\"></path>\n",
       "<path d=\"M16 17c-8.837 0-16-2.239-16-5v6c0 2.761 7.163 5 16 5s16-2.239 16-5v-6c0 2.761-7.163 5-16 5z\"></path>\n",
       "<path d=\"M16 26c-8.837 0-16-2.239-16-5v6c0 2.761 7.163 5 16 5s16-2.239 16-5v-6c0 2.761-7.163 5-16 5z\"></path>\n",
       "</symbol>\n",
       "<symbol id=\"icon-file-text2\" viewBox=\"0 0 32 32\">\n",
       "<path d=\"M28.681 7.159c-0.694-0.947-1.662-2.053-2.724-3.116s-2.169-2.030-3.116-2.724c-1.612-1.182-2.393-1.319-2.841-1.319h-15.5c-1.378 0-2.5 1.121-2.5 2.5v27c0 1.378 1.122 2.5 2.5 2.5h23c1.378 0 2.5-1.122 2.5-2.5v-19.5c0-0.448-0.137-1.23-1.319-2.841zM24.543 5.457c0.959 0.959 1.712 1.825 2.268 2.543h-4.811v-4.811c0.718 0.556 1.584 1.309 2.543 2.268zM28 29.5c0 0.271-0.229 0.5-0.5 0.5h-23c-0.271 0-0.5-0.229-0.5-0.5v-27c0-0.271 0.229-0.5 0.5-0.5 0 0 15.499-0 15.5 0v7c0 0.552 0.448 1 1 1h7v19.5z\"></path>\n",
       "<path d=\"M23 26h-14c-0.552 0-1-0.448-1-1s0.448-1 1-1h14c0.552 0 1 0.448 1 1s-0.448 1-1 1z\"></path>\n",
       "<path d=\"M23 22h-14c-0.552 0-1-0.448-1-1s0.448-1 1-1h14c0.552 0 1 0.448 1 1s-0.448 1-1 1z\"></path>\n",
       "<path d=\"M23 18h-14c-0.552 0-1-0.448-1-1s0.448-1 1-1h14c0.552 0 1 0.448 1 1s-0.448 1-1 1z\"></path>\n",
       "</symbol>\n",
       "</defs>\n",
       "</svg>\n",
       "<style>/* CSS stylesheet for displaying xarray objects in jupyterlab.\n",
       " *\n",
       " */\n",
       "\n",
       ":root {\n",
       "  --xr-font-color0: var(--jp-content-font-color0, rgba(0, 0, 0, 1));\n",
       "  --xr-font-color2: var(--jp-content-font-color2, rgba(0, 0, 0, 0.54));\n",
       "  --xr-font-color3: var(--jp-content-font-color3, rgba(0, 0, 0, 0.38));\n",
       "  --xr-border-color: var(--jp-border-color2, #e0e0e0);\n",
       "  --xr-disabled-color: var(--jp-layout-color3, #bdbdbd);\n",
       "  --xr-background-color: var(--jp-layout-color0, white);\n",
       "  --xr-background-color-row-even: var(--jp-layout-color1, white);\n",
       "  --xr-background-color-row-odd: var(--jp-layout-color2, #eeeeee);\n",
       "}\n",
       "\n",
       "html[theme=dark],\n",
       "body[data-theme=dark],\n",
       "body.vscode-dark {\n",
       "  --xr-font-color0: rgba(255, 255, 255, 1);\n",
       "  --xr-font-color2: rgba(255, 255, 255, 0.54);\n",
       "  --xr-font-color3: rgba(255, 255, 255, 0.38);\n",
       "  --xr-border-color: #1F1F1F;\n",
       "  --xr-disabled-color: #515151;\n",
       "  --xr-background-color: #111111;\n",
       "  --xr-background-color-row-even: #111111;\n",
       "  --xr-background-color-row-odd: #313131;\n",
       "}\n",
       "\n",
       ".xr-wrap {\n",
       "  display: block !important;\n",
       "  min-width: 300px;\n",
       "  max-width: 700px;\n",
       "}\n",
       "\n",
       ".xr-text-repr-fallback {\n",
       "  /* fallback to plain text repr when CSS is not injected (untrusted notebook) */\n",
       "  display: none;\n",
       "}\n",
       "\n",
       ".xr-header {\n",
       "  padding-top: 6px;\n",
       "  padding-bottom: 6px;\n",
       "  margin-bottom: 4px;\n",
       "  border-bottom: solid 1px var(--xr-border-color);\n",
       "}\n",
       "\n",
       ".xr-header > div,\n",
       ".xr-header > ul {\n",
       "  display: inline;\n",
       "  margin-top: 0;\n",
       "  margin-bottom: 0;\n",
       "}\n",
       "\n",
       ".xr-obj-type,\n",
       ".xr-array-name {\n",
       "  margin-left: 2px;\n",
       "  margin-right: 10px;\n",
       "}\n",
       "\n",
       ".xr-obj-type {\n",
       "  color: var(--xr-font-color2);\n",
       "}\n",
       "\n",
       ".xr-sections {\n",
       "  padding-left: 0 !important;\n",
       "  display: grid;\n",
       "  grid-template-columns: 150px auto auto 1fr 20px 20px;\n",
       "}\n",
       "\n",
       ".xr-section-item {\n",
       "  display: contents;\n",
       "}\n",
       "\n",
       ".xr-section-item input {\n",
       "  display: none;\n",
       "}\n",
       "\n",
       ".xr-section-item input + label {\n",
       "  color: var(--xr-disabled-color);\n",
       "}\n",
       "\n",
       ".xr-section-item input:enabled + label {\n",
       "  cursor: pointer;\n",
       "  color: var(--xr-font-color2);\n",
       "}\n",
       "\n",
       ".xr-section-item input:enabled + label:hover {\n",
       "  color: var(--xr-font-color0);\n",
       "}\n",
       "\n",
       ".xr-section-summary {\n",
       "  grid-column: 1;\n",
       "  color: var(--xr-font-color2);\n",
       "  font-weight: 500;\n",
       "}\n",
       "\n",
       ".xr-section-summary > span {\n",
       "  display: inline-block;\n",
       "  padding-left: 0.5em;\n",
       "}\n",
       "\n",
       ".xr-section-summary-in:disabled + label {\n",
       "  color: var(--xr-font-color2);\n",
       "}\n",
       "\n",
       ".xr-section-summary-in + label:before {\n",
       "  display: inline-block;\n",
       "  content: '►';\n",
       "  font-size: 11px;\n",
       "  width: 15px;\n",
       "  text-align: center;\n",
       "}\n",
       "\n",
       ".xr-section-summary-in:disabled + label:before {\n",
       "  color: var(--xr-disabled-color);\n",
       "}\n",
       "\n",
       ".xr-section-summary-in:checked + label:before {\n",
       "  content: '▼';\n",
       "}\n",
       "\n",
       ".xr-section-summary-in:checked + label > span {\n",
       "  display: none;\n",
       "}\n",
       "\n",
       ".xr-section-summary,\n",
       ".xr-section-inline-details {\n",
       "  padding-top: 4px;\n",
       "  padding-bottom: 4px;\n",
       "}\n",
       "\n",
       ".xr-section-inline-details {\n",
       "  grid-column: 2 / -1;\n",
       "}\n",
       "\n",
       ".xr-section-details {\n",
       "  display: none;\n",
       "  grid-column: 1 / -1;\n",
       "  margin-bottom: 5px;\n",
       "}\n",
       "\n",
       ".xr-section-summary-in:checked ~ .xr-section-details {\n",
       "  display: contents;\n",
       "}\n",
       "\n",
       ".xr-array-wrap {\n",
       "  grid-column: 1 / -1;\n",
       "  display: grid;\n",
       "  grid-template-columns: 20px auto;\n",
       "}\n",
       "\n",
       ".xr-array-wrap > label {\n",
       "  grid-column: 1;\n",
       "  vertical-align: top;\n",
       "}\n",
       "\n",
       ".xr-preview {\n",
       "  color: var(--xr-font-color3);\n",
       "}\n",
       "\n",
       ".xr-array-preview,\n",
       ".xr-array-data {\n",
       "  padding: 0 5px !important;\n",
       "  grid-column: 2;\n",
       "}\n",
       "\n",
       ".xr-array-data,\n",
       ".xr-array-in:checked ~ .xr-array-preview {\n",
       "  display: none;\n",
       "}\n",
       "\n",
       ".xr-array-in:checked ~ .xr-array-data,\n",
       ".xr-array-preview {\n",
       "  display: inline-block;\n",
       "}\n",
       "\n",
       ".xr-dim-list {\n",
       "  display: inline-block !important;\n",
       "  list-style: none;\n",
       "  padding: 0 !important;\n",
       "  margin: 0;\n",
       "}\n",
       "\n",
       ".xr-dim-list li {\n",
       "  display: inline-block;\n",
       "  padding: 0;\n",
       "  margin: 0;\n",
       "}\n",
       "\n",
       ".xr-dim-list:before {\n",
       "  content: '(';\n",
       "}\n",
       "\n",
       ".xr-dim-list:after {\n",
       "  content: ')';\n",
       "}\n",
       "\n",
       ".xr-dim-list li:not(:last-child):after {\n",
       "  content: ',';\n",
       "  padding-right: 5px;\n",
       "}\n",
       "\n",
       ".xr-has-index {\n",
       "  font-weight: bold;\n",
       "}\n",
       "\n",
       ".xr-var-list,\n",
       ".xr-var-item {\n",
       "  display: contents;\n",
       "}\n",
       "\n",
       ".xr-var-item > div,\n",
       ".xr-var-item label,\n",
       ".xr-var-item > .xr-var-name span {\n",
       "  background-color: var(--xr-background-color-row-even);\n",
       "  margin-bottom: 0;\n",
       "}\n",
       "\n",
       ".xr-var-item > .xr-var-name:hover span {\n",
       "  padding-right: 5px;\n",
       "}\n",
       "\n",
       ".xr-var-list > li:nth-child(odd) > div,\n",
       ".xr-var-list > li:nth-child(odd) > label,\n",
       ".xr-var-list > li:nth-child(odd) > .xr-var-name span {\n",
       "  background-color: var(--xr-background-color-row-odd);\n",
       "}\n",
       "\n",
       ".xr-var-name {\n",
       "  grid-column: 1;\n",
       "}\n",
       "\n",
       ".xr-var-dims {\n",
       "  grid-column: 2;\n",
       "}\n",
       "\n",
       ".xr-var-dtype {\n",
       "  grid-column: 3;\n",
       "  text-align: right;\n",
       "  color: var(--xr-font-color2);\n",
       "}\n",
       "\n",
       ".xr-var-preview {\n",
       "  grid-column: 4;\n",
       "}\n",
       "\n",
       ".xr-index-preview {\n",
       "  grid-column: 2 / 5;\n",
       "  color: var(--xr-font-color2);\n",
       "}\n",
       "\n",
       ".xr-var-name,\n",
       ".xr-var-dims,\n",
       ".xr-var-dtype,\n",
       ".xr-preview,\n",
       ".xr-attrs dt {\n",
       "  white-space: nowrap;\n",
       "  overflow: hidden;\n",
       "  text-overflow: ellipsis;\n",
       "  padding-right: 10px;\n",
       "}\n",
       "\n",
       ".xr-var-name:hover,\n",
       ".xr-var-dims:hover,\n",
       ".xr-var-dtype:hover,\n",
       ".xr-attrs dt:hover {\n",
       "  overflow: visible;\n",
       "  width: auto;\n",
       "  z-index: 1;\n",
       "}\n",
       "\n",
       ".xr-var-attrs,\n",
       ".xr-var-data,\n",
       ".xr-index-data {\n",
       "  display: none;\n",
       "  background-color: var(--xr-background-color) !important;\n",
       "  padding-bottom: 5px !important;\n",
       "}\n",
       "\n",
       ".xr-var-attrs-in:checked ~ .xr-var-attrs,\n",
       ".xr-var-data-in:checked ~ .xr-var-data,\n",
       ".xr-index-data-in:checked ~ .xr-index-data {\n",
       "  display: block;\n",
       "}\n",
       "\n",
       ".xr-var-data > table {\n",
       "  float: right;\n",
       "}\n",
       "\n",
       ".xr-var-name span,\n",
       ".xr-var-data,\n",
       ".xr-index-name div,\n",
       ".xr-index-data,\n",
       ".xr-attrs {\n",
       "  padding-left: 25px !important;\n",
       "}\n",
       "\n",
       ".xr-attrs,\n",
       ".xr-var-attrs,\n",
       ".xr-var-data,\n",
       ".xr-index-data {\n",
       "  grid-column: 1 / -1;\n",
       "}\n",
       "\n",
       "dl.xr-attrs {\n",
       "  padding: 0;\n",
       "  margin: 0;\n",
       "  display: grid;\n",
       "  grid-template-columns: 125px auto;\n",
       "}\n",
       "\n",
       ".xr-attrs dt,\n",
       ".xr-attrs dd {\n",
       "  padding: 0;\n",
       "  margin: 0;\n",
       "  float: left;\n",
       "  padding-right: 10px;\n",
       "  width: auto;\n",
       "}\n",
       "\n",
       ".xr-attrs dt {\n",
       "  font-weight: normal;\n",
       "  grid-column: 1;\n",
       "}\n",
       "\n",
       ".xr-attrs dt:hover span {\n",
       "  display: inline-block;\n",
       "  background: var(--xr-background-color);\n",
       "  padding-right: 10px;\n",
       "}\n",
       "\n",
       ".xr-attrs dd {\n",
       "  grid-column: 2;\n",
       "  white-space: pre-wrap;\n",
       "  word-break: break-all;\n",
       "}\n",
       "\n",
       ".xr-icon-database,\n",
       ".xr-icon-file-text2,\n",
       ".xr-no-icon {\n",
       "  display: inline-block;\n",
       "  vertical-align: middle;\n",
       "  width: 1em;\n",
       "  height: 1.5em !important;\n",
       "  stroke-width: 0;\n",
       "  stroke: currentColor;\n",
       "  fill: currentColor;\n",
       "}\n",
       "</style><pre class='xr-text-repr-fallback'>&lt;xarray.Dataset&gt;\n",
       "Dimensions:           (time: 4, north_south: 540, east_west: 660, ensemble: 7,\n",
       "                       SoilMoist_profiles: 4, SoilTemp_profiles: 4)\n",
       "Coordinates:\n",
       "  * time              (time) datetime64[ns] 2024-06-02 2024-06-03 ... 2024-06-05\n",
       "  * ensemble          (ensemble) float32 1.0 2.0 3.0 4.0 5.0 6.0 7.0\n",
       "  * north_south       (north_south) float64 -21.0 -20.95 -20.9 ... 5.9 5.95 6.0\n",
       "  * east_west         (east_west) float64 -82.0 -81.95 -81.9 ... -49.05 -49.0\n",
       "Dimensions without coordinates: SoilMoist_profiles, SoilTemp_profiles\n",
       "Data variables: (12/32)\n",
       "    lat               (time, north_south) float32 ...\n",
       "    lon               (time, east_west) float32 ...\n",
       "    Swnet_tavg        (time, ensemble, north_south, east_west) float32 ...\n",
       "    Lwnet_tavg        (time, ensemble, north_south, east_west) float32 ...\n",
       "    Qle_tavg          (time, ensemble, north_south, east_west) float32 ...\n",
       "    Qh_tavg           (time, ensemble, north_south, east_west) float32 ...\n",
       "    ...                ...\n",
       "    Qair_f_tavg       (time, ensemble, north_south, east_west) float32 ...\n",
       "    Psurf_f_tavg      (time, ensemble, north_south, east_west) float32 ...\n",
       "    SWdown_f_tavg     (time, ensemble, north_south, east_west) float32 ...\n",
       "    LWdown_f_tavg     (time, ensemble, north_south, east_west) float32 ...\n",
       "    LAI_inst          (time, ensemble, north_south, east_west) float32 ...\n",
       "    Greenness_inst    (time, ensemble, north_south, east_west) float32 ...\n",
       "Attributes: (12/15)\n",
       "    missing_value:           -9999.0\n",
       "    NUM_SOIL_LAYERS:         4\n",
       "    SOIL_LAYER_THICKNESSES:  [ 10.        30.000002  60.000004 100.      ]\n",
       "    title:                   LIS land surface model output\n",
       "    institution:             NASA GSFC\n",
       "    source:                  \n",
       "    ...                      ...\n",
       "    comment:                 website: http://lis.gsfc.nasa.gov/\n",
       "    MAP_PROJECTION:          EQUIDISTANT CYLINDRICAL\n",
       "    SOUTH_WEST_CORNER_LAT:   -20.975\n",
       "    SOUTH_WEST_CORNER_LON:   -81.975\n",
       "    DX:                      0.05\n",
       "    DY:                      0.05</pre><div class='xr-wrap' style='display:none'><div class='xr-header'><div class='xr-obj-type'>xarray.Dataset</div></div><ul class='xr-sections'><li class='xr-section-item'><input id='section-19243b98-a7f4-4dfb-8f78-d48c4e4675b8' class='xr-section-summary-in' type='checkbox' disabled ><label for='section-19243b98-a7f4-4dfb-8f78-d48c4e4675b8' class='xr-section-summary'  title='Expand/collapse section'>Dimensions:</label><div class='xr-section-inline-details'><ul class='xr-dim-list'><li><span class='xr-has-index'>time</span>: 4</li><li><span class='xr-has-index'>north_south</span>: 540</li><li><span class='xr-has-index'>east_west</span>: 660</li><li><span class='xr-has-index'>ensemble</span>: 7</li><li><span>SoilMoist_profiles</span>: 4</li><li><span>SoilTemp_profiles</span>: 4</li></ul></div><div class='xr-section-details'></div></li><li class='xr-section-item'><input id='section-8ee16a96-68fe-49cd-aecd-a9ac6f460611' class='xr-section-summary-in' type='checkbox'  checked><label for='section-8ee16a96-68fe-49cd-aecd-a9ac6f460611' class='xr-section-summary' >Coordinates: <span>(4)</span></label><div class='xr-section-inline-details'></div><div class='xr-section-details'><ul class='xr-var-list'><li class='xr-var-item'><div class='xr-var-name'><span class='xr-has-index'>time</span></div><div class='xr-var-dims'>(time)</div><div class='xr-var-dtype'>datetime64[ns]</div><div class='xr-var-preview xr-preview'>2024-06-02 ... 2024-06-05</div><input id='attrs-3c30c64a-9696-4803-b852-a3b4f17ba803' class='xr-var-attrs-in' type='checkbox' ><label for='attrs-3c30c64a-9696-4803-b852-a3b4f17ba803' title='Show/Hide attributes'><svg class='icon xr-icon-file-text2'><use xlink:href='#icon-file-text2'></use></svg></label><input id='data-6958c13f-829e-4a85-9adc-9d253949bc54' class='xr-var-data-in' type='checkbox'><label for='data-6958c13f-829e-4a85-9adc-9d253949bc54' title='Show/Hide data repr'><svg class='icon xr-icon-database'><use xlink:href='#icon-database'></use></svg></label><div class='xr-var-attrs'><dl class='xr-attrs'><dt><span>long_name :</span></dt><dd>time</dd><dt><span>time_increment :</span></dt><dd>86400</dd><dt><span>begin_date :</span></dt><dd>20240602</dd><dt><span>begin_time :</span></dt><dd>000000</dd></dl></div><div class='xr-var-data'><pre>array([&#x27;2024-06-02T00:00:00.000000000&#x27;, &#x27;2024-06-03T00:00:00.000000000&#x27;,\n",
       "       &#x27;2024-06-04T00:00:00.000000000&#x27;, &#x27;2024-06-05T00:00:00.000000000&#x27;],\n",
       "      dtype=&#x27;datetime64[ns]&#x27;)</pre></div></li><li class='xr-var-item'><div class='xr-var-name'><span class='xr-has-index'>ensemble</span></div><div class='xr-var-dims'>(ensemble)</div><div class='xr-var-dtype'>float32</div><div class='xr-var-preview xr-preview'>1.0 2.0 3.0 4.0 5.0 6.0 7.0</div><input id='attrs-3cda0fe3-f6d9-460c-8621-906777858369' class='xr-var-attrs-in' type='checkbox' ><label for='attrs-3cda0fe3-f6d9-460c-8621-906777858369' title='Show/Hide attributes'><svg class='icon xr-icon-file-text2'><use xlink:href='#icon-file-text2'></use></svg></label><input id='data-8cff3135-b752-45a4-be77-4609cc4c3ee1' class='xr-var-data-in' type='checkbox'><label for='data-8cff3135-b752-45a4-be77-4609cc4c3ee1' title='Show/Hide data repr'><svg class='icon xr-icon-database'><use xlink:href='#icon-database'></use></svg></label><div class='xr-var-attrs'><dl class='xr-attrs'><dt><span>units :</span></dt><dd>ensemble number</dd><dt><span>long_name :</span></dt><dd>Ensemble numbers</dd></dl></div><div class='xr-var-data'><pre>array([1., 2., 3., 4., 5., 6., 7.], dtype=float32)</pre></div></li><li class='xr-var-item'><div class='xr-var-name'><span class='xr-has-index'>north_south</span></div><div class='xr-var-dims'>(north_south)</div><div class='xr-var-dtype'>float64</div><div class='xr-var-preview xr-preview'>-21.0 -20.95 -20.9 ... 5.9 5.95 6.0</div><input id='attrs-f5255ce9-d44b-4cd8-8949-212bf609cfb4' class='xr-var-attrs-in' type='checkbox' ><label for='attrs-f5255ce9-d44b-4cd8-8949-212bf609cfb4' title='Show/Hide attributes'><svg class='icon xr-icon-file-text2'><use xlink:href='#icon-file-text2'></use></svg></label><input id='data-b5e35f8a-cc17-4cf9-a35d-83c25a9bb838' class='xr-var-data-in' type='checkbox'><label for='data-b5e35f8a-cc17-4cf9-a35d-83c25a9bb838' title='Show/Hide data repr'><svg class='icon xr-icon-database'><use xlink:href='#icon-database'></use></svg></label><div class='xr-var-attrs'><dl class='xr-attrs'><dt><span>units :</span></dt><dd>degrees_n</dd></dl></div><div class='xr-var-data'><pre>array([-21.      , -20.949907, -20.899814, ...,   5.899814,   5.949907,\n",
       "         6.      ])</pre></div></li><li class='xr-var-item'><div class='xr-var-name'><span class='xr-has-index'>east_west</span></div><div class='xr-var-dims'>(east_west)</div><div class='xr-var-dtype'>float64</div><div class='xr-var-preview xr-preview'>-82.0 -81.95 -81.9 ... -49.05 -49.0</div><input id='attrs-f001af09-3906-4e73-8863-3e50cfa3e987' class='xr-var-attrs-in' type='checkbox' ><label for='attrs-f001af09-3906-4e73-8863-3e50cfa3e987' title='Show/Hide attributes'><svg class='icon xr-icon-file-text2'><use xlink:href='#icon-file-text2'></use></svg></label><input id='data-aa9dc7c0-edf1-49e1-89c0-359e9ac2e946' class='xr-var-data-in' type='checkbox'><label for='data-aa9dc7c0-edf1-49e1-89c0-359e9ac2e946' title='Show/Hide data repr'><svg class='icon xr-icon-database'><use xlink:href='#icon-database'></use></svg></label><div class='xr-var-attrs'><dl class='xr-attrs'><dt><span>units :</span></dt><dd>degrees_e</dd></dl></div><div class='xr-var-data'><pre>array([-82.      , -81.949924, -81.899848, ..., -49.100152, -49.050076,\n",
       "       -49.      ])</pre></div></li></ul></div></li><li class='xr-section-item'><input id='section-8a5f82c5-9ca2-4997-8148-514bad831a95' class='xr-section-summary-in' type='checkbox'  ><label for='section-8a5f82c5-9ca2-4997-8148-514bad831a95' class='xr-section-summary' >Data variables: <span>(32)</span></label><div class='xr-section-inline-details'></div><div class='xr-section-details'><ul class='xr-var-list'><li class='xr-var-item'><div class='xr-var-name'><span>lat</span></div><div class='xr-var-dims'>(time, north_south)</div><div class='xr-var-dtype'>float32</div><div class='xr-var-preview xr-preview'>...</div><input id='attrs-f6be9f70-cf70-48dd-875c-7d8161f8de1b' class='xr-var-attrs-in' type='checkbox' ><label for='attrs-f6be9f70-cf70-48dd-875c-7d8161f8de1b' title='Show/Hide attributes'><svg class='icon xr-icon-file-text2'><use xlink:href='#icon-file-text2'></use></svg></label><input id='data-2a38d6fb-0f37-4639-8827-81778c1a437d' class='xr-var-data-in' type='checkbox'><label for='data-2a38d6fb-0f37-4639-8827-81778c1a437d' title='Show/Hide data repr'><svg class='icon xr-icon-database'><use xlink:href='#icon-database'></use></svg></label><div class='xr-var-attrs'><dl class='xr-attrs'><dt><span>units :</span></dt><dd>degree_north</dd><dt><span>standard_name :</span></dt><dd>latitude</dd><dt><span>long_name :</span></dt><dd>latitude</dd><dt><span>vmin :</span></dt><dd>0.0</dd><dt><span>vmax :</span></dt><dd>0.0</dd></dl></div><div class='xr-var-data'><pre>[2160 values with dtype=float32]</pre></div></li><li class='xr-var-item'><div class='xr-var-name'><span>lon</span></div><div class='xr-var-dims'>(time, east_west)</div><div class='xr-var-dtype'>float32</div><div class='xr-var-preview xr-preview'>...</div><input id='attrs-d14c6af6-e756-4c14-8282-830514d190b2' class='xr-var-attrs-in' type='checkbox' ><label for='attrs-d14c6af6-e756-4c14-8282-830514d190b2' title='Show/Hide attributes'><svg class='icon xr-icon-file-text2'><use xlink:href='#icon-file-text2'></use></svg></label><input id='data-51d067b0-662d-4d27-8e21-9005fc673a09' class='xr-var-data-in' type='checkbox'><label for='data-51d067b0-662d-4d27-8e21-9005fc673a09' title='Show/Hide data repr'><svg class='icon xr-icon-database'><use xlink:href='#icon-database'></use></svg></label><div class='xr-var-attrs'><dl class='xr-attrs'><dt><span>units :</span></dt><dd>degree_east</dd><dt><span>standard_name :</span></dt><dd>longitude</dd><dt><span>long_name :</span></dt><dd>longitude</dd><dt><span>vmin :</span></dt><dd>0.0</dd><dt><span>vmax :</span></dt><dd>0.0</dd></dl></div><div class='xr-var-data'><pre>[2640 values with dtype=float32]</pre></div></li><li class='xr-var-item'><div class='xr-var-name'><span>Swnet_tavg</span></div><div class='xr-var-dims'>(time, ensemble, north_south, east_west)</div><div class='xr-var-dtype'>float32</div><div class='xr-var-preview xr-preview'>...</div><input id='attrs-0447108f-db91-4e00-91c6-a44301ce148b' class='xr-var-attrs-in' type='checkbox' ><label for='attrs-0447108f-db91-4e00-91c6-a44301ce148b' title='Show/Hide attributes'><svg class='icon xr-icon-file-text2'><use xlink:href='#icon-file-text2'></use></svg></label><input id='data-ae735f18-10ad-4f5f-8abe-397fd4e0d323' class='xr-var-data-in' type='checkbox'><label for='data-ae735f18-10ad-4f5f-8abe-397fd4e0d323' title='Show/Hide data repr'><svg class='icon xr-icon-database'><use xlink:href='#icon-database'></use></svg></label><div class='xr-var-attrs'><dl class='xr-attrs'><dt><span>units :</span></dt><dd>W m-2</dd><dt><span>standard_name :</span></dt><dd>surface_net_downward_shortwave_flux</dd><dt><span>long_name :</span></dt><dd>net downward shortwave radiation</dd><dt><span>vmin :</span></dt><dd>0.0</dd><dt><span>vmax :</span></dt><dd>0.0</dd></dl></div><div class='xr-var-data'><pre>[9979200 values with dtype=float32]</pre></div></li><li class='xr-var-item'><div class='xr-var-name'><span>Lwnet_tavg</span></div><div class='xr-var-dims'>(time, ensemble, north_south, east_west)</div><div class='xr-var-dtype'>float32</div><div class='xr-var-preview xr-preview'>...</div><input id='attrs-9266456b-1115-4890-ac3f-bb9809e2fda0' class='xr-var-attrs-in' type='checkbox' ><label for='attrs-9266456b-1115-4890-ac3f-bb9809e2fda0' title='Show/Hide attributes'><svg class='icon xr-icon-file-text2'><use xlink:href='#icon-file-text2'></use></svg></label><input id='data-9bfe61ef-0e15-4dc8-aa0a-aa166a20dd62' class='xr-var-data-in' type='checkbox'><label for='data-9bfe61ef-0e15-4dc8-aa0a-aa166a20dd62' title='Show/Hide data repr'><svg class='icon xr-icon-database'><use xlink:href='#icon-database'></use></svg></label><div class='xr-var-attrs'><dl class='xr-attrs'><dt><span>units :</span></dt><dd>W m-2</dd><dt><span>standard_name :</span></dt><dd>surface_net_downward_longwave_flux</dd><dt><span>long_name :</span></dt><dd>net downward longwave radiation</dd><dt><span>vmin :</span></dt><dd>0.0</dd><dt><span>vmax :</span></dt><dd>0.0</dd></dl></div><div class='xr-var-data'><pre>[9979200 values with dtype=float32]</pre></div></li><li class='xr-var-item'><div class='xr-var-name'><span>Qle_tavg</span></div><div class='xr-var-dims'>(time, ensemble, north_south, east_west)</div><div class='xr-var-dtype'>float32</div><div class='xr-var-preview xr-preview'>...</div><input id='attrs-3623ea79-8614-4a5a-a89e-647ef05cf0e2' class='xr-var-attrs-in' type='checkbox' ><label for='attrs-3623ea79-8614-4a5a-a89e-647ef05cf0e2' title='Show/Hide attributes'><svg class='icon xr-icon-file-text2'><use xlink:href='#icon-file-text2'></use></svg></label><input id='data-e6258800-a67a-4bc4-8658-f70eaefc168a' class='xr-var-data-in' type='checkbox'><label for='data-e6258800-a67a-4bc4-8658-f70eaefc168a' title='Show/Hide data repr'><svg class='icon xr-icon-database'><use xlink:href='#icon-database'></use></svg></label><div class='xr-var-attrs'><dl class='xr-attrs'><dt><span>units :</span></dt><dd>W m-2</dd><dt><span>standard_name :</span></dt><dd>surface_upward_latent_heat_flux</dd><dt><span>long_name :</span></dt><dd>latent heat flux</dd><dt><span>vmin :</span></dt><dd>0.0</dd><dt><span>vmax :</span></dt><dd>0.0</dd></dl></div><div class='xr-var-data'><pre>[9979200 values with dtype=float32]</pre></div></li><li class='xr-var-item'><div class='xr-var-name'><span>Qh_tavg</span></div><div class='xr-var-dims'>(time, ensemble, north_south, east_west)</div><div class='xr-var-dtype'>float32</div><div class='xr-var-preview xr-preview'>...</div><input id='attrs-b362cdac-1865-47d1-b1c0-57be6982ebe3' class='xr-var-attrs-in' type='checkbox' ><label for='attrs-b362cdac-1865-47d1-b1c0-57be6982ebe3' title='Show/Hide attributes'><svg class='icon xr-icon-file-text2'><use xlink:href='#icon-file-text2'></use></svg></label><input id='data-ee81f9a8-a044-4e59-998e-dd0a2152ba7c' class='xr-var-data-in' type='checkbox'><label for='data-ee81f9a8-a044-4e59-998e-dd0a2152ba7c' title='Show/Hide data repr'><svg class='icon xr-icon-database'><use xlink:href='#icon-database'></use></svg></label><div class='xr-var-attrs'><dl class='xr-attrs'><dt><span>units :</span></dt><dd>W m-2</dd><dt><span>standard_name :</span></dt><dd>surface_upward_sensible_heat_flux</dd><dt><span>long_name :</span></dt><dd>sensible heat flux</dd><dt><span>vmin :</span></dt><dd>0.0</dd><dt><span>vmax :</span></dt><dd>0.0</dd></dl></div><div class='xr-var-data'><pre>[9979200 values with dtype=float32]</pre></div></li><li class='xr-var-item'><div class='xr-var-name'><span>Qg_tavg</span></div><div class='xr-var-dims'>(time, ensemble, north_south, east_west)</div><div class='xr-var-dtype'>float32</div><div class='xr-var-preview xr-preview'>...</div><input id='attrs-f2e843c3-0605-47d6-af99-e6d98419f8ed' class='xr-var-attrs-in' type='checkbox' ><label for='attrs-f2e843c3-0605-47d6-af99-e6d98419f8ed' title='Show/Hide attributes'><svg class='icon xr-icon-file-text2'><use xlink:href='#icon-file-text2'></use></svg></label><input id='data-8ae04bf0-7812-4e5a-91d3-fedbeec498c3' class='xr-var-data-in' type='checkbox'><label for='data-8ae04bf0-7812-4e5a-91d3-fedbeec498c3' title='Show/Hide data repr'><svg class='icon xr-icon-database'><use xlink:href='#icon-database'></use></svg></label><div class='xr-var-attrs'><dl class='xr-attrs'><dt><span>units :</span></dt><dd>W m-2</dd><dt><span>standard_name :</span></dt><dd>downward_heat_flux_in_soil</dd><dt><span>long_name :</span></dt><dd>soil heat flux</dd><dt><span>vmin :</span></dt><dd>0.0</dd><dt><span>vmax :</span></dt><dd>0.0</dd></dl></div><div class='xr-var-data'><pre>[9979200 values with dtype=float32]</pre></div></li><li class='xr-var-item'><div class='xr-var-name'><span>Snowf_tavg</span></div><div class='xr-var-dims'>(time, ensemble, north_south, east_west)</div><div class='xr-var-dtype'>float32</div><div class='xr-var-preview xr-preview'>...</div><input id='attrs-035981c3-4d92-49cb-afbc-0ac27b35ab16' class='xr-var-attrs-in' type='checkbox' ><label for='attrs-035981c3-4d92-49cb-afbc-0ac27b35ab16' title='Show/Hide attributes'><svg class='icon xr-icon-file-text2'><use xlink:href='#icon-file-text2'></use></svg></label><input id='data-80be5447-5f1e-4949-98e9-7e301c6a5dd4' class='xr-var-data-in' type='checkbox'><label for='data-80be5447-5f1e-4949-98e9-7e301c6a5dd4' title='Show/Hide data repr'><svg class='icon xr-icon-database'><use xlink:href='#icon-database'></use></svg></label><div class='xr-var-attrs'><dl class='xr-attrs'><dt><span>units :</span></dt><dd>kg m-2 s-1</dd><dt><span>standard_name :</span></dt><dd>snowfall_rate</dd><dt><span>long_name :</span></dt><dd>snowfall rate</dd><dt><span>vmin :</span></dt><dd>0.0</dd><dt><span>vmax :</span></dt><dd>0.0</dd></dl></div><div class='xr-var-data'><pre>[9979200 values with dtype=float32]</pre></div></li><li class='xr-var-item'><div class='xr-var-name'><span>Rainf_tavg</span></div><div class='xr-var-dims'>(time, ensemble, north_south, east_west)</div><div class='xr-var-dtype'>float32</div><div class='xr-var-preview xr-preview'>...</div><input id='attrs-def81946-8387-4d26-8aba-65e3b3312b58' class='xr-var-attrs-in' type='checkbox' ><label for='attrs-def81946-8387-4d26-8aba-65e3b3312b58' title='Show/Hide attributes'><svg class='icon xr-icon-file-text2'><use xlink:href='#icon-file-text2'></use></svg></label><input id='data-d17632a4-9018-43de-a8a1-0369dfeb1880' class='xr-var-data-in' type='checkbox'><label for='data-d17632a4-9018-43de-a8a1-0369dfeb1880' title='Show/Hide data repr'><svg class='icon xr-icon-database'><use xlink:href='#icon-database'></use></svg></label><div class='xr-var-attrs'><dl class='xr-attrs'><dt><span>units :</span></dt><dd>kg m-2 s-1</dd><dt><span>standard_name :</span></dt><dd>precipitation_rate</dd><dt><span>long_name :</span></dt><dd>precipitation rate</dd><dt><span>vmin :</span></dt><dd>0.0</dd><dt><span>vmax :</span></dt><dd>0.0</dd></dl></div><div class='xr-var-data'><pre>[9979200 values with dtype=float32]</pre></div></li><li class='xr-var-item'><div class='xr-var-name'><span>Evap_tavg</span></div><div class='xr-var-dims'>(time, ensemble, north_south, east_west)</div><div class='xr-var-dtype'>float32</div><div class='xr-var-preview xr-preview'>...</div><input id='attrs-4451d85e-ebb1-4c04-9ac0-22bc99b1c91c' class='xr-var-attrs-in' type='checkbox' ><label for='attrs-4451d85e-ebb1-4c04-9ac0-22bc99b1c91c' title='Show/Hide attributes'><svg class='icon xr-icon-file-text2'><use xlink:href='#icon-file-text2'></use></svg></label><input id='data-78b5d294-f268-465b-9d9b-c1cb7a3cae7d' class='xr-var-data-in' type='checkbox'><label for='data-78b5d294-f268-465b-9d9b-c1cb7a3cae7d' title='Show/Hide data repr'><svg class='icon xr-icon-database'><use xlink:href='#icon-database'></use></svg></label><div class='xr-var-attrs'><dl class='xr-attrs'><dt><span>units :</span></dt><dd>kg m-2 s-1</dd><dt><span>standard_name :</span></dt><dd>total_evapotranspiration</dd><dt><span>long_name :</span></dt><dd>total evapotranspiration</dd><dt><span>vmin :</span></dt><dd>0.0</dd><dt><span>vmax :</span></dt><dd>0.0</dd></dl></div><div class='xr-var-data'><pre>[9979200 values with dtype=float32]</pre></div></li><li class='xr-var-item'><div class='xr-var-name'><span>Qs_tavg</span></div><div class='xr-var-dims'>(time, ensemble, north_south, east_west)</div><div class='xr-var-dtype'>float32</div><div class='xr-var-preview xr-preview'>...</div><input id='attrs-6c03b7ab-63e7-4800-9ddd-9aad8c5a6e7d' class='xr-var-attrs-in' type='checkbox' ><label for='attrs-6c03b7ab-63e7-4800-9ddd-9aad8c5a6e7d' title='Show/Hide attributes'><svg class='icon xr-icon-file-text2'><use xlink:href='#icon-file-text2'></use></svg></label><input id='data-471e13fe-3733-4156-a419-df3e05dba444' class='xr-var-data-in' type='checkbox'><label for='data-471e13fe-3733-4156-a419-df3e05dba444' title='Show/Hide data repr'><svg class='icon xr-icon-database'><use xlink:href='#icon-database'></use></svg></label><div class='xr-var-attrs'><dl class='xr-attrs'><dt><span>units :</span></dt><dd>kg m-2 s-1</dd><dt><span>standard_name :</span></dt><dd>surface_runoff_amount</dd><dt><span>long_name :</span></dt><dd>surface runoff</dd><dt><span>vmin :</span></dt><dd>0.0</dd><dt><span>vmax :</span></dt><dd>0.0</dd></dl></div><div class='xr-var-data'><pre>[9979200 values with dtype=float32]</pre></div></li><li class='xr-var-item'><div class='xr-var-name'><span>Qsb_tavg</span></div><div class='xr-var-dims'>(time, ensemble, north_south, east_west)</div><div class='xr-var-dtype'>float32</div><div class='xr-var-preview xr-preview'>...</div><input id='attrs-49f9f39d-1134-4b44-a461-92f7ba386675' class='xr-var-attrs-in' type='checkbox' ><label for='attrs-49f9f39d-1134-4b44-a461-92f7ba386675' title='Show/Hide attributes'><svg class='icon xr-icon-file-text2'><use xlink:href='#icon-file-text2'></use></svg></label><input id='data-46b7ba81-f6f8-4349-ac50-def88cba4a83' class='xr-var-data-in' type='checkbox'><label for='data-46b7ba81-f6f8-4349-ac50-def88cba4a83' title='Show/Hide data repr'><svg class='icon xr-icon-database'><use xlink:href='#icon-database'></use></svg></label><div class='xr-var-attrs'><dl class='xr-attrs'><dt><span>units :</span></dt><dd>kg m-2 s-1</dd><dt><span>standard_name :</span></dt><dd>subsurface_runoff_amount</dd><dt><span>long_name :</span></dt><dd>subsurface runoff amount</dd><dt><span>vmin :</span></dt><dd>0.0</dd><dt><span>vmax :</span></dt><dd>0.0</dd></dl></div><div class='xr-var-data'><pre>[9979200 values with dtype=float32]</pre></div></li><li class='xr-var-item'><div class='xr-var-name'><span>Qsm_tavg</span></div><div class='xr-var-dims'>(time, ensemble, north_south, east_west)</div><div class='xr-var-dtype'>float32</div><div class='xr-var-preview xr-preview'>...</div><input id='attrs-6af7ff98-44f0-41dd-a832-ade09dba0bff' class='xr-var-attrs-in' type='checkbox' ><label for='attrs-6af7ff98-44f0-41dd-a832-ade09dba0bff' title='Show/Hide attributes'><svg class='icon xr-icon-file-text2'><use xlink:href='#icon-file-text2'></use></svg></label><input id='data-962eef87-5d64-49fa-8379-b1ed6c702b43' class='xr-var-data-in' type='checkbox'><label for='data-962eef87-5d64-49fa-8379-b1ed6c702b43' title='Show/Hide data repr'><svg class='icon xr-icon-database'><use xlink:href='#icon-database'></use></svg></label><div class='xr-var-attrs'><dl class='xr-attrs'><dt><span>units :</span></dt><dd>kg m-2 s-1</dd><dt><span>standard_name :</span></dt><dd>snowmelt</dd><dt><span>long_name :</span></dt><dd>snowmelt</dd><dt><span>vmin :</span></dt><dd>0.0</dd><dt><span>vmax :</span></dt><dd>0.0</dd></dl></div><div class='xr-var-data'><pre>[9979200 values with dtype=float32]</pre></div></li><li class='xr-var-item'><div class='xr-var-name'><span>Albedo_inst</span></div><div class='xr-var-dims'>(time, ensemble, north_south, east_west)</div><div class='xr-var-dtype'>float32</div><div class='xr-var-preview xr-preview'>...</div><input id='attrs-3f9138ea-a68a-4ff4-8bc2-82d9d5d5d568' class='xr-var-attrs-in' type='checkbox' ><label for='attrs-3f9138ea-a68a-4ff4-8bc2-82d9d5d5d568' title='Show/Hide attributes'><svg class='icon xr-icon-file-text2'><use xlink:href='#icon-file-text2'></use></svg></label><input id='data-f29c9e82-9754-4e1e-9303-b486f3beb1b9' class='xr-var-data-in' type='checkbox'><label for='data-f29c9e82-9754-4e1e-9303-b486f3beb1b9' title='Show/Hide data repr'><svg class='icon xr-icon-database'><use xlink:href='#icon-database'></use></svg></label><div class='xr-var-attrs'><dl class='xr-attrs'><dt><span>units :</span></dt><dd>-</dd><dt><span>standard_name :</span></dt><dd>surface_albedo</dd><dt><span>long_name :</span></dt><dd>surface albedo</dd><dt><span>vmin :</span></dt><dd>0.0</dd><dt><span>vmax :</span></dt><dd>0.0</dd></dl></div><div class='xr-var-data'><pre>[9979200 values with dtype=float32]</pre></div></li><li class='xr-var-item'><div class='xr-var-name'><span>SWE_inst</span></div><div class='xr-var-dims'>(time, ensemble, north_south, east_west)</div><div class='xr-var-dtype'>float32</div><div class='xr-var-preview xr-preview'>...</div><input id='attrs-4f88fcf5-a0c7-4a63-939b-e15ace0cc219' class='xr-var-attrs-in' type='checkbox' ><label for='attrs-4f88fcf5-a0c7-4a63-939b-e15ace0cc219' title='Show/Hide attributes'><svg class='icon xr-icon-file-text2'><use xlink:href='#icon-file-text2'></use></svg></label><input id='data-8da80ac4-7050-4b4e-b366-cf96b9c1cefa' class='xr-var-data-in' type='checkbox'><label for='data-8da80ac4-7050-4b4e-b366-cf96b9c1cefa' title='Show/Hide data repr'><svg class='icon xr-icon-database'><use xlink:href='#icon-database'></use></svg></label><div class='xr-var-attrs'><dl class='xr-attrs'><dt><span>units :</span></dt><dd>kg m-2</dd><dt><span>standard_name :</span></dt><dd>liquid_water_content_of_surface_snow</dd><dt><span>long_name :</span></dt><dd>snow water equivalent</dd><dt><span>vmin :</span></dt><dd>0.0</dd><dt><span>vmax :</span></dt><dd>0.0</dd></dl></div><div class='xr-var-data'><pre>[9979200 values with dtype=float32]</pre></div></li><li class='xr-var-item'><div class='xr-var-name'><span>SoilMoist_inst</span></div><div class='xr-var-dims'>(time, SoilMoist_profiles, ensemble, north_south, east_west)</div><div class='xr-var-dtype'>float32</div><div class='xr-var-preview xr-preview'>...</div><input id='attrs-eefb7e45-311d-4f9f-80c9-cb1c94097784' class='xr-var-attrs-in' type='checkbox' ><label for='attrs-eefb7e45-311d-4f9f-80c9-cb1c94097784' title='Show/Hide attributes'><svg class='icon xr-icon-file-text2'><use xlink:href='#icon-file-text2'></use></svg></label><input id='data-eead24b2-4351-4921-aa2b-dc8335e6fcf9' class='xr-var-data-in' type='checkbox'><label for='data-eead24b2-4351-4921-aa2b-dc8335e6fcf9' title='Show/Hide data repr'><svg class='icon xr-icon-database'><use xlink:href='#icon-database'></use></svg></label><div class='xr-var-attrs'><dl class='xr-attrs'><dt><span>units :</span></dt><dd>m^3 m-3</dd><dt><span>standard_name :</span></dt><dd>soil_moisture_content</dd><dt><span>long_name :</span></dt><dd>soil moisture content</dd><dt><span>vmin :</span></dt><dd>0.0</dd><dt><span>vmax :</span></dt><dd>0.0</dd></dl></div><div class='xr-var-data'><pre>[39916800 values with dtype=float32]</pre></div></li><li class='xr-var-item'><div class='xr-var-name'><span>SoilTemp_inst</span></div><div class='xr-var-dims'>(time, SoilTemp_profiles, ensemble, north_south, east_west)</div><div class='xr-var-dtype'>float32</div><div class='xr-var-preview xr-preview'>...</div><input id='attrs-afe0698e-5204-433a-8030-339bc7fcaf73' class='xr-var-attrs-in' type='checkbox' ><label for='attrs-afe0698e-5204-433a-8030-339bc7fcaf73' title='Show/Hide attributes'><svg class='icon xr-icon-file-text2'><use xlink:href='#icon-file-text2'></use></svg></label><input id='data-7bc40218-64c3-4db9-8545-e21ee76c0db1' class='xr-var-data-in' type='checkbox'><label for='data-7bc40218-64c3-4db9-8545-e21ee76c0db1' title='Show/Hide data repr'><svg class='icon xr-icon-database'><use xlink:href='#icon-database'></use></svg></label><div class='xr-var-attrs'><dl class='xr-attrs'><dt><span>units :</span></dt><dd>K</dd><dt><span>standard_name :</span></dt><dd>soil_temperature</dd><dt><span>long_name :</span></dt><dd>soil temperature</dd><dt><span>vmin :</span></dt><dd>0.0</dd><dt><span>vmax :</span></dt><dd>0.0</dd></dl></div><div class='xr-var-data'><pre>[39916800 values with dtype=float32]</pre></div></li><li class='xr-var-item'><div class='xr-var-name'><span>PotEvap_tavg</span></div><div class='xr-var-dims'>(time, ensemble, north_south, east_west)</div><div class='xr-var-dtype'>float32</div><div class='xr-var-preview xr-preview'>...</div><input id='attrs-0ae2de40-882e-4717-836a-383c4a2406de' class='xr-var-attrs-in' type='checkbox' ><label for='attrs-0ae2de40-882e-4717-836a-383c4a2406de' title='Show/Hide attributes'><svg class='icon xr-icon-file-text2'><use xlink:href='#icon-file-text2'></use></svg></label><input id='data-2c128913-7396-4e7e-acfa-a3ce41883093' class='xr-var-data-in' type='checkbox'><label for='data-2c128913-7396-4e7e-acfa-a3ce41883093' title='Show/Hide data repr'><svg class='icon xr-icon-database'><use xlink:href='#icon-database'></use></svg></label><div class='xr-var-attrs'><dl class='xr-attrs'><dt><span>units :</span></dt><dd>kg m-2 s-1</dd><dt><span>standard_name :</span></dt><dd>potential_evapotranspiration</dd><dt><span>long_name :</span></dt><dd>potential evapotranspiration</dd><dt><span>vmin :</span></dt><dd>0.0</dd><dt><span>vmax :</span></dt><dd>0.0</dd></dl></div><div class='xr-var-data'><pre>[9979200 values with dtype=float32]</pre></div></li><li class='xr-var-item'><div class='xr-var-name'><span>ECanop_tavg</span></div><div class='xr-var-dims'>(time, ensemble, north_south, east_west)</div><div class='xr-var-dtype'>float32</div><div class='xr-var-preview xr-preview'>...</div><input id='attrs-6b7641d3-a969-4268-a456-08dc23c810fc' class='xr-var-attrs-in' type='checkbox' ><label for='attrs-6b7641d3-a969-4268-a456-08dc23c810fc' title='Show/Hide attributes'><svg class='icon xr-icon-file-text2'><use xlink:href='#icon-file-text2'></use></svg></label><input id='data-2d67f3f8-edba-4199-9588-ce2b861fc2c3' class='xr-var-data-in' type='checkbox'><label for='data-2d67f3f8-edba-4199-9588-ce2b861fc2c3' title='Show/Hide data repr'><svg class='icon xr-icon-database'><use xlink:href='#icon-database'></use></svg></label><div class='xr-var-attrs'><dl class='xr-attrs'><dt><span>units :</span></dt><dd>kg m-2 s-1</dd><dt><span>standard_name :</span></dt><dd>interception_evaporation</dd><dt><span>long_name :</span></dt><dd>interception evaporation</dd><dt><span>vmin :</span></dt><dd>0.0</dd><dt><span>vmax :</span></dt><dd>0.0</dd></dl></div><div class='xr-var-data'><pre>[9979200 values with dtype=float32]</pre></div></li><li class='xr-var-item'><div class='xr-var-name'><span>TVeg_tavg</span></div><div class='xr-var-dims'>(time, ensemble, north_south, east_west)</div><div class='xr-var-dtype'>float32</div><div class='xr-var-preview xr-preview'>...</div><input id='attrs-a574c5ad-4316-4ef9-ba01-b4cbb6bd268a' class='xr-var-attrs-in' type='checkbox' ><label for='attrs-a574c5ad-4316-4ef9-ba01-b4cbb6bd268a' title='Show/Hide attributes'><svg class='icon xr-icon-file-text2'><use xlink:href='#icon-file-text2'></use></svg></label><input id='data-321f5cd9-c4f3-43c9-8357-8adb45ea20cd' class='xr-var-data-in' type='checkbox'><label for='data-321f5cd9-c4f3-43c9-8357-8adb45ea20cd' title='Show/Hide data repr'><svg class='icon xr-icon-database'><use xlink:href='#icon-database'></use></svg></label><div class='xr-var-attrs'><dl class='xr-attrs'><dt><span>units :</span></dt><dd>kg m-2 s-1</dd><dt><span>standard_name :</span></dt><dd>vegetation_transpiration</dd><dt><span>long_name :</span></dt><dd>vegetation transpiration</dd><dt><span>vmin :</span></dt><dd>0.0</dd><dt><span>vmax :</span></dt><dd>0.0</dd></dl></div><div class='xr-var-data'><pre>[9979200 values with dtype=float32]</pre></div></li><li class='xr-var-item'><div class='xr-var-name'><span>ESoil_tavg</span></div><div class='xr-var-dims'>(time, ensemble, north_south, east_west)</div><div class='xr-var-dtype'>float32</div><div class='xr-var-preview xr-preview'>...</div><input id='attrs-1dfddd39-109b-4306-af84-5fd115fb64dc' class='xr-var-attrs-in' type='checkbox' ><label for='attrs-1dfddd39-109b-4306-af84-5fd115fb64dc' title='Show/Hide attributes'><svg class='icon xr-icon-file-text2'><use xlink:href='#icon-file-text2'></use></svg></label><input id='data-8d36a6a8-94f4-4493-9acc-e99757742535' class='xr-var-data-in' type='checkbox'><label for='data-8d36a6a8-94f4-4493-9acc-e99757742535' title='Show/Hide data repr'><svg class='icon xr-icon-database'><use xlink:href='#icon-database'></use></svg></label><div class='xr-var-attrs'><dl class='xr-attrs'><dt><span>units :</span></dt><dd>kg m-2 s-1</dd><dt><span>standard_name :</span></dt><dd>bare_soil_evaporation</dd><dt><span>long_name :</span></dt><dd>bare soil evaporation</dd><dt><span>vmin :</span></dt><dd>0.0</dd><dt><span>vmax :</span></dt><dd>0.0</dd></dl></div><div class='xr-var-data'><pre>[9979200 values with dtype=float32]</pre></div></li><li class='xr-var-item'><div class='xr-var-name'><span>WaterTableD_inst</span></div><div class='xr-var-dims'>(time, ensemble, north_south, east_west)</div><div class='xr-var-dtype'>float32</div><div class='xr-var-preview xr-preview'>...</div><input id='attrs-dbf7fdd9-a0ba-4c6d-85c7-a4ba5f0847a0' class='xr-var-attrs-in' type='checkbox' ><label for='attrs-dbf7fdd9-a0ba-4c6d-85c7-a4ba5f0847a0' title='Show/Hide attributes'><svg class='icon xr-icon-file-text2'><use xlink:href='#icon-file-text2'></use></svg></label><input id='data-6a9beece-cce8-4a13-a71b-93e07bbb501b' class='xr-var-data-in' type='checkbox'><label for='data-6a9beece-cce8-4a13-a71b-93e07bbb501b' title='Show/Hide data repr'><svg class='icon xr-icon-database'><use xlink:href='#icon-database'></use></svg></label><div class='xr-var-attrs'><dl class='xr-attrs'><dt><span>units :</span></dt><dd>m</dd><dt><span>standard_name :</span></dt><dd>water_table_depth</dd><dt><span>long_name :</span></dt><dd>water table depth</dd><dt><span>vmin :</span></dt><dd>0.0</dd><dt><span>vmax :</span></dt><dd>0.0</dd></dl></div><div class='xr-var-data'><pre>[9979200 values with dtype=float32]</pre></div></li><li class='xr-var-item'><div class='xr-var-name'><span>TWS_inst</span></div><div class='xr-var-dims'>(time, ensemble, north_south, east_west)</div><div class='xr-var-dtype'>float32</div><div class='xr-var-preview xr-preview'>...</div><input id='attrs-5c4e074b-22d9-4394-8cae-254994130203' class='xr-var-attrs-in' type='checkbox' ><label for='attrs-5c4e074b-22d9-4394-8cae-254994130203' title='Show/Hide attributes'><svg class='icon xr-icon-file-text2'><use xlink:href='#icon-file-text2'></use></svg></label><input id='data-54e09171-958f-43d9-8ec8-0cce1bf40a63' class='xr-var-data-in' type='checkbox'><label for='data-54e09171-958f-43d9-8ec8-0cce1bf40a63' title='Show/Hide data repr'><svg class='icon xr-icon-database'><use xlink:href='#icon-database'></use></svg></label><div class='xr-var-attrs'><dl class='xr-attrs'><dt><span>units :</span></dt><dd>mm</dd><dt><span>standard_name :</span></dt><dd>terrestrial_water_storage</dd><dt><span>long_name :</span></dt><dd>terrestrial water storage</dd><dt><span>vmin :</span></dt><dd>0.0</dd><dt><span>vmax :</span></dt><dd>0.0</dd></dl></div><div class='xr-var-data'><pre>[9979200 values with dtype=float32]</pre></div></li><li class='xr-var-item'><div class='xr-var-name'><span>GWS_inst</span></div><div class='xr-var-dims'>(time, ensemble, north_south, east_west)</div><div class='xr-var-dtype'>float32</div><div class='xr-var-preview xr-preview'>...</div><input id='attrs-8eda740f-c9a9-4b42-a9b6-fc6c2a194544' class='xr-var-attrs-in' type='checkbox' ><label for='attrs-8eda740f-c9a9-4b42-a9b6-fc6c2a194544' title='Show/Hide attributes'><svg class='icon xr-icon-file-text2'><use xlink:href='#icon-file-text2'></use></svg></label><input id='data-e92b4ca1-6513-4308-9bfd-ac6d5b228617' class='xr-var-data-in' type='checkbox'><label for='data-e92b4ca1-6513-4308-9bfd-ac6d5b228617' title='Show/Hide data repr'><svg class='icon xr-icon-database'><use xlink:href='#icon-database'></use></svg></label><div class='xr-var-attrs'><dl class='xr-attrs'><dt><span>units :</span></dt><dd>mm</dd><dt><span>standard_name :</span></dt><dd>ground_water_storage</dd><dt><span>long_name :</span></dt><dd>ground water storage</dd><dt><span>vmin :</span></dt><dd>0.0</dd><dt><span>vmax :</span></dt><dd>0.0</dd></dl></div><div class='xr-var-data'><pre>[9979200 values with dtype=float32]</pre></div></li><li class='xr-var-item'><div class='xr-var-name'><span>Wind_f_tavg</span></div><div class='xr-var-dims'>(time, ensemble, north_south, east_west)</div><div class='xr-var-dtype'>float32</div><div class='xr-var-preview xr-preview'>...</div><input id='attrs-ac2eb302-d983-4349-854d-852aa9a99f05' class='xr-var-attrs-in' type='checkbox' ><label for='attrs-ac2eb302-d983-4349-854d-852aa9a99f05' title='Show/Hide attributes'><svg class='icon xr-icon-file-text2'><use xlink:href='#icon-file-text2'></use></svg></label><input id='data-b53f02f5-6f4d-43c2-bd88-d7260a443264' class='xr-var-data-in' type='checkbox'><label for='data-b53f02f5-6f4d-43c2-bd88-d7260a443264' title='Show/Hide data repr'><svg class='icon xr-icon-database'><use xlink:href='#icon-database'></use></svg></label><div class='xr-var-attrs'><dl class='xr-attrs'><dt><span>units :</span></dt><dd>m s-1</dd><dt><span>standard_name :</span></dt><dd>wind_speed</dd><dt><span>long_name :</span></dt><dd>wind speed</dd><dt><span>vmin :</span></dt><dd>0.0</dd><dt><span>vmax :</span></dt><dd>0.0</dd></dl></div><div class='xr-var-data'><pre>[9979200 values with dtype=float32]</pre></div></li><li class='xr-var-item'><div class='xr-var-name'><span>Tair_f_tavg</span></div><div class='xr-var-dims'>(time, ensemble, north_south, east_west)</div><div class='xr-var-dtype'>float32</div><div class='xr-var-preview xr-preview'>...</div><input id='attrs-24de8478-5276-4b07-b9c7-6552da5793b1' class='xr-var-attrs-in' type='checkbox' ><label for='attrs-24de8478-5276-4b07-b9c7-6552da5793b1' title='Show/Hide attributes'><svg class='icon xr-icon-file-text2'><use xlink:href='#icon-file-text2'></use></svg></label><input id='data-142ae239-189e-419f-86e2-05a87c311e5e' class='xr-var-data-in' type='checkbox'><label for='data-142ae239-189e-419f-86e2-05a87c311e5e' title='Show/Hide data repr'><svg class='icon xr-icon-database'><use xlink:href='#icon-database'></use></svg></label><div class='xr-var-attrs'><dl class='xr-attrs'><dt><span>units :</span></dt><dd>K</dd><dt><span>standard_name :</span></dt><dd>air_temperature</dd><dt><span>long_name :</span></dt><dd>air temperature</dd><dt><span>vmin :</span></dt><dd>0.0</dd><dt><span>vmax :</span></dt><dd>0.0</dd></dl></div><div class='xr-var-data'><pre>[9979200 values with dtype=float32]</pre></div></li><li class='xr-var-item'><div class='xr-var-name'><span>Qair_f_tavg</span></div><div class='xr-var-dims'>(time, ensemble, north_south, east_west)</div><div class='xr-var-dtype'>float32</div><div class='xr-var-preview xr-preview'>...</div><input id='attrs-1f1f7d39-82f1-4ede-967a-15cd3da54a27' class='xr-var-attrs-in' type='checkbox' ><label for='attrs-1f1f7d39-82f1-4ede-967a-15cd3da54a27' title='Show/Hide attributes'><svg class='icon xr-icon-file-text2'><use xlink:href='#icon-file-text2'></use></svg></label><input id='data-2595bd15-9bfb-46b4-bca9-3835959e9e0b' class='xr-var-data-in' type='checkbox'><label for='data-2595bd15-9bfb-46b4-bca9-3835959e9e0b' title='Show/Hide data repr'><svg class='icon xr-icon-database'><use xlink:href='#icon-database'></use></svg></label><div class='xr-var-attrs'><dl class='xr-attrs'><dt><span>units :</span></dt><dd>kg kg-1</dd><dt><span>standard_name :</span></dt><dd>specific_humidity</dd><dt><span>long_name :</span></dt><dd>specific humidity</dd><dt><span>vmin :</span></dt><dd>0.0</dd><dt><span>vmax :</span></dt><dd>0.0</dd></dl></div><div class='xr-var-data'><pre>[9979200 values with dtype=float32]</pre></div></li><li class='xr-var-item'><div class='xr-var-name'><span>Psurf_f_tavg</span></div><div class='xr-var-dims'>(time, ensemble, north_south, east_west)</div><div class='xr-var-dtype'>float32</div><div class='xr-var-preview xr-preview'>...</div><input id='attrs-f20026c2-611f-401b-9833-50433f1bb4e4' class='xr-var-attrs-in' type='checkbox' ><label for='attrs-f20026c2-611f-401b-9833-50433f1bb4e4' title='Show/Hide attributes'><svg class='icon xr-icon-file-text2'><use xlink:href='#icon-file-text2'></use></svg></label><input id='data-2b354aed-23d7-43d6-bce5-99f153f01b7d' class='xr-var-data-in' type='checkbox'><label for='data-2b354aed-23d7-43d6-bce5-99f153f01b7d' title='Show/Hide data repr'><svg class='icon xr-icon-database'><use xlink:href='#icon-database'></use></svg></label><div class='xr-var-attrs'><dl class='xr-attrs'><dt><span>units :</span></dt><dd>Pa</dd><dt><span>standard_name :</span></dt><dd>surface_air_pressure</dd><dt><span>long_name :</span></dt><dd>surface pressure</dd><dt><span>vmin :</span></dt><dd>0.0</dd><dt><span>vmax :</span></dt><dd>0.0</dd></dl></div><div class='xr-var-data'><pre>[9979200 values with dtype=float32]</pre></div></li><li class='xr-var-item'><div class='xr-var-name'><span>SWdown_f_tavg</span></div><div class='xr-var-dims'>(time, ensemble, north_south, east_west)</div><div class='xr-var-dtype'>float32</div><div class='xr-var-preview xr-preview'>...</div><input id='attrs-43742afc-8c94-4b3a-9e43-b496dcd24e79' class='xr-var-attrs-in' type='checkbox' ><label for='attrs-43742afc-8c94-4b3a-9e43-b496dcd24e79' title='Show/Hide attributes'><svg class='icon xr-icon-file-text2'><use xlink:href='#icon-file-text2'></use></svg></label><input id='data-69b29b0d-7459-4d22-a3f9-d6f42553d0f1' class='xr-var-data-in' type='checkbox'><label for='data-69b29b0d-7459-4d22-a3f9-d6f42553d0f1' title='Show/Hide data repr'><svg class='icon xr-icon-database'><use xlink:href='#icon-database'></use></svg></label><div class='xr-var-attrs'><dl class='xr-attrs'><dt><span>units :</span></dt><dd>W m-2</dd><dt><span>standard_name :</span></dt><dd>surface_downwelling_shortwave_flux_in_air</dd><dt><span>long_name :</span></dt><dd>surface downward shortwave radiation</dd><dt><span>vmin :</span></dt><dd>0.0</dd><dt><span>vmax :</span></dt><dd>0.0</dd></dl></div><div class='xr-var-data'><pre>[9979200 values with dtype=float32]</pre></div></li><li class='xr-var-item'><div class='xr-var-name'><span>LWdown_f_tavg</span></div><div class='xr-var-dims'>(time, ensemble, north_south, east_west)</div><div class='xr-var-dtype'>float32</div><div class='xr-var-preview xr-preview'>...</div><input id='attrs-5a3425ea-a2b8-4d38-be1a-2364b97df51d' class='xr-var-attrs-in' type='checkbox' ><label for='attrs-5a3425ea-a2b8-4d38-be1a-2364b97df51d' title='Show/Hide attributes'><svg class='icon xr-icon-file-text2'><use xlink:href='#icon-file-text2'></use></svg></label><input id='data-da37a191-fc1e-4a43-a153-19d7dee1a419' class='xr-var-data-in' type='checkbox'><label for='data-da37a191-fc1e-4a43-a153-19d7dee1a419' title='Show/Hide data repr'><svg class='icon xr-icon-database'><use xlink:href='#icon-database'></use></svg></label><div class='xr-var-attrs'><dl class='xr-attrs'><dt><span>units :</span></dt><dd>W m-2</dd><dt><span>standard_name :</span></dt><dd>surface_downwelling_longwave_flux_in_air</dd><dt><span>long_name :</span></dt><dd>surface downward longwave radiation</dd><dt><span>vmin :</span></dt><dd>0.0</dd><dt><span>vmax :</span></dt><dd>0.0</dd></dl></div><div class='xr-var-data'><pre>[9979200 values with dtype=float32]</pre></div></li><li class='xr-var-item'><div class='xr-var-name'><span>LAI_inst</span></div><div class='xr-var-dims'>(time, ensemble, north_south, east_west)</div><div class='xr-var-dtype'>float32</div><div class='xr-var-preview xr-preview'>...</div><input id='attrs-62717200-a303-4470-a286-ccfa7c2d4454' class='xr-var-attrs-in' type='checkbox' ><label for='attrs-62717200-a303-4470-a286-ccfa7c2d4454' title='Show/Hide attributes'><svg class='icon xr-icon-file-text2'><use xlink:href='#icon-file-text2'></use></svg></label><input id='data-3b604db9-b6cb-4ece-ac23-025e3315cedf' class='xr-var-data-in' type='checkbox'><label for='data-3b604db9-b6cb-4ece-ac23-025e3315cedf' title='Show/Hide data repr'><svg class='icon xr-icon-database'><use xlink:href='#icon-database'></use></svg></label><div class='xr-var-attrs'><dl class='xr-attrs'><dt><span>units :</span></dt><dd>-</dd><dt><span>standard_name :</span></dt><dd>leaf_area_index</dd><dt><span>long_name :</span></dt><dd>leaf area index</dd><dt><span>vmin :</span></dt><dd>0.0</dd><dt><span>vmax :</span></dt><dd>0.0</dd></dl></div><div class='xr-var-data'><pre>[9979200 values with dtype=float32]</pre></div></li><li class='xr-var-item'><div class='xr-var-name'><span>Greenness_inst</span></div><div class='xr-var-dims'>(time, ensemble, north_south, east_west)</div><div class='xr-var-dtype'>float32</div><div class='xr-var-preview xr-preview'>...</div><input id='attrs-59c67767-9e67-43af-8a7a-d44f15e4c425' class='xr-var-attrs-in' type='checkbox' ><label for='attrs-59c67767-9e67-43af-8a7a-d44f15e4c425' title='Show/Hide attributes'><svg class='icon xr-icon-file-text2'><use xlink:href='#icon-file-text2'></use></svg></label><input id='data-80c32177-8930-432e-83fe-32df9102ced1' class='xr-var-data-in' type='checkbox'><label for='data-80c32177-8930-432e-83fe-32df9102ced1' title='Show/Hide data repr'><svg class='icon xr-icon-database'><use xlink:href='#icon-database'></use></svg></label><div class='xr-var-attrs'><dl class='xr-attrs'><dt><span>units :</span></dt><dd>-</dd><dt><span>standard_name :</span></dt><dd>green_vegetation_fraction</dd><dt><span>long_name :</span></dt><dd>green vegetation fraction</dd><dt><span>vmin :</span></dt><dd>0.0</dd><dt><span>vmax :</span></dt><dd>0.0</dd></dl></div><div class='xr-var-data'><pre>[9979200 values with dtype=float32]</pre></div></li></ul></div></li><li class='xr-section-item'><input id='section-a22b6711-c71c-4d12-9bff-c32fc225fb3f' class='xr-section-summary-in' type='checkbox'  ><label for='section-a22b6711-c71c-4d12-9bff-c32fc225fb3f' class='xr-section-summary' >Indexes: <span>(4)</span></label><div class='xr-section-inline-details'></div><div class='xr-section-details'><ul class='xr-var-list'><li class='xr-var-item'><div class='xr-index-name'><div>time</div></div><div class='xr-index-preview'>PandasIndex</div><div></div><input id='index-cb662f02-9bf3-4ca2-b8cf-5de76614ef5a' class='xr-index-data-in' type='checkbox'/><label for='index-cb662f02-9bf3-4ca2-b8cf-5de76614ef5a' title='Show/Hide index repr'><svg class='icon xr-icon-database'><use xlink:href='#icon-database'></use></svg></label><div class='xr-index-data'><pre>PandasIndex(DatetimeIndex([&#x27;2024-06-02&#x27;, &#x27;2024-06-03&#x27;, &#x27;2024-06-04&#x27;, &#x27;2024-06-05&#x27;], dtype=&#x27;datetime64[ns]&#x27;, name=&#x27;time&#x27;, freq=None))</pre></div></li><li class='xr-var-item'><div class='xr-index-name'><div>ensemble</div></div><div class='xr-index-preview'>PandasIndex</div><div></div><input id='index-7ed027df-2389-4bec-af49-539ec3bcad08' class='xr-index-data-in' type='checkbox'/><label for='index-7ed027df-2389-4bec-af49-539ec3bcad08' title='Show/Hide index repr'><svg class='icon xr-icon-database'><use xlink:href='#icon-database'></use></svg></label><div class='xr-index-data'><pre>PandasIndex(Index([1.0, 2.0, 3.0, 4.0, 5.0, 6.0, 7.0], dtype=&#x27;float32&#x27;, name=&#x27;ensemble&#x27;))</pre></div></li><li class='xr-var-item'><div class='xr-index-name'><div>north_south</div></div><div class='xr-index-preview'>PandasIndex</div><div></div><input id='index-81bc1c19-78e3-4a2d-a79b-50062772a303' class='xr-index-data-in' type='checkbox'/><label for='index-81bc1c19-78e3-4a2d-a79b-50062772a303' title='Show/Hide index repr'><svg class='icon xr-icon-database'><use xlink:href='#icon-database'></use></svg></label><div class='xr-index-data'><pre>PandasIndex(Index([              -21.0,  -20.94990723562152, -20.899814471243044,\n",
       "       -20.849721706864564, -20.799628942486084, -20.749536178107608,\n",
       "       -20.699443413729128, -20.649350649350648,  -20.59925788497217,\n",
       "       -20.549165120593692,\n",
       "       ...\n",
       "         5.549165120593692,   5.599257884972172,   5.649350649350648,\n",
       "         5.699443413729128,   5.749536178107608,   5.799628942486084,\n",
       "         5.849721706864564,   5.899814471243044,    5.94990723562152,\n",
       "                       6.0],\n",
       "      dtype=&#x27;float64&#x27;, name=&#x27;north_south&#x27;, length=540))</pre></div></li><li class='xr-var-item'><div class='xr-index-name'><div>east_west</div></div><div class='xr-index-preview'>PandasIndex</div><div></div><input id='index-8e6359f1-cbfe-41cd-a879-5947a7157f55' class='xr-index-data-in' type='checkbox'/><label for='index-8e6359f1-cbfe-41cd-a879-5947a7157f55' title='Show/Hide index repr'><svg class='icon xr-icon-database'><use xlink:href='#icon-database'></use></svg></label><div class='xr-index-data'><pre>PandasIndex(Index([              -82.0,  -81.94992412746586,  -81.89984825493171,\n",
       "        -81.84977238239757,  -81.79969650986342,  -81.74962063732929,\n",
       "        -81.69954476479515,    -81.649468892261,  -81.59939301972686,\n",
       "        -81.54931714719271,\n",
       "       ...\n",
       "        -49.45068285280728,  -49.40060698027314,    -49.350531107739,\n",
       "        -49.30045523520486, -49.250379362670714,  -49.20030349013657,\n",
       "       -49.150227617602425,  -49.10015174506829, -49.050075872534144,\n",
       "                     -49.0],\n",
       "      dtype=&#x27;float64&#x27;, name=&#x27;east_west&#x27;, length=660))</pre></div></li></ul></div></li><li class='xr-section-item'><input id='section-1a424ca3-7bfb-4c75-99fc-57a36b77d06c' class='xr-section-summary-in' type='checkbox'  ><label for='section-1a424ca3-7bfb-4c75-99fc-57a36b77d06c' class='xr-section-summary' >Attributes: <span>(15)</span></label><div class='xr-section-inline-details'></div><div class='xr-section-details'><dl class='xr-attrs'><dt><span>missing_value :</span></dt><dd>-9999.0</dd><dt><span>NUM_SOIL_LAYERS :</span></dt><dd>4</dd><dt><span>SOIL_LAYER_THICKNESSES :</span></dt><dd>[ 10.        30.000002  60.000004 100.      ]</dd><dt><span>title :</span></dt><dd>LIS land surface model output</dd><dt><span>institution :</span></dt><dd>NASA GSFC</dd><dt><span>source :</span></dt><dd></dd><dt><span>history :</span></dt><dd>created on date: 2024-07-19T16:14:29.210</dd><dt><span>references :</span></dt><dd>Kumar_etal_EMS_2006, Peters-Lidard_etal_ISSE_2007</dd><dt><span>conventions :</span></dt><dd>CF-1.6</dd><dt><span>comment :</span></dt><dd>website: http://lis.gsfc.nasa.gov/</dd><dt><span>MAP_PROJECTION :</span></dt><dd>EQUIDISTANT CYLINDRICAL</dd><dt><span>SOUTH_WEST_CORNER_LAT :</span></dt><dd>-20.975</dd><dt><span>SOUTH_WEST_CORNER_LON :</span></dt><dd>-81.975</dd><dt><span>DX :</span></dt><dd>0.05</dd><dt><span>DY :</span></dt><dd>0.05</dd></dl></div></li></ul></div></div>"
      ],
      "text/plain": [
       "<xarray.Dataset>\n",
       "Dimensions:           (time: 4, north_south: 540, east_west: 660, ensemble: 7,\n",
       "                       SoilMoist_profiles: 4, SoilTemp_profiles: 4)\n",
       "Coordinates:\n",
       "  * time              (time) datetime64[ns] 2024-06-02 2024-06-03 ... 2024-06-05\n",
       "  * ensemble          (ensemble) float32 1.0 2.0 3.0 4.0 5.0 6.0 7.0\n",
       "  * north_south       (north_south) float64 -21.0 -20.95 -20.9 ... 5.9 5.95 6.0\n",
       "  * east_west         (east_west) float64 -82.0 -81.95 -81.9 ... -49.05 -49.0\n",
       "Dimensions without coordinates: SoilMoist_profiles, SoilTemp_profiles\n",
       "Data variables: (12/32)\n",
       "    lat               (time, north_south) float32 ...\n",
       "    lon               (time, east_west) float32 ...\n",
       "    Swnet_tavg        (time, ensemble, north_south, east_west) float32 ...\n",
       "    Lwnet_tavg        (time, ensemble, north_south, east_west) float32 ...\n",
       "    Qle_tavg          (time, ensemble, north_south, east_west) float32 ...\n",
       "    Qh_tavg           (time, ensemble, north_south, east_west) float32 ...\n",
       "    ...                ...\n",
       "    Qair_f_tavg       (time, ensemble, north_south, east_west) float32 ...\n",
       "    Psurf_f_tavg      (time, ensemble, north_south, east_west) float32 ...\n",
       "    SWdown_f_tavg     (time, ensemble, north_south, east_west) float32 ...\n",
       "    LWdown_f_tavg     (time, ensemble, north_south, east_west) float32 ...\n",
       "    LAI_inst          (time, ensemble, north_south, east_west) float32 ...\n",
       "    Greenness_inst    (time, ensemble, north_south, east_west) float32 ...\n",
       "Attributes: (12/15)\n",
       "    missing_value:           -9999.0\n",
       "    NUM_SOIL_LAYERS:         4\n",
       "    SOIL_LAYER_THICKNESSES:  [ 10.        30.000002  60.000004 100.      ]\n",
       "    title:                   LIS land surface model output\n",
       "    institution:             NASA GSFC\n",
       "    source:                  \n",
       "    ...                      ...\n",
       "    comment:                 website: http://lis.gsfc.nasa.gov/\n",
       "    MAP_PROJECTION:          EQUIDISTANT CYLINDRICAL\n",
       "    SOUTH_WEST_CORNER_LAT:   -20.975\n",
       "    SOUTH_WEST_CORNER_LON:   -81.975\n",
       "    DX:                      0.05\n",
       "    DY:                      0.05"
      ]
     },
     "execution_count": 25,
     "metadata": {},
     "output_type": "execute_result"
    }
   ],
   "source": [
    "# Define shape file location\n",
    "# shp_location = r\"C:\\Users\\Kris\\Documents\\amazonforcast\\gisfiles\\hydrobasins shape\\hybas_sa_lev05_areaofstudy.shp\"\n",
    "\n",
    "# Define shapefile using a remote geojson file,\n",
    "hydrobasins_lev05_url = \"https://raw.githubusercontent.com/blackteacatsu/spring_2024_envs_research_amazon_ldas/main/resources/hybas_sa_lev05_areaofstudy.geojson\"\n",
    "\n",
    "# Define netCDF file location\n",
    "ds_location = r\"C:\\Users\\Kris\\Documents\\amazonforcast\\data\\prakrut\\output\\LIS_HIST_Forecast_June_02_to_05.nc\"\n",
    "\n",
    "# .shp file loader\n",
    "hybas_sa_lev05 = gpd.read_file(hydrobasins_lev05_url)\n",
    "\n",
    "# netcdf file loader\n",
    "ds = xr.open_dataset(ds_location)\n",
    "\n",
    "# Reproject current crs of the NectCDF file to epsg 4326\n",
    "print(f\"East-West range of the NetCDF is: {ds.east_west.min().item()} to {ds.east_west.max().item()} \\n\")\n",
    "print(f\"North-South range of the NetCDF is: {ds.north_south.min().item()} to {ds.north_south.max().item()} \\n\")\n",
    "\n",
    "print(f\"This line print the bounds of the regions inside the shapefile: {hybas_sa_lev05.total_bounds} \\n\")  # This will print the bounds of the regions in your GeoDataFrame\n",
    "\n",
    "# Print current CRS of the GeoDataFrame\n",
    "print(f\"Here is the original CRS of the shapefile: {hybas_sa_lev05.crs}\\n\")\n",
    "\n",
    "# Reproject to WGS84 (latitude and longitude)\n",
    "# hybas_sa_lev05 = hybas_sa_lev05.to_crs(epsg=4326)\n",
    "\n",
    "# Print new CRS to confirm\n",
    "# print(f\"Reprojected CRS: {hybas_sa_lev05.crs}\")\n",
    "\n",
    "# Check the bounds again after reprojection\n",
    "# print(hybas_sa_lev05.total_bounds)\n",
    "\n",
    "ds # get info about netcdf file\n"
   ]
  },
  {
   "cell_type": "code",
   "execution_count": 19,
   "metadata": {},
   "outputs": [
    {
     "data": {
      "text/html": [
       "<div><svg style=\"position: absolute; width: 0; height: 0; overflow: hidden\">\n",
       "<defs>\n",
       "<symbol id=\"icon-database\" viewBox=\"0 0 32 32\">\n",
       "<path d=\"M16 0c-8.837 0-16 2.239-16 5v4c0 2.761 7.163 5 16 5s16-2.239 16-5v-4c0-2.761-7.163-5-16-5z\"></path>\n",
       "<path d=\"M16 17c-8.837 0-16-2.239-16-5v6c0 2.761 7.163 5 16 5s16-2.239 16-5v-6c0 2.761-7.163 5-16 5z\"></path>\n",
       "<path d=\"M16 26c-8.837 0-16-2.239-16-5v6c0 2.761 7.163 5 16 5s16-2.239 16-5v-6c0 2.761-7.163 5-16 5z\"></path>\n",
       "</symbol>\n",
       "<symbol id=\"icon-file-text2\" viewBox=\"0 0 32 32\">\n",
       "<path d=\"M28.681 7.159c-0.694-0.947-1.662-2.053-2.724-3.116s-2.169-2.030-3.116-2.724c-1.612-1.182-2.393-1.319-2.841-1.319h-15.5c-1.378 0-2.5 1.121-2.5 2.5v27c0 1.378 1.122 2.5 2.5 2.5h23c1.378 0 2.5-1.122 2.5-2.5v-19.5c0-0.448-0.137-1.23-1.319-2.841zM24.543 5.457c0.959 0.959 1.712 1.825 2.268 2.543h-4.811v-4.811c0.718 0.556 1.584 1.309 2.543 2.268zM28 29.5c0 0.271-0.229 0.5-0.5 0.5h-23c-0.271 0-0.5-0.229-0.5-0.5v-27c0-0.271 0.229-0.5 0.5-0.5 0 0 15.499-0 15.5 0v7c0 0.552 0.448 1 1 1h7v19.5z\"></path>\n",
       "<path d=\"M23 26h-14c-0.552 0-1-0.448-1-1s0.448-1 1-1h14c0.552 0 1 0.448 1 1s-0.448 1-1 1z\"></path>\n",
       "<path d=\"M23 22h-14c-0.552 0-1-0.448-1-1s0.448-1 1-1h14c0.552 0 1 0.448 1 1s-0.448 1-1 1z\"></path>\n",
       "<path d=\"M23 18h-14c-0.552 0-1-0.448-1-1s0.448-1 1-1h14c0.552 0 1 0.448 1 1s-0.448 1-1 1z\"></path>\n",
       "</symbol>\n",
       "</defs>\n",
       "</svg>\n",
       "<style>/* CSS stylesheet for displaying xarray objects in jupyterlab.\n",
       " *\n",
       " */\n",
       "\n",
       ":root {\n",
       "  --xr-font-color0: var(--jp-content-font-color0, rgba(0, 0, 0, 1));\n",
       "  --xr-font-color2: var(--jp-content-font-color2, rgba(0, 0, 0, 0.54));\n",
       "  --xr-font-color3: var(--jp-content-font-color3, rgba(0, 0, 0, 0.38));\n",
       "  --xr-border-color: var(--jp-border-color2, #e0e0e0);\n",
       "  --xr-disabled-color: var(--jp-layout-color3, #bdbdbd);\n",
       "  --xr-background-color: var(--jp-layout-color0, white);\n",
       "  --xr-background-color-row-even: var(--jp-layout-color1, white);\n",
       "  --xr-background-color-row-odd: var(--jp-layout-color2, #eeeeee);\n",
       "}\n",
       "\n",
       "html[theme=dark],\n",
       "body[data-theme=dark],\n",
       "body.vscode-dark {\n",
       "  --xr-font-color0: rgba(255, 255, 255, 1);\n",
       "  --xr-font-color2: rgba(255, 255, 255, 0.54);\n",
       "  --xr-font-color3: rgba(255, 255, 255, 0.38);\n",
       "  --xr-border-color: #1F1F1F;\n",
       "  --xr-disabled-color: #515151;\n",
       "  --xr-background-color: #111111;\n",
       "  --xr-background-color-row-even: #111111;\n",
       "  --xr-background-color-row-odd: #313131;\n",
       "}\n",
       "\n",
       ".xr-wrap {\n",
       "  display: block !important;\n",
       "  min-width: 300px;\n",
       "  max-width: 700px;\n",
       "}\n",
       "\n",
       ".xr-text-repr-fallback {\n",
       "  /* fallback to plain text repr when CSS is not injected (untrusted notebook) */\n",
       "  display: none;\n",
       "}\n",
       "\n",
       ".xr-header {\n",
       "  padding-top: 6px;\n",
       "  padding-bottom: 6px;\n",
       "  margin-bottom: 4px;\n",
       "  border-bottom: solid 1px var(--xr-border-color);\n",
       "}\n",
       "\n",
       ".xr-header > div,\n",
       ".xr-header > ul {\n",
       "  display: inline;\n",
       "  margin-top: 0;\n",
       "  margin-bottom: 0;\n",
       "}\n",
       "\n",
       ".xr-obj-type,\n",
       ".xr-array-name {\n",
       "  margin-left: 2px;\n",
       "  margin-right: 10px;\n",
       "}\n",
       "\n",
       ".xr-obj-type {\n",
       "  color: var(--xr-font-color2);\n",
       "}\n",
       "\n",
       ".xr-sections {\n",
       "  padding-left: 0 !important;\n",
       "  display: grid;\n",
       "  grid-template-columns: 150px auto auto 1fr 20px 20px;\n",
       "}\n",
       "\n",
       ".xr-section-item {\n",
       "  display: contents;\n",
       "}\n",
       "\n",
       ".xr-section-item input {\n",
       "  display: none;\n",
       "}\n",
       "\n",
       ".xr-section-item input + label {\n",
       "  color: var(--xr-disabled-color);\n",
       "}\n",
       "\n",
       ".xr-section-item input:enabled + label {\n",
       "  cursor: pointer;\n",
       "  color: var(--xr-font-color2);\n",
       "}\n",
       "\n",
       ".xr-section-item input:enabled + label:hover {\n",
       "  color: var(--xr-font-color0);\n",
       "}\n",
       "\n",
       ".xr-section-summary {\n",
       "  grid-column: 1;\n",
       "  color: var(--xr-font-color2);\n",
       "  font-weight: 500;\n",
       "}\n",
       "\n",
       ".xr-section-summary > span {\n",
       "  display: inline-block;\n",
       "  padding-left: 0.5em;\n",
       "}\n",
       "\n",
       ".xr-section-summary-in:disabled + label {\n",
       "  color: var(--xr-font-color2);\n",
       "}\n",
       "\n",
       ".xr-section-summary-in + label:before {\n",
       "  display: inline-block;\n",
       "  content: '►';\n",
       "  font-size: 11px;\n",
       "  width: 15px;\n",
       "  text-align: center;\n",
       "}\n",
       "\n",
       ".xr-section-summary-in:disabled + label:before {\n",
       "  color: var(--xr-disabled-color);\n",
       "}\n",
       "\n",
       ".xr-section-summary-in:checked + label:before {\n",
       "  content: '▼';\n",
       "}\n",
       "\n",
       ".xr-section-summary-in:checked + label > span {\n",
       "  display: none;\n",
       "}\n",
       "\n",
       ".xr-section-summary,\n",
       ".xr-section-inline-details {\n",
       "  padding-top: 4px;\n",
       "  padding-bottom: 4px;\n",
       "}\n",
       "\n",
       ".xr-section-inline-details {\n",
       "  grid-column: 2 / -1;\n",
       "}\n",
       "\n",
       ".xr-section-details {\n",
       "  display: none;\n",
       "  grid-column: 1 / -1;\n",
       "  margin-bottom: 5px;\n",
       "}\n",
       "\n",
       ".xr-section-summary-in:checked ~ .xr-section-details {\n",
       "  display: contents;\n",
       "}\n",
       "\n",
       ".xr-array-wrap {\n",
       "  grid-column: 1 / -1;\n",
       "  display: grid;\n",
       "  grid-template-columns: 20px auto;\n",
       "}\n",
       "\n",
       ".xr-array-wrap > label {\n",
       "  grid-column: 1;\n",
       "  vertical-align: top;\n",
       "}\n",
       "\n",
       ".xr-preview {\n",
       "  color: var(--xr-font-color3);\n",
       "}\n",
       "\n",
       ".xr-array-preview,\n",
       ".xr-array-data {\n",
       "  padding: 0 5px !important;\n",
       "  grid-column: 2;\n",
       "}\n",
       "\n",
       ".xr-array-data,\n",
       ".xr-array-in:checked ~ .xr-array-preview {\n",
       "  display: none;\n",
       "}\n",
       "\n",
       ".xr-array-in:checked ~ .xr-array-data,\n",
       ".xr-array-preview {\n",
       "  display: inline-block;\n",
       "}\n",
       "\n",
       ".xr-dim-list {\n",
       "  display: inline-block !important;\n",
       "  list-style: none;\n",
       "  padding: 0 !important;\n",
       "  margin: 0;\n",
       "}\n",
       "\n",
       ".xr-dim-list li {\n",
       "  display: inline-block;\n",
       "  padding: 0;\n",
       "  margin: 0;\n",
       "}\n",
       "\n",
       ".xr-dim-list:before {\n",
       "  content: '(';\n",
       "}\n",
       "\n",
       ".xr-dim-list:after {\n",
       "  content: ')';\n",
       "}\n",
       "\n",
       ".xr-dim-list li:not(:last-child):after {\n",
       "  content: ',';\n",
       "  padding-right: 5px;\n",
       "}\n",
       "\n",
       ".xr-has-index {\n",
       "  font-weight: bold;\n",
       "}\n",
       "\n",
       ".xr-var-list,\n",
       ".xr-var-item {\n",
       "  display: contents;\n",
       "}\n",
       "\n",
       ".xr-var-item > div,\n",
       ".xr-var-item label,\n",
       ".xr-var-item > .xr-var-name span {\n",
       "  background-color: var(--xr-background-color-row-even);\n",
       "  margin-bottom: 0;\n",
       "}\n",
       "\n",
       ".xr-var-item > .xr-var-name:hover span {\n",
       "  padding-right: 5px;\n",
       "}\n",
       "\n",
       ".xr-var-list > li:nth-child(odd) > div,\n",
       ".xr-var-list > li:nth-child(odd) > label,\n",
       ".xr-var-list > li:nth-child(odd) > .xr-var-name span {\n",
       "  background-color: var(--xr-background-color-row-odd);\n",
       "}\n",
       "\n",
       ".xr-var-name {\n",
       "  grid-column: 1;\n",
       "}\n",
       "\n",
       ".xr-var-dims {\n",
       "  grid-column: 2;\n",
       "}\n",
       "\n",
       ".xr-var-dtype {\n",
       "  grid-column: 3;\n",
       "  text-align: right;\n",
       "  color: var(--xr-font-color2);\n",
       "}\n",
       "\n",
       ".xr-var-preview {\n",
       "  grid-column: 4;\n",
       "}\n",
       "\n",
       ".xr-index-preview {\n",
       "  grid-column: 2 / 5;\n",
       "  color: var(--xr-font-color2);\n",
       "}\n",
       "\n",
       ".xr-var-name,\n",
       ".xr-var-dims,\n",
       ".xr-var-dtype,\n",
       ".xr-preview,\n",
       ".xr-attrs dt {\n",
       "  white-space: nowrap;\n",
       "  overflow: hidden;\n",
       "  text-overflow: ellipsis;\n",
       "  padding-right: 10px;\n",
       "}\n",
       "\n",
       ".xr-var-name:hover,\n",
       ".xr-var-dims:hover,\n",
       ".xr-var-dtype:hover,\n",
       ".xr-attrs dt:hover {\n",
       "  overflow: visible;\n",
       "  width: auto;\n",
       "  z-index: 1;\n",
       "}\n",
       "\n",
       ".xr-var-attrs,\n",
       ".xr-var-data,\n",
       ".xr-index-data {\n",
       "  display: none;\n",
       "  background-color: var(--xr-background-color) !important;\n",
       "  padding-bottom: 5px !important;\n",
       "}\n",
       "\n",
       ".xr-var-attrs-in:checked ~ .xr-var-attrs,\n",
       ".xr-var-data-in:checked ~ .xr-var-data,\n",
       ".xr-index-data-in:checked ~ .xr-index-data {\n",
       "  display: block;\n",
       "}\n",
       "\n",
       ".xr-var-data > table {\n",
       "  float: right;\n",
       "}\n",
       "\n",
       ".xr-var-name span,\n",
       ".xr-var-data,\n",
       ".xr-index-name div,\n",
       ".xr-index-data,\n",
       ".xr-attrs {\n",
       "  padding-left: 25px !important;\n",
       "}\n",
       "\n",
       ".xr-attrs,\n",
       ".xr-var-attrs,\n",
       ".xr-var-data,\n",
       ".xr-index-data {\n",
       "  grid-column: 1 / -1;\n",
       "}\n",
       "\n",
       "dl.xr-attrs {\n",
       "  padding: 0;\n",
       "  margin: 0;\n",
       "  display: grid;\n",
       "  grid-template-columns: 125px auto;\n",
       "}\n",
       "\n",
       ".xr-attrs dt,\n",
       ".xr-attrs dd {\n",
       "  padding: 0;\n",
       "  margin: 0;\n",
       "  float: left;\n",
       "  padding-right: 10px;\n",
       "  width: auto;\n",
       "}\n",
       "\n",
       ".xr-attrs dt {\n",
       "  font-weight: normal;\n",
       "  grid-column: 1;\n",
       "}\n",
       "\n",
       ".xr-attrs dt:hover span {\n",
       "  display: inline-block;\n",
       "  background: var(--xr-background-color);\n",
       "  padding-right: 10px;\n",
       "}\n",
       "\n",
       ".xr-attrs dd {\n",
       "  grid-column: 2;\n",
       "  white-space: pre-wrap;\n",
       "  word-break: break-all;\n",
       "}\n",
       "\n",
       ".xr-icon-database,\n",
       ".xr-icon-file-text2,\n",
       ".xr-no-icon {\n",
       "  display: inline-block;\n",
       "  vertical-align: middle;\n",
       "  width: 1em;\n",
       "  height: 1.5em !important;\n",
       "  stroke-width: 0;\n",
       "  stroke: currentColor;\n",
       "  fill: currentColor;\n",
       "}\n",
       "</style><pre class='xr-text-repr-fallback'>&lt;xarray.DataArray &#x27;mask&#x27; (region: 1, north_south: 540, east_west: 660)&gt;\n",
       "array([[[False, False, False, ..., False, False, False],\n",
       "        [False, False, False, ..., False, False, False],\n",
       "        [False, False, False, ..., False, False, False],\n",
       "        ...,\n",
       "        [False, False, False, ..., False, False, False],\n",
       "        [False, False, False, ..., False, False, False],\n",
       "        [False, False, False, ..., False, False, False]]])\n",
       "Coordinates:\n",
       "  * north_south  (north_south) float64 -21.0 -20.95 -20.9 ... 5.9 5.95 6.0\n",
       "  * east_west    (east_west) float64 -82.0 -81.95 -81.9 ... -49.1 -49.05 -49.0\n",
       "  * region       (region) int64 90\n",
       "Attributes:\n",
       "    standard_name:  region</pre><div class='xr-wrap' style='display:none'><div class='xr-header'><div class='xr-obj-type'>xarray.DataArray</div><div class='xr-array-name'>'mask'</div><ul class='xr-dim-list'><li><span class='xr-has-index'>region</span>: 1</li><li><span class='xr-has-index'>north_south</span>: 540</li><li><span class='xr-has-index'>east_west</span>: 660</li></ul></div><ul class='xr-sections'><li class='xr-section-item'><div class='xr-array-wrap'><input id='section-c2aadc2c-3f0a-438c-b9b0-8aebce80f42d' class='xr-array-in' type='checkbox' checked><label for='section-c2aadc2c-3f0a-438c-b9b0-8aebce80f42d' title='Show/hide data repr'><svg class='icon xr-icon-database'><use xlink:href='#icon-database'></use></svg></label><div class='xr-array-preview xr-preview'><span>False False False False False False ... False False False False False</span></div><div class='xr-array-data'><pre>array([[[False, False, False, ..., False, False, False],\n",
       "        [False, False, False, ..., False, False, False],\n",
       "        [False, False, False, ..., False, False, False],\n",
       "        ...,\n",
       "        [False, False, False, ..., False, False, False],\n",
       "        [False, False, False, ..., False, False, False],\n",
       "        [False, False, False, ..., False, False, False]]])</pre></div></div></li><li class='xr-section-item'><input id='section-88aeb2af-db05-4511-9b13-f3da67adee2a' class='xr-section-summary-in' type='checkbox'  checked><label for='section-88aeb2af-db05-4511-9b13-f3da67adee2a' class='xr-section-summary' >Coordinates: <span>(3)</span></label><div class='xr-section-inline-details'></div><div class='xr-section-details'><ul class='xr-var-list'><li class='xr-var-item'><div class='xr-var-name'><span class='xr-has-index'>north_south</span></div><div class='xr-var-dims'>(north_south)</div><div class='xr-var-dtype'>float64</div><div class='xr-var-preview xr-preview'>-21.0 -20.95 -20.9 ... 5.9 5.95 6.0</div><input id='attrs-8ff89710-fb90-4f76-ace0-28381fece38e' class='xr-var-attrs-in' type='checkbox' ><label for='attrs-8ff89710-fb90-4f76-ace0-28381fece38e' title='Show/Hide attributes'><svg class='icon xr-icon-file-text2'><use xlink:href='#icon-file-text2'></use></svg></label><input id='data-c5d1982b-f0a2-4c82-a7b3-39b17d4ec76e' class='xr-var-data-in' type='checkbox'><label for='data-c5d1982b-f0a2-4c82-a7b3-39b17d4ec76e' title='Show/Hide data repr'><svg class='icon xr-icon-database'><use xlink:href='#icon-database'></use></svg></label><div class='xr-var-attrs'><dl class='xr-attrs'><dt><span>units :</span></dt><dd>degrees_n</dd></dl></div><div class='xr-var-data'><pre>array([-21.      , -20.949907, -20.899814, ...,   5.899814,   5.949907,\n",
       "         6.      ])</pre></div></li><li class='xr-var-item'><div class='xr-var-name'><span class='xr-has-index'>east_west</span></div><div class='xr-var-dims'>(east_west)</div><div class='xr-var-dtype'>float64</div><div class='xr-var-preview xr-preview'>-82.0 -81.95 -81.9 ... -49.05 -49.0</div><input id='attrs-45ffa2e5-5606-4c41-8976-e188728f9f22' class='xr-var-attrs-in' type='checkbox' ><label for='attrs-45ffa2e5-5606-4c41-8976-e188728f9f22' title='Show/Hide attributes'><svg class='icon xr-icon-file-text2'><use xlink:href='#icon-file-text2'></use></svg></label><input id='data-b41ba4a2-5da0-4ac1-a732-af28a097aa10' class='xr-var-data-in' type='checkbox'><label for='data-b41ba4a2-5da0-4ac1-a732-af28a097aa10' title='Show/Hide data repr'><svg class='icon xr-icon-database'><use xlink:href='#icon-database'></use></svg></label><div class='xr-var-attrs'><dl class='xr-attrs'><dt><span>units :</span></dt><dd>degrees_e</dd></dl></div><div class='xr-var-data'><pre>array([-82.      , -81.949924, -81.899848, ..., -49.100152, -49.050076,\n",
       "       -49.      ])</pre></div></li><li class='xr-var-item'><div class='xr-var-name'><span class='xr-has-index'>region</span></div><div class='xr-var-dims'>(region)</div><div class='xr-var-dtype'>int64</div><div class='xr-var-preview xr-preview'>90</div><input id='attrs-48a23b91-29d5-4547-8b46-bf15b4b634a6' class='xr-var-attrs-in' type='checkbox' disabled><label for='attrs-48a23b91-29d5-4547-8b46-bf15b4b634a6' title='Show/Hide attributes'><svg class='icon xr-icon-file-text2'><use xlink:href='#icon-file-text2'></use></svg></label><input id='data-86c35819-c57e-44c3-8806-c0f3bad882df' class='xr-var-data-in' type='checkbox'><label for='data-86c35819-c57e-44c3-8806-c0f3bad882df' title='Show/Hide data repr'><svg class='icon xr-icon-database'><use xlink:href='#icon-database'></use></svg></label><div class='xr-var-attrs'><dl class='xr-attrs'></dl></div><div class='xr-var-data'><pre>array([90], dtype=int64)</pre></div></li></ul></div></li><li class='xr-section-item'><input id='section-8546a627-ebef-4947-8d93-a4eac0e9bded' class='xr-section-summary-in' type='checkbox'  ><label for='section-8546a627-ebef-4947-8d93-a4eac0e9bded' class='xr-section-summary' >Indexes: <span>(3)</span></label><div class='xr-section-inline-details'></div><div class='xr-section-details'><ul class='xr-var-list'><li class='xr-var-item'><div class='xr-index-name'><div>north_south</div></div><div class='xr-index-preview'>PandasIndex</div><div></div><input id='index-6ecf7383-2812-4ec5-8fe7-2778a4445600' class='xr-index-data-in' type='checkbox'/><label for='index-6ecf7383-2812-4ec5-8fe7-2778a4445600' title='Show/Hide index repr'><svg class='icon xr-icon-database'><use xlink:href='#icon-database'></use></svg></label><div class='xr-index-data'><pre>PandasIndex(Index([              -21.0,  -20.94990723562152, -20.899814471243044,\n",
       "       -20.849721706864564, -20.799628942486084, -20.749536178107608,\n",
       "       -20.699443413729128, -20.649350649350648,  -20.59925788497217,\n",
       "       -20.549165120593692,\n",
       "       ...\n",
       "         5.549165120593692,   5.599257884972172,   5.649350649350648,\n",
       "         5.699443413729128,   5.749536178107608,   5.799628942486084,\n",
       "         5.849721706864564,   5.899814471243044,    5.94990723562152,\n",
       "                       6.0],\n",
       "      dtype=&#x27;float64&#x27;, name=&#x27;north_south&#x27;, length=540))</pre></div></li><li class='xr-var-item'><div class='xr-index-name'><div>east_west</div></div><div class='xr-index-preview'>PandasIndex</div><div></div><input id='index-ef64031b-7bd7-4f9b-ada0-5958efdbc143' class='xr-index-data-in' type='checkbox'/><label for='index-ef64031b-7bd7-4f9b-ada0-5958efdbc143' title='Show/Hide index repr'><svg class='icon xr-icon-database'><use xlink:href='#icon-database'></use></svg></label><div class='xr-index-data'><pre>PandasIndex(Index([              -82.0,  -81.94992412746586,  -81.89984825493171,\n",
       "        -81.84977238239757,  -81.79969650986342,  -81.74962063732929,\n",
       "        -81.69954476479515,    -81.649468892261,  -81.59939301972686,\n",
       "        -81.54931714719271,\n",
       "       ...\n",
       "        -49.45068285280728,  -49.40060698027314,    -49.350531107739,\n",
       "        -49.30045523520486, -49.250379362670714,  -49.20030349013657,\n",
       "       -49.150227617602425,  -49.10015174506829, -49.050075872534144,\n",
       "                     -49.0],\n",
       "      dtype=&#x27;float64&#x27;, name=&#x27;east_west&#x27;, length=660))</pre></div></li><li class='xr-var-item'><div class='xr-index-name'><div>region</div></div><div class='xr-index-preview'>PandasIndex</div><div></div><input id='index-d89ea7fb-6348-47ad-b93f-19e314b8daa0' class='xr-index-data-in' type='checkbox'/><label for='index-d89ea7fb-6348-47ad-b93f-19e314b8daa0' title='Show/Hide index repr'><svg class='icon xr-icon-database'><use xlink:href='#icon-database'></use></svg></label><div class='xr-index-data'><pre>PandasIndex(Index([90], dtype=&#x27;int64&#x27;, name=&#x27;region&#x27;))</pre></div></li></ul></div></li><li class='xr-section-item'><input id='section-11fcd99c-b1f4-43b9-b27b-1477b54d1165' class='xr-section-summary-in' type='checkbox'  checked><label for='section-11fcd99c-b1f4-43b9-b27b-1477b54d1165' class='xr-section-summary' >Attributes: <span>(1)</span></label><div class='xr-section-inline-details'></div><div class='xr-section-details'><dl class='xr-attrs'><dt><span>standard_name :</span></dt><dd>region</dd></dl></div></li></ul></div></div>"
      ],
      "text/plain": [
       "<xarray.DataArray 'mask' (region: 1, north_south: 540, east_west: 660)>\n",
       "array([[[False, False, False, ..., False, False, False],\n",
       "        [False, False, False, ..., False, False, False],\n",
       "        [False, False, False, ..., False, False, False],\n",
       "        ...,\n",
       "        [False, False, False, ..., False, False, False],\n",
       "        [False, False, False, ..., False, False, False],\n",
       "        [False, False, False, ..., False, False, False]]])\n",
       "Coordinates:\n",
       "  * north_south  (north_south) float64 -21.0 -20.95 -20.9 ... 5.9 5.95 6.0\n",
       "  * east_west    (east_west) float64 -82.0 -81.95 -81.9 ... -49.1 -49.05 -49.0\n",
       "  * region       (region) int64 90\n",
       "Attributes:\n",
       "    standard_name:  region"
      ]
     },
     "execution_count": 19,
     "metadata": {},
     "output_type": "execute_result"
    }
   ],
   "source": [
    "# Select a region from the shapefile\n",
    "aoi = hybas_sa_lev05[hybas_sa_lev05.PFAF_ID == 62297]\n",
    "\n",
    "# Create a 3d mask - this contains the true / false values identifying pixels\n",
    "# inside vs outside of the mask region\n",
    "aoi_mask = regionmask.mask_3D_geopandas(aoi,\n",
    "                                         ds.east_west,\n",
    "                                         ds.north_south)\n",
    "aoi_mask\n"
   ]
  },
  {
   "cell_type": "code",
   "execution_count": 20,
   "metadata": {},
   "outputs": [
    {
     "data": {
      "text/html": [
       "<div><svg style=\"position: absolute; width: 0; height: 0; overflow: hidden\">\n",
       "<defs>\n",
       "<symbol id=\"icon-database\" viewBox=\"0 0 32 32\">\n",
       "<path d=\"M16 0c-8.837 0-16 2.239-16 5v4c0 2.761 7.163 5 16 5s16-2.239 16-5v-4c0-2.761-7.163-5-16-5z\"></path>\n",
       "<path d=\"M16 17c-8.837 0-16-2.239-16-5v6c0 2.761 7.163 5 16 5s16-2.239 16-5v-6c0 2.761-7.163 5-16 5z\"></path>\n",
       "<path d=\"M16 26c-8.837 0-16-2.239-16-5v6c0 2.761 7.163 5 16 5s16-2.239 16-5v-6c0 2.761-7.163 5-16 5z\"></path>\n",
       "</symbol>\n",
       "<symbol id=\"icon-file-text2\" viewBox=\"0 0 32 32\">\n",
       "<path d=\"M28.681 7.159c-0.694-0.947-1.662-2.053-2.724-3.116s-2.169-2.030-3.116-2.724c-1.612-1.182-2.393-1.319-2.841-1.319h-15.5c-1.378 0-2.5 1.121-2.5 2.5v27c0 1.378 1.122 2.5 2.5 2.5h23c1.378 0 2.5-1.122 2.5-2.5v-19.5c0-0.448-0.137-1.23-1.319-2.841zM24.543 5.457c0.959 0.959 1.712 1.825 2.268 2.543h-4.811v-4.811c0.718 0.556 1.584 1.309 2.543 2.268zM28 29.5c0 0.271-0.229 0.5-0.5 0.5h-23c-0.271 0-0.5-0.229-0.5-0.5v-27c0-0.271 0.229-0.5 0.5-0.5 0 0 15.499-0 15.5 0v7c0 0.552 0.448 1 1 1h7v19.5z\"></path>\n",
       "<path d=\"M23 26h-14c-0.552 0-1-0.448-1-1s0.448-1 1-1h14c0.552 0 1 0.448 1 1s-0.448 1-1 1z\"></path>\n",
       "<path d=\"M23 22h-14c-0.552 0-1-0.448-1-1s0.448-1 1-1h14c0.552 0 1 0.448 1 1s-0.448 1-1 1z\"></path>\n",
       "<path d=\"M23 18h-14c-0.552 0-1-0.448-1-1s0.448-1 1-1h14c0.552 0 1 0.448 1 1s-0.448 1-1 1z\"></path>\n",
       "</symbol>\n",
       "</defs>\n",
       "</svg>\n",
       "<style>/* CSS stylesheet for displaying xarray objects in jupyterlab.\n",
       " *\n",
       " */\n",
       "\n",
       ":root {\n",
       "  --xr-font-color0: var(--jp-content-font-color0, rgba(0, 0, 0, 1));\n",
       "  --xr-font-color2: var(--jp-content-font-color2, rgba(0, 0, 0, 0.54));\n",
       "  --xr-font-color3: var(--jp-content-font-color3, rgba(0, 0, 0, 0.38));\n",
       "  --xr-border-color: var(--jp-border-color2, #e0e0e0);\n",
       "  --xr-disabled-color: var(--jp-layout-color3, #bdbdbd);\n",
       "  --xr-background-color: var(--jp-layout-color0, white);\n",
       "  --xr-background-color-row-even: var(--jp-layout-color1, white);\n",
       "  --xr-background-color-row-odd: var(--jp-layout-color2, #eeeeee);\n",
       "}\n",
       "\n",
       "html[theme=dark],\n",
       "body[data-theme=dark],\n",
       "body.vscode-dark {\n",
       "  --xr-font-color0: rgba(255, 255, 255, 1);\n",
       "  --xr-font-color2: rgba(255, 255, 255, 0.54);\n",
       "  --xr-font-color3: rgba(255, 255, 255, 0.38);\n",
       "  --xr-border-color: #1F1F1F;\n",
       "  --xr-disabled-color: #515151;\n",
       "  --xr-background-color: #111111;\n",
       "  --xr-background-color-row-even: #111111;\n",
       "  --xr-background-color-row-odd: #313131;\n",
       "}\n",
       "\n",
       ".xr-wrap {\n",
       "  display: block !important;\n",
       "  min-width: 300px;\n",
       "  max-width: 700px;\n",
       "}\n",
       "\n",
       ".xr-text-repr-fallback {\n",
       "  /* fallback to plain text repr when CSS is not injected (untrusted notebook) */\n",
       "  display: none;\n",
       "}\n",
       "\n",
       ".xr-header {\n",
       "  padding-top: 6px;\n",
       "  padding-bottom: 6px;\n",
       "  margin-bottom: 4px;\n",
       "  border-bottom: solid 1px var(--xr-border-color);\n",
       "}\n",
       "\n",
       ".xr-header > div,\n",
       ".xr-header > ul {\n",
       "  display: inline;\n",
       "  margin-top: 0;\n",
       "  margin-bottom: 0;\n",
       "}\n",
       "\n",
       ".xr-obj-type,\n",
       ".xr-array-name {\n",
       "  margin-left: 2px;\n",
       "  margin-right: 10px;\n",
       "}\n",
       "\n",
       ".xr-obj-type {\n",
       "  color: var(--xr-font-color2);\n",
       "}\n",
       "\n",
       ".xr-sections {\n",
       "  padding-left: 0 !important;\n",
       "  display: grid;\n",
       "  grid-template-columns: 150px auto auto 1fr 20px 20px;\n",
       "}\n",
       "\n",
       ".xr-section-item {\n",
       "  display: contents;\n",
       "}\n",
       "\n",
       ".xr-section-item input {\n",
       "  display: none;\n",
       "}\n",
       "\n",
       ".xr-section-item input + label {\n",
       "  color: var(--xr-disabled-color);\n",
       "}\n",
       "\n",
       ".xr-section-item input:enabled + label {\n",
       "  cursor: pointer;\n",
       "  color: var(--xr-font-color2);\n",
       "}\n",
       "\n",
       ".xr-section-item input:enabled + label:hover {\n",
       "  color: var(--xr-font-color0);\n",
       "}\n",
       "\n",
       ".xr-section-summary {\n",
       "  grid-column: 1;\n",
       "  color: var(--xr-font-color2);\n",
       "  font-weight: 500;\n",
       "}\n",
       "\n",
       ".xr-section-summary > span {\n",
       "  display: inline-block;\n",
       "  padding-left: 0.5em;\n",
       "}\n",
       "\n",
       ".xr-section-summary-in:disabled + label {\n",
       "  color: var(--xr-font-color2);\n",
       "}\n",
       "\n",
       ".xr-section-summary-in + label:before {\n",
       "  display: inline-block;\n",
       "  content: '►';\n",
       "  font-size: 11px;\n",
       "  width: 15px;\n",
       "  text-align: center;\n",
       "}\n",
       "\n",
       ".xr-section-summary-in:disabled + label:before {\n",
       "  color: var(--xr-disabled-color);\n",
       "}\n",
       "\n",
       ".xr-section-summary-in:checked + label:before {\n",
       "  content: '▼';\n",
       "}\n",
       "\n",
       ".xr-section-summary-in:checked + label > span {\n",
       "  display: none;\n",
       "}\n",
       "\n",
       ".xr-section-summary,\n",
       ".xr-section-inline-details {\n",
       "  padding-top: 4px;\n",
       "  padding-bottom: 4px;\n",
       "}\n",
       "\n",
       ".xr-section-inline-details {\n",
       "  grid-column: 2 / -1;\n",
       "}\n",
       "\n",
       ".xr-section-details {\n",
       "  display: none;\n",
       "  grid-column: 1 / -1;\n",
       "  margin-bottom: 5px;\n",
       "}\n",
       "\n",
       ".xr-section-summary-in:checked ~ .xr-section-details {\n",
       "  display: contents;\n",
       "}\n",
       "\n",
       ".xr-array-wrap {\n",
       "  grid-column: 1 / -1;\n",
       "  display: grid;\n",
       "  grid-template-columns: 20px auto;\n",
       "}\n",
       "\n",
       ".xr-array-wrap > label {\n",
       "  grid-column: 1;\n",
       "  vertical-align: top;\n",
       "}\n",
       "\n",
       ".xr-preview {\n",
       "  color: var(--xr-font-color3);\n",
       "}\n",
       "\n",
       ".xr-array-preview,\n",
       ".xr-array-data {\n",
       "  padding: 0 5px !important;\n",
       "  grid-column: 2;\n",
       "}\n",
       "\n",
       ".xr-array-data,\n",
       ".xr-array-in:checked ~ .xr-array-preview {\n",
       "  display: none;\n",
       "}\n",
       "\n",
       ".xr-array-in:checked ~ .xr-array-data,\n",
       ".xr-array-preview {\n",
       "  display: inline-block;\n",
       "}\n",
       "\n",
       ".xr-dim-list {\n",
       "  display: inline-block !important;\n",
       "  list-style: none;\n",
       "  padding: 0 !important;\n",
       "  margin: 0;\n",
       "}\n",
       "\n",
       ".xr-dim-list li {\n",
       "  display: inline-block;\n",
       "  padding: 0;\n",
       "  margin: 0;\n",
       "}\n",
       "\n",
       ".xr-dim-list:before {\n",
       "  content: '(';\n",
       "}\n",
       "\n",
       ".xr-dim-list:after {\n",
       "  content: ')';\n",
       "}\n",
       "\n",
       ".xr-dim-list li:not(:last-child):after {\n",
       "  content: ',';\n",
       "  padding-right: 5px;\n",
       "}\n",
       "\n",
       ".xr-has-index {\n",
       "  font-weight: bold;\n",
       "}\n",
       "\n",
       ".xr-var-list,\n",
       ".xr-var-item {\n",
       "  display: contents;\n",
       "}\n",
       "\n",
       ".xr-var-item > div,\n",
       ".xr-var-item label,\n",
       ".xr-var-item > .xr-var-name span {\n",
       "  background-color: var(--xr-background-color-row-even);\n",
       "  margin-bottom: 0;\n",
       "}\n",
       "\n",
       ".xr-var-item > .xr-var-name:hover span {\n",
       "  padding-right: 5px;\n",
       "}\n",
       "\n",
       ".xr-var-list > li:nth-child(odd) > div,\n",
       ".xr-var-list > li:nth-child(odd) > label,\n",
       ".xr-var-list > li:nth-child(odd) > .xr-var-name span {\n",
       "  background-color: var(--xr-background-color-row-odd);\n",
       "}\n",
       "\n",
       ".xr-var-name {\n",
       "  grid-column: 1;\n",
       "}\n",
       "\n",
       ".xr-var-dims {\n",
       "  grid-column: 2;\n",
       "}\n",
       "\n",
       ".xr-var-dtype {\n",
       "  grid-column: 3;\n",
       "  text-align: right;\n",
       "  color: var(--xr-font-color2);\n",
       "}\n",
       "\n",
       ".xr-var-preview {\n",
       "  grid-column: 4;\n",
       "}\n",
       "\n",
       ".xr-index-preview {\n",
       "  grid-column: 2 / 5;\n",
       "  color: var(--xr-font-color2);\n",
       "}\n",
       "\n",
       ".xr-var-name,\n",
       ".xr-var-dims,\n",
       ".xr-var-dtype,\n",
       ".xr-preview,\n",
       ".xr-attrs dt {\n",
       "  white-space: nowrap;\n",
       "  overflow: hidden;\n",
       "  text-overflow: ellipsis;\n",
       "  padding-right: 10px;\n",
       "}\n",
       "\n",
       ".xr-var-name:hover,\n",
       ".xr-var-dims:hover,\n",
       ".xr-var-dtype:hover,\n",
       ".xr-attrs dt:hover {\n",
       "  overflow: visible;\n",
       "  width: auto;\n",
       "  z-index: 1;\n",
       "}\n",
       "\n",
       ".xr-var-attrs,\n",
       ".xr-var-data,\n",
       ".xr-index-data {\n",
       "  display: none;\n",
       "  background-color: var(--xr-background-color) !important;\n",
       "  padding-bottom: 5px !important;\n",
       "}\n",
       "\n",
       ".xr-var-attrs-in:checked ~ .xr-var-attrs,\n",
       ".xr-var-data-in:checked ~ .xr-var-data,\n",
       ".xr-index-data-in:checked ~ .xr-index-data {\n",
       "  display: block;\n",
       "}\n",
       "\n",
       ".xr-var-data > table {\n",
       "  float: right;\n",
       "}\n",
       "\n",
       ".xr-var-name span,\n",
       ".xr-var-data,\n",
       ".xr-index-name div,\n",
       ".xr-index-data,\n",
       ".xr-attrs {\n",
       "  padding-left: 25px !important;\n",
       "}\n",
       "\n",
       ".xr-attrs,\n",
       ".xr-var-attrs,\n",
       ".xr-var-data,\n",
       ".xr-index-data {\n",
       "  grid-column: 1 / -1;\n",
       "}\n",
       "\n",
       "dl.xr-attrs {\n",
       "  padding: 0;\n",
       "  margin: 0;\n",
       "  display: grid;\n",
       "  grid-template-columns: 125px auto;\n",
       "}\n",
       "\n",
       ".xr-attrs dt,\n",
       ".xr-attrs dd {\n",
       "  padding: 0;\n",
       "  margin: 0;\n",
       "  float: left;\n",
       "  padding-right: 10px;\n",
       "  width: auto;\n",
       "}\n",
       "\n",
       ".xr-attrs dt {\n",
       "  font-weight: normal;\n",
       "  grid-column: 1;\n",
       "}\n",
       "\n",
       ".xr-attrs dt:hover span {\n",
       "  display: inline-block;\n",
       "  background: var(--xr-background-color);\n",
       "  padding-right: 10px;\n",
       "}\n",
       "\n",
       ".xr-attrs dd {\n",
       "  grid-column: 2;\n",
       "  white-space: pre-wrap;\n",
       "  word-break: break-all;\n",
       "}\n",
       "\n",
       ".xr-icon-database,\n",
       ".xr-icon-file-text2,\n",
       ".xr-no-icon {\n",
       "  display: inline-block;\n",
       "  vertical-align: middle;\n",
       "  width: 1em;\n",
       "  height: 1.5em !important;\n",
       "  stroke-width: 0;\n",
       "  stroke: currentColor;\n",
       "  fill: currentColor;\n",
       "}\n",
       "</style><pre class='xr-text-repr-fallback'>&lt;xarray.DataArray &#x27;Rainf_tavg&#x27; (time: 4, ensemble: 7, north_south: 540,\n",
       "                                east_west: 660, region: 1)&gt;\n",
       "array([[[[[nan],\n",
       "          [nan],\n",
       "          [nan],\n",
       "          ...,\n",
       "          [nan],\n",
       "          [nan],\n",
       "          [nan]],\n",
       "\n",
       "         [[nan],\n",
       "          [nan],\n",
       "          [nan],\n",
       "          ...,\n",
       "          [nan],\n",
       "          [nan],\n",
       "          [nan]],\n",
       "\n",
       "         [[nan],\n",
       "          [nan],\n",
       "          [nan],\n",
       "          ...,\n",
       "...\n",
       "          ...,\n",
       "          [nan],\n",
       "          [nan],\n",
       "          [nan]],\n",
       "\n",
       "         [[nan],\n",
       "          [nan],\n",
       "          [nan],\n",
       "          ...,\n",
       "          [nan],\n",
       "          [nan],\n",
       "          [nan]],\n",
       "\n",
       "         [[nan],\n",
       "          [nan],\n",
       "          [nan],\n",
       "          ...,\n",
       "          [nan],\n",
       "          [nan],\n",
       "          [nan]]]]], dtype=float32)\n",
       "Coordinates:\n",
       "  * time         (time) datetime64[ns] 2024-06-02 2024-06-03 ... 2024-06-05\n",
       "  * ensemble     (ensemble) float32 1.0 2.0 3.0 4.0 5.0 6.0 7.0\n",
       "  * north_south  (north_south) float64 -21.0 -20.95 -20.9 ... 5.9 5.95 6.0\n",
       "  * east_west    (east_west) float64 -82.0 -81.95 -81.9 ... -49.1 -49.05 -49.0\n",
       "  * region       (region) int64 90\n",
       "Attributes:\n",
       "    units:          kg m-2 s-1\n",
       "    standard_name:  precipitation_rate\n",
       "    long_name:      precipitation rate\n",
       "    vmin:           0.0\n",
       "    vmax:           0.0</pre><div class='xr-wrap' style='display:none'><div class='xr-header'><div class='xr-obj-type'>xarray.DataArray</div><div class='xr-array-name'>'Rainf_tavg'</div><ul class='xr-dim-list'><li><span class='xr-has-index'>time</span>: 4</li><li><span class='xr-has-index'>ensemble</span>: 7</li><li><span class='xr-has-index'>north_south</span>: 540</li><li><span class='xr-has-index'>east_west</span>: 660</li><li><span class='xr-has-index'>region</span>: 1</li></ul></div><ul class='xr-sections'><li class='xr-section-item'><div class='xr-array-wrap'><input id='section-e4c127ff-e945-48b5-a49b-c56d46ac8f8f' class='xr-array-in' type='checkbox' checked><label for='section-e4c127ff-e945-48b5-a49b-c56d46ac8f8f' title='Show/hide data repr'><svg class='icon xr-icon-database'><use xlink:href='#icon-database'></use></svg></label><div class='xr-array-preview xr-preview'><span>nan nan nan nan nan nan nan nan ... nan nan nan nan nan nan nan nan</span></div><div class='xr-array-data'><pre>array([[[[[nan],\n",
       "          [nan],\n",
       "          [nan],\n",
       "          ...,\n",
       "          [nan],\n",
       "          [nan],\n",
       "          [nan]],\n",
       "\n",
       "         [[nan],\n",
       "          [nan],\n",
       "          [nan],\n",
       "          ...,\n",
       "          [nan],\n",
       "          [nan],\n",
       "          [nan]],\n",
       "\n",
       "         [[nan],\n",
       "          [nan],\n",
       "          [nan],\n",
       "          ...,\n",
       "...\n",
       "          ...,\n",
       "          [nan],\n",
       "          [nan],\n",
       "          [nan]],\n",
       "\n",
       "         [[nan],\n",
       "          [nan],\n",
       "          [nan],\n",
       "          ...,\n",
       "          [nan],\n",
       "          [nan],\n",
       "          [nan]],\n",
       "\n",
       "         [[nan],\n",
       "          [nan],\n",
       "          [nan],\n",
       "          ...,\n",
       "          [nan],\n",
       "          [nan],\n",
       "          [nan]]]]], dtype=float32)</pre></div></div></li><li class='xr-section-item'><input id='section-6bfa5df4-b93a-4214-9be8-25e2890a1688' class='xr-section-summary-in' type='checkbox'  checked><label for='section-6bfa5df4-b93a-4214-9be8-25e2890a1688' class='xr-section-summary' >Coordinates: <span>(5)</span></label><div class='xr-section-inline-details'></div><div class='xr-section-details'><ul class='xr-var-list'><li class='xr-var-item'><div class='xr-var-name'><span class='xr-has-index'>time</span></div><div class='xr-var-dims'>(time)</div><div class='xr-var-dtype'>datetime64[ns]</div><div class='xr-var-preview xr-preview'>2024-06-02 ... 2024-06-05</div><input id='attrs-9ce788ba-39df-433f-ab58-213f894cd957' class='xr-var-attrs-in' type='checkbox' ><label for='attrs-9ce788ba-39df-433f-ab58-213f894cd957' title='Show/Hide attributes'><svg class='icon xr-icon-file-text2'><use xlink:href='#icon-file-text2'></use></svg></label><input id='data-2e7982c0-ada4-418c-8dfa-bef9facb4e84' class='xr-var-data-in' type='checkbox'><label for='data-2e7982c0-ada4-418c-8dfa-bef9facb4e84' title='Show/Hide data repr'><svg class='icon xr-icon-database'><use xlink:href='#icon-database'></use></svg></label><div class='xr-var-attrs'><dl class='xr-attrs'><dt><span>long_name :</span></dt><dd>time</dd><dt><span>time_increment :</span></dt><dd>86400</dd><dt><span>begin_date :</span></dt><dd>20240602</dd><dt><span>begin_time :</span></dt><dd>000000</dd></dl></div><div class='xr-var-data'><pre>array([&#x27;2024-06-02T00:00:00.000000000&#x27;, &#x27;2024-06-03T00:00:00.000000000&#x27;,\n",
       "       &#x27;2024-06-04T00:00:00.000000000&#x27;, &#x27;2024-06-05T00:00:00.000000000&#x27;],\n",
       "      dtype=&#x27;datetime64[ns]&#x27;)</pre></div></li><li class='xr-var-item'><div class='xr-var-name'><span class='xr-has-index'>ensemble</span></div><div class='xr-var-dims'>(ensemble)</div><div class='xr-var-dtype'>float32</div><div class='xr-var-preview xr-preview'>1.0 2.0 3.0 4.0 5.0 6.0 7.0</div><input id='attrs-6b74b467-aaeb-4f91-a4e9-a33e940cdd10' class='xr-var-attrs-in' type='checkbox' ><label for='attrs-6b74b467-aaeb-4f91-a4e9-a33e940cdd10' title='Show/Hide attributes'><svg class='icon xr-icon-file-text2'><use xlink:href='#icon-file-text2'></use></svg></label><input id='data-c6f4a020-4c97-4e42-ba50-ca36f58a1716' class='xr-var-data-in' type='checkbox'><label for='data-c6f4a020-4c97-4e42-ba50-ca36f58a1716' title='Show/Hide data repr'><svg class='icon xr-icon-database'><use xlink:href='#icon-database'></use></svg></label><div class='xr-var-attrs'><dl class='xr-attrs'><dt><span>units :</span></dt><dd>ensemble number</dd><dt><span>long_name :</span></dt><dd>Ensemble numbers</dd></dl></div><div class='xr-var-data'><pre>array([1., 2., 3., 4., 5., 6., 7.], dtype=float32)</pre></div></li><li class='xr-var-item'><div class='xr-var-name'><span class='xr-has-index'>north_south</span></div><div class='xr-var-dims'>(north_south)</div><div class='xr-var-dtype'>float64</div><div class='xr-var-preview xr-preview'>-21.0 -20.95 -20.9 ... 5.9 5.95 6.0</div><input id='attrs-ab75f30b-17b8-4514-9bb1-144ef692d152' class='xr-var-attrs-in' type='checkbox' ><label for='attrs-ab75f30b-17b8-4514-9bb1-144ef692d152' title='Show/Hide attributes'><svg class='icon xr-icon-file-text2'><use xlink:href='#icon-file-text2'></use></svg></label><input id='data-1dbc1302-df7c-4220-a4a2-faa36662e8a6' class='xr-var-data-in' type='checkbox'><label for='data-1dbc1302-df7c-4220-a4a2-faa36662e8a6' title='Show/Hide data repr'><svg class='icon xr-icon-database'><use xlink:href='#icon-database'></use></svg></label><div class='xr-var-attrs'><dl class='xr-attrs'><dt><span>units :</span></dt><dd>degrees_n</dd></dl></div><div class='xr-var-data'><pre>array([-21.      , -20.949907, -20.899814, ...,   5.899814,   5.949907,\n",
       "         6.      ])</pre></div></li><li class='xr-var-item'><div class='xr-var-name'><span class='xr-has-index'>east_west</span></div><div class='xr-var-dims'>(east_west)</div><div class='xr-var-dtype'>float64</div><div class='xr-var-preview xr-preview'>-82.0 -81.95 -81.9 ... -49.05 -49.0</div><input id='attrs-9759f88c-b65e-44fe-a9ad-91f3075e224d' class='xr-var-attrs-in' type='checkbox' ><label for='attrs-9759f88c-b65e-44fe-a9ad-91f3075e224d' title='Show/Hide attributes'><svg class='icon xr-icon-file-text2'><use xlink:href='#icon-file-text2'></use></svg></label><input id='data-ec6ecc62-313f-4fad-baf0-319df00bfc58' class='xr-var-data-in' type='checkbox'><label for='data-ec6ecc62-313f-4fad-baf0-319df00bfc58' title='Show/Hide data repr'><svg class='icon xr-icon-database'><use xlink:href='#icon-database'></use></svg></label><div class='xr-var-attrs'><dl class='xr-attrs'><dt><span>units :</span></dt><dd>degrees_e</dd></dl></div><div class='xr-var-data'><pre>array([-82.      , -81.949924, -81.899848, ..., -49.100152, -49.050076,\n",
       "       -49.      ])</pre></div></li><li class='xr-var-item'><div class='xr-var-name'><span class='xr-has-index'>region</span></div><div class='xr-var-dims'>(region)</div><div class='xr-var-dtype'>int64</div><div class='xr-var-preview xr-preview'>90</div><input id='attrs-dadd7dde-ca03-4744-9ba5-adf5d506d195' class='xr-var-attrs-in' type='checkbox' disabled><label for='attrs-dadd7dde-ca03-4744-9ba5-adf5d506d195' title='Show/Hide attributes'><svg class='icon xr-icon-file-text2'><use xlink:href='#icon-file-text2'></use></svg></label><input id='data-83b9765a-1fa7-4b40-89af-aa7f35fd65ce' class='xr-var-data-in' type='checkbox'><label for='data-83b9765a-1fa7-4b40-89af-aa7f35fd65ce' title='Show/Hide data repr'><svg class='icon xr-icon-database'><use xlink:href='#icon-database'></use></svg></label><div class='xr-var-attrs'><dl class='xr-attrs'></dl></div><div class='xr-var-data'><pre>array([90], dtype=int64)</pre></div></li></ul></div></li><li class='xr-section-item'><input id='section-dc100a5e-f722-4179-91fb-d4ad45e77e46' class='xr-section-summary-in' type='checkbox'  ><label for='section-dc100a5e-f722-4179-91fb-d4ad45e77e46' class='xr-section-summary' >Indexes: <span>(5)</span></label><div class='xr-section-inline-details'></div><div class='xr-section-details'><ul class='xr-var-list'><li class='xr-var-item'><div class='xr-index-name'><div>time</div></div><div class='xr-index-preview'>PandasIndex</div><div></div><input id='index-88c24577-817e-4d4b-b61e-82f87cb0b978' class='xr-index-data-in' type='checkbox'/><label for='index-88c24577-817e-4d4b-b61e-82f87cb0b978' title='Show/Hide index repr'><svg class='icon xr-icon-database'><use xlink:href='#icon-database'></use></svg></label><div class='xr-index-data'><pre>PandasIndex(DatetimeIndex([&#x27;2024-06-02&#x27;, &#x27;2024-06-03&#x27;, &#x27;2024-06-04&#x27;, &#x27;2024-06-05&#x27;], dtype=&#x27;datetime64[ns]&#x27;, name=&#x27;time&#x27;, freq=None))</pre></div></li><li class='xr-var-item'><div class='xr-index-name'><div>ensemble</div></div><div class='xr-index-preview'>PandasIndex</div><div></div><input id='index-4d42d90e-6986-478d-bcc0-d5f518103143' class='xr-index-data-in' type='checkbox'/><label for='index-4d42d90e-6986-478d-bcc0-d5f518103143' title='Show/Hide index repr'><svg class='icon xr-icon-database'><use xlink:href='#icon-database'></use></svg></label><div class='xr-index-data'><pre>PandasIndex(Index([1.0, 2.0, 3.0, 4.0, 5.0, 6.0, 7.0], dtype=&#x27;float32&#x27;, name=&#x27;ensemble&#x27;))</pre></div></li><li class='xr-var-item'><div class='xr-index-name'><div>north_south</div></div><div class='xr-index-preview'>PandasIndex</div><div></div><input id='index-59df7b5d-47af-42b2-bffb-d5a166ccb0cc' class='xr-index-data-in' type='checkbox'/><label for='index-59df7b5d-47af-42b2-bffb-d5a166ccb0cc' title='Show/Hide index repr'><svg class='icon xr-icon-database'><use xlink:href='#icon-database'></use></svg></label><div class='xr-index-data'><pre>PandasIndex(Index([              -21.0,  -20.94990723562152, -20.899814471243044,\n",
       "       -20.849721706864564, -20.799628942486084, -20.749536178107608,\n",
       "       -20.699443413729128, -20.649350649350648,  -20.59925788497217,\n",
       "       -20.549165120593692,\n",
       "       ...\n",
       "         5.549165120593692,   5.599257884972172,   5.649350649350648,\n",
       "         5.699443413729128,   5.749536178107608,   5.799628942486084,\n",
       "         5.849721706864564,   5.899814471243044,    5.94990723562152,\n",
       "                       6.0],\n",
       "      dtype=&#x27;float64&#x27;, name=&#x27;north_south&#x27;, length=540))</pre></div></li><li class='xr-var-item'><div class='xr-index-name'><div>east_west</div></div><div class='xr-index-preview'>PandasIndex</div><div></div><input id='index-4545475a-903f-4e13-8ced-b039f5417fd5' class='xr-index-data-in' type='checkbox'/><label for='index-4545475a-903f-4e13-8ced-b039f5417fd5' title='Show/Hide index repr'><svg class='icon xr-icon-database'><use xlink:href='#icon-database'></use></svg></label><div class='xr-index-data'><pre>PandasIndex(Index([              -82.0,  -81.94992412746586,  -81.89984825493171,\n",
       "        -81.84977238239757,  -81.79969650986342,  -81.74962063732929,\n",
       "        -81.69954476479515,    -81.649468892261,  -81.59939301972686,\n",
       "        -81.54931714719271,\n",
       "       ...\n",
       "        -49.45068285280728,  -49.40060698027314,    -49.350531107739,\n",
       "        -49.30045523520486, -49.250379362670714,  -49.20030349013657,\n",
       "       -49.150227617602425,  -49.10015174506829, -49.050075872534144,\n",
       "                     -49.0],\n",
       "      dtype=&#x27;float64&#x27;, name=&#x27;east_west&#x27;, length=660))</pre></div></li><li class='xr-var-item'><div class='xr-index-name'><div>region</div></div><div class='xr-index-preview'>PandasIndex</div><div></div><input id='index-a2cb63d7-dbeb-4148-a784-3ad3577ba708' class='xr-index-data-in' type='checkbox'/><label for='index-a2cb63d7-dbeb-4148-a784-3ad3577ba708' title='Show/Hide index repr'><svg class='icon xr-icon-database'><use xlink:href='#icon-database'></use></svg></label><div class='xr-index-data'><pre>PandasIndex(Index([90], dtype=&#x27;int64&#x27;, name=&#x27;region&#x27;))</pre></div></li></ul></div></li><li class='xr-section-item'><input id='section-62f23448-7c2a-4976-8c79-a0e07919e0d4' class='xr-section-summary-in' type='checkbox'  checked><label for='section-62f23448-7c2a-4976-8c79-a0e07919e0d4' class='xr-section-summary' >Attributes: <span>(5)</span></label><div class='xr-section-inline-details'></div><div class='xr-section-details'><dl class='xr-attrs'><dt><span>units :</span></dt><dd>kg m-2 s-1</dd><dt><span>standard_name :</span></dt><dd>precipitation_rate</dd><dt><span>long_name :</span></dt><dd>precipitation rate</dd><dt><span>vmin :</span></dt><dd>0.0</dd><dt><span>vmax :</span></dt><dd>0.0</dd></dl></div></li></ul></div></div>"
      ],
      "text/plain": [
       "<xarray.DataArray 'Rainf_tavg' (time: 4, ensemble: 7, north_south: 540,\n",
       "                                east_west: 660, region: 1)>\n",
       "array([[[[[nan],\n",
       "          [nan],\n",
       "          [nan],\n",
       "          ...,\n",
       "          [nan],\n",
       "          [nan],\n",
       "          [nan]],\n",
       "\n",
       "         [[nan],\n",
       "          [nan],\n",
       "          [nan],\n",
       "          ...,\n",
       "          [nan],\n",
       "          [nan],\n",
       "          [nan]],\n",
       "\n",
       "         [[nan],\n",
       "          [nan],\n",
       "          [nan],\n",
       "          ...,\n",
       "...\n",
       "          ...,\n",
       "          [nan],\n",
       "          [nan],\n",
       "          [nan]],\n",
       "\n",
       "         [[nan],\n",
       "          [nan],\n",
       "          [nan],\n",
       "          ...,\n",
       "          [nan],\n",
       "          [nan],\n",
       "          [nan]],\n",
       "\n",
       "         [[nan],\n",
       "          [nan],\n",
       "          [nan],\n",
       "          ...,\n",
       "          [nan],\n",
       "          [nan],\n",
       "          [nan]]]]], dtype=float32)\n",
       "Coordinates:\n",
       "  * time         (time) datetime64[ns] 2024-06-02 2024-06-03 ... 2024-06-05\n",
       "  * ensemble     (ensemble) float32 1.0 2.0 3.0 4.0 5.0 6.0 7.0\n",
       "  * north_south  (north_south) float64 -21.0 -20.95 -20.9 ... 5.9 5.95 6.0\n",
       "  * east_west    (east_west) float64 -82.0 -81.95 -81.9 ... -49.1 -49.05 -49.0\n",
       "  * region       (region) int64 90\n",
       "Attributes:\n",
       "    units:          kg m-2 s-1\n",
       "    standard_name:  precipitation_rate\n",
       "    long_name:      precipitation rate\n",
       "    vmin:           0.0\n",
       "    vmax:           0.0"
      ]
     },
     "execution_count": 20,
     "metadata": {},
     "output_type": "execute_result"
    }
   ],
   "source": [
    "# Apply the mask we just made using the shapefile to the raster layer we made\n",
    "aoi_ds = ds['Rainf_tavg'].where(aoi_mask)\n",
    "aoi_ds"
   ]
  },
  {
   "cell_type": "code",
   "execution_count": 21,
   "metadata": {},
   "outputs": [
    {
     "data": {
      "text/html": [
       "<div>\n",
       "<style scoped>\n",
       "    .dataframe tbody tr th:only-of-type {\n",
       "        vertical-align: middle;\n",
       "    }\n",
       "\n",
       "    .dataframe tbody tr th {\n",
       "        vertical-align: top;\n",
       "    }\n",
       "\n",
       "    .dataframe thead th {\n",
       "        text-align: right;\n",
       "    }\n",
       "</style>\n",
       "<table border=\"1\" class=\"dataframe\">\n",
       "  <thead>\n",
       "    <tr style=\"text-align: right;\">\n",
       "      <th></th>\n",
       "      <th>time</th>\n",
       "      <th>ensemble</th>\n",
       "      <th>region</th>\n",
       "      <th>Rainf_tavg</th>\n",
       "    </tr>\n",
       "  </thead>\n",
       "  <tbody>\n",
       "    <tr>\n",
       "      <th>0</th>\n",
       "      <td>2024-06-02</td>\n",
       "      <td>1.0</td>\n",
       "      <td>90</td>\n",
       "      <td>0.000044</td>\n",
       "    </tr>\n",
       "    <tr>\n",
       "      <th>1</th>\n",
       "      <td>2024-06-02</td>\n",
       "      <td>2.0</td>\n",
       "      <td>90</td>\n",
       "      <td>0.000044</td>\n",
       "    </tr>\n",
       "    <tr>\n",
       "      <th>2</th>\n",
       "      <td>2024-06-02</td>\n",
       "      <td>3.0</td>\n",
       "      <td>90</td>\n",
       "      <td>0.000045</td>\n",
       "    </tr>\n",
       "    <tr>\n",
       "      <th>3</th>\n",
       "      <td>2024-06-02</td>\n",
       "      <td>4.0</td>\n",
       "      <td>90</td>\n",
       "      <td>0.000045</td>\n",
       "    </tr>\n",
       "    <tr>\n",
       "      <th>4</th>\n",
       "      <td>2024-06-02</td>\n",
       "      <td>5.0</td>\n",
       "      <td>90</td>\n",
       "      <td>0.000043</td>\n",
       "    </tr>\n",
       "    <tr>\n",
       "      <th>5</th>\n",
       "      <td>2024-06-02</td>\n",
       "      <td>6.0</td>\n",
       "      <td>90</td>\n",
       "      <td>0.000044</td>\n",
       "    </tr>\n",
       "    <tr>\n",
       "      <th>6</th>\n",
       "      <td>2024-06-02</td>\n",
       "      <td>7.0</td>\n",
       "      <td>90</td>\n",
       "      <td>0.000043</td>\n",
       "    </tr>\n",
       "    <tr>\n",
       "      <th>7</th>\n",
       "      <td>2024-06-03</td>\n",
       "      <td>1.0</td>\n",
       "      <td>90</td>\n",
       "      <td>0.000055</td>\n",
       "    </tr>\n",
       "    <tr>\n",
       "      <th>8</th>\n",
       "      <td>2024-06-03</td>\n",
       "      <td>2.0</td>\n",
       "      <td>90</td>\n",
       "      <td>0.000055</td>\n",
       "    </tr>\n",
       "    <tr>\n",
       "      <th>9</th>\n",
       "      <td>2024-06-03</td>\n",
       "      <td>3.0</td>\n",
       "      <td>90</td>\n",
       "      <td>0.000056</td>\n",
       "    </tr>\n",
       "    <tr>\n",
       "      <th>10</th>\n",
       "      <td>2024-06-03</td>\n",
       "      <td>4.0</td>\n",
       "      <td>90</td>\n",
       "      <td>0.000056</td>\n",
       "    </tr>\n",
       "    <tr>\n",
       "      <th>11</th>\n",
       "      <td>2024-06-03</td>\n",
       "      <td>5.0</td>\n",
       "      <td>90</td>\n",
       "      <td>0.000052</td>\n",
       "    </tr>\n",
       "    <tr>\n",
       "      <th>12</th>\n",
       "      <td>2024-06-03</td>\n",
       "      <td>6.0</td>\n",
       "      <td>90</td>\n",
       "      <td>0.000055</td>\n",
       "    </tr>\n",
       "    <tr>\n",
       "      <th>13</th>\n",
       "      <td>2024-06-03</td>\n",
       "      <td>7.0</td>\n",
       "      <td>90</td>\n",
       "      <td>0.000052</td>\n",
       "    </tr>\n",
       "    <tr>\n",
       "      <th>14</th>\n",
       "      <td>2024-06-04</td>\n",
       "      <td>1.0</td>\n",
       "      <td>90</td>\n",
       "      <td>0.000062</td>\n",
       "    </tr>\n",
       "    <tr>\n",
       "      <th>15</th>\n",
       "      <td>2024-06-04</td>\n",
       "      <td>2.0</td>\n",
       "      <td>90</td>\n",
       "      <td>0.000062</td>\n",
       "    </tr>\n",
       "    <tr>\n",
       "      <th>16</th>\n",
       "      <td>2024-06-04</td>\n",
       "      <td>3.0</td>\n",
       "      <td>90</td>\n",
       "      <td>0.000060</td>\n",
       "    </tr>\n",
       "    <tr>\n",
       "      <th>17</th>\n",
       "      <td>2024-06-04</td>\n",
       "      <td>4.0</td>\n",
       "      <td>90</td>\n",
       "      <td>0.000061</td>\n",
       "    </tr>\n",
       "    <tr>\n",
       "      <th>18</th>\n",
       "      <td>2024-06-04</td>\n",
       "      <td>5.0</td>\n",
       "      <td>90</td>\n",
       "      <td>0.000061</td>\n",
       "    </tr>\n",
       "    <tr>\n",
       "      <th>19</th>\n",
       "      <td>2024-06-04</td>\n",
       "      <td>6.0</td>\n",
       "      <td>90</td>\n",
       "      <td>0.000061</td>\n",
       "    </tr>\n",
       "    <tr>\n",
       "      <th>20</th>\n",
       "      <td>2024-06-04</td>\n",
       "      <td>7.0</td>\n",
       "      <td>90</td>\n",
       "      <td>0.000061</td>\n",
       "    </tr>\n",
       "    <tr>\n",
       "      <th>21</th>\n",
       "      <td>2024-06-05</td>\n",
       "      <td>1.0</td>\n",
       "      <td>90</td>\n",
       "      <td>0.000070</td>\n",
       "    </tr>\n",
       "    <tr>\n",
       "      <th>22</th>\n",
       "      <td>2024-06-05</td>\n",
       "      <td>2.0</td>\n",
       "      <td>90</td>\n",
       "      <td>0.000071</td>\n",
       "    </tr>\n",
       "    <tr>\n",
       "      <th>23</th>\n",
       "      <td>2024-06-05</td>\n",
       "      <td>3.0</td>\n",
       "      <td>90</td>\n",
       "      <td>0.000062</td>\n",
       "    </tr>\n",
       "    <tr>\n",
       "      <th>24</th>\n",
       "      <td>2024-06-05</td>\n",
       "      <td>4.0</td>\n",
       "      <td>90</td>\n",
       "      <td>0.000062</td>\n",
       "    </tr>\n",
       "    <tr>\n",
       "      <th>25</th>\n",
       "      <td>2024-06-05</td>\n",
       "      <td>5.0</td>\n",
       "      <td>90</td>\n",
       "      <td>0.000072</td>\n",
       "    </tr>\n",
       "    <tr>\n",
       "      <th>26</th>\n",
       "      <td>2024-06-05</td>\n",
       "      <td>6.0</td>\n",
       "      <td>90</td>\n",
       "      <td>0.000070</td>\n",
       "    </tr>\n",
       "    <tr>\n",
       "      <th>27</th>\n",
       "      <td>2024-06-05</td>\n",
       "      <td>7.0</td>\n",
       "      <td>90</td>\n",
       "      <td>0.000072</td>\n",
       "    </tr>\n",
       "  </tbody>\n",
       "</table>\n",
       "</div>"
      ],
      "text/plain": [
       "         time  ensemble  region  Rainf_tavg\n",
       "0  2024-06-02       1.0      90    0.000044\n",
       "1  2024-06-02       2.0      90    0.000044\n",
       "2  2024-06-02       3.0      90    0.000045\n",
       "3  2024-06-02       4.0      90    0.000045\n",
       "4  2024-06-02       5.0      90    0.000043\n",
       "5  2024-06-02       6.0      90    0.000044\n",
       "6  2024-06-02       7.0      90    0.000043\n",
       "7  2024-06-03       1.0      90    0.000055\n",
       "8  2024-06-03       2.0      90    0.000055\n",
       "9  2024-06-03       3.0      90    0.000056\n",
       "10 2024-06-03       4.0      90    0.000056\n",
       "11 2024-06-03       5.0      90    0.000052\n",
       "12 2024-06-03       6.0      90    0.000055\n",
       "13 2024-06-03       7.0      90    0.000052\n",
       "14 2024-06-04       1.0      90    0.000062\n",
       "15 2024-06-04       2.0      90    0.000062\n",
       "16 2024-06-04       3.0      90    0.000060\n",
       "17 2024-06-04       4.0      90    0.000061\n",
       "18 2024-06-04       5.0      90    0.000061\n",
       "19 2024-06-04       6.0      90    0.000061\n",
       "20 2024-06-04       7.0      90    0.000061\n",
       "21 2024-06-05       1.0      90    0.000070\n",
       "22 2024-06-05       2.0      90    0.000071\n",
       "23 2024-06-05       3.0      90    0.000062\n",
       "24 2024-06-05       4.0      90    0.000062\n",
       "25 2024-06-05       5.0      90    0.000072\n",
       "26 2024-06-05       6.0      90    0.000070\n",
       "27 2024-06-05       7.0      90    0.000072"
      ]
     },
     "execution_count": 21,
     "metadata": {},
     "output_type": "execute_result"
    }
   ],
   "source": [
    "summary = aoi_ds.groupby(\"time\").mean([\"north_south\", \"east_west\"])\n",
    "aoi_ds_summary = summary.to_dataframe().reset_index()\n",
    "aoi_ds_summary"
   ]
  },
  {
   "cell_type": "markdown",
   "metadata": {},
   "source": [
    "## Building time series with spread using boxplot"
   ]
  },
  {
   "cell_type": "code",
   "execution_count": 22,
   "metadata": {},
   "outputs": [
    {
     "data": {
      "application/vnd.plotly.v1+json": {
       "config": {
        "plotlyServerURL": "https://plot.ly"
       },
       "data": [
        {
         "alignmentgroup": "True",
         "hovertemplate": "time=%{x}<br>Rainf_tavg=%{y}<extra></extra>",
         "legendgroup": "2024-06-02 00:00:00",
         "marker": {
          "color": "#636efa"
         },
         "name": "2024-06-02 00:00:00",
         "notched": false,
         "offsetgroup": "2024-06-02 00:00:00",
         "orientation": "v",
         "showlegend": true,
         "type": "box",
         "x": [
          "2024-06-02T00:00:00",
          "2024-06-02T00:00:00",
          "2024-06-02T00:00:00",
          "2024-06-02T00:00:00",
          "2024-06-02T00:00:00",
          "2024-06-02T00:00:00",
          "2024-06-02T00:00:00"
         ],
         "x0": " ",
         "xaxis": "x",
         "y": [
          0.000044164651626488194,
          0.00004409303073771298,
          0.000045095293899066746,
          0.000045033852074993774,
          0.00004269915370969102,
          0.000044243293814361095,
          0.000042778039642143995
         ],
         "y0": " ",
         "yaxis": "y"
        },
        {
         "alignmentgroup": "True",
         "hovertemplate": "time=%{x}<br>Rainf_tavg=%{y}<extra></extra>",
         "legendgroup": "2024-06-03 00:00:00",
         "marker": {
          "color": "#EF553B"
         },
         "name": "2024-06-03 00:00:00",
         "notched": false,
         "offsetgroup": "2024-06-03 00:00:00",
         "orientation": "v",
         "showlegend": true,
         "type": "box",
         "x": [
          "2024-06-03T00:00:00",
          "2024-06-03T00:00:00",
          "2024-06-03T00:00:00",
          "2024-06-03T00:00:00",
          "2024-06-03T00:00:00",
          "2024-06-03T00:00:00",
          "2024-06-03T00:00:00"
         ],
         "x0": " ",
         "xaxis": "x",
         "y": [
          0.00005484860957949422,
          0.000054528201872017235,
          0.00005611458618659526,
          0.000056312572269234806,
          0.000051984905439894646,
          0.00005464062633109279,
          0.00005200689338380471
         ],
         "y0": " ",
         "yaxis": "y"
        },
        {
         "alignmentgroup": "True",
         "hovertemplate": "time=%{x}<br>Rainf_tavg=%{y}<extra></extra>",
         "legendgroup": "2024-06-04 00:00:00",
         "marker": {
          "color": "#00cc96"
         },
         "name": "2024-06-04 00:00:00",
         "notched": false,
         "offsetgroup": "2024-06-04 00:00:00",
         "orientation": "v",
         "showlegend": true,
         "type": "box",
         "x": [
          "2024-06-04T00:00:00",
          "2024-06-04T00:00:00",
          "2024-06-04T00:00:00",
          "2024-06-04T00:00:00",
          "2024-06-04T00:00:00",
          "2024-06-04T00:00:00",
          "2024-06-04T00:00:00"
         ],
         "x0": " ",
         "xaxis": "x",
         "y": [
          0.00006163490616017953,
          0.00006156414019642398,
          0.000059721514844568446,
          0.000060620350268436596,
          0.0000613018564763479,
          0.00006095473509049043,
          0.00006120633042883128
         ],
         "y0": " ",
         "yaxis": "y"
        },
        {
         "alignmentgroup": "True",
         "hovertemplate": "time=%{x}<br>Rainf_tavg=%{y}<extra></extra>",
         "legendgroup": "2024-06-05 00:00:00",
         "marker": {
          "color": "#ab63fa"
         },
         "name": "2024-06-05 00:00:00",
         "notched": false,
         "offsetgroup": "2024-06-05 00:00:00",
         "orientation": "v",
         "showlegend": true,
         "type": "box",
         "x": [
          "2024-06-05T00:00:00",
          "2024-06-05T00:00:00",
          "2024-06-05T00:00:00",
          "2024-06-05T00:00:00",
          "2024-06-05T00:00:00",
          "2024-06-05T00:00:00",
          "2024-06-05T00:00:00"
         ],
         "x0": " ",
         "xaxis": "x",
         "y": [
          0.00006994714931352064,
          0.0000712805413058959,
          0.00006173596193548292,
          0.00006220338400453329,
          0.00007231372728710994,
          0.00007011263369349763,
          0.0000721981268725358
         ],
         "y0": " ",
         "yaxis": "y"
        }
       ],
       "layout": {
        "boxmode": "overlay",
        "height": 800,
        "legend": {
         "title": {
          "text": "time"
         },
         "tracegroupgap": 0
        },
        "margin": {
         "t": 60
        },
        "template": {
         "data": {
          "bar": [
           {
            "error_x": {
             "color": "#2a3f5f"
            },
            "error_y": {
             "color": "#2a3f5f"
            },
            "marker": {
             "line": {
              "color": "#E5ECF6",
              "width": 0.5
             },
             "pattern": {
              "fillmode": "overlay",
              "size": 10,
              "solidity": 0.2
             }
            },
            "type": "bar"
           }
          ],
          "barpolar": [
           {
            "marker": {
             "line": {
              "color": "#E5ECF6",
              "width": 0.5
             },
             "pattern": {
              "fillmode": "overlay",
              "size": 10,
              "solidity": 0.2
             }
            },
            "type": "barpolar"
           }
          ],
          "carpet": [
           {
            "aaxis": {
             "endlinecolor": "#2a3f5f",
             "gridcolor": "white",
             "linecolor": "white",
             "minorgridcolor": "white",
             "startlinecolor": "#2a3f5f"
            },
            "baxis": {
             "endlinecolor": "#2a3f5f",
             "gridcolor": "white",
             "linecolor": "white",
             "minorgridcolor": "white",
             "startlinecolor": "#2a3f5f"
            },
            "type": "carpet"
           }
          ],
          "choropleth": [
           {
            "colorbar": {
             "outlinewidth": 0,
             "ticks": ""
            },
            "type": "choropleth"
           }
          ],
          "contour": [
           {
            "colorbar": {
             "outlinewidth": 0,
             "ticks": ""
            },
            "colorscale": [
             [
              0,
              "#0d0887"
             ],
             [
              0.1111111111111111,
              "#46039f"
             ],
             [
              0.2222222222222222,
              "#7201a8"
             ],
             [
              0.3333333333333333,
              "#9c179e"
             ],
             [
              0.4444444444444444,
              "#bd3786"
             ],
             [
              0.5555555555555556,
              "#d8576b"
             ],
             [
              0.6666666666666666,
              "#ed7953"
             ],
             [
              0.7777777777777778,
              "#fb9f3a"
             ],
             [
              0.8888888888888888,
              "#fdca26"
             ],
             [
              1,
              "#f0f921"
             ]
            ],
            "type": "contour"
           }
          ],
          "contourcarpet": [
           {
            "colorbar": {
             "outlinewidth": 0,
             "ticks": ""
            },
            "type": "contourcarpet"
           }
          ],
          "heatmap": [
           {
            "colorbar": {
             "outlinewidth": 0,
             "ticks": ""
            },
            "colorscale": [
             [
              0,
              "#0d0887"
             ],
             [
              0.1111111111111111,
              "#46039f"
             ],
             [
              0.2222222222222222,
              "#7201a8"
             ],
             [
              0.3333333333333333,
              "#9c179e"
             ],
             [
              0.4444444444444444,
              "#bd3786"
             ],
             [
              0.5555555555555556,
              "#d8576b"
             ],
             [
              0.6666666666666666,
              "#ed7953"
             ],
             [
              0.7777777777777778,
              "#fb9f3a"
             ],
             [
              0.8888888888888888,
              "#fdca26"
             ],
             [
              1,
              "#f0f921"
             ]
            ],
            "type": "heatmap"
           }
          ],
          "heatmapgl": [
           {
            "colorbar": {
             "outlinewidth": 0,
             "ticks": ""
            },
            "colorscale": [
             [
              0,
              "#0d0887"
             ],
             [
              0.1111111111111111,
              "#46039f"
             ],
             [
              0.2222222222222222,
              "#7201a8"
             ],
             [
              0.3333333333333333,
              "#9c179e"
             ],
             [
              0.4444444444444444,
              "#bd3786"
             ],
             [
              0.5555555555555556,
              "#d8576b"
             ],
             [
              0.6666666666666666,
              "#ed7953"
             ],
             [
              0.7777777777777778,
              "#fb9f3a"
             ],
             [
              0.8888888888888888,
              "#fdca26"
             ],
             [
              1,
              "#f0f921"
             ]
            ],
            "type": "heatmapgl"
           }
          ],
          "histogram": [
           {
            "marker": {
             "pattern": {
              "fillmode": "overlay",
              "size": 10,
              "solidity": 0.2
             }
            },
            "type": "histogram"
           }
          ],
          "histogram2d": [
           {
            "colorbar": {
             "outlinewidth": 0,
             "ticks": ""
            },
            "colorscale": [
             [
              0,
              "#0d0887"
             ],
             [
              0.1111111111111111,
              "#46039f"
             ],
             [
              0.2222222222222222,
              "#7201a8"
             ],
             [
              0.3333333333333333,
              "#9c179e"
             ],
             [
              0.4444444444444444,
              "#bd3786"
             ],
             [
              0.5555555555555556,
              "#d8576b"
             ],
             [
              0.6666666666666666,
              "#ed7953"
             ],
             [
              0.7777777777777778,
              "#fb9f3a"
             ],
             [
              0.8888888888888888,
              "#fdca26"
             ],
             [
              1,
              "#f0f921"
             ]
            ],
            "type": "histogram2d"
           }
          ],
          "histogram2dcontour": [
           {
            "colorbar": {
             "outlinewidth": 0,
             "ticks": ""
            },
            "colorscale": [
             [
              0,
              "#0d0887"
             ],
             [
              0.1111111111111111,
              "#46039f"
             ],
             [
              0.2222222222222222,
              "#7201a8"
             ],
             [
              0.3333333333333333,
              "#9c179e"
             ],
             [
              0.4444444444444444,
              "#bd3786"
             ],
             [
              0.5555555555555556,
              "#d8576b"
             ],
             [
              0.6666666666666666,
              "#ed7953"
             ],
             [
              0.7777777777777778,
              "#fb9f3a"
             ],
             [
              0.8888888888888888,
              "#fdca26"
             ],
             [
              1,
              "#f0f921"
             ]
            ],
            "type": "histogram2dcontour"
           }
          ],
          "mesh3d": [
           {
            "colorbar": {
             "outlinewidth": 0,
             "ticks": ""
            },
            "type": "mesh3d"
           }
          ],
          "parcoords": [
           {
            "line": {
             "colorbar": {
              "outlinewidth": 0,
              "ticks": ""
             }
            },
            "type": "parcoords"
           }
          ],
          "pie": [
           {
            "automargin": true,
            "type": "pie"
           }
          ],
          "scatter": [
           {
            "fillpattern": {
             "fillmode": "overlay",
             "size": 10,
             "solidity": 0.2
            },
            "type": "scatter"
           }
          ],
          "scatter3d": [
           {
            "line": {
             "colorbar": {
              "outlinewidth": 0,
              "ticks": ""
             }
            },
            "marker": {
             "colorbar": {
              "outlinewidth": 0,
              "ticks": ""
             }
            },
            "type": "scatter3d"
           }
          ],
          "scattercarpet": [
           {
            "marker": {
             "colorbar": {
              "outlinewidth": 0,
              "ticks": ""
             }
            },
            "type": "scattercarpet"
           }
          ],
          "scattergeo": [
           {
            "marker": {
             "colorbar": {
              "outlinewidth": 0,
              "ticks": ""
             }
            },
            "type": "scattergeo"
           }
          ],
          "scattergl": [
           {
            "marker": {
             "colorbar": {
              "outlinewidth": 0,
              "ticks": ""
             }
            },
            "type": "scattergl"
           }
          ],
          "scattermapbox": [
           {
            "marker": {
             "colorbar": {
              "outlinewidth": 0,
              "ticks": ""
             }
            },
            "type": "scattermapbox"
           }
          ],
          "scatterpolar": [
           {
            "marker": {
             "colorbar": {
              "outlinewidth": 0,
              "ticks": ""
             }
            },
            "type": "scatterpolar"
           }
          ],
          "scatterpolargl": [
           {
            "marker": {
             "colorbar": {
              "outlinewidth": 0,
              "ticks": ""
             }
            },
            "type": "scatterpolargl"
           }
          ],
          "scatterternary": [
           {
            "marker": {
             "colorbar": {
              "outlinewidth": 0,
              "ticks": ""
             }
            },
            "type": "scatterternary"
           }
          ],
          "surface": [
           {
            "colorbar": {
             "outlinewidth": 0,
             "ticks": ""
            },
            "colorscale": [
             [
              0,
              "#0d0887"
             ],
             [
              0.1111111111111111,
              "#46039f"
             ],
             [
              0.2222222222222222,
              "#7201a8"
             ],
             [
              0.3333333333333333,
              "#9c179e"
             ],
             [
              0.4444444444444444,
              "#bd3786"
             ],
             [
              0.5555555555555556,
              "#d8576b"
             ],
             [
              0.6666666666666666,
              "#ed7953"
             ],
             [
              0.7777777777777778,
              "#fb9f3a"
             ],
             [
              0.8888888888888888,
              "#fdca26"
             ],
             [
              1,
              "#f0f921"
             ]
            ],
            "type": "surface"
           }
          ],
          "table": [
           {
            "cells": {
             "fill": {
              "color": "#EBF0F8"
             },
             "line": {
              "color": "white"
             }
            },
            "header": {
             "fill": {
              "color": "#C8D4E3"
             },
             "line": {
              "color": "white"
             }
            },
            "type": "table"
           }
          ]
         },
         "layout": {
          "annotationdefaults": {
           "arrowcolor": "#2a3f5f",
           "arrowhead": 0,
           "arrowwidth": 1
          },
          "autotypenumbers": "strict",
          "coloraxis": {
           "colorbar": {
            "outlinewidth": 0,
            "ticks": ""
           }
          },
          "colorscale": {
           "diverging": [
            [
             0,
             "#8e0152"
            ],
            [
             0.1,
             "#c51b7d"
            ],
            [
             0.2,
             "#de77ae"
            ],
            [
             0.3,
             "#f1b6da"
            ],
            [
             0.4,
             "#fde0ef"
            ],
            [
             0.5,
             "#f7f7f7"
            ],
            [
             0.6,
             "#e6f5d0"
            ],
            [
             0.7,
             "#b8e186"
            ],
            [
             0.8,
             "#7fbc41"
            ],
            [
             0.9,
             "#4d9221"
            ],
            [
             1,
             "#276419"
            ]
           ],
           "sequential": [
            [
             0,
             "#0d0887"
            ],
            [
             0.1111111111111111,
             "#46039f"
            ],
            [
             0.2222222222222222,
             "#7201a8"
            ],
            [
             0.3333333333333333,
             "#9c179e"
            ],
            [
             0.4444444444444444,
             "#bd3786"
            ],
            [
             0.5555555555555556,
             "#d8576b"
            ],
            [
             0.6666666666666666,
             "#ed7953"
            ],
            [
             0.7777777777777778,
             "#fb9f3a"
            ],
            [
             0.8888888888888888,
             "#fdca26"
            ],
            [
             1,
             "#f0f921"
            ]
           ],
           "sequentialminus": [
            [
             0,
             "#0d0887"
            ],
            [
             0.1111111111111111,
             "#46039f"
            ],
            [
             0.2222222222222222,
             "#7201a8"
            ],
            [
             0.3333333333333333,
             "#9c179e"
            ],
            [
             0.4444444444444444,
             "#bd3786"
            ],
            [
             0.5555555555555556,
             "#d8576b"
            ],
            [
             0.6666666666666666,
             "#ed7953"
            ],
            [
             0.7777777777777778,
             "#fb9f3a"
            ],
            [
             0.8888888888888888,
             "#fdca26"
            ],
            [
             1,
             "#f0f921"
            ]
           ]
          },
          "colorway": [
           "#636efa",
           "#EF553B",
           "#00cc96",
           "#ab63fa",
           "#FFA15A",
           "#19d3f3",
           "#FF6692",
           "#B6E880",
           "#FF97FF",
           "#FECB52"
          ],
          "font": {
           "color": "#2a3f5f"
          },
          "geo": {
           "bgcolor": "white",
           "lakecolor": "white",
           "landcolor": "#E5ECF6",
           "showlakes": true,
           "showland": true,
           "subunitcolor": "white"
          },
          "hoverlabel": {
           "align": "left"
          },
          "hovermode": "closest",
          "mapbox": {
           "style": "light"
          },
          "paper_bgcolor": "white",
          "plot_bgcolor": "#E5ECF6",
          "polar": {
           "angularaxis": {
            "gridcolor": "white",
            "linecolor": "white",
            "ticks": ""
           },
           "bgcolor": "#E5ECF6",
           "radialaxis": {
            "gridcolor": "white",
            "linecolor": "white",
            "ticks": ""
           }
          },
          "scene": {
           "xaxis": {
            "backgroundcolor": "#E5ECF6",
            "gridcolor": "white",
            "gridwidth": 2,
            "linecolor": "white",
            "showbackground": true,
            "ticks": "",
            "zerolinecolor": "white"
           },
           "yaxis": {
            "backgroundcolor": "#E5ECF6",
            "gridcolor": "white",
            "gridwidth": 2,
            "linecolor": "white",
            "showbackground": true,
            "ticks": "",
            "zerolinecolor": "white"
           },
           "zaxis": {
            "backgroundcolor": "#E5ECF6",
            "gridcolor": "white",
            "gridwidth": 2,
            "linecolor": "white",
            "showbackground": true,
            "ticks": "",
            "zerolinecolor": "white"
           }
          },
          "shapedefaults": {
           "line": {
            "color": "#2a3f5f"
           }
          },
          "ternary": {
           "aaxis": {
            "gridcolor": "white",
            "linecolor": "white",
            "ticks": ""
           },
           "baxis": {
            "gridcolor": "white",
            "linecolor": "white",
            "ticks": ""
           },
           "bgcolor": "#E5ECF6",
           "caxis": {
            "gridcolor": "white",
            "linecolor": "white",
            "ticks": ""
           }
          },
          "title": {
           "x": 0.05
          },
          "xaxis": {
           "automargin": true,
           "gridcolor": "white",
           "linecolor": "white",
           "ticks": "",
           "title": {
            "standoff": 15
           },
           "zerolinecolor": "white",
           "zerolinewidth": 2
          },
          "yaxis": {
           "automargin": true,
           "gridcolor": "white",
           "linecolor": "white",
           "ticks": "",
           "title": {
            "standoff": 15
           },
           "zerolinecolor": "white",
           "zerolinewidth": 2
          }
         }
        },
        "title": {
         "text": "Precipitation of Region (PFAF-ID) 62297"
        },
        "width": 800,
        "xaxis": {
         "anchor": "y",
         "categoryarray": [
          "2024-06-02T00:00:00",
          "2024-06-03T00:00:00",
          "2024-06-04T00:00:00",
          "2024-06-05T00:00:00"
         ],
         "categoryorder": "array",
         "domain": [
          0,
          1
         ],
         "title": {
          "text": "time"
         }
        },
        "yaxis": {
         "anchor": "x",
         "domain": [
          0,
          1
         ],
         "title": {
          "text": "Rainf_tavg"
         }
        }
       }
      }
     },
     "metadata": {},
     "output_type": "display_data"
    }
   ],
   "source": [
    "fig = px.box(aoi_ds_summary, y = 'Rainf_tavg', x = 'time', color='time')\n",
    "fig.update_layout(title='Precipitation of Region (PFAF-ID) 62297', height = 800, width = 800)\n",
    "fig.show()"
   ]
  },
  {
   "cell_type": "markdown",
   "metadata": {},
   "source": [
    "Alternative route: making boxplots using Plotly Graph Objects,  styling mean & standard deviation\n"
   ]
  },
  {
   "cell_type": "code",
   "execution_count": 1,
   "metadata": {},
   "outputs": [
    {
     "ename": "NameError",
     "evalue": "name 'aoi_ds_summary' is not defined",
     "output_type": "error",
     "traceback": [
      "\u001b[1;31m---------------------------------------------------------------------------\u001b[0m",
      "\u001b[1;31mNameError\u001b[0m                                 Traceback (most recent call last)",
      "Cell \u001b[1;32mIn[1], line 4\u001b[0m\n\u001b[0;32m      1\u001b[0m \u001b[38;5;28;01mimport\u001b[39;00m \u001b[38;5;21;01mplotly\u001b[39;00m\u001b[38;5;21;01m.\u001b[39;00m\u001b[38;5;21;01mgraph_objects\u001b[39;00m \u001b[38;5;28;01mas\u001b[39;00m \u001b[38;5;21;01mgo\u001b[39;00m\n\u001b[0;32m      3\u001b[0m fig \u001b[38;5;241m=\u001b[39m go\u001b[38;5;241m.\u001b[39mFigure()\n\u001b[1;32m----> 4\u001b[0m fig\u001b[38;5;241m.\u001b[39madd_box(aoi_ds_summary, y \u001b[38;5;241m=\u001b[39m \u001b[38;5;124m'\u001b[39m\u001b[38;5;124mRainf_tavg\u001b[39m\u001b[38;5;124m'\u001b[39m, x \u001b[38;5;241m=\u001b[39m \u001b[38;5;124m'\u001b[39m\u001b[38;5;124mtime\u001b[39m\u001b[38;5;124m'\u001b[39m, color\u001b[38;5;241m=\u001b[39m\u001b[38;5;124m'\u001b[39m\u001b[38;5;124mtime\u001b[39m\u001b[38;5;124m'\u001b[39m)\n",
      "\u001b[1;31mNameError\u001b[0m: name 'aoi_ds_summary' is not defined"
     ]
    }
   ],
   "source": [
    "import plotly.graph_objects as go\n",
    "\n",
    "fig = go.Figure()\n",
    "fig.add_box(aoi_ds_summary, y = 'Rainf_tavg', x = 'time', color='time')"
   ]
  }
 ],
 "metadata": {
  "kernelspec": {
   "display_name": "base",
   "language": "python",
   "name": "python3"
  },
  "language_info": {
   "codemirror_mode": {
    "name": "ipython",
    "version": 3
   },
   "file_extension": ".py",
   "mimetype": "text/x-python",
   "name": "python",
   "nbconvert_exporter": "python",
   "pygments_lexer": "ipython3",
   "version": "3.11.7"
  }
 },
 "nbformat": 4,
 "nbformat_minor": 2
}
