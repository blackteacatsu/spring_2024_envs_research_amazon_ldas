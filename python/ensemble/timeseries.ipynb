{
 "cells": [
  {
   "cell_type": "markdown",
   "metadata": {},
   "source": [
    "Description: This jupyter notebook workspace demonstrates method used of grouping mean measurement across all 7 ensemble members by regions"
   ]
  },
  {
   "cell_type": "markdown",
   "metadata": {},
   "source": [
    "## Add packages"
   ]
  },
  {
   "cell_type": "code",
   "execution_count": 2,
   "metadata": {},
   "outputs": [
    {
     "name": "stderr",
     "output_type": "stream",
     "text": [
      "c:\\Users\\Kris\\AppData\\Local\\anaconda3\\Lib\\site-packages\\paramiko\\transport.py:219: CryptographyDeprecationWarning: Blowfish has been deprecated and will be removed in a future release\n",
      "  \"class\": algorithms.Blowfish,\n"
     ]
    }
   ],
   "source": [
    "# import packages\n",
    "import xarray as xr\n",
    "import geopandas as gpd\n",
    "import regionmask\n",
    "import matplotlib.pyplot as plt\n",
    "#import cartopy.crs as ccrs\n",
    "import plotly.express as px\n",
    "\n",
    "import json\n",
    "import urllib.request"
   ]
  },
  {
   "cell_type": "markdown",
   "metadata": {},
   "source": [
    "## Setup"
   ]
  },
  {
   "cell_type": "code",
   "execution_count": 4,
   "metadata": {},
   "outputs": [],
   "source": [
    "hydrobasins_lev05_url = 'https://raw.githubusercontent.com/blackteacatsu/spring_2024_envs_research_amazon_ldas/main/resources/hybas_sa_lev05_areaofstudy.geojson'\n",
    "with urllib.request.urlopen(hydrobasins_lev05_url) as url:\n",
    "        jdata = json.loads(url.read().decode())\n"
   ]
  },
  {
   "cell_type": "code",
   "execution_count": 3,
   "metadata": {},
   "outputs": [
    {
     "name": "stdout",
     "output_type": "stream",
     "text": [
      "East-West range of the NetCDF is: -82.0 to -49.0 \n",
      "\n",
      "North-South range of the NetCDF is: -21.0 to 6.0 \n",
      "\n",
      "This line print the bounds of the regions inside the shapefile: [-81.33353475 -20.87498542 -48.875        6.01723395] \n",
      "\n",
      "Here is the original CRS of the shapefile: EPSG:4326\n",
      "\n"
     ]
    },
    {
     "data": {
      "text/html": [
       "<div><svg style=\"position: absolute; width: 0; height: 0; overflow: hidden\">\n",
       "<defs>\n",
       "<symbol id=\"icon-database\" viewBox=\"0 0 32 32\">\n",
       "<path d=\"M16 0c-8.837 0-16 2.239-16 5v4c0 2.761 7.163 5 16 5s16-2.239 16-5v-4c0-2.761-7.163-5-16-5z\"></path>\n",
       "<path d=\"M16 17c-8.837 0-16-2.239-16-5v6c0 2.761 7.163 5 16 5s16-2.239 16-5v-6c0 2.761-7.163 5-16 5z\"></path>\n",
       "<path d=\"M16 26c-8.837 0-16-2.239-16-5v6c0 2.761 7.163 5 16 5s16-2.239 16-5v-6c0 2.761-7.163 5-16 5z\"></path>\n",
       "</symbol>\n",
       "<symbol id=\"icon-file-text2\" viewBox=\"0 0 32 32\">\n",
       "<path d=\"M28.681 7.159c-0.694-0.947-1.662-2.053-2.724-3.116s-2.169-2.030-3.116-2.724c-1.612-1.182-2.393-1.319-2.841-1.319h-15.5c-1.378 0-2.5 1.121-2.5 2.5v27c0 1.378 1.122 2.5 2.5 2.5h23c1.378 0 2.5-1.122 2.5-2.5v-19.5c0-0.448-0.137-1.23-1.319-2.841zM24.543 5.457c0.959 0.959 1.712 1.825 2.268 2.543h-4.811v-4.811c0.718 0.556 1.584 1.309 2.543 2.268zM28 29.5c0 0.271-0.229 0.5-0.5 0.5h-23c-0.271 0-0.5-0.229-0.5-0.5v-27c0-0.271 0.229-0.5 0.5-0.5 0 0 15.499-0 15.5 0v7c0 0.552 0.448 1 1 1h7v19.5z\"></path>\n",
       "<path d=\"M23 26h-14c-0.552 0-1-0.448-1-1s0.448-1 1-1h14c0.552 0 1 0.448 1 1s-0.448 1-1 1z\"></path>\n",
       "<path d=\"M23 22h-14c-0.552 0-1-0.448-1-1s0.448-1 1-1h14c0.552 0 1 0.448 1 1s-0.448 1-1 1z\"></path>\n",
       "<path d=\"M23 18h-14c-0.552 0-1-0.448-1-1s0.448-1 1-1h14c0.552 0 1 0.448 1 1s-0.448 1-1 1z\"></path>\n",
       "</symbol>\n",
       "</defs>\n",
       "</svg>\n",
       "<style>/* CSS stylesheet for displaying xarray objects in jupyterlab.\n",
       " *\n",
       " */\n",
       "\n",
       ":root {\n",
       "  --xr-font-color0: var(--jp-content-font-color0, rgba(0, 0, 0, 1));\n",
       "  --xr-font-color2: var(--jp-content-font-color2, rgba(0, 0, 0, 0.54));\n",
       "  --xr-font-color3: var(--jp-content-font-color3, rgba(0, 0, 0, 0.38));\n",
       "  --xr-border-color: var(--jp-border-color2, #e0e0e0);\n",
       "  --xr-disabled-color: var(--jp-layout-color3, #bdbdbd);\n",
       "  --xr-background-color: var(--jp-layout-color0, white);\n",
       "  --xr-background-color-row-even: var(--jp-layout-color1, white);\n",
       "  --xr-background-color-row-odd: var(--jp-layout-color2, #eeeeee);\n",
       "}\n",
       "\n",
       "html[theme=dark],\n",
       "body[data-theme=dark],\n",
       "body.vscode-dark {\n",
       "  --xr-font-color0: rgba(255, 255, 255, 1);\n",
       "  --xr-font-color2: rgba(255, 255, 255, 0.54);\n",
       "  --xr-font-color3: rgba(255, 255, 255, 0.38);\n",
       "  --xr-border-color: #1F1F1F;\n",
       "  --xr-disabled-color: #515151;\n",
       "  --xr-background-color: #111111;\n",
       "  --xr-background-color-row-even: #111111;\n",
       "  --xr-background-color-row-odd: #313131;\n",
       "}\n",
       "\n",
       ".xr-wrap {\n",
       "  display: block !important;\n",
       "  min-width: 300px;\n",
       "  max-width: 700px;\n",
       "}\n",
       "\n",
       ".xr-text-repr-fallback {\n",
       "  /* fallback to plain text repr when CSS is not injected (untrusted notebook) */\n",
       "  display: none;\n",
       "}\n",
       "\n",
       ".xr-header {\n",
       "  padding-top: 6px;\n",
       "  padding-bottom: 6px;\n",
       "  margin-bottom: 4px;\n",
       "  border-bottom: solid 1px var(--xr-border-color);\n",
       "}\n",
       "\n",
       ".xr-header > div,\n",
       ".xr-header > ul {\n",
       "  display: inline;\n",
       "  margin-top: 0;\n",
       "  margin-bottom: 0;\n",
       "}\n",
       "\n",
       ".xr-obj-type,\n",
       ".xr-array-name {\n",
       "  margin-left: 2px;\n",
       "  margin-right: 10px;\n",
       "}\n",
       "\n",
       ".xr-obj-type {\n",
       "  color: var(--xr-font-color2);\n",
       "}\n",
       "\n",
       ".xr-sections {\n",
       "  padding-left: 0 !important;\n",
       "  display: grid;\n",
       "  grid-template-columns: 150px auto auto 1fr 20px 20px;\n",
       "}\n",
       "\n",
       ".xr-section-item {\n",
       "  display: contents;\n",
       "}\n",
       "\n",
       ".xr-section-item input {\n",
       "  display: none;\n",
       "}\n",
       "\n",
       ".xr-section-item input + label {\n",
       "  color: var(--xr-disabled-color);\n",
       "}\n",
       "\n",
       ".xr-section-item input:enabled + label {\n",
       "  cursor: pointer;\n",
       "  color: var(--xr-font-color2);\n",
       "}\n",
       "\n",
       ".xr-section-item input:enabled + label:hover {\n",
       "  color: var(--xr-font-color0);\n",
       "}\n",
       "\n",
       ".xr-section-summary {\n",
       "  grid-column: 1;\n",
       "  color: var(--xr-font-color2);\n",
       "  font-weight: 500;\n",
       "}\n",
       "\n",
       ".xr-section-summary > span {\n",
       "  display: inline-block;\n",
       "  padding-left: 0.5em;\n",
       "}\n",
       "\n",
       ".xr-section-summary-in:disabled + label {\n",
       "  color: var(--xr-font-color2);\n",
       "}\n",
       "\n",
       ".xr-section-summary-in + label:before {\n",
       "  display: inline-block;\n",
       "  content: '►';\n",
       "  font-size: 11px;\n",
       "  width: 15px;\n",
       "  text-align: center;\n",
       "}\n",
       "\n",
       ".xr-section-summary-in:disabled + label:before {\n",
       "  color: var(--xr-disabled-color);\n",
       "}\n",
       "\n",
       ".xr-section-summary-in:checked + label:before {\n",
       "  content: '▼';\n",
       "}\n",
       "\n",
       ".xr-section-summary-in:checked + label > span {\n",
       "  display: none;\n",
       "}\n",
       "\n",
       ".xr-section-summary,\n",
       ".xr-section-inline-details {\n",
       "  padding-top: 4px;\n",
       "  padding-bottom: 4px;\n",
       "}\n",
       "\n",
       ".xr-section-inline-details {\n",
       "  grid-column: 2 / -1;\n",
       "}\n",
       "\n",
       ".xr-section-details {\n",
       "  display: none;\n",
       "  grid-column: 1 / -1;\n",
       "  margin-bottom: 5px;\n",
       "}\n",
       "\n",
       ".xr-section-summary-in:checked ~ .xr-section-details {\n",
       "  display: contents;\n",
       "}\n",
       "\n",
       ".xr-array-wrap {\n",
       "  grid-column: 1 / -1;\n",
       "  display: grid;\n",
       "  grid-template-columns: 20px auto;\n",
       "}\n",
       "\n",
       ".xr-array-wrap > label {\n",
       "  grid-column: 1;\n",
       "  vertical-align: top;\n",
       "}\n",
       "\n",
       ".xr-preview {\n",
       "  color: var(--xr-font-color3);\n",
       "}\n",
       "\n",
       ".xr-array-preview,\n",
       ".xr-array-data {\n",
       "  padding: 0 5px !important;\n",
       "  grid-column: 2;\n",
       "}\n",
       "\n",
       ".xr-array-data,\n",
       ".xr-array-in:checked ~ .xr-array-preview {\n",
       "  display: none;\n",
       "}\n",
       "\n",
       ".xr-array-in:checked ~ .xr-array-data,\n",
       ".xr-array-preview {\n",
       "  display: inline-block;\n",
       "}\n",
       "\n",
       ".xr-dim-list {\n",
       "  display: inline-block !important;\n",
       "  list-style: none;\n",
       "  padding: 0 !important;\n",
       "  margin: 0;\n",
       "}\n",
       "\n",
       ".xr-dim-list li {\n",
       "  display: inline-block;\n",
       "  padding: 0;\n",
       "  margin: 0;\n",
       "}\n",
       "\n",
       ".xr-dim-list:before {\n",
       "  content: '(';\n",
       "}\n",
       "\n",
       ".xr-dim-list:after {\n",
       "  content: ')';\n",
       "}\n",
       "\n",
       ".xr-dim-list li:not(:last-child):after {\n",
       "  content: ',';\n",
       "  padding-right: 5px;\n",
       "}\n",
       "\n",
       ".xr-has-index {\n",
       "  font-weight: bold;\n",
       "}\n",
       "\n",
       ".xr-var-list,\n",
       ".xr-var-item {\n",
       "  display: contents;\n",
       "}\n",
       "\n",
       ".xr-var-item > div,\n",
       ".xr-var-item label,\n",
       ".xr-var-item > .xr-var-name span {\n",
       "  background-color: var(--xr-background-color-row-even);\n",
       "  margin-bottom: 0;\n",
       "}\n",
       "\n",
       ".xr-var-item > .xr-var-name:hover span {\n",
       "  padding-right: 5px;\n",
       "}\n",
       "\n",
       ".xr-var-list > li:nth-child(odd) > div,\n",
       ".xr-var-list > li:nth-child(odd) > label,\n",
       ".xr-var-list > li:nth-child(odd) > .xr-var-name span {\n",
       "  background-color: var(--xr-background-color-row-odd);\n",
       "}\n",
       "\n",
       ".xr-var-name {\n",
       "  grid-column: 1;\n",
       "}\n",
       "\n",
       ".xr-var-dims {\n",
       "  grid-column: 2;\n",
       "}\n",
       "\n",
       ".xr-var-dtype {\n",
       "  grid-column: 3;\n",
       "  text-align: right;\n",
       "  color: var(--xr-font-color2);\n",
       "}\n",
       "\n",
       ".xr-var-preview {\n",
       "  grid-column: 4;\n",
       "}\n",
       "\n",
       ".xr-index-preview {\n",
       "  grid-column: 2 / 5;\n",
       "  color: var(--xr-font-color2);\n",
       "}\n",
       "\n",
       ".xr-var-name,\n",
       ".xr-var-dims,\n",
       ".xr-var-dtype,\n",
       ".xr-preview,\n",
       ".xr-attrs dt {\n",
       "  white-space: nowrap;\n",
       "  overflow: hidden;\n",
       "  text-overflow: ellipsis;\n",
       "  padding-right: 10px;\n",
       "}\n",
       "\n",
       ".xr-var-name:hover,\n",
       ".xr-var-dims:hover,\n",
       ".xr-var-dtype:hover,\n",
       ".xr-attrs dt:hover {\n",
       "  overflow: visible;\n",
       "  width: auto;\n",
       "  z-index: 1;\n",
       "}\n",
       "\n",
       ".xr-var-attrs,\n",
       ".xr-var-data,\n",
       ".xr-index-data {\n",
       "  display: none;\n",
       "  background-color: var(--xr-background-color) !important;\n",
       "  padding-bottom: 5px !important;\n",
       "}\n",
       "\n",
       ".xr-var-attrs-in:checked ~ .xr-var-attrs,\n",
       ".xr-var-data-in:checked ~ .xr-var-data,\n",
       ".xr-index-data-in:checked ~ .xr-index-data {\n",
       "  display: block;\n",
       "}\n",
       "\n",
       ".xr-var-data > table {\n",
       "  float: right;\n",
       "}\n",
       "\n",
       ".xr-var-name span,\n",
       ".xr-var-data,\n",
       ".xr-index-name div,\n",
       ".xr-index-data,\n",
       ".xr-attrs {\n",
       "  padding-left: 25px !important;\n",
       "}\n",
       "\n",
       ".xr-attrs,\n",
       ".xr-var-attrs,\n",
       ".xr-var-data,\n",
       ".xr-index-data {\n",
       "  grid-column: 1 / -1;\n",
       "}\n",
       "\n",
       "dl.xr-attrs {\n",
       "  padding: 0;\n",
       "  margin: 0;\n",
       "  display: grid;\n",
       "  grid-template-columns: 125px auto;\n",
       "}\n",
       "\n",
       ".xr-attrs dt,\n",
       ".xr-attrs dd {\n",
       "  padding: 0;\n",
       "  margin: 0;\n",
       "  float: left;\n",
       "  padding-right: 10px;\n",
       "  width: auto;\n",
       "}\n",
       "\n",
       ".xr-attrs dt {\n",
       "  font-weight: normal;\n",
       "  grid-column: 1;\n",
       "}\n",
       "\n",
       ".xr-attrs dt:hover span {\n",
       "  display: inline-block;\n",
       "  background: var(--xr-background-color);\n",
       "  padding-right: 10px;\n",
       "}\n",
       "\n",
       ".xr-attrs dd {\n",
       "  grid-column: 2;\n",
       "  white-space: pre-wrap;\n",
       "  word-break: break-all;\n",
       "}\n",
       "\n",
       ".xr-icon-database,\n",
       ".xr-icon-file-text2,\n",
       ".xr-no-icon {\n",
       "  display: inline-block;\n",
       "  vertical-align: middle;\n",
       "  width: 1em;\n",
       "  height: 1.5em !important;\n",
       "  stroke-width: 0;\n",
       "  stroke: currentColor;\n",
       "  fill: currentColor;\n",
       "}\n",
       "</style><pre class='xr-text-repr-fallback'>&lt;xarray.Dataset&gt;\n",
       "Dimensions:           (time: 4, north_south: 540, east_west: 660, ensemble: 7,\n",
       "                       SoilMoist_profiles: 4, SoilTemp_profiles: 4)\n",
       "Coordinates:\n",
       "  * time              (time) datetime64[ns] 2024-06-02 2024-06-03 ... 2024-06-05\n",
       "  * ensemble          (ensemble) float32 1.0 2.0 3.0 4.0 5.0 6.0 7.0\n",
       "  * north_south       (north_south) float64 -21.0 -20.95 -20.9 ... 5.9 5.95 6.0\n",
       "  * east_west         (east_west) float64 -82.0 -81.95 -81.9 ... -49.05 -49.0\n",
       "Dimensions without coordinates: SoilMoist_profiles, SoilTemp_profiles\n",
       "Data variables: (12/32)\n",
       "    lat               (time, north_south) float32 ...\n",
       "    lon               (time, east_west) float32 ...\n",
       "    Swnet_tavg        (time, ensemble, north_south, east_west) float32 ...\n",
       "    Lwnet_tavg        (time, ensemble, north_south, east_west) float32 ...\n",
       "    Qle_tavg          (time, ensemble, north_south, east_west) float32 ...\n",
       "    Qh_tavg           (time, ensemble, north_south, east_west) float32 ...\n",
       "    ...                ...\n",
       "    Qair_f_tavg       (time, ensemble, north_south, east_west) float32 ...\n",
       "    Psurf_f_tavg      (time, ensemble, north_south, east_west) float32 ...\n",
       "    SWdown_f_tavg     (time, ensemble, north_south, east_west) float32 ...\n",
       "    LWdown_f_tavg     (time, ensemble, north_south, east_west) float32 ...\n",
       "    LAI_inst          (time, ensemble, north_south, east_west) float32 ...\n",
       "    Greenness_inst    (time, ensemble, north_south, east_west) float32 ...\n",
       "Attributes: (12/15)\n",
       "    missing_value:           -9999.0\n",
       "    NUM_SOIL_LAYERS:         4\n",
       "    SOIL_LAYER_THICKNESSES:  [ 10.        30.000002  60.000004 100.      ]\n",
       "    title:                   LIS land surface model output\n",
       "    institution:             NASA GSFC\n",
       "    source:                  \n",
       "    ...                      ...\n",
       "    comment:                 website: http://lis.gsfc.nasa.gov/\n",
       "    MAP_PROJECTION:          EQUIDISTANT CYLINDRICAL\n",
       "    SOUTH_WEST_CORNER_LAT:   -20.975\n",
       "    SOUTH_WEST_CORNER_LON:   -81.975\n",
       "    DX:                      0.05\n",
       "    DY:                      0.05</pre><div class='xr-wrap' style='display:none'><div class='xr-header'><div class='xr-obj-type'>xarray.Dataset</div></div><ul class='xr-sections'><li class='xr-section-item'><input id='section-99ae6a70-2a9d-4519-9be3-64c4e5bab846' class='xr-section-summary-in' type='checkbox' disabled ><label for='section-99ae6a70-2a9d-4519-9be3-64c4e5bab846' class='xr-section-summary'  title='Expand/collapse section'>Dimensions:</label><div class='xr-section-inline-details'><ul class='xr-dim-list'><li><span class='xr-has-index'>time</span>: 4</li><li><span class='xr-has-index'>north_south</span>: 540</li><li><span class='xr-has-index'>east_west</span>: 660</li><li><span class='xr-has-index'>ensemble</span>: 7</li><li><span>SoilMoist_profiles</span>: 4</li><li><span>SoilTemp_profiles</span>: 4</li></ul></div><div class='xr-section-details'></div></li><li class='xr-section-item'><input id='section-17239630-8587-45db-aeed-b0ae169959b0' class='xr-section-summary-in' type='checkbox'  checked><label for='section-17239630-8587-45db-aeed-b0ae169959b0' class='xr-section-summary' >Coordinates: <span>(4)</span></label><div class='xr-section-inline-details'></div><div class='xr-section-details'><ul class='xr-var-list'><li class='xr-var-item'><div class='xr-var-name'><span class='xr-has-index'>time</span></div><div class='xr-var-dims'>(time)</div><div class='xr-var-dtype'>datetime64[ns]</div><div class='xr-var-preview xr-preview'>2024-06-02 ... 2024-06-05</div><input id='attrs-195918d2-5c8a-41db-a408-dedda118c624' class='xr-var-attrs-in' type='checkbox' ><label for='attrs-195918d2-5c8a-41db-a408-dedda118c624' title='Show/Hide attributes'><svg class='icon xr-icon-file-text2'><use xlink:href='#icon-file-text2'></use></svg></label><input id='data-b5593285-86ff-4cf1-9cd7-9735a53bd7ed' class='xr-var-data-in' type='checkbox'><label for='data-b5593285-86ff-4cf1-9cd7-9735a53bd7ed' title='Show/Hide data repr'><svg class='icon xr-icon-database'><use xlink:href='#icon-database'></use></svg></label><div class='xr-var-attrs'><dl class='xr-attrs'><dt><span>long_name :</span></dt><dd>time</dd><dt><span>time_increment :</span></dt><dd>86400</dd><dt><span>begin_date :</span></dt><dd>20240602</dd><dt><span>begin_time :</span></dt><dd>000000</dd></dl></div><div class='xr-var-data'><pre>array([&#x27;2024-06-02T00:00:00.000000000&#x27;, &#x27;2024-06-03T00:00:00.000000000&#x27;,\n",
       "       &#x27;2024-06-04T00:00:00.000000000&#x27;, &#x27;2024-06-05T00:00:00.000000000&#x27;],\n",
       "      dtype=&#x27;datetime64[ns]&#x27;)</pre></div></li><li class='xr-var-item'><div class='xr-var-name'><span class='xr-has-index'>ensemble</span></div><div class='xr-var-dims'>(ensemble)</div><div class='xr-var-dtype'>float32</div><div class='xr-var-preview xr-preview'>1.0 2.0 3.0 4.0 5.0 6.0 7.0</div><input id='attrs-707dcc36-9226-4a4f-86c9-f263525c8730' class='xr-var-attrs-in' type='checkbox' ><label for='attrs-707dcc36-9226-4a4f-86c9-f263525c8730' title='Show/Hide attributes'><svg class='icon xr-icon-file-text2'><use xlink:href='#icon-file-text2'></use></svg></label><input id='data-ba46b1ad-c769-4600-bff8-983b64c587bd' class='xr-var-data-in' type='checkbox'><label for='data-ba46b1ad-c769-4600-bff8-983b64c587bd' title='Show/Hide data repr'><svg class='icon xr-icon-database'><use xlink:href='#icon-database'></use></svg></label><div class='xr-var-attrs'><dl class='xr-attrs'><dt><span>units :</span></dt><dd>ensemble number</dd><dt><span>long_name :</span></dt><dd>Ensemble numbers</dd></dl></div><div class='xr-var-data'><pre>array([1., 2., 3., 4., 5., 6., 7.], dtype=float32)</pre></div></li><li class='xr-var-item'><div class='xr-var-name'><span class='xr-has-index'>north_south</span></div><div class='xr-var-dims'>(north_south)</div><div class='xr-var-dtype'>float64</div><div class='xr-var-preview xr-preview'>-21.0 -20.95 -20.9 ... 5.9 5.95 6.0</div><input id='attrs-8bb23436-b20f-46de-919a-d2f1283c5102' class='xr-var-attrs-in' type='checkbox' ><label for='attrs-8bb23436-b20f-46de-919a-d2f1283c5102' title='Show/Hide attributes'><svg class='icon xr-icon-file-text2'><use xlink:href='#icon-file-text2'></use></svg></label><input id='data-33f77076-b73e-4295-9f49-780f7b93a696' class='xr-var-data-in' type='checkbox'><label for='data-33f77076-b73e-4295-9f49-780f7b93a696' title='Show/Hide data repr'><svg class='icon xr-icon-database'><use xlink:href='#icon-database'></use></svg></label><div class='xr-var-attrs'><dl class='xr-attrs'><dt><span>units :</span></dt><dd>degrees_n</dd></dl></div><div class='xr-var-data'><pre>array([-21.      , -20.949907, -20.899814, ...,   5.899814,   5.949907,\n",
       "         6.      ])</pre></div></li><li class='xr-var-item'><div class='xr-var-name'><span class='xr-has-index'>east_west</span></div><div class='xr-var-dims'>(east_west)</div><div class='xr-var-dtype'>float64</div><div class='xr-var-preview xr-preview'>-82.0 -81.95 -81.9 ... -49.05 -49.0</div><input id='attrs-5fd40c8b-d7b4-41ee-8997-9eff5dc18615' class='xr-var-attrs-in' type='checkbox' ><label for='attrs-5fd40c8b-d7b4-41ee-8997-9eff5dc18615' title='Show/Hide attributes'><svg class='icon xr-icon-file-text2'><use xlink:href='#icon-file-text2'></use></svg></label><input id='data-22880cb9-26b2-4806-a943-47fddc4c9705' class='xr-var-data-in' type='checkbox'><label for='data-22880cb9-26b2-4806-a943-47fddc4c9705' title='Show/Hide data repr'><svg class='icon xr-icon-database'><use xlink:href='#icon-database'></use></svg></label><div class='xr-var-attrs'><dl class='xr-attrs'><dt><span>units :</span></dt><dd>degrees_e</dd></dl></div><div class='xr-var-data'><pre>array([-82.      , -81.949924, -81.899848, ..., -49.100152, -49.050076,\n",
       "       -49.      ])</pre></div></li></ul></div></li><li class='xr-section-item'><input id='section-83dbb30d-72ee-4393-8796-dddbc0f7144e' class='xr-section-summary-in' type='checkbox'  ><label for='section-83dbb30d-72ee-4393-8796-dddbc0f7144e' class='xr-section-summary' >Data variables: <span>(32)</span></label><div class='xr-section-inline-details'></div><div class='xr-section-details'><ul class='xr-var-list'><li class='xr-var-item'><div class='xr-var-name'><span>lat</span></div><div class='xr-var-dims'>(time, north_south)</div><div class='xr-var-dtype'>float32</div><div class='xr-var-preview xr-preview'>...</div><input id='attrs-491eff09-2147-4b79-8380-b45c59e2713f' class='xr-var-attrs-in' type='checkbox' ><label for='attrs-491eff09-2147-4b79-8380-b45c59e2713f' title='Show/Hide attributes'><svg class='icon xr-icon-file-text2'><use xlink:href='#icon-file-text2'></use></svg></label><input id='data-7d62fae6-5cfc-4842-9224-56d35ecce557' class='xr-var-data-in' type='checkbox'><label for='data-7d62fae6-5cfc-4842-9224-56d35ecce557' title='Show/Hide data repr'><svg class='icon xr-icon-database'><use xlink:href='#icon-database'></use></svg></label><div class='xr-var-attrs'><dl class='xr-attrs'><dt><span>units :</span></dt><dd>degree_north</dd><dt><span>standard_name :</span></dt><dd>latitude</dd><dt><span>long_name :</span></dt><dd>latitude</dd><dt><span>vmin :</span></dt><dd>0.0</dd><dt><span>vmax :</span></dt><dd>0.0</dd></dl></div><div class='xr-var-data'><pre>[2160 values with dtype=float32]</pre></div></li><li class='xr-var-item'><div class='xr-var-name'><span>lon</span></div><div class='xr-var-dims'>(time, east_west)</div><div class='xr-var-dtype'>float32</div><div class='xr-var-preview xr-preview'>...</div><input id='attrs-cf585c23-d809-4f50-9bb5-8b8d68019885' class='xr-var-attrs-in' type='checkbox' ><label for='attrs-cf585c23-d809-4f50-9bb5-8b8d68019885' title='Show/Hide attributes'><svg class='icon xr-icon-file-text2'><use xlink:href='#icon-file-text2'></use></svg></label><input id='data-d217db73-bac0-44cd-816c-8db9254ba844' class='xr-var-data-in' type='checkbox'><label for='data-d217db73-bac0-44cd-816c-8db9254ba844' title='Show/Hide data repr'><svg class='icon xr-icon-database'><use xlink:href='#icon-database'></use></svg></label><div class='xr-var-attrs'><dl class='xr-attrs'><dt><span>units :</span></dt><dd>degree_east</dd><dt><span>standard_name :</span></dt><dd>longitude</dd><dt><span>long_name :</span></dt><dd>longitude</dd><dt><span>vmin :</span></dt><dd>0.0</dd><dt><span>vmax :</span></dt><dd>0.0</dd></dl></div><div class='xr-var-data'><pre>[2640 values with dtype=float32]</pre></div></li><li class='xr-var-item'><div class='xr-var-name'><span>Swnet_tavg</span></div><div class='xr-var-dims'>(time, ensemble, north_south, east_west)</div><div class='xr-var-dtype'>float32</div><div class='xr-var-preview xr-preview'>...</div><input id='attrs-f34c4d84-10eb-48d7-abd4-72df8794b8ff' class='xr-var-attrs-in' type='checkbox' ><label for='attrs-f34c4d84-10eb-48d7-abd4-72df8794b8ff' title='Show/Hide attributes'><svg class='icon xr-icon-file-text2'><use xlink:href='#icon-file-text2'></use></svg></label><input id='data-6fd6c6e9-c11f-40ab-b5fb-f851e4fa741d' class='xr-var-data-in' type='checkbox'><label for='data-6fd6c6e9-c11f-40ab-b5fb-f851e4fa741d' title='Show/Hide data repr'><svg class='icon xr-icon-database'><use xlink:href='#icon-database'></use></svg></label><div class='xr-var-attrs'><dl class='xr-attrs'><dt><span>units :</span></dt><dd>W m-2</dd><dt><span>standard_name :</span></dt><dd>surface_net_downward_shortwave_flux</dd><dt><span>long_name :</span></dt><dd>net downward shortwave radiation</dd><dt><span>vmin :</span></dt><dd>0.0</dd><dt><span>vmax :</span></dt><dd>0.0</dd></dl></div><div class='xr-var-data'><pre>[9979200 values with dtype=float32]</pre></div></li><li class='xr-var-item'><div class='xr-var-name'><span>Lwnet_tavg</span></div><div class='xr-var-dims'>(time, ensemble, north_south, east_west)</div><div class='xr-var-dtype'>float32</div><div class='xr-var-preview xr-preview'>...</div><input id='attrs-ac24133a-78f3-48fd-abf0-3485a9722558' class='xr-var-attrs-in' type='checkbox' ><label for='attrs-ac24133a-78f3-48fd-abf0-3485a9722558' title='Show/Hide attributes'><svg class='icon xr-icon-file-text2'><use xlink:href='#icon-file-text2'></use></svg></label><input id='data-b15c1c0e-7113-4051-9d6a-da9b20218afc' class='xr-var-data-in' type='checkbox'><label for='data-b15c1c0e-7113-4051-9d6a-da9b20218afc' title='Show/Hide data repr'><svg class='icon xr-icon-database'><use xlink:href='#icon-database'></use></svg></label><div class='xr-var-attrs'><dl class='xr-attrs'><dt><span>units :</span></dt><dd>W m-2</dd><dt><span>standard_name :</span></dt><dd>surface_net_downward_longwave_flux</dd><dt><span>long_name :</span></dt><dd>net downward longwave radiation</dd><dt><span>vmin :</span></dt><dd>0.0</dd><dt><span>vmax :</span></dt><dd>0.0</dd></dl></div><div class='xr-var-data'><pre>[9979200 values with dtype=float32]</pre></div></li><li class='xr-var-item'><div class='xr-var-name'><span>Qle_tavg</span></div><div class='xr-var-dims'>(time, ensemble, north_south, east_west)</div><div class='xr-var-dtype'>float32</div><div class='xr-var-preview xr-preview'>...</div><input id='attrs-3cb37f36-d89f-4957-bb60-0e3c4437c5e4' class='xr-var-attrs-in' type='checkbox' ><label for='attrs-3cb37f36-d89f-4957-bb60-0e3c4437c5e4' title='Show/Hide attributes'><svg class='icon xr-icon-file-text2'><use xlink:href='#icon-file-text2'></use></svg></label><input id='data-3f978093-f38d-41e6-abf3-8a62fade0a46' class='xr-var-data-in' type='checkbox'><label for='data-3f978093-f38d-41e6-abf3-8a62fade0a46' title='Show/Hide data repr'><svg class='icon xr-icon-database'><use xlink:href='#icon-database'></use></svg></label><div class='xr-var-attrs'><dl class='xr-attrs'><dt><span>units :</span></dt><dd>W m-2</dd><dt><span>standard_name :</span></dt><dd>surface_upward_latent_heat_flux</dd><dt><span>long_name :</span></dt><dd>latent heat flux</dd><dt><span>vmin :</span></dt><dd>0.0</dd><dt><span>vmax :</span></dt><dd>0.0</dd></dl></div><div class='xr-var-data'><pre>[9979200 values with dtype=float32]</pre></div></li><li class='xr-var-item'><div class='xr-var-name'><span>Qh_tavg</span></div><div class='xr-var-dims'>(time, ensemble, north_south, east_west)</div><div class='xr-var-dtype'>float32</div><div class='xr-var-preview xr-preview'>...</div><input id='attrs-8269a401-a028-4610-b844-deb3abc14677' class='xr-var-attrs-in' type='checkbox' ><label for='attrs-8269a401-a028-4610-b844-deb3abc14677' title='Show/Hide attributes'><svg class='icon xr-icon-file-text2'><use xlink:href='#icon-file-text2'></use></svg></label><input id='data-ca278459-50ce-483a-9f6b-2e9ee4750225' class='xr-var-data-in' type='checkbox'><label for='data-ca278459-50ce-483a-9f6b-2e9ee4750225' title='Show/Hide data repr'><svg class='icon xr-icon-database'><use xlink:href='#icon-database'></use></svg></label><div class='xr-var-attrs'><dl class='xr-attrs'><dt><span>units :</span></dt><dd>W m-2</dd><dt><span>standard_name :</span></dt><dd>surface_upward_sensible_heat_flux</dd><dt><span>long_name :</span></dt><dd>sensible heat flux</dd><dt><span>vmin :</span></dt><dd>0.0</dd><dt><span>vmax :</span></dt><dd>0.0</dd></dl></div><div class='xr-var-data'><pre>[9979200 values with dtype=float32]</pre></div></li><li class='xr-var-item'><div class='xr-var-name'><span>Qg_tavg</span></div><div class='xr-var-dims'>(time, ensemble, north_south, east_west)</div><div class='xr-var-dtype'>float32</div><div class='xr-var-preview xr-preview'>...</div><input id='attrs-307df877-b8ce-4be2-b6ad-a7a52a13d500' class='xr-var-attrs-in' type='checkbox' ><label for='attrs-307df877-b8ce-4be2-b6ad-a7a52a13d500' title='Show/Hide attributes'><svg class='icon xr-icon-file-text2'><use xlink:href='#icon-file-text2'></use></svg></label><input id='data-4faea8de-0cdc-4c25-b393-cf03686141a6' class='xr-var-data-in' type='checkbox'><label for='data-4faea8de-0cdc-4c25-b393-cf03686141a6' title='Show/Hide data repr'><svg class='icon xr-icon-database'><use xlink:href='#icon-database'></use></svg></label><div class='xr-var-attrs'><dl class='xr-attrs'><dt><span>units :</span></dt><dd>W m-2</dd><dt><span>standard_name :</span></dt><dd>downward_heat_flux_in_soil</dd><dt><span>long_name :</span></dt><dd>soil heat flux</dd><dt><span>vmin :</span></dt><dd>0.0</dd><dt><span>vmax :</span></dt><dd>0.0</dd></dl></div><div class='xr-var-data'><pre>[9979200 values with dtype=float32]</pre></div></li><li class='xr-var-item'><div class='xr-var-name'><span>Snowf_tavg</span></div><div class='xr-var-dims'>(time, ensemble, north_south, east_west)</div><div class='xr-var-dtype'>float32</div><div class='xr-var-preview xr-preview'>...</div><input id='attrs-85ae3ddd-0cd8-4492-ac53-57c305bb7f3a' class='xr-var-attrs-in' type='checkbox' ><label for='attrs-85ae3ddd-0cd8-4492-ac53-57c305bb7f3a' title='Show/Hide attributes'><svg class='icon xr-icon-file-text2'><use xlink:href='#icon-file-text2'></use></svg></label><input id='data-cd21acd1-9dde-4d9c-a306-f0002704b26e' class='xr-var-data-in' type='checkbox'><label for='data-cd21acd1-9dde-4d9c-a306-f0002704b26e' title='Show/Hide data repr'><svg class='icon xr-icon-database'><use xlink:href='#icon-database'></use></svg></label><div class='xr-var-attrs'><dl class='xr-attrs'><dt><span>units :</span></dt><dd>kg m-2 s-1</dd><dt><span>standard_name :</span></dt><dd>snowfall_rate</dd><dt><span>long_name :</span></dt><dd>snowfall rate</dd><dt><span>vmin :</span></dt><dd>0.0</dd><dt><span>vmax :</span></dt><dd>0.0</dd></dl></div><div class='xr-var-data'><pre>[9979200 values with dtype=float32]</pre></div></li><li class='xr-var-item'><div class='xr-var-name'><span>Rainf_tavg</span></div><div class='xr-var-dims'>(time, ensemble, north_south, east_west)</div><div class='xr-var-dtype'>float32</div><div class='xr-var-preview xr-preview'>...</div><input id='attrs-038f3afe-8a43-4231-ac74-6c28220b51bf' class='xr-var-attrs-in' type='checkbox' ><label for='attrs-038f3afe-8a43-4231-ac74-6c28220b51bf' title='Show/Hide attributes'><svg class='icon xr-icon-file-text2'><use xlink:href='#icon-file-text2'></use></svg></label><input id='data-2ba5cc14-f9be-46eb-b5ca-b70af6c8a02c' class='xr-var-data-in' type='checkbox'><label for='data-2ba5cc14-f9be-46eb-b5ca-b70af6c8a02c' title='Show/Hide data repr'><svg class='icon xr-icon-database'><use xlink:href='#icon-database'></use></svg></label><div class='xr-var-attrs'><dl class='xr-attrs'><dt><span>units :</span></dt><dd>kg m-2 s-1</dd><dt><span>standard_name :</span></dt><dd>precipitation_rate</dd><dt><span>long_name :</span></dt><dd>precipitation rate</dd><dt><span>vmin :</span></dt><dd>0.0</dd><dt><span>vmax :</span></dt><dd>0.0</dd></dl></div><div class='xr-var-data'><pre>[9979200 values with dtype=float32]</pre></div></li><li class='xr-var-item'><div class='xr-var-name'><span>Evap_tavg</span></div><div class='xr-var-dims'>(time, ensemble, north_south, east_west)</div><div class='xr-var-dtype'>float32</div><div class='xr-var-preview xr-preview'>...</div><input id='attrs-7591b4c8-3097-40db-8fdf-46640579dfe4' class='xr-var-attrs-in' type='checkbox' ><label for='attrs-7591b4c8-3097-40db-8fdf-46640579dfe4' title='Show/Hide attributes'><svg class='icon xr-icon-file-text2'><use xlink:href='#icon-file-text2'></use></svg></label><input id='data-6e2c8ff3-8523-4860-9372-c24113008170' class='xr-var-data-in' type='checkbox'><label for='data-6e2c8ff3-8523-4860-9372-c24113008170' title='Show/Hide data repr'><svg class='icon xr-icon-database'><use xlink:href='#icon-database'></use></svg></label><div class='xr-var-attrs'><dl class='xr-attrs'><dt><span>units :</span></dt><dd>kg m-2 s-1</dd><dt><span>standard_name :</span></dt><dd>total_evapotranspiration</dd><dt><span>long_name :</span></dt><dd>total evapotranspiration</dd><dt><span>vmin :</span></dt><dd>0.0</dd><dt><span>vmax :</span></dt><dd>0.0</dd></dl></div><div class='xr-var-data'><pre>[9979200 values with dtype=float32]</pre></div></li><li class='xr-var-item'><div class='xr-var-name'><span>Qs_tavg</span></div><div class='xr-var-dims'>(time, ensemble, north_south, east_west)</div><div class='xr-var-dtype'>float32</div><div class='xr-var-preview xr-preview'>...</div><input id='attrs-74543953-5c8d-4f04-920a-e426aa8c3b1d' class='xr-var-attrs-in' type='checkbox' ><label for='attrs-74543953-5c8d-4f04-920a-e426aa8c3b1d' title='Show/Hide attributes'><svg class='icon xr-icon-file-text2'><use xlink:href='#icon-file-text2'></use></svg></label><input id='data-8ac829c7-d435-426e-8029-9314405db374' class='xr-var-data-in' type='checkbox'><label for='data-8ac829c7-d435-426e-8029-9314405db374' title='Show/Hide data repr'><svg class='icon xr-icon-database'><use xlink:href='#icon-database'></use></svg></label><div class='xr-var-attrs'><dl class='xr-attrs'><dt><span>units :</span></dt><dd>kg m-2 s-1</dd><dt><span>standard_name :</span></dt><dd>surface_runoff_amount</dd><dt><span>long_name :</span></dt><dd>surface runoff</dd><dt><span>vmin :</span></dt><dd>0.0</dd><dt><span>vmax :</span></dt><dd>0.0</dd></dl></div><div class='xr-var-data'><pre>[9979200 values with dtype=float32]</pre></div></li><li class='xr-var-item'><div class='xr-var-name'><span>Qsb_tavg</span></div><div class='xr-var-dims'>(time, ensemble, north_south, east_west)</div><div class='xr-var-dtype'>float32</div><div class='xr-var-preview xr-preview'>...</div><input id='attrs-0a3f7f60-d4b2-4916-9f03-648c3890847d' class='xr-var-attrs-in' type='checkbox' ><label for='attrs-0a3f7f60-d4b2-4916-9f03-648c3890847d' title='Show/Hide attributes'><svg class='icon xr-icon-file-text2'><use xlink:href='#icon-file-text2'></use></svg></label><input id='data-f0c423a3-a8ee-40f3-abdc-a6910f8219d6' class='xr-var-data-in' type='checkbox'><label for='data-f0c423a3-a8ee-40f3-abdc-a6910f8219d6' title='Show/Hide data repr'><svg class='icon xr-icon-database'><use xlink:href='#icon-database'></use></svg></label><div class='xr-var-attrs'><dl class='xr-attrs'><dt><span>units :</span></dt><dd>kg m-2 s-1</dd><dt><span>standard_name :</span></dt><dd>subsurface_runoff_amount</dd><dt><span>long_name :</span></dt><dd>subsurface runoff amount</dd><dt><span>vmin :</span></dt><dd>0.0</dd><dt><span>vmax :</span></dt><dd>0.0</dd></dl></div><div class='xr-var-data'><pre>[9979200 values with dtype=float32]</pre></div></li><li class='xr-var-item'><div class='xr-var-name'><span>Qsm_tavg</span></div><div class='xr-var-dims'>(time, ensemble, north_south, east_west)</div><div class='xr-var-dtype'>float32</div><div class='xr-var-preview xr-preview'>...</div><input id='attrs-1c7abe4f-12d9-428a-ae20-ef08dd0d2dd3' class='xr-var-attrs-in' type='checkbox' ><label for='attrs-1c7abe4f-12d9-428a-ae20-ef08dd0d2dd3' title='Show/Hide attributes'><svg class='icon xr-icon-file-text2'><use xlink:href='#icon-file-text2'></use></svg></label><input id='data-c612dee2-fc6b-4033-951a-8ba141d24689' class='xr-var-data-in' type='checkbox'><label for='data-c612dee2-fc6b-4033-951a-8ba141d24689' title='Show/Hide data repr'><svg class='icon xr-icon-database'><use xlink:href='#icon-database'></use></svg></label><div class='xr-var-attrs'><dl class='xr-attrs'><dt><span>units :</span></dt><dd>kg m-2 s-1</dd><dt><span>standard_name :</span></dt><dd>snowmelt</dd><dt><span>long_name :</span></dt><dd>snowmelt</dd><dt><span>vmin :</span></dt><dd>0.0</dd><dt><span>vmax :</span></dt><dd>0.0</dd></dl></div><div class='xr-var-data'><pre>[9979200 values with dtype=float32]</pre></div></li><li class='xr-var-item'><div class='xr-var-name'><span>Albedo_inst</span></div><div class='xr-var-dims'>(time, ensemble, north_south, east_west)</div><div class='xr-var-dtype'>float32</div><div class='xr-var-preview xr-preview'>...</div><input id='attrs-2ea2090d-ec4c-4dcd-bb9b-9a49b0e574c3' class='xr-var-attrs-in' type='checkbox' ><label for='attrs-2ea2090d-ec4c-4dcd-bb9b-9a49b0e574c3' title='Show/Hide attributes'><svg class='icon xr-icon-file-text2'><use xlink:href='#icon-file-text2'></use></svg></label><input id='data-7b21a85e-3d5f-4159-b144-cbaca0e2e2a7' class='xr-var-data-in' type='checkbox'><label for='data-7b21a85e-3d5f-4159-b144-cbaca0e2e2a7' title='Show/Hide data repr'><svg class='icon xr-icon-database'><use xlink:href='#icon-database'></use></svg></label><div class='xr-var-attrs'><dl class='xr-attrs'><dt><span>units :</span></dt><dd>-</dd><dt><span>standard_name :</span></dt><dd>surface_albedo</dd><dt><span>long_name :</span></dt><dd>surface albedo</dd><dt><span>vmin :</span></dt><dd>0.0</dd><dt><span>vmax :</span></dt><dd>0.0</dd></dl></div><div class='xr-var-data'><pre>[9979200 values with dtype=float32]</pre></div></li><li class='xr-var-item'><div class='xr-var-name'><span>SWE_inst</span></div><div class='xr-var-dims'>(time, ensemble, north_south, east_west)</div><div class='xr-var-dtype'>float32</div><div class='xr-var-preview xr-preview'>...</div><input id='attrs-02a17ec7-b811-4502-8a27-7aec3cee8bd4' class='xr-var-attrs-in' type='checkbox' ><label for='attrs-02a17ec7-b811-4502-8a27-7aec3cee8bd4' title='Show/Hide attributes'><svg class='icon xr-icon-file-text2'><use xlink:href='#icon-file-text2'></use></svg></label><input id='data-db732e01-5a1e-47e7-a62d-7c3ff4922da6' class='xr-var-data-in' type='checkbox'><label for='data-db732e01-5a1e-47e7-a62d-7c3ff4922da6' title='Show/Hide data repr'><svg class='icon xr-icon-database'><use xlink:href='#icon-database'></use></svg></label><div class='xr-var-attrs'><dl class='xr-attrs'><dt><span>units :</span></dt><dd>kg m-2</dd><dt><span>standard_name :</span></dt><dd>liquid_water_content_of_surface_snow</dd><dt><span>long_name :</span></dt><dd>snow water equivalent</dd><dt><span>vmin :</span></dt><dd>0.0</dd><dt><span>vmax :</span></dt><dd>0.0</dd></dl></div><div class='xr-var-data'><pre>[9979200 values with dtype=float32]</pre></div></li><li class='xr-var-item'><div class='xr-var-name'><span>SoilMoist_inst</span></div><div class='xr-var-dims'>(time, SoilMoist_profiles, ensemble, north_south, east_west)</div><div class='xr-var-dtype'>float32</div><div class='xr-var-preview xr-preview'>...</div><input id='attrs-bcbfaed6-09b1-48b1-8c3c-530a25e27852' class='xr-var-attrs-in' type='checkbox' ><label for='attrs-bcbfaed6-09b1-48b1-8c3c-530a25e27852' title='Show/Hide attributes'><svg class='icon xr-icon-file-text2'><use xlink:href='#icon-file-text2'></use></svg></label><input id='data-ab0e3ece-ba71-46fe-a85d-368cf6aa665f' class='xr-var-data-in' type='checkbox'><label for='data-ab0e3ece-ba71-46fe-a85d-368cf6aa665f' title='Show/Hide data repr'><svg class='icon xr-icon-database'><use xlink:href='#icon-database'></use></svg></label><div class='xr-var-attrs'><dl class='xr-attrs'><dt><span>units :</span></dt><dd>m^3 m-3</dd><dt><span>standard_name :</span></dt><dd>soil_moisture_content</dd><dt><span>long_name :</span></dt><dd>soil moisture content</dd><dt><span>vmin :</span></dt><dd>0.0</dd><dt><span>vmax :</span></dt><dd>0.0</dd></dl></div><div class='xr-var-data'><pre>[39916800 values with dtype=float32]</pre></div></li><li class='xr-var-item'><div class='xr-var-name'><span>SoilTemp_inst</span></div><div class='xr-var-dims'>(time, SoilTemp_profiles, ensemble, north_south, east_west)</div><div class='xr-var-dtype'>float32</div><div class='xr-var-preview xr-preview'>...</div><input id='attrs-e7256f6a-43fd-4868-86b4-8180b87f4eb3' class='xr-var-attrs-in' type='checkbox' ><label for='attrs-e7256f6a-43fd-4868-86b4-8180b87f4eb3' title='Show/Hide attributes'><svg class='icon xr-icon-file-text2'><use xlink:href='#icon-file-text2'></use></svg></label><input id='data-f5a072d9-6d15-47d4-bff8-e9ef19de946e' class='xr-var-data-in' type='checkbox'><label for='data-f5a072d9-6d15-47d4-bff8-e9ef19de946e' title='Show/Hide data repr'><svg class='icon xr-icon-database'><use xlink:href='#icon-database'></use></svg></label><div class='xr-var-attrs'><dl class='xr-attrs'><dt><span>units :</span></dt><dd>K</dd><dt><span>standard_name :</span></dt><dd>soil_temperature</dd><dt><span>long_name :</span></dt><dd>soil temperature</dd><dt><span>vmin :</span></dt><dd>0.0</dd><dt><span>vmax :</span></dt><dd>0.0</dd></dl></div><div class='xr-var-data'><pre>[39916800 values with dtype=float32]</pre></div></li><li class='xr-var-item'><div class='xr-var-name'><span>PotEvap_tavg</span></div><div class='xr-var-dims'>(time, ensemble, north_south, east_west)</div><div class='xr-var-dtype'>float32</div><div class='xr-var-preview xr-preview'>...</div><input id='attrs-ff15a2ba-cf6f-4304-8dc5-4a6990209ff6' class='xr-var-attrs-in' type='checkbox' ><label for='attrs-ff15a2ba-cf6f-4304-8dc5-4a6990209ff6' title='Show/Hide attributes'><svg class='icon xr-icon-file-text2'><use xlink:href='#icon-file-text2'></use></svg></label><input id='data-5498d0f1-384b-4303-8e2c-6510bee06d3d' class='xr-var-data-in' type='checkbox'><label for='data-5498d0f1-384b-4303-8e2c-6510bee06d3d' title='Show/Hide data repr'><svg class='icon xr-icon-database'><use xlink:href='#icon-database'></use></svg></label><div class='xr-var-attrs'><dl class='xr-attrs'><dt><span>units :</span></dt><dd>kg m-2 s-1</dd><dt><span>standard_name :</span></dt><dd>potential_evapotranspiration</dd><dt><span>long_name :</span></dt><dd>potential evapotranspiration</dd><dt><span>vmin :</span></dt><dd>0.0</dd><dt><span>vmax :</span></dt><dd>0.0</dd></dl></div><div class='xr-var-data'><pre>[9979200 values with dtype=float32]</pre></div></li><li class='xr-var-item'><div class='xr-var-name'><span>ECanop_tavg</span></div><div class='xr-var-dims'>(time, ensemble, north_south, east_west)</div><div class='xr-var-dtype'>float32</div><div class='xr-var-preview xr-preview'>...</div><input id='attrs-8950cf38-84f3-4d97-97b1-1722c83d8b87' class='xr-var-attrs-in' type='checkbox' ><label for='attrs-8950cf38-84f3-4d97-97b1-1722c83d8b87' title='Show/Hide attributes'><svg class='icon xr-icon-file-text2'><use xlink:href='#icon-file-text2'></use></svg></label><input id='data-500e84f9-b61d-4343-8da1-211602ab4f09' class='xr-var-data-in' type='checkbox'><label for='data-500e84f9-b61d-4343-8da1-211602ab4f09' title='Show/Hide data repr'><svg class='icon xr-icon-database'><use xlink:href='#icon-database'></use></svg></label><div class='xr-var-attrs'><dl class='xr-attrs'><dt><span>units :</span></dt><dd>kg m-2 s-1</dd><dt><span>standard_name :</span></dt><dd>interception_evaporation</dd><dt><span>long_name :</span></dt><dd>interception evaporation</dd><dt><span>vmin :</span></dt><dd>0.0</dd><dt><span>vmax :</span></dt><dd>0.0</dd></dl></div><div class='xr-var-data'><pre>[9979200 values with dtype=float32]</pre></div></li><li class='xr-var-item'><div class='xr-var-name'><span>TVeg_tavg</span></div><div class='xr-var-dims'>(time, ensemble, north_south, east_west)</div><div class='xr-var-dtype'>float32</div><div class='xr-var-preview xr-preview'>...</div><input id='attrs-d8e18b39-6133-4e00-8cea-64e27a972595' class='xr-var-attrs-in' type='checkbox' ><label for='attrs-d8e18b39-6133-4e00-8cea-64e27a972595' title='Show/Hide attributes'><svg class='icon xr-icon-file-text2'><use xlink:href='#icon-file-text2'></use></svg></label><input id='data-38b17983-7441-480f-9832-3600f19a3f07' class='xr-var-data-in' type='checkbox'><label for='data-38b17983-7441-480f-9832-3600f19a3f07' title='Show/Hide data repr'><svg class='icon xr-icon-database'><use xlink:href='#icon-database'></use></svg></label><div class='xr-var-attrs'><dl class='xr-attrs'><dt><span>units :</span></dt><dd>kg m-2 s-1</dd><dt><span>standard_name :</span></dt><dd>vegetation_transpiration</dd><dt><span>long_name :</span></dt><dd>vegetation transpiration</dd><dt><span>vmin :</span></dt><dd>0.0</dd><dt><span>vmax :</span></dt><dd>0.0</dd></dl></div><div class='xr-var-data'><pre>[9979200 values with dtype=float32]</pre></div></li><li class='xr-var-item'><div class='xr-var-name'><span>ESoil_tavg</span></div><div class='xr-var-dims'>(time, ensemble, north_south, east_west)</div><div class='xr-var-dtype'>float32</div><div class='xr-var-preview xr-preview'>...</div><input id='attrs-f694568d-ce1b-4afd-9938-d086b144b53f' class='xr-var-attrs-in' type='checkbox' ><label for='attrs-f694568d-ce1b-4afd-9938-d086b144b53f' title='Show/Hide attributes'><svg class='icon xr-icon-file-text2'><use xlink:href='#icon-file-text2'></use></svg></label><input id='data-e824674a-4a42-4ebd-92f3-12eb200caf3b' class='xr-var-data-in' type='checkbox'><label for='data-e824674a-4a42-4ebd-92f3-12eb200caf3b' title='Show/Hide data repr'><svg class='icon xr-icon-database'><use xlink:href='#icon-database'></use></svg></label><div class='xr-var-attrs'><dl class='xr-attrs'><dt><span>units :</span></dt><dd>kg m-2 s-1</dd><dt><span>standard_name :</span></dt><dd>bare_soil_evaporation</dd><dt><span>long_name :</span></dt><dd>bare soil evaporation</dd><dt><span>vmin :</span></dt><dd>0.0</dd><dt><span>vmax :</span></dt><dd>0.0</dd></dl></div><div class='xr-var-data'><pre>[9979200 values with dtype=float32]</pre></div></li><li class='xr-var-item'><div class='xr-var-name'><span>WaterTableD_inst</span></div><div class='xr-var-dims'>(time, ensemble, north_south, east_west)</div><div class='xr-var-dtype'>float32</div><div class='xr-var-preview xr-preview'>...</div><input id='attrs-981c4374-24be-418f-9556-e310731e67c5' class='xr-var-attrs-in' type='checkbox' ><label for='attrs-981c4374-24be-418f-9556-e310731e67c5' title='Show/Hide attributes'><svg class='icon xr-icon-file-text2'><use xlink:href='#icon-file-text2'></use></svg></label><input id='data-07911f3f-0bc9-40bc-9dfc-79aa9a842b1a' class='xr-var-data-in' type='checkbox'><label for='data-07911f3f-0bc9-40bc-9dfc-79aa9a842b1a' title='Show/Hide data repr'><svg class='icon xr-icon-database'><use xlink:href='#icon-database'></use></svg></label><div class='xr-var-attrs'><dl class='xr-attrs'><dt><span>units :</span></dt><dd>m</dd><dt><span>standard_name :</span></dt><dd>water_table_depth</dd><dt><span>long_name :</span></dt><dd>water table depth</dd><dt><span>vmin :</span></dt><dd>0.0</dd><dt><span>vmax :</span></dt><dd>0.0</dd></dl></div><div class='xr-var-data'><pre>[9979200 values with dtype=float32]</pre></div></li><li class='xr-var-item'><div class='xr-var-name'><span>TWS_inst</span></div><div class='xr-var-dims'>(time, ensemble, north_south, east_west)</div><div class='xr-var-dtype'>float32</div><div class='xr-var-preview xr-preview'>...</div><input id='attrs-4a4a0dbc-184c-45de-82a1-a0680814cca7' class='xr-var-attrs-in' type='checkbox' ><label for='attrs-4a4a0dbc-184c-45de-82a1-a0680814cca7' title='Show/Hide attributes'><svg class='icon xr-icon-file-text2'><use xlink:href='#icon-file-text2'></use></svg></label><input id='data-5d5e8919-2f0b-42dd-bfd7-3db988d9da5a' class='xr-var-data-in' type='checkbox'><label for='data-5d5e8919-2f0b-42dd-bfd7-3db988d9da5a' title='Show/Hide data repr'><svg class='icon xr-icon-database'><use xlink:href='#icon-database'></use></svg></label><div class='xr-var-attrs'><dl class='xr-attrs'><dt><span>units :</span></dt><dd>mm</dd><dt><span>standard_name :</span></dt><dd>terrestrial_water_storage</dd><dt><span>long_name :</span></dt><dd>terrestrial water storage</dd><dt><span>vmin :</span></dt><dd>0.0</dd><dt><span>vmax :</span></dt><dd>0.0</dd></dl></div><div class='xr-var-data'><pre>[9979200 values with dtype=float32]</pre></div></li><li class='xr-var-item'><div class='xr-var-name'><span>GWS_inst</span></div><div class='xr-var-dims'>(time, ensemble, north_south, east_west)</div><div class='xr-var-dtype'>float32</div><div class='xr-var-preview xr-preview'>...</div><input id='attrs-15912529-39a5-4e8e-b8e4-ea980cf52979' class='xr-var-attrs-in' type='checkbox' ><label for='attrs-15912529-39a5-4e8e-b8e4-ea980cf52979' title='Show/Hide attributes'><svg class='icon xr-icon-file-text2'><use xlink:href='#icon-file-text2'></use></svg></label><input id='data-8f35d195-35fc-40b6-ac00-99ae0580370d' class='xr-var-data-in' type='checkbox'><label for='data-8f35d195-35fc-40b6-ac00-99ae0580370d' title='Show/Hide data repr'><svg class='icon xr-icon-database'><use xlink:href='#icon-database'></use></svg></label><div class='xr-var-attrs'><dl class='xr-attrs'><dt><span>units :</span></dt><dd>mm</dd><dt><span>standard_name :</span></dt><dd>ground_water_storage</dd><dt><span>long_name :</span></dt><dd>ground water storage</dd><dt><span>vmin :</span></dt><dd>0.0</dd><dt><span>vmax :</span></dt><dd>0.0</dd></dl></div><div class='xr-var-data'><pre>[9979200 values with dtype=float32]</pre></div></li><li class='xr-var-item'><div class='xr-var-name'><span>Wind_f_tavg</span></div><div class='xr-var-dims'>(time, ensemble, north_south, east_west)</div><div class='xr-var-dtype'>float32</div><div class='xr-var-preview xr-preview'>...</div><input id='attrs-a9b04fe5-a904-4f90-8f9d-c4fadbc5b28f' class='xr-var-attrs-in' type='checkbox' ><label for='attrs-a9b04fe5-a904-4f90-8f9d-c4fadbc5b28f' title='Show/Hide attributes'><svg class='icon xr-icon-file-text2'><use xlink:href='#icon-file-text2'></use></svg></label><input id='data-2c90562a-507a-47d7-b2e7-27ebf641623d' class='xr-var-data-in' type='checkbox'><label for='data-2c90562a-507a-47d7-b2e7-27ebf641623d' title='Show/Hide data repr'><svg class='icon xr-icon-database'><use xlink:href='#icon-database'></use></svg></label><div class='xr-var-attrs'><dl class='xr-attrs'><dt><span>units :</span></dt><dd>m s-1</dd><dt><span>standard_name :</span></dt><dd>wind_speed</dd><dt><span>long_name :</span></dt><dd>wind speed</dd><dt><span>vmin :</span></dt><dd>0.0</dd><dt><span>vmax :</span></dt><dd>0.0</dd></dl></div><div class='xr-var-data'><pre>[9979200 values with dtype=float32]</pre></div></li><li class='xr-var-item'><div class='xr-var-name'><span>Tair_f_tavg</span></div><div class='xr-var-dims'>(time, ensemble, north_south, east_west)</div><div class='xr-var-dtype'>float32</div><div class='xr-var-preview xr-preview'>...</div><input id='attrs-77b05641-591d-4f70-b5e3-125de1294888' class='xr-var-attrs-in' type='checkbox' ><label for='attrs-77b05641-591d-4f70-b5e3-125de1294888' title='Show/Hide attributes'><svg class='icon xr-icon-file-text2'><use xlink:href='#icon-file-text2'></use></svg></label><input id='data-b9f9c3b7-de2e-41e3-97f5-a4054f9b1f0d' class='xr-var-data-in' type='checkbox'><label for='data-b9f9c3b7-de2e-41e3-97f5-a4054f9b1f0d' title='Show/Hide data repr'><svg class='icon xr-icon-database'><use xlink:href='#icon-database'></use></svg></label><div class='xr-var-attrs'><dl class='xr-attrs'><dt><span>units :</span></dt><dd>K</dd><dt><span>standard_name :</span></dt><dd>air_temperature</dd><dt><span>long_name :</span></dt><dd>air temperature</dd><dt><span>vmin :</span></dt><dd>0.0</dd><dt><span>vmax :</span></dt><dd>0.0</dd></dl></div><div class='xr-var-data'><pre>[9979200 values with dtype=float32]</pre></div></li><li class='xr-var-item'><div class='xr-var-name'><span>Qair_f_tavg</span></div><div class='xr-var-dims'>(time, ensemble, north_south, east_west)</div><div class='xr-var-dtype'>float32</div><div class='xr-var-preview xr-preview'>...</div><input id='attrs-a8a45454-6a60-465b-b5ae-67a08a69819d' class='xr-var-attrs-in' type='checkbox' ><label for='attrs-a8a45454-6a60-465b-b5ae-67a08a69819d' title='Show/Hide attributes'><svg class='icon xr-icon-file-text2'><use xlink:href='#icon-file-text2'></use></svg></label><input id='data-4c580718-ca26-4ed7-8471-8b412bbda6a8' class='xr-var-data-in' type='checkbox'><label for='data-4c580718-ca26-4ed7-8471-8b412bbda6a8' title='Show/Hide data repr'><svg class='icon xr-icon-database'><use xlink:href='#icon-database'></use></svg></label><div class='xr-var-attrs'><dl class='xr-attrs'><dt><span>units :</span></dt><dd>kg kg-1</dd><dt><span>standard_name :</span></dt><dd>specific_humidity</dd><dt><span>long_name :</span></dt><dd>specific humidity</dd><dt><span>vmin :</span></dt><dd>0.0</dd><dt><span>vmax :</span></dt><dd>0.0</dd></dl></div><div class='xr-var-data'><pre>[9979200 values with dtype=float32]</pre></div></li><li class='xr-var-item'><div class='xr-var-name'><span>Psurf_f_tavg</span></div><div class='xr-var-dims'>(time, ensemble, north_south, east_west)</div><div class='xr-var-dtype'>float32</div><div class='xr-var-preview xr-preview'>...</div><input id='attrs-df466cbc-fb31-4031-b28d-8c63f0d3f945' class='xr-var-attrs-in' type='checkbox' ><label for='attrs-df466cbc-fb31-4031-b28d-8c63f0d3f945' title='Show/Hide attributes'><svg class='icon xr-icon-file-text2'><use xlink:href='#icon-file-text2'></use></svg></label><input id='data-748b3187-2863-4bae-8abc-638fa227d809' class='xr-var-data-in' type='checkbox'><label for='data-748b3187-2863-4bae-8abc-638fa227d809' title='Show/Hide data repr'><svg class='icon xr-icon-database'><use xlink:href='#icon-database'></use></svg></label><div class='xr-var-attrs'><dl class='xr-attrs'><dt><span>units :</span></dt><dd>Pa</dd><dt><span>standard_name :</span></dt><dd>surface_air_pressure</dd><dt><span>long_name :</span></dt><dd>surface pressure</dd><dt><span>vmin :</span></dt><dd>0.0</dd><dt><span>vmax :</span></dt><dd>0.0</dd></dl></div><div class='xr-var-data'><pre>[9979200 values with dtype=float32]</pre></div></li><li class='xr-var-item'><div class='xr-var-name'><span>SWdown_f_tavg</span></div><div class='xr-var-dims'>(time, ensemble, north_south, east_west)</div><div class='xr-var-dtype'>float32</div><div class='xr-var-preview xr-preview'>...</div><input id='attrs-23eae46a-6fe5-493a-b68e-3816228dd648' class='xr-var-attrs-in' type='checkbox' ><label for='attrs-23eae46a-6fe5-493a-b68e-3816228dd648' title='Show/Hide attributes'><svg class='icon xr-icon-file-text2'><use xlink:href='#icon-file-text2'></use></svg></label><input id='data-dd7da30f-bcaa-4014-ad25-8bf677c59bb0' class='xr-var-data-in' type='checkbox'><label for='data-dd7da30f-bcaa-4014-ad25-8bf677c59bb0' title='Show/Hide data repr'><svg class='icon xr-icon-database'><use xlink:href='#icon-database'></use></svg></label><div class='xr-var-attrs'><dl class='xr-attrs'><dt><span>units :</span></dt><dd>W m-2</dd><dt><span>standard_name :</span></dt><dd>surface_downwelling_shortwave_flux_in_air</dd><dt><span>long_name :</span></dt><dd>surface downward shortwave radiation</dd><dt><span>vmin :</span></dt><dd>0.0</dd><dt><span>vmax :</span></dt><dd>0.0</dd></dl></div><div class='xr-var-data'><pre>[9979200 values with dtype=float32]</pre></div></li><li class='xr-var-item'><div class='xr-var-name'><span>LWdown_f_tavg</span></div><div class='xr-var-dims'>(time, ensemble, north_south, east_west)</div><div class='xr-var-dtype'>float32</div><div class='xr-var-preview xr-preview'>...</div><input id='attrs-b1fa2991-35bf-41ab-9974-79661443de8c' class='xr-var-attrs-in' type='checkbox' ><label for='attrs-b1fa2991-35bf-41ab-9974-79661443de8c' title='Show/Hide attributes'><svg class='icon xr-icon-file-text2'><use xlink:href='#icon-file-text2'></use></svg></label><input id='data-6fc5cfbe-5cf2-45c4-964d-4c97d1c509d3' class='xr-var-data-in' type='checkbox'><label for='data-6fc5cfbe-5cf2-45c4-964d-4c97d1c509d3' title='Show/Hide data repr'><svg class='icon xr-icon-database'><use xlink:href='#icon-database'></use></svg></label><div class='xr-var-attrs'><dl class='xr-attrs'><dt><span>units :</span></dt><dd>W m-2</dd><dt><span>standard_name :</span></dt><dd>surface_downwelling_longwave_flux_in_air</dd><dt><span>long_name :</span></dt><dd>surface downward longwave radiation</dd><dt><span>vmin :</span></dt><dd>0.0</dd><dt><span>vmax :</span></dt><dd>0.0</dd></dl></div><div class='xr-var-data'><pre>[9979200 values with dtype=float32]</pre></div></li><li class='xr-var-item'><div class='xr-var-name'><span>LAI_inst</span></div><div class='xr-var-dims'>(time, ensemble, north_south, east_west)</div><div class='xr-var-dtype'>float32</div><div class='xr-var-preview xr-preview'>...</div><input id='attrs-07e31fe2-8d32-494f-9633-4808ca7285d7' class='xr-var-attrs-in' type='checkbox' ><label for='attrs-07e31fe2-8d32-494f-9633-4808ca7285d7' title='Show/Hide attributes'><svg class='icon xr-icon-file-text2'><use xlink:href='#icon-file-text2'></use></svg></label><input id='data-c974e2d3-a442-4eba-87b4-91b55aa9e2ff' class='xr-var-data-in' type='checkbox'><label for='data-c974e2d3-a442-4eba-87b4-91b55aa9e2ff' title='Show/Hide data repr'><svg class='icon xr-icon-database'><use xlink:href='#icon-database'></use></svg></label><div class='xr-var-attrs'><dl class='xr-attrs'><dt><span>units :</span></dt><dd>-</dd><dt><span>standard_name :</span></dt><dd>leaf_area_index</dd><dt><span>long_name :</span></dt><dd>leaf area index</dd><dt><span>vmin :</span></dt><dd>0.0</dd><dt><span>vmax :</span></dt><dd>0.0</dd></dl></div><div class='xr-var-data'><pre>[9979200 values with dtype=float32]</pre></div></li><li class='xr-var-item'><div class='xr-var-name'><span>Greenness_inst</span></div><div class='xr-var-dims'>(time, ensemble, north_south, east_west)</div><div class='xr-var-dtype'>float32</div><div class='xr-var-preview xr-preview'>...</div><input id='attrs-31ca7b04-9741-4d2f-97af-59da15793dcc' class='xr-var-attrs-in' type='checkbox' ><label for='attrs-31ca7b04-9741-4d2f-97af-59da15793dcc' title='Show/Hide attributes'><svg class='icon xr-icon-file-text2'><use xlink:href='#icon-file-text2'></use></svg></label><input id='data-65a4fa7c-6b39-47ec-bf56-dc7b8cdff0dd' class='xr-var-data-in' type='checkbox'><label for='data-65a4fa7c-6b39-47ec-bf56-dc7b8cdff0dd' title='Show/Hide data repr'><svg class='icon xr-icon-database'><use xlink:href='#icon-database'></use></svg></label><div class='xr-var-attrs'><dl class='xr-attrs'><dt><span>units :</span></dt><dd>-</dd><dt><span>standard_name :</span></dt><dd>green_vegetation_fraction</dd><dt><span>long_name :</span></dt><dd>green vegetation fraction</dd><dt><span>vmin :</span></dt><dd>0.0</dd><dt><span>vmax :</span></dt><dd>0.0</dd></dl></div><div class='xr-var-data'><pre>[9979200 values with dtype=float32]</pre></div></li></ul></div></li><li class='xr-section-item'><input id='section-054a2dbe-6a0c-4e77-b1b0-81476f3eed8f' class='xr-section-summary-in' type='checkbox'  ><label for='section-054a2dbe-6a0c-4e77-b1b0-81476f3eed8f' class='xr-section-summary' >Indexes: <span>(4)</span></label><div class='xr-section-inline-details'></div><div class='xr-section-details'><ul class='xr-var-list'><li class='xr-var-item'><div class='xr-index-name'><div>time</div></div><div class='xr-index-preview'>PandasIndex</div><div></div><input id='index-b46c3952-23a1-4d1a-a485-501c6fdb4308' class='xr-index-data-in' type='checkbox'/><label for='index-b46c3952-23a1-4d1a-a485-501c6fdb4308' title='Show/Hide index repr'><svg class='icon xr-icon-database'><use xlink:href='#icon-database'></use></svg></label><div class='xr-index-data'><pre>PandasIndex(DatetimeIndex([&#x27;2024-06-02&#x27;, &#x27;2024-06-03&#x27;, &#x27;2024-06-04&#x27;, &#x27;2024-06-05&#x27;], dtype=&#x27;datetime64[ns]&#x27;, name=&#x27;time&#x27;, freq=None))</pre></div></li><li class='xr-var-item'><div class='xr-index-name'><div>ensemble</div></div><div class='xr-index-preview'>PandasIndex</div><div></div><input id='index-afb480c2-bc34-44df-a345-0c2d734419d3' class='xr-index-data-in' type='checkbox'/><label for='index-afb480c2-bc34-44df-a345-0c2d734419d3' title='Show/Hide index repr'><svg class='icon xr-icon-database'><use xlink:href='#icon-database'></use></svg></label><div class='xr-index-data'><pre>PandasIndex(Index([1.0, 2.0, 3.0, 4.0, 5.0, 6.0, 7.0], dtype=&#x27;float32&#x27;, name=&#x27;ensemble&#x27;))</pre></div></li><li class='xr-var-item'><div class='xr-index-name'><div>north_south</div></div><div class='xr-index-preview'>PandasIndex</div><div></div><input id='index-c42380a3-3f45-4bd5-b342-2f6dde7a80a8' class='xr-index-data-in' type='checkbox'/><label for='index-c42380a3-3f45-4bd5-b342-2f6dde7a80a8' title='Show/Hide index repr'><svg class='icon xr-icon-database'><use xlink:href='#icon-database'></use></svg></label><div class='xr-index-data'><pre>PandasIndex(Index([              -21.0,  -20.94990723562152, -20.899814471243044,\n",
       "       -20.849721706864564, -20.799628942486084, -20.749536178107608,\n",
       "       -20.699443413729128, -20.649350649350648,  -20.59925788497217,\n",
       "       -20.549165120593692,\n",
       "       ...\n",
       "         5.549165120593692,   5.599257884972172,   5.649350649350648,\n",
       "         5.699443413729128,   5.749536178107608,   5.799628942486084,\n",
       "         5.849721706864564,   5.899814471243044,    5.94990723562152,\n",
       "                       6.0],\n",
       "      dtype=&#x27;float64&#x27;, name=&#x27;north_south&#x27;, length=540))</pre></div></li><li class='xr-var-item'><div class='xr-index-name'><div>east_west</div></div><div class='xr-index-preview'>PandasIndex</div><div></div><input id='index-0ad523e0-3dde-4b6c-a376-2d5aae4e97b1' class='xr-index-data-in' type='checkbox'/><label for='index-0ad523e0-3dde-4b6c-a376-2d5aae4e97b1' title='Show/Hide index repr'><svg class='icon xr-icon-database'><use xlink:href='#icon-database'></use></svg></label><div class='xr-index-data'><pre>PandasIndex(Index([              -82.0,  -81.94992412746586,  -81.89984825493171,\n",
       "        -81.84977238239757,  -81.79969650986342,  -81.74962063732929,\n",
       "        -81.69954476479515,    -81.649468892261,  -81.59939301972686,\n",
       "        -81.54931714719271,\n",
       "       ...\n",
       "        -49.45068285280728,  -49.40060698027314,    -49.350531107739,\n",
       "        -49.30045523520486, -49.250379362670714,  -49.20030349013657,\n",
       "       -49.150227617602425,  -49.10015174506829, -49.050075872534144,\n",
       "                     -49.0],\n",
       "      dtype=&#x27;float64&#x27;, name=&#x27;east_west&#x27;, length=660))</pre></div></li></ul></div></li><li class='xr-section-item'><input id='section-c3d71730-5f6a-44d3-849a-3570754f6944' class='xr-section-summary-in' type='checkbox'  ><label for='section-c3d71730-5f6a-44d3-849a-3570754f6944' class='xr-section-summary' >Attributes: <span>(15)</span></label><div class='xr-section-inline-details'></div><div class='xr-section-details'><dl class='xr-attrs'><dt><span>missing_value :</span></dt><dd>-9999.0</dd><dt><span>NUM_SOIL_LAYERS :</span></dt><dd>4</dd><dt><span>SOIL_LAYER_THICKNESSES :</span></dt><dd>[ 10.        30.000002  60.000004 100.      ]</dd><dt><span>title :</span></dt><dd>LIS land surface model output</dd><dt><span>institution :</span></dt><dd>NASA GSFC</dd><dt><span>source :</span></dt><dd></dd><dt><span>history :</span></dt><dd>created on date: 2024-07-19T16:14:29.210</dd><dt><span>references :</span></dt><dd>Kumar_etal_EMS_2006, Peters-Lidard_etal_ISSE_2007</dd><dt><span>conventions :</span></dt><dd>CF-1.6</dd><dt><span>comment :</span></dt><dd>website: http://lis.gsfc.nasa.gov/</dd><dt><span>MAP_PROJECTION :</span></dt><dd>EQUIDISTANT CYLINDRICAL</dd><dt><span>SOUTH_WEST_CORNER_LAT :</span></dt><dd>-20.975</dd><dt><span>SOUTH_WEST_CORNER_LON :</span></dt><dd>-81.975</dd><dt><span>DX :</span></dt><dd>0.05</dd><dt><span>DY :</span></dt><dd>0.05</dd></dl></div></li></ul></div></div>"
      ],
      "text/plain": [
       "<xarray.Dataset>\n",
       "Dimensions:           (time: 4, north_south: 540, east_west: 660, ensemble: 7,\n",
       "                       SoilMoist_profiles: 4, SoilTemp_profiles: 4)\n",
       "Coordinates:\n",
       "  * time              (time) datetime64[ns] 2024-06-02 2024-06-03 ... 2024-06-05\n",
       "  * ensemble          (ensemble) float32 1.0 2.0 3.0 4.0 5.0 6.0 7.0\n",
       "  * north_south       (north_south) float64 -21.0 -20.95 -20.9 ... 5.9 5.95 6.0\n",
       "  * east_west         (east_west) float64 -82.0 -81.95 -81.9 ... -49.05 -49.0\n",
       "Dimensions without coordinates: SoilMoist_profiles, SoilTemp_profiles\n",
       "Data variables: (12/32)\n",
       "    lat               (time, north_south) float32 ...\n",
       "    lon               (time, east_west) float32 ...\n",
       "    Swnet_tavg        (time, ensemble, north_south, east_west) float32 ...\n",
       "    Lwnet_tavg        (time, ensemble, north_south, east_west) float32 ...\n",
       "    Qle_tavg          (time, ensemble, north_south, east_west) float32 ...\n",
       "    Qh_tavg           (time, ensemble, north_south, east_west) float32 ...\n",
       "    ...                ...\n",
       "    Qair_f_tavg       (time, ensemble, north_south, east_west) float32 ...\n",
       "    Psurf_f_tavg      (time, ensemble, north_south, east_west) float32 ...\n",
       "    SWdown_f_tavg     (time, ensemble, north_south, east_west) float32 ...\n",
       "    LWdown_f_tavg     (time, ensemble, north_south, east_west) float32 ...\n",
       "    LAI_inst          (time, ensemble, north_south, east_west) float32 ...\n",
       "    Greenness_inst    (time, ensemble, north_south, east_west) float32 ...\n",
       "Attributes: (12/15)\n",
       "    missing_value:           -9999.0\n",
       "    NUM_SOIL_LAYERS:         4\n",
       "    SOIL_LAYER_THICKNESSES:  [ 10.        30.000002  60.000004 100.      ]\n",
       "    title:                   LIS land surface model output\n",
       "    institution:             NASA GSFC\n",
       "    source:                  \n",
       "    ...                      ...\n",
       "    comment:                 website: http://lis.gsfc.nasa.gov/\n",
       "    MAP_PROJECTION:          EQUIDISTANT CYLINDRICAL\n",
       "    SOUTH_WEST_CORNER_LAT:   -20.975\n",
       "    SOUTH_WEST_CORNER_LON:   -81.975\n",
       "    DX:                      0.05\n",
       "    DY:                      0.05"
      ]
     },
     "execution_count": 3,
     "metadata": {},
     "output_type": "execute_result"
    }
   ],
   "source": [
    "# Define shape file location\n",
    "# shp_location = r\"C:\\Users\\Kris\\Documents\\amazonforcast\\gisfiles\\hydrobasins shape\\hybas_sa_lev05_areaofstudy.shp\"\n",
    "\n",
    "# Define shapefile using a remote geojson file,\n",
    "hydrobasins_lev05_url = \"https://raw.githubusercontent.com/blackteacatsu/spring_2024_envs_research_amazon_ldas/main/resources/hybas_sa_lev05_areaofstudy.geojson\"\n",
    "\n",
    "# Define netCDF file location\n",
    "ds_location = r\"C:\\Users\\Kris\\Documents\\amazonforcast\\data\\prakrut\\output\\LIS_HIST_Forecast_June_02_to_05.nc\"\n",
    "\n",
    "# .shp file loader\n",
    "hybas_sa_lev05 = gpd.read_file(hydrobasins_lev05_url)\n",
    "\n",
    "# netcdf file loader\n",
    "ds = xr.open_dataset(ds_location)\n",
    "\n",
    "# Reproject current crs of the NectCDF file to epsg 4326\n",
    "print(f\"East-West range of the NetCDF is: {ds.east_west.min().item()} to {ds.east_west.max().item()} \\n\")\n",
    "print(f\"North-South range of the NetCDF is: {ds.north_south.min().item()} to {ds.north_south.max().item()} \\n\")\n",
    "\n",
    "print(f\"This line print the bounds of the regions inside the shapefile: {hybas_sa_lev05.total_bounds} \\n\")  # This will print the bounds of the regions in your GeoDataFrame\n",
    "\n",
    "# Print current CRS of the GeoDataFrame\n",
    "print(f\"Here is the original CRS of the shapefile: {hybas_sa_lev05.crs}\\n\")\n",
    "\n",
    "# Reproject to WGS84 (latitude and longitude)\n",
    "# hybas_sa_lev05 = hybas_sa_lev05.to_crs(epsg=4326)\n",
    "\n",
    "# Print new CRS to confirm\n",
    "# print(f\"Reprojected CRS: {hybas_sa_lev05.crs}\")\n",
    "\n",
    "# Check the bounds again after reprojection\n",
    "# print(hybas_sa_lev05.total_bounds)\n",
    "\n",
    "ds # get info about netcdf file"
   ]
  },
  {
   "cell_type": "code",
   "execution_count": null,
   "metadata": {},
   "outputs": [],
   "source": [
    "hybas_sa_lev05"
   ]
  },
  {
   "cell_type": "code",
   "execution_count": 6,
   "metadata": {},
   "outputs": [],
   "source": [
    "# Select a region from the shapefile\n",
    "aoi = hybas_sa_lev05[hybas_sa_lev05.PFAF_ID == 62297]\n",
    "\n",
    "# Create a 3d mask - this contains the true / false values identifying pixels\n",
    "# inside vs outside of the mask region\n",
    "aoi_mask = regionmask.mask_3D_geopandas(aoi,\n",
    "                                         ds.east_west,\n",
    "                                         ds.north_south)\n",
    "aoi_mask\n",
    "# Apply the mask we just made using the shapefile to the raster layer we made\n",
    "aoi_ds = ds['Rainf_tavg'].where(aoi_mask)\n",
    "summary = aoi_ds.groupby(\"time\").mean([\"north_south\", \"east_west\"])\n",
    "aoi_ds_summary = summary.to_dataframe().reset_index()\n"
   ]
  },
  {
   "cell_type": "markdown",
   "metadata": {},
   "source": [
    "## Building time series with spread using boxplot"
   ]
  },
  {
   "cell_type": "code",
   "execution_count": 7,
   "metadata": {},
   "outputs": [
    {
     "data": {
      "application/vnd.plotly.v1+json": {
       "config": {
        "plotlyServerURL": "https://plot.ly"
       },
       "data": [
        {
         "alignmentgroup": "True",
         "hovertemplate": "time=%{x}<br>Rainf_tavg=%{y}<extra></extra>",
         "legendgroup": "2024-06-02 00:00:00",
         "marker": {
          "color": "#636efa"
         },
         "name": "2024-06-02 00:00:00",
         "notched": false,
         "offsetgroup": "2024-06-02 00:00:00",
         "orientation": "v",
         "showlegend": true,
         "type": "box",
         "x": [
          "2024-06-02T00:00:00",
          "2024-06-02T00:00:00",
          "2024-06-02T00:00:00",
          "2024-06-02T00:00:00",
          "2024-06-02T00:00:00",
          "2024-06-02T00:00:00",
          "2024-06-02T00:00:00"
         ],
         "x0": " ",
         "xaxis": "x",
         "y": [
          0.000044164651626488194,
          0.00004409303073771298,
          0.000045095293899066746,
          0.000045033852074993774,
          0.00004269915370969102,
          0.000044243293814361095,
          0.000042778039642143995
         ],
         "y0": " ",
         "yaxis": "y"
        },
        {
         "alignmentgroup": "True",
         "hovertemplate": "time=%{x}<br>Rainf_tavg=%{y}<extra></extra>",
         "legendgroup": "2024-06-03 00:00:00",
         "marker": {
          "color": "#EF553B"
         },
         "name": "2024-06-03 00:00:00",
         "notched": false,
         "offsetgroup": "2024-06-03 00:00:00",
         "orientation": "v",
         "showlegend": true,
         "type": "box",
         "x": [
          "2024-06-03T00:00:00",
          "2024-06-03T00:00:00",
          "2024-06-03T00:00:00",
          "2024-06-03T00:00:00",
          "2024-06-03T00:00:00",
          "2024-06-03T00:00:00",
          "2024-06-03T00:00:00"
         ],
         "x0": " ",
         "xaxis": "x",
         "y": [
          0.00005484860957949422,
          0.000054528201872017235,
          0.00005611458618659526,
          0.000056312572269234806,
          0.000051984905439894646,
          0.00005464062633109279,
          0.00005200689338380471
         ],
         "y0": " ",
         "yaxis": "y"
        },
        {
         "alignmentgroup": "True",
         "hovertemplate": "time=%{x}<br>Rainf_tavg=%{y}<extra></extra>",
         "legendgroup": "2024-06-04 00:00:00",
         "marker": {
          "color": "#00cc96"
         },
         "name": "2024-06-04 00:00:00",
         "notched": false,
         "offsetgroup": "2024-06-04 00:00:00",
         "orientation": "v",
         "showlegend": true,
         "type": "box",
         "x": [
          "2024-06-04T00:00:00",
          "2024-06-04T00:00:00",
          "2024-06-04T00:00:00",
          "2024-06-04T00:00:00",
          "2024-06-04T00:00:00",
          "2024-06-04T00:00:00",
          "2024-06-04T00:00:00"
         ],
         "x0": " ",
         "xaxis": "x",
         "y": [
          0.00006163490616017953,
          0.00006156414019642398,
          0.000059721514844568446,
          0.000060620350268436596,
          0.0000613018564763479,
          0.00006095473509049043,
          0.00006120633042883128
         ],
         "y0": " ",
         "yaxis": "y"
        },
        {
         "alignmentgroup": "True",
         "hovertemplate": "time=%{x}<br>Rainf_tavg=%{y}<extra></extra>",
         "legendgroup": "2024-06-05 00:00:00",
         "marker": {
          "color": "#ab63fa"
         },
         "name": "2024-06-05 00:00:00",
         "notched": false,
         "offsetgroup": "2024-06-05 00:00:00",
         "orientation": "v",
         "showlegend": true,
         "type": "box",
         "x": [
          "2024-06-05T00:00:00",
          "2024-06-05T00:00:00",
          "2024-06-05T00:00:00",
          "2024-06-05T00:00:00",
          "2024-06-05T00:00:00",
          "2024-06-05T00:00:00",
          "2024-06-05T00:00:00"
         ],
         "x0": " ",
         "xaxis": "x",
         "y": [
          0.00006994714931352064,
          0.0000712805413058959,
          0.00006173596193548292,
          0.00006220338400453329,
          0.00007231372728710994,
          0.00007011263369349763,
          0.0000721981268725358
         ],
         "y0": " ",
         "yaxis": "y"
        }
       ],
       "layout": {
        "boxmode": "overlay",
        "height": 800,
        "legend": {
         "title": {
          "text": "time"
         },
         "tracegroupgap": 0
        },
        "margin": {
         "t": 60
        },
        "template": {
         "data": {
          "bar": [
           {
            "error_x": {
             "color": "#2a3f5f"
            },
            "error_y": {
             "color": "#2a3f5f"
            },
            "marker": {
             "line": {
              "color": "#E5ECF6",
              "width": 0.5
             },
             "pattern": {
              "fillmode": "overlay",
              "size": 10,
              "solidity": 0.2
             }
            },
            "type": "bar"
           }
          ],
          "barpolar": [
           {
            "marker": {
             "line": {
              "color": "#E5ECF6",
              "width": 0.5
             },
             "pattern": {
              "fillmode": "overlay",
              "size": 10,
              "solidity": 0.2
             }
            },
            "type": "barpolar"
           }
          ],
          "carpet": [
           {
            "aaxis": {
             "endlinecolor": "#2a3f5f",
             "gridcolor": "white",
             "linecolor": "white",
             "minorgridcolor": "white",
             "startlinecolor": "#2a3f5f"
            },
            "baxis": {
             "endlinecolor": "#2a3f5f",
             "gridcolor": "white",
             "linecolor": "white",
             "minorgridcolor": "white",
             "startlinecolor": "#2a3f5f"
            },
            "type": "carpet"
           }
          ],
          "choropleth": [
           {
            "colorbar": {
             "outlinewidth": 0,
             "ticks": ""
            },
            "type": "choropleth"
           }
          ],
          "contour": [
           {
            "colorbar": {
             "outlinewidth": 0,
             "ticks": ""
            },
            "colorscale": [
             [
              0,
              "#0d0887"
             ],
             [
              0.1111111111111111,
              "#46039f"
             ],
             [
              0.2222222222222222,
              "#7201a8"
             ],
             [
              0.3333333333333333,
              "#9c179e"
             ],
             [
              0.4444444444444444,
              "#bd3786"
             ],
             [
              0.5555555555555556,
              "#d8576b"
             ],
             [
              0.6666666666666666,
              "#ed7953"
             ],
             [
              0.7777777777777778,
              "#fb9f3a"
             ],
             [
              0.8888888888888888,
              "#fdca26"
             ],
             [
              1,
              "#f0f921"
             ]
            ],
            "type": "contour"
           }
          ],
          "contourcarpet": [
           {
            "colorbar": {
             "outlinewidth": 0,
             "ticks": ""
            },
            "type": "contourcarpet"
           }
          ],
          "heatmap": [
           {
            "colorbar": {
             "outlinewidth": 0,
             "ticks": ""
            },
            "colorscale": [
             [
              0,
              "#0d0887"
             ],
             [
              0.1111111111111111,
              "#46039f"
             ],
             [
              0.2222222222222222,
              "#7201a8"
             ],
             [
              0.3333333333333333,
              "#9c179e"
             ],
             [
              0.4444444444444444,
              "#bd3786"
             ],
             [
              0.5555555555555556,
              "#d8576b"
             ],
             [
              0.6666666666666666,
              "#ed7953"
             ],
             [
              0.7777777777777778,
              "#fb9f3a"
             ],
             [
              0.8888888888888888,
              "#fdca26"
             ],
             [
              1,
              "#f0f921"
             ]
            ],
            "type": "heatmap"
           }
          ],
          "heatmapgl": [
           {
            "colorbar": {
             "outlinewidth": 0,
             "ticks": ""
            },
            "colorscale": [
             [
              0,
              "#0d0887"
             ],
             [
              0.1111111111111111,
              "#46039f"
             ],
             [
              0.2222222222222222,
              "#7201a8"
             ],
             [
              0.3333333333333333,
              "#9c179e"
             ],
             [
              0.4444444444444444,
              "#bd3786"
             ],
             [
              0.5555555555555556,
              "#d8576b"
             ],
             [
              0.6666666666666666,
              "#ed7953"
             ],
             [
              0.7777777777777778,
              "#fb9f3a"
             ],
             [
              0.8888888888888888,
              "#fdca26"
             ],
             [
              1,
              "#f0f921"
             ]
            ],
            "type": "heatmapgl"
           }
          ],
          "histogram": [
           {
            "marker": {
             "pattern": {
              "fillmode": "overlay",
              "size": 10,
              "solidity": 0.2
             }
            },
            "type": "histogram"
           }
          ],
          "histogram2d": [
           {
            "colorbar": {
             "outlinewidth": 0,
             "ticks": ""
            },
            "colorscale": [
             [
              0,
              "#0d0887"
             ],
             [
              0.1111111111111111,
              "#46039f"
             ],
             [
              0.2222222222222222,
              "#7201a8"
             ],
             [
              0.3333333333333333,
              "#9c179e"
             ],
             [
              0.4444444444444444,
              "#bd3786"
             ],
             [
              0.5555555555555556,
              "#d8576b"
             ],
             [
              0.6666666666666666,
              "#ed7953"
             ],
             [
              0.7777777777777778,
              "#fb9f3a"
             ],
             [
              0.8888888888888888,
              "#fdca26"
             ],
             [
              1,
              "#f0f921"
             ]
            ],
            "type": "histogram2d"
           }
          ],
          "histogram2dcontour": [
           {
            "colorbar": {
             "outlinewidth": 0,
             "ticks": ""
            },
            "colorscale": [
             [
              0,
              "#0d0887"
             ],
             [
              0.1111111111111111,
              "#46039f"
             ],
             [
              0.2222222222222222,
              "#7201a8"
             ],
             [
              0.3333333333333333,
              "#9c179e"
             ],
             [
              0.4444444444444444,
              "#bd3786"
             ],
             [
              0.5555555555555556,
              "#d8576b"
             ],
             [
              0.6666666666666666,
              "#ed7953"
             ],
             [
              0.7777777777777778,
              "#fb9f3a"
             ],
             [
              0.8888888888888888,
              "#fdca26"
             ],
             [
              1,
              "#f0f921"
             ]
            ],
            "type": "histogram2dcontour"
           }
          ],
          "mesh3d": [
           {
            "colorbar": {
             "outlinewidth": 0,
             "ticks": ""
            },
            "type": "mesh3d"
           }
          ],
          "parcoords": [
           {
            "line": {
             "colorbar": {
              "outlinewidth": 0,
              "ticks": ""
             }
            },
            "type": "parcoords"
           }
          ],
          "pie": [
           {
            "automargin": true,
            "type": "pie"
           }
          ],
          "scatter": [
           {
            "fillpattern": {
             "fillmode": "overlay",
             "size": 10,
             "solidity": 0.2
            },
            "type": "scatter"
           }
          ],
          "scatter3d": [
           {
            "line": {
             "colorbar": {
              "outlinewidth": 0,
              "ticks": ""
             }
            },
            "marker": {
             "colorbar": {
              "outlinewidth": 0,
              "ticks": ""
             }
            },
            "type": "scatter3d"
           }
          ],
          "scattercarpet": [
           {
            "marker": {
             "colorbar": {
              "outlinewidth": 0,
              "ticks": ""
             }
            },
            "type": "scattercarpet"
           }
          ],
          "scattergeo": [
           {
            "marker": {
             "colorbar": {
              "outlinewidth": 0,
              "ticks": ""
             }
            },
            "type": "scattergeo"
           }
          ],
          "scattergl": [
           {
            "marker": {
             "colorbar": {
              "outlinewidth": 0,
              "ticks": ""
             }
            },
            "type": "scattergl"
           }
          ],
          "scattermapbox": [
           {
            "marker": {
             "colorbar": {
              "outlinewidth": 0,
              "ticks": ""
             }
            },
            "type": "scattermapbox"
           }
          ],
          "scatterpolar": [
           {
            "marker": {
             "colorbar": {
              "outlinewidth": 0,
              "ticks": ""
             }
            },
            "type": "scatterpolar"
           }
          ],
          "scatterpolargl": [
           {
            "marker": {
             "colorbar": {
              "outlinewidth": 0,
              "ticks": ""
             }
            },
            "type": "scatterpolargl"
           }
          ],
          "scatterternary": [
           {
            "marker": {
             "colorbar": {
              "outlinewidth": 0,
              "ticks": ""
             }
            },
            "type": "scatterternary"
           }
          ],
          "surface": [
           {
            "colorbar": {
             "outlinewidth": 0,
             "ticks": ""
            },
            "colorscale": [
             [
              0,
              "#0d0887"
             ],
             [
              0.1111111111111111,
              "#46039f"
             ],
             [
              0.2222222222222222,
              "#7201a8"
             ],
             [
              0.3333333333333333,
              "#9c179e"
             ],
             [
              0.4444444444444444,
              "#bd3786"
             ],
             [
              0.5555555555555556,
              "#d8576b"
             ],
             [
              0.6666666666666666,
              "#ed7953"
             ],
             [
              0.7777777777777778,
              "#fb9f3a"
             ],
             [
              0.8888888888888888,
              "#fdca26"
             ],
             [
              1,
              "#f0f921"
             ]
            ],
            "type": "surface"
           }
          ],
          "table": [
           {
            "cells": {
             "fill": {
              "color": "#EBF0F8"
             },
             "line": {
              "color": "white"
             }
            },
            "header": {
             "fill": {
              "color": "#C8D4E3"
             },
             "line": {
              "color": "white"
             }
            },
            "type": "table"
           }
          ]
         },
         "layout": {
          "annotationdefaults": {
           "arrowcolor": "#2a3f5f",
           "arrowhead": 0,
           "arrowwidth": 1
          },
          "autotypenumbers": "strict",
          "coloraxis": {
           "colorbar": {
            "outlinewidth": 0,
            "ticks": ""
           }
          },
          "colorscale": {
           "diverging": [
            [
             0,
             "#8e0152"
            ],
            [
             0.1,
             "#c51b7d"
            ],
            [
             0.2,
             "#de77ae"
            ],
            [
             0.3,
             "#f1b6da"
            ],
            [
             0.4,
             "#fde0ef"
            ],
            [
             0.5,
             "#f7f7f7"
            ],
            [
             0.6,
             "#e6f5d0"
            ],
            [
             0.7,
             "#b8e186"
            ],
            [
             0.8,
             "#7fbc41"
            ],
            [
             0.9,
             "#4d9221"
            ],
            [
             1,
             "#276419"
            ]
           ],
           "sequential": [
            [
             0,
             "#0d0887"
            ],
            [
             0.1111111111111111,
             "#46039f"
            ],
            [
             0.2222222222222222,
             "#7201a8"
            ],
            [
             0.3333333333333333,
             "#9c179e"
            ],
            [
             0.4444444444444444,
             "#bd3786"
            ],
            [
             0.5555555555555556,
             "#d8576b"
            ],
            [
             0.6666666666666666,
             "#ed7953"
            ],
            [
             0.7777777777777778,
             "#fb9f3a"
            ],
            [
             0.8888888888888888,
             "#fdca26"
            ],
            [
             1,
             "#f0f921"
            ]
           ],
           "sequentialminus": [
            [
             0,
             "#0d0887"
            ],
            [
             0.1111111111111111,
             "#46039f"
            ],
            [
             0.2222222222222222,
             "#7201a8"
            ],
            [
             0.3333333333333333,
             "#9c179e"
            ],
            [
             0.4444444444444444,
             "#bd3786"
            ],
            [
             0.5555555555555556,
             "#d8576b"
            ],
            [
             0.6666666666666666,
             "#ed7953"
            ],
            [
             0.7777777777777778,
             "#fb9f3a"
            ],
            [
             0.8888888888888888,
             "#fdca26"
            ],
            [
             1,
             "#f0f921"
            ]
           ]
          },
          "colorway": [
           "#636efa",
           "#EF553B",
           "#00cc96",
           "#ab63fa",
           "#FFA15A",
           "#19d3f3",
           "#FF6692",
           "#B6E880",
           "#FF97FF",
           "#FECB52"
          ],
          "font": {
           "color": "#2a3f5f"
          },
          "geo": {
           "bgcolor": "white",
           "lakecolor": "white",
           "landcolor": "#E5ECF6",
           "showlakes": true,
           "showland": true,
           "subunitcolor": "white"
          },
          "hoverlabel": {
           "align": "left"
          },
          "hovermode": "closest",
          "mapbox": {
           "style": "light"
          },
          "paper_bgcolor": "white",
          "plot_bgcolor": "#E5ECF6",
          "polar": {
           "angularaxis": {
            "gridcolor": "white",
            "linecolor": "white",
            "ticks": ""
           },
           "bgcolor": "#E5ECF6",
           "radialaxis": {
            "gridcolor": "white",
            "linecolor": "white",
            "ticks": ""
           }
          },
          "scene": {
           "xaxis": {
            "backgroundcolor": "#E5ECF6",
            "gridcolor": "white",
            "gridwidth": 2,
            "linecolor": "white",
            "showbackground": true,
            "ticks": "",
            "zerolinecolor": "white"
           },
           "yaxis": {
            "backgroundcolor": "#E5ECF6",
            "gridcolor": "white",
            "gridwidth": 2,
            "linecolor": "white",
            "showbackground": true,
            "ticks": "",
            "zerolinecolor": "white"
           },
           "zaxis": {
            "backgroundcolor": "#E5ECF6",
            "gridcolor": "white",
            "gridwidth": 2,
            "linecolor": "white",
            "showbackground": true,
            "ticks": "",
            "zerolinecolor": "white"
           }
          },
          "shapedefaults": {
           "line": {
            "color": "#2a3f5f"
           }
          },
          "ternary": {
           "aaxis": {
            "gridcolor": "white",
            "linecolor": "white",
            "ticks": ""
           },
           "baxis": {
            "gridcolor": "white",
            "linecolor": "white",
            "ticks": ""
           },
           "bgcolor": "#E5ECF6",
           "caxis": {
            "gridcolor": "white",
            "linecolor": "white",
            "ticks": ""
           }
          },
          "title": {
           "x": 0.05
          },
          "xaxis": {
           "automargin": true,
           "gridcolor": "white",
           "linecolor": "white",
           "ticks": "",
           "title": {
            "standoff": 15
           },
           "zerolinecolor": "white",
           "zerolinewidth": 2
          },
          "yaxis": {
           "automargin": true,
           "gridcolor": "white",
           "linecolor": "white",
           "ticks": "",
           "title": {
            "standoff": 15
           },
           "zerolinecolor": "white",
           "zerolinewidth": 2
          }
         }
        },
        "title": {
         "text": "Precipitation of Region (PFAF-ID) 62297"
        },
        "width": 800,
        "xaxis": {
         "anchor": "y",
         "categoryarray": [
          "2024-06-02T00:00:00",
          "2024-06-03T00:00:00",
          "2024-06-04T00:00:00",
          "2024-06-05T00:00:00"
         ],
         "categoryorder": "array",
         "domain": [
          0,
          1
         ],
         "title": {
          "text": "time"
         }
        },
        "yaxis": {
         "anchor": "x",
         "domain": [
          0,
          1
         ],
         "title": {
          "text": "Rainf_tavg"
         }
        }
       }
      }
     },
     "metadata": {},
     "output_type": "display_data"
    }
   ],
   "source": [
    "fig = px.box(aoi_ds_summary, y = 'Rainf_tavg', x = 'time', color='time')\n",
    "fig.update_layout(title='Precipitation of Region (PFAF-ID) 62297', height = 800, width = 800)\n",
    "fig.show()"
   ]
  },
  {
   "cell_type": "markdown",
   "metadata": {},
   "source": [
    "Alternative route: making boxplots using Plotly Graph Objects,  styling mean & standard deviation\n"
   ]
  },
  {
   "cell_type": "code",
   "execution_count": 16,
   "metadata": {},
   "outputs": [
    {
     "data": {
      "application/vnd.plotly.v1+json": {
       "config": {
        "plotlyServerURL": "https://plot.ly"
       },
       "data": [
        {
         "type": "box",
         "x": [
          "2024-06-02T00:00:00",
          "2024-06-02T00:00:00",
          "2024-06-02T00:00:00",
          "2024-06-02T00:00:00",
          "2024-06-02T00:00:00",
          "2024-06-02T00:00:00",
          "2024-06-02T00:00:00",
          "2024-06-03T00:00:00",
          "2024-06-03T00:00:00",
          "2024-06-03T00:00:00",
          "2024-06-03T00:00:00",
          "2024-06-03T00:00:00",
          "2024-06-03T00:00:00",
          "2024-06-03T00:00:00",
          "2024-06-04T00:00:00",
          "2024-06-04T00:00:00",
          "2024-06-04T00:00:00",
          "2024-06-04T00:00:00",
          "2024-06-04T00:00:00",
          "2024-06-04T00:00:00",
          "2024-06-04T00:00:00",
          "2024-06-05T00:00:00",
          "2024-06-05T00:00:00",
          "2024-06-05T00:00:00",
          "2024-06-05T00:00:00",
          "2024-06-05T00:00:00",
          "2024-06-05T00:00:00",
          "2024-06-05T00:00:00"
         ],
         "y": [
          0.000044164651626488194,
          0.00004409303073771298,
          0.000045095293899066746,
          0.000045033852074993774,
          0.00004269915370969102,
          0.000044243293814361095,
          0.000042778039642143995,
          0.00005484860957949422,
          0.000054528201872017235,
          0.00005611458618659526,
          0.000056312572269234806,
          0.000051984905439894646,
          0.00005464062633109279,
          0.00005200689338380471,
          0.00006163490616017953,
          0.00006156414019642398,
          0.000059721514844568446,
          0.000060620350268436596,
          0.0000613018564763479,
          0.00006095473509049043,
          0.00006120633042883128,
          0.00006994714931352064,
          0.0000712805413058959,
          0.00006173596193548292,
          0.00006220338400453329,
          0.00007231372728710994,
          0.00007011263369349763,
          0.0000721981268725358
         ]
        }
       ],
       "layout": {
        "template": {
         "data": {
          "bar": [
           {
            "error_x": {
             "color": "#2a3f5f"
            },
            "error_y": {
             "color": "#2a3f5f"
            },
            "marker": {
             "line": {
              "color": "#E5ECF6",
              "width": 0.5
             },
             "pattern": {
              "fillmode": "overlay",
              "size": 10,
              "solidity": 0.2
             }
            },
            "type": "bar"
           }
          ],
          "barpolar": [
           {
            "marker": {
             "line": {
              "color": "#E5ECF6",
              "width": 0.5
             },
             "pattern": {
              "fillmode": "overlay",
              "size": 10,
              "solidity": 0.2
             }
            },
            "type": "barpolar"
           }
          ],
          "carpet": [
           {
            "aaxis": {
             "endlinecolor": "#2a3f5f",
             "gridcolor": "white",
             "linecolor": "white",
             "minorgridcolor": "white",
             "startlinecolor": "#2a3f5f"
            },
            "baxis": {
             "endlinecolor": "#2a3f5f",
             "gridcolor": "white",
             "linecolor": "white",
             "minorgridcolor": "white",
             "startlinecolor": "#2a3f5f"
            },
            "type": "carpet"
           }
          ],
          "choropleth": [
           {
            "colorbar": {
             "outlinewidth": 0,
             "ticks": ""
            },
            "type": "choropleth"
           }
          ],
          "contour": [
           {
            "colorbar": {
             "outlinewidth": 0,
             "ticks": ""
            },
            "colorscale": [
             [
              0,
              "#0d0887"
             ],
             [
              0.1111111111111111,
              "#46039f"
             ],
             [
              0.2222222222222222,
              "#7201a8"
             ],
             [
              0.3333333333333333,
              "#9c179e"
             ],
             [
              0.4444444444444444,
              "#bd3786"
             ],
             [
              0.5555555555555556,
              "#d8576b"
             ],
             [
              0.6666666666666666,
              "#ed7953"
             ],
             [
              0.7777777777777778,
              "#fb9f3a"
             ],
             [
              0.8888888888888888,
              "#fdca26"
             ],
             [
              1,
              "#f0f921"
             ]
            ],
            "type": "contour"
           }
          ],
          "contourcarpet": [
           {
            "colorbar": {
             "outlinewidth": 0,
             "ticks": ""
            },
            "type": "contourcarpet"
           }
          ],
          "heatmap": [
           {
            "colorbar": {
             "outlinewidth": 0,
             "ticks": ""
            },
            "colorscale": [
             [
              0,
              "#0d0887"
             ],
             [
              0.1111111111111111,
              "#46039f"
             ],
             [
              0.2222222222222222,
              "#7201a8"
             ],
             [
              0.3333333333333333,
              "#9c179e"
             ],
             [
              0.4444444444444444,
              "#bd3786"
             ],
             [
              0.5555555555555556,
              "#d8576b"
             ],
             [
              0.6666666666666666,
              "#ed7953"
             ],
             [
              0.7777777777777778,
              "#fb9f3a"
             ],
             [
              0.8888888888888888,
              "#fdca26"
             ],
             [
              1,
              "#f0f921"
             ]
            ],
            "type": "heatmap"
           }
          ],
          "heatmapgl": [
           {
            "colorbar": {
             "outlinewidth": 0,
             "ticks": ""
            },
            "colorscale": [
             [
              0,
              "#0d0887"
             ],
             [
              0.1111111111111111,
              "#46039f"
             ],
             [
              0.2222222222222222,
              "#7201a8"
             ],
             [
              0.3333333333333333,
              "#9c179e"
             ],
             [
              0.4444444444444444,
              "#bd3786"
             ],
             [
              0.5555555555555556,
              "#d8576b"
             ],
             [
              0.6666666666666666,
              "#ed7953"
             ],
             [
              0.7777777777777778,
              "#fb9f3a"
             ],
             [
              0.8888888888888888,
              "#fdca26"
             ],
             [
              1,
              "#f0f921"
             ]
            ],
            "type": "heatmapgl"
           }
          ],
          "histogram": [
           {
            "marker": {
             "pattern": {
              "fillmode": "overlay",
              "size": 10,
              "solidity": 0.2
             }
            },
            "type": "histogram"
           }
          ],
          "histogram2d": [
           {
            "colorbar": {
             "outlinewidth": 0,
             "ticks": ""
            },
            "colorscale": [
             [
              0,
              "#0d0887"
             ],
             [
              0.1111111111111111,
              "#46039f"
             ],
             [
              0.2222222222222222,
              "#7201a8"
             ],
             [
              0.3333333333333333,
              "#9c179e"
             ],
             [
              0.4444444444444444,
              "#bd3786"
             ],
             [
              0.5555555555555556,
              "#d8576b"
             ],
             [
              0.6666666666666666,
              "#ed7953"
             ],
             [
              0.7777777777777778,
              "#fb9f3a"
             ],
             [
              0.8888888888888888,
              "#fdca26"
             ],
             [
              1,
              "#f0f921"
             ]
            ],
            "type": "histogram2d"
           }
          ],
          "histogram2dcontour": [
           {
            "colorbar": {
             "outlinewidth": 0,
             "ticks": ""
            },
            "colorscale": [
             [
              0,
              "#0d0887"
             ],
             [
              0.1111111111111111,
              "#46039f"
             ],
             [
              0.2222222222222222,
              "#7201a8"
             ],
             [
              0.3333333333333333,
              "#9c179e"
             ],
             [
              0.4444444444444444,
              "#bd3786"
             ],
             [
              0.5555555555555556,
              "#d8576b"
             ],
             [
              0.6666666666666666,
              "#ed7953"
             ],
             [
              0.7777777777777778,
              "#fb9f3a"
             ],
             [
              0.8888888888888888,
              "#fdca26"
             ],
             [
              1,
              "#f0f921"
             ]
            ],
            "type": "histogram2dcontour"
           }
          ],
          "mesh3d": [
           {
            "colorbar": {
             "outlinewidth": 0,
             "ticks": ""
            },
            "type": "mesh3d"
           }
          ],
          "parcoords": [
           {
            "line": {
             "colorbar": {
              "outlinewidth": 0,
              "ticks": ""
             }
            },
            "type": "parcoords"
           }
          ],
          "pie": [
           {
            "automargin": true,
            "type": "pie"
           }
          ],
          "scatter": [
           {
            "fillpattern": {
             "fillmode": "overlay",
             "size": 10,
             "solidity": 0.2
            },
            "type": "scatter"
           }
          ],
          "scatter3d": [
           {
            "line": {
             "colorbar": {
              "outlinewidth": 0,
              "ticks": ""
             }
            },
            "marker": {
             "colorbar": {
              "outlinewidth": 0,
              "ticks": ""
             }
            },
            "type": "scatter3d"
           }
          ],
          "scattercarpet": [
           {
            "marker": {
             "colorbar": {
              "outlinewidth": 0,
              "ticks": ""
             }
            },
            "type": "scattercarpet"
           }
          ],
          "scattergeo": [
           {
            "marker": {
             "colorbar": {
              "outlinewidth": 0,
              "ticks": ""
             }
            },
            "type": "scattergeo"
           }
          ],
          "scattergl": [
           {
            "marker": {
             "colorbar": {
              "outlinewidth": 0,
              "ticks": ""
             }
            },
            "type": "scattergl"
           }
          ],
          "scattermapbox": [
           {
            "marker": {
             "colorbar": {
              "outlinewidth": 0,
              "ticks": ""
             }
            },
            "type": "scattermapbox"
           }
          ],
          "scatterpolar": [
           {
            "marker": {
             "colorbar": {
              "outlinewidth": 0,
              "ticks": ""
             }
            },
            "type": "scatterpolar"
           }
          ],
          "scatterpolargl": [
           {
            "marker": {
             "colorbar": {
              "outlinewidth": 0,
              "ticks": ""
             }
            },
            "type": "scatterpolargl"
           }
          ],
          "scatterternary": [
           {
            "marker": {
             "colorbar": {
              "outlinewidth": 0,
              "ticks": ""
             }
            },
            "type": "scatterternary"
           }
          ],
          "surface": [
           {
            "colorbar": {
             "outlinewidth": 0,
             "ticks": ""
            },
            "colorscale": [
             [
              0,
              "#0d0887"
             ],
             [
              0.1111111111111111,
              "#46039f"
             ],
             [
              0.2222222222222222,
              "#7201a8"
             ],
             [
              0.3333333333333333,
              "#9c179e"
             ],
             [
              0.4444444444444444,
              "#bd3786"
             ],
             [
              0.5555555555555556,
              "#d8576b"
             ],
             [
              0.6666666666666666,
              "#ed7953"
             ],
             [
              0.7777777777777778,
              "#fb9f3a"
             ],
             [
              0.8888888888888888,
              "#fdca26"
             ],
             [
              1,
              "#f0f921"
             ]
            ],
            "type": "surface"
           }
          ],
          "table": [
           {
            "cells": {
             "fill": {
              "color": "#EBF0F8"
             },
             "line": {
              "color": "white"
             }
            },
            "header": {
             "fill": {
              "color": "#C8D4E3"
             },
             "line": {
              "color": "white"
             }
            },
            "type": "table"
           }
          ]
         },
         "layout": {
          "annotationdefaults": {
           "arrowcolor": "#2a3f5f",
           "arrowhead": 0,
           "arrowwidth": 1
          },
          "autotypenumbers": "strict",
          "coloraxis": {
           "colorbar": {
            "outlinewidth": 0,
            "ticks": ""
           }
          },
          "colorscale": {
           "diverging": [
            [
             0,
             "#8e0152"
            ],
            [
             0.1,
             "#c51b7d"
            ],
            [
             0.2,
             "#de77ae"
            ],
            [
             0.3,
             "#f1b6da"
            ],
            [
             0.4,
             "#fde0ef"
            ],
            [
             0.5,
             "#f7f7f7"
            ],
            [
             0.6,
             "#e6f5d0"
            ],
            [
             0.7,
             "#b8e186"
            ],
            [
             0.8,
             "#7fbc41"
            ],
            [
             0.9,
             "#4d9221"
            ],
            [
             1,
             "#276419"
            ]
           ],
           "sequential": [
            [
             0,
             "#0d0887"
            ],
            [
             0.1111111111111111,
             "#46039f"
            ],
            [
             0.2222222222222222,
             "#7201a8"
            ],
            [
             0.3333333333333333,
             "#9c179e"
            ],
            [
             0.4444444444444444,
             "#bd3786"
            ],
            [
             0.5555555555555556,
             "#d8576b"
            ],
            [
             0.6666666666666666,
             "#ed7953"
            ],
            [
             0.7777777777777778,
             "#fb9f3a"
            ],
            [
             0.8888888888888888,
             "#fdca26"
            ],
            [
             1,
             "#f0f921"
            ]
           ],
           "sequentialminus": [
            [
             0,
             "#0d0887"
            ],
            [
             0.1111111111111111,
             "#46039f"
            ],
            [
             0.2222222222222222,
             "#7201a8"
            ],
            [
             0.3333333333333333,
             "#9c179e"
            ],
            [
             0.4444444444444444,
             "#bd3786"
            ],
            [
             0.5555555555555556,
             "#d8576b"
            ],
            [
             0.6666666666666666,
             "#ed7953"
            ],
            [
             0.7777777777777778,
             "#fb9f3a"
            ],
            [
             0.8888888888888888,
             "#fdca26"
            ],
            [
             1,
             "#f0f921"
            ]
           ]
          },
          "colorway": [
           "#636efa",
           "#EF553B",
           "#00cc96",
           "#ab63fa",
           "#FFA15A",
           "#19d3f3",
           "#FF6692",
           "#B6E880",
           "#FF97FF",
           "#FECB52"
          ],
          "font": {
           "color": "#2a3f5f"
          },
          "geo": {
           "bgcolor": "white",
           "lakecolor": "white",
           "landcolor": "#E5ECF6",
           "showlakes": true,
           "showland": true,
           "subunitcolor": "white"
          },
          "hoverlabel": {
           "align": "left"
          },
          "hovermode": "closest",
          "mapbox": {
           "style": "light"
          },
          "paper_bgcolor": "white",
          "plot_bgcolor": "#E5ECF6",
          "polar": {
           "angularaxis": {
            "gridcolor": "white",
            "linecolor": "white",
            "ticks": ""
           },
           "bgcolor": "#E5ECF6",
           "radialaxis": {
            "gridcolor": "white",
            "linecolor": "white",
            "ticks": ""
           }
          },
          "scene": {
           "xaxis": {
            "backgroundcolor": "#E5ECF6",
            "gridcolor": "white",
            "gridwidth": 2,
            "linecolor": "white",
            "showbackground": true,
            "ticks": "",
            "zerolinecolor": "white"
           },
           "yaxis": {
            "backgroundcolor": "#E5ECF6",
            "gridcolor": "white",
            "gridwidth": 2,
            "linecolor": "white",
            "showbackground": true,
            "ticks": "",
            "zerolinecolor": "white"
           },
           "zaxis": {
            "backgroundcolor": "#E5ECF6",
            "gridcolor": "white",
            "gridwidth": 2,
            "linecolor": "white",
            "showbackground": true,
            "ticks": "",
            "zerolinecolor": "white"
           }
          },
          "shapedefaults": {
           "line": {
            "color": "#2a3f5f"
           }
          },
          "ternary": {
           "aaxis": {
            "gridcolor": "white",
            "linecolor": "white",
            "ticks": ""
           },
           "baxis": {
            "gridcolor": "white",
            "linecolor": "white",
            "ticks": ""
           },
           "bgcolor": "#E5ECF6",
           "caxis": {
            "gridcolor": "white",
            "linecolor": "white",
            "ticks": ""
           }
          },
          "title": {
           "x": 0.05
          },
          "xaxis": {
           "automargin": true,
           "gridcolor": "white",
           "linecolor": "white",
           "ticks": "",
           "title": {
            "standoff": 15
           },
           "zerolinecolor": "white",
           "zerolinewidth": 2
          },
          "yaxis": {
           "automargin": true,
           "gridcolor": "white",
           "linecolor": "white",
           "ticks": "",
           "title": {
            "standoff": 15
           },
           "zerolinecolor": "white",
           "zerolinewidth": 2
          }
         }
        }
       }
      }
     },
     "metadata": {},
     "output_type": "display_data"
    },
    {
     "ename": "",
     "evalue": "",
     "output_type": "error",
     "traceback": [
      "\u001b[1;31mThe Kernel crashed while executing code in the current cell or a previous cell. \n",
      "\u001b[1;31mPlease review the code in the cell(s) to identify a possible cause of the failure. \n",
      "\u001b[1;31mClick <a href='https://aka.ms/vscodeJupyterKernelCrash'>here</a> for more info. \n",
      "\u001b[1;31mView Jupyter <a href='command:jupyter.viewOutput'>log</a> for further details."
     ]
    }
   ],
   "source": [
    "import plotly.graph_objects as go\n",
    "\n",
    "fig2 = go.Figure()\n",
    "fig2.add_trace(go.Box(y = aoi_ds_summary['Rainf_tavg'], x = aoi_ds_summary['time']))"
   ]
  }
 ],
 "metadata": {
  "kernelspec": {
   "display_name": "base",
   "language": "python",
   "name": "python3"
  },
  "language_info": {
   "codemirror_mode": {
    "name": "ipython",
    "version": 3
   },
   "file_extension": ".py",
   "mimetype": "text/x-python",
   "name": "python",
   "nbconvert_exporter": "python",
   "pygments_lexer": "ipython3",
   "version": "3.11.7"
  }
 },
 "nbformat": 4,
 "nbformat_minor": 2
}
