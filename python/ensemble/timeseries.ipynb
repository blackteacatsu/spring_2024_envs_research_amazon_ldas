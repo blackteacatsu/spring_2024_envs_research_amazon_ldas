{
 "cells": [
  {
   "cell_type": "markdown",
   "metadata": {},
   "source": [
    "## Add packages"
   ]
  },
  {
   "cell_type": "code",
   "execution_count": 2,
   "metadata": {},
   "outputs": [
    {
     "name": "stderr",
     "output_type": "stream",
     "text": [
      "c:\\Users\\Kris\\AppData\\Local\\anaconda3\\Lib\\site-packages\\paramiko\\transport.py:219: CryptographyDeprecationWarning: Blowfish has been deprecated and will be removed in a future release\n",
      "  \"class\": algorithms.Blowfish,\n"
     ]
    }
   ],
   "source": [
    "# import packages\n",
    "import xarray as xr\n",
    "import geopandas as gpd\n",
    "import regionmask\n",
    "import matplotlib.pyplot as plt\n",
    "#import cartopy.crs as ccrs\n",
    "import plotly.express as px\n"
   ]
  },
  {
   "cell_type": "markdown",
   "metadata": {},
   "source": [
    "## Setup"
   ]
  },
  {
   "cell_type": "code",
   "execution_count": 3,
   "metadata": {},
   "outputs": [
    {
     "name": "stdout",
     "output_type": "stream",
     "text": [
      "East-West range: -82.0 to -49.0\n",
      "North-South range: -21.0 to 6.0\n",
      "[-9054007.67266785 -2376978.16229946 -5440740.11254905   671070.13011205]\n",
      "Original CRS: EPSG:3857\n",
      "Reprojected CRS: EPSG:4326\n",
      "[-81.33353475 -20.87498542 -48.875        6.01723395]\n"
     ]
    },
    {
     "data": {
      "text/html": [
       "<div><svg style=\"position: absolute; width: 0; height: 0; overflow: hidden\">\n",
       "<defs>\n",
       "<symbol id=\"icon-database\" viewBox=\"0 0 32 32\">\n",
       "<path d=\"M16 0c-8.837 0-16 2.239-16 5v4c0 2.761 7.163 5 16 5s16-2.239 16-5v-4c0-2.761-7.163-5-16-5z\"></path>\n",
       "<path d=\"M16 17c-8.837 0-16-2.239-16-5v6c0 2.761 7.163 5 16 5s16-2.239 16-5v-6c0 2.761-7.163 5-16 5z\"></path>\n",
       "<path d=\"M16 26c-8.837 0-16-2.239-16-5v6c0 2.761 7.163 5 16 5s16-2.239 16-5v-6c0 2.761-7.163 5-16 5z\"></path>\n",
       "</symbol>\n",
       "<symbol id=\"icon-file-text2\" viewBox=\"0 0 32 32\">\n",
       "<path d=\"M28.681 7.159c-0.694-0.947-1.662-2.053-2.724-3.116s-2.169-2.030-3.116-2.724c-1.612-1.182-2.393-1.319-2.841-1.319h-15.5c-1.378 0-2.5 1.121-2.5 2.5v27c0 1.378 1.122 2.5 2.5 2.5h23c1.378 0 2.5-1.122 2.5-2.5v-19.5c0-0.448-0.137-1.23-1.319-2.841zM24.543 5.457c0.959 0.959 1.712 1.825 2.268 2.543h-4.811v-4.811c0.718 0.556 1.584 1.309 2.543 2.268zM28 29.5c0 0.271-0.229 0.5-0.5 0.5h-23c-0.271 0-0.5-0.229-0.5-0.5v-27c0-0.271 0.229-0.5 0.5-0.5 0 0 15.499-0 15.5 0v7c0 0.552 0.448 1 1 1h7v19.5z\"></path>\n",
       "<path d=\"M23 26h-14c-0.552 0-1-0.448-1-1s0.448-1 1-1h14c0.552 0 1 0.448 1 1s-0.448 1-1 1z\"></path>\n",
       "<path d=\"M23 22h-14c-0.552 0-1-0.448-1-1s0.448-1 1-1h14c0.552 0 1 0.448 1 1s-0.448 1-1 1z\"></path>\n",
       "<path d=\"M23 18h-14c-0.552 0-1-0.448-1-1s0.448-1 1-1h14c0.552 0 1 0.448 1 1s-0.448 1-1 1z\"></path>\n",
       "</symbol>\n",
       "</defs>\n",
       "</svg>\n",
       "<style>/* CSS stylesheet for displaying xarray objects in jupyterlab.\n",
       " *\n",
       " */\n",
       "\n",
       ":root {\n",
       "  --xr-font-color0: var(--jp-content-font-color0, rgba(0, 0, 0, 1));\n",
       "  --xr-font-color2: var(--jp-content-font-color2, rgba(0, 0, 0, 0.54));\n",
       "  --xr-font-color3: var(--jp-content-font-color3, rgba(0, 0, 0, 0.38));\n",
       "  --xr-border-color: var(--jp-border-color2, #e0e0e0);\n",
       "  --xr-disabled-color: var(--jp-layout-color3, #bdbdbd);\n",
       "  --xr-background-color: var(--jp-layout-color0, white);\n",
       "  --xr-background-color-row-even: var(--jp-layout-color1, white);\n",
       "  --xr-background-color-row-odd: var(--jp-layout-color2, #eeeeee);\n",
       "}\n",
       "\n",
       "html[theme=dark],\n",
       "body[data-theme=dark],\n",
       "body.vscode-dark {\n",
       "  --xr-font-color0: rgba(255, 255, 255, 1);\n",
       "  --xr-font-color2: rgba(255, 255, 255, 0.54);\n",
       "  --xr-font-color3: rgba(255, 255, 255, 0.38);\n",
       "  --xr-border-color: #1F1F1F;\n",
       "  --xr-disabled-color: #515151;\n",
       "  --xr-background-color: #111111;\n",
       "  --xr-background-color-row-even: #111111;\n",
       "  --xr-background-color-row-odd: #313131;\n",
       "}\n",
       "\n",
       ".xr-wrap {\n",
       "  display: block !important;\n",
       "  min-width: 300px;\n",
       "  max-width: 700px;\n",
       "}\n",
       "\n",
       ".xr-text-repr-fallback {\n",
       "  /* fallback to plain text repr when CSS is not injected (untrusted notebook) */\n",
       "  display: none;\n",
       "}\n",
       "\n",
       ".xr-header {\n",
       "  padding-top: 6px;\n",
       "  padding-bottom: 6px;\n",
       "  margin-bottom: 4px;\n",
       "  border-bottom: solid 1px var(--xr-border-color);\n",
       "}\n",
       "\n",
       ".xr-header > div,\n",
       ".xr-header > ul {\n",
       "  display: inline;\n",
       "  margin-top: 0;\n",
       "  margin-bottom: 0;\n",
       "}\n",
       "\n",
       ".xr-obj-type,\n",
       ".xr-array-name {\n",
       "  margin-left: 2px;\n",
       "  margin-right: 10px;\n",
       "}\n",
       "\n",
       ".xr-obj-type {\n",
       "  color: var(--xr-font-color2);\n",
       "}\n",
       "\n",
       ".xr-sections {\n",
       "  padding-left: 0 !important;\n",
       "  display: grid;\n",
       "  grid-template-columns: 150px auto auto 1fr 20px 20px;\n",
       "}\n",
       "\n",
       ".xr-section-item {\n",
       "  display: contents;\n",
       "}\n",
       "\n",
       ".xr-section-item input {\n",
       "  display: none;\n",
       "}\n",
       "\n",
       ".xr-section-item input + label {\n",
       "  color: var(--xr-disabled-color);\n",
       "}\n",
       "\n",
       ".xr-section-item input:enabled + label {\n",
       "  cursor: pointer;\n",
       "  color: var(--xr-font-color2);\n",
       "}\n",
       "\n",
       ".xr-section-item input:enabled + label:hover {\n",
       "  color: var(--xr-font-color0);\n",
       "}\n",
       "\n",
       ".xr-section-summary {\n",
       "  grid-column: 1;\n",
       "  color: var(--xr-font-color2);\n",
       "  font-weight: 500;\n",
       "}\n",
       "\n",
       ".xr-section-summary > span {\n",
       "  display: inline-block;\n",
       "  padding-left: 0.5em;\n",
       "}\n",
       "\n",
       ".xr-section-summary-in:disabled + label {\n",
       "  color: var(--xr-font-color2);\n",
       "}\n",
       "\n",
       ".xr-section-summary-in + label:before {\n",
       "  display: inline-block;\n",
       "  content: '►';\n",
       "  font-size: 11px;\n",
       "  width: 15px;\n",
       "  text-align: center;\n",
       "}\n",
       "\n",
       ".xr-section-summary-in:disabled + label:before {\n",
       "  color: var(--xr-disabled-color);\n",
       "}\n",
       "\n",
       ".xr-section-summary-in:checked + label:before {\n",
       "  content: '▼';\n",
       "}\n",
       "\n",
       ".xr-section-summary-in:checked + label > span {\n",
       "  display: none;\n",
       "}\n",
       "\n",
       ".xr-section-summary,\n",
       ".xr-section-inline-details {\n",
       "  padding-top: 4px;\n",
       "  padding-bottom: 4px;\n",
       "}\n",
       "\n",
       ".xr-section-inline-details {\n",
       "  grid-column: 2 / -1;\n",
       "}\n",
       "\n",
       ".xr-section-details {\n",
       "  display: none;\n",
       "  grid-column: 1 / -1;\n",
       "  margin-bottom: 5px;\n",
       "}\n",
       "\n",
       ".xr-section-summary-in:checked ~ .xr-section-details {\n",
       "  display: contents;\n",
       "}\n",
       "\n",
       ".xr-array-wrap {\n",
       "  grid-column: 1 / -1;\n",
       "  display: grid;\n",
       "  grid-template-columns: 20px auto;\n",
       "}\n",
       "\n",
       ".xr-array-wrap > label {\n",
       "  grid-column: 1;\n",
       "  vertical-align: top;\n",
       "}\n",
       "\n",
       ".xr-preview {\n",
       "  color: var(--xr-font-color3);\n",
       "}\n",
       "\n",
       ".xr-array-preview,\n",
       ".xr-array-data {\n",
       "  padding: 0 5px !important;\n",
       "  grid-column: 2;\n",
       "}\n",
       "\n",
       ".xr-array-data,\n",
       ".xr-array-in:checked ~ .xr-array-preview {\n",
       "  display: none;\n",
       "}\n",
       "\n",
       ".xr-array-in:checked ~ .xr-array-data,\n",
       ".xr-array-preview {\n",
       "  display: inline-block;\n",
       "}\n",
       "\n",
       ".xr-dim-list {\n",
       "  display: inline-block !important;\n",
       "  list-style: none;\n",
       "  padding: 0 !important;\n",
       "  margin: 0;\n",
       "}\n",
       "\n",
       ".xr-dim-list li {\n",
       "  display: inline-block;\n",
       "  padding: 0;\n",
       "  margin: 0;\n",
       "}\n",
       "\n",
       ".xr-dim-list:before {\n",
       "  content: '(';\n",
       "}\n",
       "\n",
       ".xr-dim-list:after {\n",
       "  content: ')';\n",
       "}\n",
       "\n",
       ".xr-dim-list li:not(:last-child):after {\n",
       "  content: ',';\n",
       "  padding-right: 5px;\n",
       "}\n",
       "\n",
       ".xr-has-index {\n",
       "  font-weight: bold;\n",
       "}\n",
       "\n",
       ".xr-var-list,\n",
       ".xr-var-item {\n",
       "  display: contents;\n",
       "}\n",
       "\n",
       ".xr-var-item > div,\n",
       ".xr-var-item label,\n",
       ".xr-var-item > .xr-var-name span {\n",
       "  background-color: var(--xr-background-color-row-even);\n",
       "  margin-bottom: 0;\n",
       "}\n",
       "\n",
       ".xr-var-item > .xr-var-name:hover span {\n",
       "  padding-right: 5px;\n",
       "}\n",
       "\n",
       ".xr-var-list > li:nth-child(odd) > div,\n",
       ".xr-var-list > li:nth-child(odd) > label,\n",
       ".xr-var-list > li:nth-child(odd) > .xr-var-name span {\n",
       "  background-color: var(--xr-background-color-row-odd);\n",
       "}\n",
       "\n",
       ".xr-var-name {\n",
       "  grid-column: 1;\n",
       "}\n",
       "\n",
       ".xr-var-dims {\n",
       "  grid-column: 2;\n",
       "}\n",
       "\n",
       ".xr-var-dtype {\n",
       "  grid-column: 3;\n",
       "  text-align: right;\n",
       "  color: var(--xr-font-color2);\n",
       "}\n",
       "\n",
       ".xr-var-preview {\n",
       "  grid-column: 4;\n",
       "}\n",
       "\n",
       ".xr-index-preview {\n",
       "  grid-column: 2 / 5;\n",
       "  color: var(--xr-font-color2);\n",
       "}\n",
       "\n",
       ".xr-var-name,\n",
       ".xr-var-dims,\n",
       ".xr-var-dtype,\n",
       ".xr-preview,\n",
       ".xr-attrs dt {\n",
       "  white-space: nowrap;\n",
       "  overflow: hidden;\n",
       "  text-overflow: ellipsis;\n",
       "  padding-right: 10px;\n",
       "}\n",
       "\n",
       ".xr-var-name:hover,\n",
       ".xr-var-dims:hover,\n",
       ".xr-var-dtype:hover,\n",
       ".xr-attrs dt:hover {\n",
       "  overflow: visible;\n",
       "  width: auto;\n",
       "  z-index: 1;\n",
       "}\n",
       "\n",
       ".xr-var-attrs,\n",
       ".xr-var-data,\n",
       ".xr-index-data {\n",
       "  display: none;\n",
       "  background-color: var(--xr-background-color) !important;\n",
       "  padding-bottom: 5px !important;\n",
       "}\n",
       "\n",
       ".xr-var-attrs-in:checked ~ .xr-var-attrs,\n",
       ".xr-var-data-in:checked ~ .xr-var-data,\n",
       ".xr-index-data-in:checked ~ .xr-index-data {\n",
       "  display: block;\n",
       "}\n",
       "\n",
       ".xr-var-data > table {\n",
       "  float: right;\n",
       "}\n",
       "\n",
       ".xr-var-name span,\n",
       ".xr-var-data,\n",
       ".xr-index-name div,\n",
       ".xr-index-data,\n",
       ".xr-attrs {\n",
       "  padding-left: 25px !important;\n",
       "}\n",
       "\n",
       ".xr-attrs,\n",
       ".xr-var-attrs,\n",
       ".xr-var-data,\n",
       ".xr-index-data {\n",
       "  grid-column: 1 / -1;\n",
       "}\n",
       "\n",
       "dl.xr-attrs {\n",
       "  padding: 0;\n",
       "  margin: 0;\n",
       "  display: grid;\n",
       "  grid-template-columns: 125px auto;\n",
       "}\n",
       "\n",
       ".xr-attrs dt,\n",
       ".xr-attrs dd {\n",
       "  padding: 0;\n",
       "  margin: 0;\n",
       "  float: left;\n",
       "  padding-right: 10px;\n",
       "  width: auto;\n",
       "}\n",
       "\n",
       ".xr-attrs dt {\n",
       "  font-weight: normal;\n",
       "  grid-column: 1;\n",
       "}\n",
       "\n",
       ".xr-attrs dt:hover span {\n",
       "  display: inline-block;\n",
       "  background: var(--xr-background-color);\n",
       "  padding-right: 10px;\n",
       "}\n",
       "\n",
       ".xr-attrs dd {\n",
       "  grid-column: 2;\n",
       "  white-space: pre-wrap;\n",
       "  word-break: break-all;\n",
       "}\n",
       "\n",
       ".xr-icon-database,\n",
       ".xr-icon-file-text2,\n",
       ".xr-no-icon {\n",
       "  display: inline-block;\n",
       "  vertical-align: middle;\n",
       "  width: 1em;\n",
       "  height: 1.5em !important;\n",
       "  stroke-width: 0;\n",
       "  stroke: currentColor;\n",
       "  fill: currentColor;\n",
       "}\n",
       "</style><pre class='xr-text-repr-fallback'>&lt;xarray.Dataset&gt;\n",
       "Dimensions:           (time: 4, north_south: 540, east_west: 660, ensemble: 7,\n",
       "                       SoilMoist_profiles: 4, SoilTemp_profiles: 4)\n",
       "Coordinates:\n",
       "  * time              (time) datetime64[ns] 2024-06-02 2024-06-03 ... 2024-06-05\n",
       "  * ensemble          (ensemble) float32 1.0 2.0 3.0 4.0 5.0 6.0 7.0\n",
       "  * north_south       (north_south) float64 -21.0 -20.95 -20.9 ... 5.9 5.95 6.0\n",
       "  * east_west         (east_west) float64 -82.0 -81.95 -81.9 ... -49.05 -49.0\n",
       "Dimensions without coordinates: SoilMoist_profiles, SoilTemp_profiles\n",
       "Data variables: (12/32)\n",
       "    lat               (time, north_south) float32 ...\n",
       "    lon               (time, east_west) float32 ...\n",
       "    Swnet_tavg        (time, ensemble, north_south, east_west) float32 ...\n",
       "    Lwnet_tavg        (time, ensemble, north_south, east_west) float32 ...\n",
       "    Qle_tavg          (time, ensemble, north_south, east_west) float32 ...\n",
       "    Qh_tavg           (time, ensemble, north_south, east_west) float32 ...\n",
       "    ...                ...\n",
       "    Qair_f_tavg       (time, ensemble, north_south, east_west) float32 ...\n",
       "    Psurf_f_tavg      (time, ensemble, north_south, east_west) float32 ...\n",
       "    SWdown_f_tavg     (time, ensemble, north_south, east_west) float32 ...\n",
       "    LWdown_f_tavg     (time, ensemble, north_south, east_west) float32 ...\n",
       "    LAI_inst          (time, ensemble, north_south, east_west) float32 ...\n",
       "    Greenness_inst    (time, ensemble, north_south, east_west) float32 ...\n",
       "Attributes: (12/15)\n",
       "    missing_value:           -9999.0\n",
       "    NUM_SOIL_LAYERS:         4\n",
       "    SOIL_LAYER_THICKNESSES:  [ 10.        30.000002  60.000004 100.      ]\n",
       "    title:                   LIS land surface model output\n",
       "    institution:             NASA GSFC\n",
       "    source:                  \n",
       "    ...                      ...\n",
       "    comment:                 website: http://lis.gsfc.nasa.gov/\n",
       "    MAP_PROJECTION:          EQUIDISTANT CYLINDRICAL\n",
       "    SOUTH_WEST_CORNER_LAT:   -20.975\n",
       "    SOUTH_WEST_CORNER_LON:   -81.975\n",
       "    DX:                      0.05\n",
       "    DY:                      0.05</pre><div class='xr-wrap' style='display:none'><div class='xr-header'><div class='xr-obj-type'>xarray.Dataset</div></div><ul class='xr-sections'><li class='xr-section-item'><input id='section-ec4ce851-938c-41ea-b6b5-df236da895bd' class='xr-section-summary-in' type='checkbox' disabled ><label for='section-ec4ce851-938c-41ea-b6b5-df236da895bd' class='xr-section-summary'  title='Expand/collapse section'>Dimensions:</label><div class='xr-section-inline-details'><ul class='xr-dim-list'><li><span class='xr-has-index'>time</span>: 4</li><li><span class='xr-has-index'>north_south</span>: 540</li><li><span class='xr-has-index'>east_west</span>: 660</li><li><span class='xr-has-index'>ensemble</span>: 7</li><li><span>SoilMoist_profiles</span>: 4</li><li><span>SoilTemp_profiles</span>: 4</li></ul></div><div class='xr-section-details'></div></li><li class='xr-section-item'><input id='section-e62bd5dd-32a1-43a6-a855-c22378934476' class='xr-section-summary-in' type='checkbox'  checked><label for='section-e62bd5dd-32a1-43a6-a855-c22378934476' class='xr-section-summary' >Coordinates: <span>(4)</span></label><div class='xr-section-inline-details'></div><div class='xr-section-details'><ul class='xr-var-list'><li class='xr-var-item'><div class='xr-var-name'><span class='xr-has-index'>time</span></div><div class='xr-var-dims'>(time)</div><div class='xr-var-dtype'>datetime64[ns]</div><div class='xr-var-preview xr-preview'>2024-06-02 ... 2024-06-05</div><input id='attrs-b64cc255-b72b-4ab5-b623-0214436d243b' class='xr-var-attrs-in' type='checkbox' ><label for='attrs-b64cc255-b72b-4ab5-b623-0214436d243b' title='Show/Hide attributes'><svg class='icon xr-icon-file-text2'><use xlink:href='#icon-file-text2'></use></svg></label><input id='data-0595d322-ec4a-4599-ad89-bcca0834359c' class='xr-var-data-in' type='checkbox'><label for='data-0595d322-ec4a-4599-ad89-bcca0834359c' title='Show/Hide data repr'><svg class='icon xr-icon-database'><use xlink:href='#icon-database'></use></svg></label><div class='xr-var-attrs'><dl class='xr-attrs'><dt><span>long_name :</span></dt><dd>time</dd><dt><span>time_increment :</span></dt><dd>86400</dd><dt><span>begin_date :</span></dt><dd>20240602</dd><dt><span>begin_time :</span></dt><dd>000000</dd></dl></div><div class='xr-var-data'><pre>array([&#x27;2024-06-02T00:00:00.000000000&#x27;, &#x27;2024-06-03T00:00:00.000000000&#x27;,\n",
       "       &#x27;2024-06-04T00:00:00.000000000&#x27;, &#x27;2024-06-05T00:00:00.000000000&#x27;],\n",
       "      dtype=&#x27;datetime64[ns]&#x27;)</pre></div></li><li class='xr-var-item'><div class='xr-var-name'><span class='xr-has-index'>ensemble</span></div><div class='xr-var-dims'>(ensemble)</div><div class='xr-var-dtype'>float32</div><div class='xr-var-preview xr-preview'>1.0 2.0 3.0 4.0 5.0 6.0 7.0</div><input id='attrs-2059cb5f-d723-4f2a-ad76-74fddbe7d2d5' class='xr-var-attrs-in' type='checkbox' ><label for='attrs-2059cb5f-d723-4f2a-ad76-74fddbe7d2d5' title='Show/Hide attributes'><svg class='icon xr-icon-file-text2'><use xlink:href='#icon-file-text2'></use></svg></label><input id='data-628f762b-828d-4516-8014-fae258321276' class='xr-var-data-in' type='checkbox'><label for='data-628f762b-828d-4516-8014-fae258321276' title='Show/Hide data repr'><svg class='icon xr-icon-database'><use xlink:href='#icon-database'></use></svg></label><div class='xr-var-attrs'><dl class='xr-attrs'><dt><span>units :</span></dt><dd>ensemble number</dd><dt><span>long_name :</span></dt><dd>Ensemble numbers</dd></dl></div><div class='xr-var-data'><pre>array([1., 2., 3., 4., 5., 6., 7.], dtype=float32)</pre></div></li><li class='xr-var-item'><div class='xr-var-name'><span class='xr-has-index'>north_south</span></div><div class='xr-var-dims'>(north_south)</div><div class='xr-var-dtype'>float64</div><div class='xr-var-preview xr-preview'>-21.0 -20.95 -20.9 ... 5.9 5.95 6.0</div><input id='attrs-1af4abb4-c9c9-439a-bab5-960296808924' class='xr-var-attrs-in' type='checkbox' ><label for='attrs-1af4abb4-c9c9-439a-bab5-960296808924' title='Show/Hide attributes'><svg class='icon xr-icon-file-text2'><use xlink:href='#icon-file-text2'></use></svg></label><input id='data-642a2de9-938d-4902-9150-f526676160f1' class='xr-var-data-in' type='checkbox'><label for='data-642a2de9-938d-4902-9150-f526676160f1' title='Show/Hide data repr'><svg class='icon xr-icon-database'><use xlink:href='#icon-database'></use></svg></label><div class='xr-var-attrs'><dl class='xr-attrs'><dt><span>units :</span></dt><dd>degrees_n</dd></dl></div><div class='xr-var-data'><pre>array([-21.      , -20.949907, -20.899814, ...,   5.899814,   5.949907,\n",
       "         6.      ])</pre></div></li><li class='xr-var-item'><div class='xr-var-name'><span class='xr-has-index'>east_west</span></div><div class='xr-var-dims'>(east_west)</div><div class='xr-var-dtype'>float64</div><div class='xr-var-preview xr-preview'>-82.0 -81.95 -81.9 ... -49.05 -49.0</div><input id='attrs-1daa8a6f-d0c0-422c-b846-e29efec19fbb' class='xr-var-attrs-in' type='checkbox' ><label for='attrs-1daa8a6f-d0c0-422c-b846-e29efec19fbb' title='Show/Hide attributes'><svg class='icon xr-icon-file-text2'><use xlink:href='#icon-file-text2'></use></svg></label><input id='data-e91a8ae0-905f-4b82-8755-fcec953e0e80' class='xr-var-data-in' type='checkbox'><label for='data-e91a8ae0-905f-4b82-8755-fcec953e0e80' title='Show/Hide data repr'><svg class='icon xr-icon-database'><use xlink:href='#icon-database'></use></svg></label><div class='xr-var-attrs'><dl class='xr-attrs'><dt><span>units :</span></dt><dd>degrees_e</dd></dl></div><div class='xr-var-data'><pre>array([-82.      , -81.949924, -81.899848, ..., -49.100152, -49.050076,\n",
       "       -49.      ])</pre></div></li></ul></div></li><li class='xr-section-item'><input id='section-68ed2a5d-b95a-4304-a20f-830ce27ebcaf' class='xr-section-summary-in' type='checkbox'  ><label for='section-68ed2a5d-b95a-4304-a20f-830ce27ebcaf' class='xr-section-summary' >Data variables: <span>(32)</span></label><div class='xr-section-inline-details'></div><div class='xr-section-details'><ul class='xr-var-list'><li class='xr-var-item'><div class='xr-var-name'><span>lat</span></div><div class='xr-var-dims'>(time, north_south)</div><div class='xr-var-dtype'>float32</div><div class='xr-var-preview xr-preview'>...</div><input id='attrs-08723f30-8da5-4f05-9418-48fb7ed585d2' class='xr-var-attrs-in' type='checkbox' ><label for='attrs-08723f30-8da5-4f05-9418-48fb7ed585d2' title='Show/Hide attributes'><svg class='icon xr-icon-file-text2'><use xlink:href='#icon-file-text2'></use></svg></label><input id='data-064e5b1c-7a3b-469e-9392-49225608416f' class='xr-var-data-in' type='checkbox'><label for='data-064e5b1c-7a3b-469e-9392-49225608416f' title='Show/Hide data repr'><svg class='icon xr-icon-database'><use xlink:href='#icon-database'></use></svg></label><div class='xr-var-attrs'><dl class='xr-attrs'><dt><span>units :</span></dt><dd>degree_north</dd><dt><span>standard_name :</span></dt><dd>latitude</dd><dt><span>long_name :</span></dt><dd>latitude</dd><dt><span>vmin :</span></dt><dd>0.0</dd><dt><span>vmax :</span></dt><dd>0.0</dd></dl></div><div class='xr-var-data'><pre>[2160 values with dtype=float32]</pre></div></li><li class='xr-var-item'><div class='xr-var-name'><span>lon</span></div><div class='xr-var-dims'>(time, east_west)</div><div class='xr-var-dtype'>float32</div><div class='xr-var-preview xr-preview'>...</div><input id='attrs-d7f373a7-f8bc-4cee-b8d7-9e3e13cd90ab' class='xr-var-attrs-in' type='checkbox' ><label for='attrs-d7f373a7-f8bc-4cee-b8d7-9e3e13cd90ab' title='Show/Hide attributes'><svg class='icon xr-icon-file-text2'><use xlink:href='#icon-file-text2'></use></svg></label><input id='data-ddb41153-ebc1-43ff-b681-65002824eea2' class='xr-var-data-in' type='checkbox'><label for='data-ddb41153-ebc1-43ff-b681-65002824eea2' title='Show/Hide data repr'><svg class='icon xr-icon-database'><use xlink:href='#icon-database'></use></svg></label><div class='xr-var-attrs'><dl class='xr-attrs'><dt><span>units :</span></dt><dd>degree_east</dd><dt><span>standard_name :</span></dt><dd>longitude</dd><dt><span>long_name :</span></dt><dd>longitude</dd><dt><span>vmin :</span></dt><dd>0.0</dd><dt><span>vmax :</span></dt><dd>0.0</dd></dl></div><div class='xr-var-data'><pre>[2640 values with dtype=float32]</pre></div></li><li class='xr-var-item'><div class='xr-var-name'><span>Swnet_tavg</span></div><div class='xr-var-dims'>(time, ensemble, north_south, east_west)</div><div class='xr-var-dtype'>float32</div><div class='xr-var-preview xr-preview'>...</div><input id='attrs-5fb84e01-35d4-49cb-82b8-c72cc5a6411b' class='xr-var-attrs-in' type='checkbox' ><label for='attrs-5fb84e01-35d4-49cb-82b8-c72cc5a6411b' title='Show/Hide attributes'><svg class='icon xr-icon-file-text2'><use xlink:href='#icon-file-text2'></use></svg></label><input id='data-0c4b82b9-670f-4b40-8e55-c898fee6ec1f' class='xr-var-data-in' type='checkbox'><label for='data-0c4b82b9-670f-4b40-8e55-c898fee6ec1f' title='Show/Hide data repr'><svg class='icon xr-icon-database'><use xlink:href='#icon-database'></use></svg></label><div class='xr-var-attrs'><dl class='xr-attrs'><dt><span>units :</span></dt><dd>W m-2</dd><dt><span>standard_name :</span></dt><dd>surface_net_downward_shortwave_flux</dd><dt><span>long_name :</span></dt><dd>net downward shortwave radiation</dd><dt><span>vmin :</span></dt><dd>0.0</dd><dt><span>vmax :</span></dt><dd>0.0</dd></dl></div><div class='xr-var-data'><pre>[9979200 values with dtype=float32]</pre></div></li><li class='xr-var-item'><div class='xr-var-name'><span>Lwnet_tavg</span></div><div class='xr-var-dims'>(time, ensemble, north_south, east_west)</div><div class='xr-var-dtype'>float32</div><div class='xr-var-preview xr-preview'>...</div><input id='attrs-a91c84a9-b088-4cac-9beb-0df17f36b70e' class='xr-var-attrs-in' type='checkbox' ><label for='attrs-a91c84a9-b088-4cac-9beb-0df17f36b70e' title='Show/Hide attributes'><svg class='icon xr-icon-file-text2'><use xlink:href='#icon-file-text2'></use></svg></label><input id='data-f519f286-4c12-4228-9506-a3d4f1cf35e0' class='xr-var-data-in' type='checkbox'><label for='data-f519f286-4c12-4228-9506-a3d4f1cf35e0' title='Show/Hide data repr'><svg class='icon xr-icon-database'><use xlink:href='#icon-database'></use></svg></label><div class='xr-var-attrs'><dl class='xr-attrs'><dt><span>units :</span></dt><dd>W m-2</dd><dt><span>standard_name :</span></dt><dd>surface_net_downward_longwave_flux</dd><dt><span>long_name :</span></dt><dd>net downward longwave radiation</dd><dt><span>vmin :</span></dt><dd>0.0</dd><dt><span>vmax :</span></dt><dd>0.0</dd></dl></div><div class='xr-var-data'><pre>[9979200 values with dtype=float32]</pre></div></li><li class='xr-var-item'><div class='xr-var-name'><span>Qle_tavg</span></div><div class='xr-var-dims'>(time, ensemble, north_south, east_west)</div><div class='xr-var-dtype'>float32</div><div class='xr-var-preview xr-preview'>...</div><input id='attrs-c8365968-bfb2-4762-8fc8-fa841e9413cb' class='xr-var-attrs-in' type='checkbox' ><label for='attrs-c8365968-bfb2-4762-8fc8-fa841e9413cb' title='Show/Hide attributes'><svg class='icon xr-icon-file-text2'><use xlink:href='#icon-file-text2'></use></svg></label><input id='data-a926ec62-5f53-4f5b-a31d-d53419cd596b' class='xr-var-data-in' type='checkbox'><label for='data-a926ec62-5f53-4f5b-a31d-d53419cd596b' title='Show/Hide data repr'><svg class='icon xr-icon-database'><use xlink:href='#icon-database'></use></svg></label><div class='xr-var-attrs'><dl class='xr-attrs'><dt><span>units :</span></dt><dd>W m-2</dd><dt><span>standard_name :</span></dt><dd>surface_upward_latent_heat_flux</dd><dt><span>long_name :</span></dt><dd>latent heat flux</dd><dt><span>vmin :</span></dt><dd>0.0</dd><dt><span>vmax :</span></dt><dd>0.0</dd></dl></div><div class='xr-var-data'><pre>[9979200 values with dtype=float32]</pre></div></li><li class='xr-var-item'><div class='xr-var-name'><span>Qh_tavg</span></div><div class='xr-var-dims'>(time, ensemble, north_south, east_west)</div><div class='xr-var-dtype'>float32</div><div class='xr-var-preview xr-preview'>...</div><input id='attrs-dac3dd7d-e934-4b6b-b3fa-c4b368f3aa99' class='xr-var-attrs-in' type='checkbox' ><label for='attrs-dac3dd7d-e934-4b6b-b3fa-c4b368f3aa99' title='Show/Hide attributes'><svg class='icon xr-icon-file-text2'><use xlink:href='#icon-file-text2'></use></svg></label><input id='data-70947e9e-0752-4e8e-a329-fe23296eed7f' class='xr-var-data-in' type='checkbox'><label for='data-70947e9e-0752-4e8e-a329-fe23296eed7f' title='Show/Hide data repr'><svg class='icon xr-icon-database'><use xlink:href='#icon-database'></use></svg></label><div class='xr-var-attrs'><dl class='xr-attrs'><dt><span>units :</span></dt><dd>W m-2</dd><dt><span>standard_name :</span></dt><dd>surface_upward_sensible_heat_flux</dd><dt><span>long_name :</span></dt><dd>sensible heat flux</dd><dt><span>vmin :</span></dt><dd>0.0</dd><dt><span>vmax :</span></dt><dd>0.0</dd></dl></div><div class='xr-var-data'><pre>[9979200 values with dtype=float32]</pre></div></li><li class='xr-var-item'><div class='xr-var-name'><span>Qg_tavg</span></div><div class='xr-var-dims'>(time, ensemble, north_south, east_west)</div><div class='xr-var-dtype'>float32</div><div class='xr-var-preview xr-preview'>...</div><input id='attrs-287399b2-42ac-4a7f-ab3c-9ee49a60caac' class='xr-var-attrs-in' type='checkbox' ><label for='attrs-287399b2-42ac-4a7f-ab3c-9ee49a60caac' title='Show/Hide attributes'><svg class='icon xr-icon-file-text2'><use xlink:href='#icon-file-text2'></use></svg></label><input id='data-9f212d8d-f554-4bdb-8309-8c41834c9b94' class='xr-var-data-in' type='checkbox'><label for='data-9f212d8d-f554-4bdb-8309-8c41834c9b94' title='Show/Hide data repr'><svg class='icon xr-icon-database'><use xlink:href='#icon-database'></use></svg></label><div class='xr-var-attrs'><dl class='xr-attrs'><dt><span>units :</span></dt><dd>W m-2</dd><dt><span>standard_name :</span></dt><dd>downward_heat_flux_in_soil</dd><dt><span>long_name :</span></dt><dd>soil heat flux</dd><dt><span>vmin :</span></dt><dd>0.0</dd><dt><span>vmax :</span></dt><dd>0.0</dd></dl></div><div class='xr-var-data'><pre>[9979200 values with dtype=float32]</pre></div></li><li class='xr-var-item'><div class='xr-var-name'><span>Snowf_tavg</span></div><div class='xr-var-dims'>(time, ensemble, north_south, east_west)</div><div class='xr-var-dtype'>float32</div><div class='xr-var-preview xr-preview'>...</div><input id='attrs-41bfb6c0-4410-42de-82b2-8b299aa80da9' class='xr-var-attrs-in' type='checkbox' ><label for='attrs-41bfb6c0-4410-42de-82b2-8b299aa80da9' title='Show/Hide attributes'><svg class='icon xr-icon-file-text2'><use xlink:href='#icon-file-text2'></use></svg></label><input id='data-50e6c1cd-9e26-4f61-84e6-6f9befe66950' class='xr-var-data-in' type='checkbox'><label for='data-50e6c1cd-9e26-4f61-84e6-6f9befe66950' title='Show/Hide data repr'><svg class='icon xr-icon-database'><use xlink:href='#icon-database'></use></svg></label><div class='xr-var-attrs'><dl class='xr-attrs'><dt><span>units :</span></dt><dd>kg m-2 s-1</dd><dt><span>standard_name :</span></dt><dd>snowfall_rate</dd><dt><span>long_name :</span></dt><dd>snowfall rate</dd><dt><span>vmin :</span></dt><dd>0.0</dd><dt><span>vmax :</span></dt><dd>0.0</dd></dl></div><div class='xr-var-data'><pre>[9979200 values with dtype=float32]</pre></div></li><li class='xr-var-item'><div class='xr-var-name'><span>Rainf_tavg</span></div><div class='xr-var-dims'>(time, ensemble, north_south, east_west)</div><div class='xr-var-dtype'>float32</div><div class='xr-var-preview xr-preview'>...</div><input id='attrs-c56f4a31-75e5-47c9-bfaa-9abf1d6a3673' class='xr-var-attrs-in' type='checkbox' ><label for='attrs-c56f4a31-75e5-47c9-bfaa-9abf1d6a3673' title='Show/Hide attributes'><svg class='icon xr-icon-file-text2'><use xlink:href='#icon-file-text2'></use></svg></label><input id='data-65f132cf-3965-4909-9ec8-e16725fa8865' class='xr-var-data-in' type='checkbox'><label for='data-65f132cf-3965-4909-9ec8-e16725fa8865' title='Show/Hide data repr'><svg class='icon xr-icon-database'><use xlink:href='#icon-database'></use></svg></label><div class='xr-var-attrs'><dl class='xr-attrs'><dt><span>units :</span></dt><dd>kg m-2 s-1</dd><dt><span>standard_name :</span></dt><dd>precipitation_rate</dd><dt><span>long_name :</span></dt><dd>precipitation rate</dd><dt><span>vmin :</span></dt><dd>0.0</dd><dt><span>vmax :</span></dt><dd>0.0</dd></dl></div><div class='xr-var-data'><pre>[9979200 values with dtype=float32]</pre></div></li><li class='xr-var-item'><div class='xr-var-name'><span>Evap_tavg</span></div><div class='xr-var-dims'>(time, ensemble, north_south, east_west)</div><div class='xr-var-dtype'>float32</div><div class='xr-var-preview xr-preview'>...</div><input id='attrs-623a7e7c-5f43-4f05-8b4f-8471a49c7221' class='xr-var-attrs-in' type='checkbox' ><label for='attrs-623a7e7c-5f43-4f05-8b4f-8471a49c7221' title='Show/Hide attributes'><svg class='icon xr-icon-file-text2'><use xlink:href='#icon-file-text2'></use></svg></label><input id='data-d31670b5-0f7d-4768-8e09-3edeb113be4e' class='xr-var-data-in' type='checkbox'><label for='data-d31670b5-0f7d-4768-8e09-3edeb113be4e' title='Show/Hide data repr'><svg class='icon xr-icon-database'><use xlink:href='#icon-database'></use></svg></label><div class='xr-var-attrs'><dl class='xr-attrs'><dt><span>units :</span></dt><dd>kg m-2 s-1</dd><dt><span>standard_name :</span></dt><dd>total_evapotranspiration</dd><dt><span>long_name :</span></dt><dd>total evapotranspiration</dd><dt><span>vmin :</span></dt><dd>0.0</dd><dt><span>vmax :</span></dt><dd>0.0</dd></dl></div><div class='xr-var-data'><pre>[9979200 values with dtype=float32]</pre></div></li><li class='xr-var-item'><div class='xr-var-name'><span>Qs_tavg</span></div><div class='xr-var-dims'>(time, ensemble, north_south, east_west)</div><div class='xr-var-dtype'>float32</div><div class='xr-var-preview xr-preview'>...</div><input id='attrs-b00f3f9c-74b5-4b71-bf3b-4b2c35586b01' class='xr-var-attrs-in' type='checkbox' ><label for='attrs-b00f3f9c-74b5-4b71-bf3b-4b2c35586b01' title='Show/Hide attributes'><svg class='icon xr-icon-file-text2'><use xlink:href='#icon-file-text2'></use></svg></label><input id='data-abcd0f22-41bb-4ed0-acf5-531958c3dd10' class='xr-var-data-in' type='checkbox'><label for='data-abcd0f22-41bb-4ed0-acf5-531958c3dd10' title='Show/Hide data repr'><svg class='icon xr-icon-database'><use xlink:href='#icon-database'></use></svg></label><div class='xr-var-attrs'><dl class='xr-attrs'><dt><span>units :</span></dt><dd>kg m-2 s-1</dd><dt><span>standard_name :</span></dt><dd>surface_runoff_amount</dd><dt><span>long_name :</span></dt><dd>surface runoff</dd><dt><span>vmin :</span></dt><dd>0.0</dd><dt><span>vmax :</span></dt><dd>0.0</dd></dl></div><div class='xr-var-data'><pre>[9979200 values with dtype=float32]</pre></div></li><li class='xr-var-item'><div class='xr-var-name'><span>Qsb_tavg</span></div><div class='xr-var-dims'>(time, ensemble, north_south, east_west)</div><div class='xr-var-dtype'>float32</div><div class='xr-var-preview xr-preview'>...</div><input id='attrs-18ca717e-fcfc-44e1-a27e-89d53d860e13' class='xr-var-attrs-in' type='checkbox' ><label for='attrs-18ca717e-fcfc-44e1-a27e-89d53d860e13' title='Show/Hide attributes'><svg class='icon xr-icon-file-text2'><use xlink:href='#icon-file-text2'></use></svg></label><input id='data-c9611487-5d57-406e-b59c-bc55a2ff0fb0' class='xr-var-data-in' type='checkbox'><label for='data-c9611487-5d57-406e-b59c-bc55a2ff0fb0' title='Show/Hide data repr'><svg class='icon xr-icon-database'><use xlink:href='#icon-database'></use></svg></label><div class='xr-var-attrs'><dl class='xr-attrs'><dt><span>units :</span></dt><dd>kg m-2 s-1</dd><dt><span>standard_name :</span></dt><dd>subsurface_runoff_amount</dd><dt><span>long_name :</span></dt><dd>subsurface runoff amount</dd><dt><span>vmin :</span></dt><dd>0.0</dd><dt><span>vmax :</span></dt><dd>0.0</dd></dl></div><div class='xr-var-data'><pre>[9979200 values with dtype=float32]</pre></div></li><li class='xr-var-item'><div class='xr-var-name'><span>Qsm_tavg</span></div><div class='xr-var-dims'>(time, ensemble, north_south, east_west)</div><div class='xr-var-dtype'>float32</div><div class='xr-var-preview xr-preview'>...</div><input id='attrs-8113e417-d229-4f74-9655-e42260e0be69' class='xr-var-attrs-in' type='checkbox' ><label for='attrs-8113e417-d229-4f74-9655-e42260e0be69' title='Show/Hide attributes'><svg class='icon xr-icon-file-text2'><use xlink:href='#icon-file-text2'></use></svg></label><input id='data-17ee5115-948b-487a-b906-90002aec6744' class='xr-var-data-in' type='checkbox'><label for='data-17ee5115-948b-487a-b906-90002aec6744' title='Show/Hide data repr'><svg class='icon xr-icon-database'><use xlink:href='#icon-database'></use></svg></label><div class='xr-var-attrs'><dl class='xr-attrs'><dt><span>units :</span></dt><dd>kg m-2 s-1</dd><dt><span>standard_name :</span></dt><dd>snowmelt</dd><dt><span>long_name :</span></dt><dd>snowmelt</dd><dt><span>vmin :</span></dt><dd>0.0</dd><dt><span>vmax :</span></dt><dd>0.0</dd></dl></div><div class='xr-var-data'><pre>[9979200 values with dtype=float32]</pre></div></li><li class='xr-var-item'><div class='xr-var-name'><span>Albedo_inst</span></div><div class='xr-var-dims'>(time, ensemble, north_south, east_west)</div><div class='xr-var-dtype'>float32</div><div class='xr-var-preview xr-preview'>...</div><input id='attrs-258bcc20-1dba-44af-b625-7db83f979b6f' class='xr-var-attrs-in' type='checkbox' ><label for='attrs-258bcc20-1dba-44af-b625-7db83f979b6f' title='Show/Hide attributes'><svg class='icon xr-icon-file-text2'><use xlink:href='#icon-file-text2'></use></svg></label><input id='data-69b0379f-e0ba-4a3e-86a4-4555b39d849a' class='xr-var-data-in' type='checkbox'><label for='data-69b0379f-e0ba-4a3e-86a4-4555b39d849a' title='Show/Hide data repr'><svg class='icon xr-icon-database'><use xlink:href='#icon-database'></use></svg></label><div class='xr-var-attrs'><dl class='xr-attrs'><dt><span>units :</span></dt><dd>-</dd><dt><span>standard_name :</span></dt><dd>surface_albedo</dd><dt><span>long_name :</span></dt><dd>surface albedo</dd><dt><span>vmin :</span></dt><dd>0.0</dd><dt><span>vmax :</span></dt><dd>0.0</dd></dl></div><div class='xr-var-data'><pre>[9979200 values with dtype=float32]</pre></div></li><li class='xr-var-item'><div class='xr-var-name'><span>SWE_inst</span></div><div class='xr-var-dims'>(time, ensemble, north_south, east_west)</div><div class='xr-var-dtype'>float32</div><div class='xr-var-preview xr-preview'>...</div><input id='attrs-4c95cbf4-6b3c-4e95-b863-98614616ad60' class='xr-var-attrs-in' type='checkbox' ><label for='attrs-4c95cbf4-6b3c-4e95-b863-98614616ad60' title='Show/Hide attributes'><svg class='icon xr-icon-file-text2'><use xlink:href='#icon-file-text2'></use></svg></label><input id='data-23bcd6ca-2a11-41bb-9954-da782cc6c179' class='xr-var-data-in' type='checkbox'><label for='data-23bcd6ca-2a11-41bb-9954-da782cc6c179' title='Show/Hide data repr'><svg class='icon xr-icon-database'><use xlink:href='#icon-database'></use></svg></label><div class='xr-var-attrs'><dl class='xr-attrs'><dt><span>units :</span></dt><dd>kg m-2</dd><dt><span>standard_name :</span></dt><dd>liquid_water_content_of_surface_snow</dd><dt><span>long_name :</span></dt><dd>snow water equivalent</dd><dt><span>vmin :</span></dt><dd>0.0</dd><dt><span>vmax :</span></dt><dd>0.0</dd></dl></div><div class='xr-var-data'><pre>[9979200 values with dtype=float32]</pre></div></li><li class='xr-var-item'><div class='xr-var-name'><span>SoilMoist_inst</span></div><div class='xr-var-dims'>(time, SoilMoist_profiles, ensemble, north_south, east_west)</div><div class='xr-var-dtype'>float32</div><div class='xr-var-preview xr-preview'>...</div><input id='attrs-cb054785-50a1-45c9-abc5-c219c6e24f6e' class='xr-var-attrs-in' type='checkbox' ><label for='attrs-cb054785-50a1-45c9-abc5-c219c6e24f6e' title='Show/Hide attributes'><svg class='icon xr-icon-file-text2'><use xlink:href='#icon-file-text2'></use></svg></label><input id='data-407fafdb-c5ac-4cf4-a55f-88398ac679ef' class='xr-var-data-in' type='checkbox'><label for='data-407fafdb-c5ac-4cf4-a55f-88398ac679ef' title='Show/Hide data repr'><svg class='icon xr-icon-database'><use xlink:href='#icon-database'></use></svg></label><div class='xr-var-attrs'><dl class='xr-attrs'><dt><span>units :</span></dt><dd>m^3 m-3</dd><dt><span>standard_name :</span></dt><dd>soil_moisture_content</dd><dt><span>long_name :</span></dt><dd>soil moisture content</dd><dt><span>vmin :</span></dt><dd>0.0</dd><dt><span>vmax :</span></dt><dd>0.0</dd></dl></div><div class='xr-var-data'><pre>[39916800 values with dtype=float32]</pre></div></li><li class='xr-var-item'><div class='xr-var-name'><span>SoilTemp_inst</span></div><div class='xr-var-dims'>(time, SoilTemp_profiles, ensemble, north_south, east_west)</div><div class='xr-var-dtype'>float32</div><div class='xr-var-preview xr-preview'>...</div><input id='attrs-ad319b5c-5b0d-4d7c-91c3-ac2eb9234848' class='xr-var-attrs-in' type='checkbox' ><label for='attrs-ad319b5c-5b0d-4d7c-91c3-ac2eb9234848' title='Show/Hide attributes'><svg class='icon xr-icon-file-text2'><use xlink:href='#icon-file-text2'></use></svg></label><input id='data-ddc24277-0fb1-49a8-b613-99184678535c' class='xr-var-data-in' type='checkbox'><label for='data-ddc24277-0fb1-49a8-b613-99184678535c' title='Show/Hide data repr'><svg class='icon xr-icon-database'><use xlink:href='#icon-database'></use></svg></label><div class='xr-var-attrs'><dl class='xr-attrs'><dt><span>units :</span></dt><dd>K</dd><dt><span>standard_name :</span></dt><dd>soil_temperature</dd><dt><span>long_name :</span></dt><dd>soil temperature</dd><dt><span>vmin :</span></dt><dd>0.0</dd><dt><span>vmax :</span></dt><dd>0.0</dd></dl></div><div class='xr-var-data'><pre>[39916800 values with dtype=float32]</pre></div></li><li class='xr-var-item'><div class='xr-var-name'><span>PotEvap_tavg</span></div><div class='xr-var-dims'>(time, ensemble, north_south, east_west)</div><div class='xr-var-dtype'>float32</div><div class='xr-var-preview xr-preview'>...</div><input id='attrs-970cb270-f580-495a-9717-7a06b9e9c9b7' class='xr-var-attrs-in' type='checkbox' ><label for='attrs-970cb270-f580-495a-9717-7a06b9e9c9b7' title='Show/Hide attributes'><svg class='icon xr-icon-file-text2'><use xlink:href='#icon-file-text2'></use></svg></label><input id='data-59fe6e37-e4e7-44a4-a952-0c020df98a09' class='xr-var-data-in' type='checkbox'><label for='data-59fe6e37-e4e7-44a4-a952-0c020df98a09' title='Show/Hide data repr'><svg class='icon xr-icon-database'><use xlink:href='#icon-database'></use></svg></label><div class='xr-var-attrs'><dl class='xr-attrs'><dt><span>units :</span></dt><dd>kg m-2 s-1</dd><dt><span>standard_name :</span></dt><dd>potential_evapotranspiration</dd><dt><span>long_name :</span></dt><dd>potential evapotranspiration</dd><dt><span>vmin :</span></dt><dd>0.0</dd><dt><span>vmax :</span></dt><dd>0.0</dd></dl></div><div class='xr-var-data'><pre>[9979200 values with dtype=float32]</pre></div></li><li class='xr-var-item'><div class='xr-var-name'><span>ECanop_tavg</span></div><div class='xr-var-dims'>(time, ensemble, north_south, east_west)</div><div class='xr-var-dtype'>float32</div><div class='xr-var-preview xr-preview'>...</div><input id='attrs-5197ea79-8a94-4bfe-b301-c592ba6b6511' class='xr-var-attrs-in' type='checkbox' ><label for='attrs-5197ea79-8a94-4bfe-b301-c592ba6b6511' title='Show/Hide attributes'><svg class='icon xr-icon-file-text2'><use xlink:href='#icon-file-text2'></use></svg></label><input id='data-7e20aa94-469f-4ddc-b549-56deae0374b3' class='xr-var-data-in' type='checkbox'><label for='data-7e20aa94-469f-4ddc-b549-56deae0374b3' title='Show/Hide data repr'><svg class='icon xr-icon-database'><use xlink:href='#icon-database'></use></svg></label><div class='xr-var-attrs'><dl class='xr-attrs'><dt><span>units :</span></dt><dd>kg m-2 s-1</dd><dt><span>standard_name :</span></dt><dd>interception_evaporation</dd><dt><span>long_name :</span></dt><dd>interception evaporation</dd><dt><span>vmin :</span></dt><dd>0.0</dd><dt><span>vmax :</span></dt><dd>0.0</dd></dl></div><div class='xr-var-data'><pre>[9979200 values with dtype=float32]</pre></div></li><li class='xr-var-item'><div class='xr-var-name'><span>TVeg_tavg</span></div><div class='xr-var-dims'>(time, ensemble, north_south, east_west)</div><div class='xr-var-dtype'>float32</div><div class='xr-var-preview xr-preview'>...</div><input id='attrs-4eb54abe-69cd-4cc3-a0b7-095a1232e62e' class='xr-var-attrs-in' type='checkbox' ><label for='attrs-4eb54abe-69cd-4cc3-a0b7-095a1232e62e' title='Show/Hide attributes'><svg class='icon xr-icon-file-text2'><use xlink:href='#icon-file-text2'></use></svg></label><input id='data-703a5e07-fb21-40af-90a4-9f1353bbc618' class='xr-var-data-in' type='checkbox'><label for='data-703a5e07-fb21-40af-90a4-9f1353bbc618' title='Show/Hide data repr'><svg class='icon xr-icon-database'><use xlink:href='#icon-database'></use></svg></label><div class='xr-var-attrs'><dl class='xr-attrs'><dt><span>units :</span></dt><dd>kg m-2 s-1</dd><dt><span>standard_name :</span></dt><dd>vegetation_transpiration</dd><dt><span>long_name :</span></dt><dd>vegetation transpiration</dd><dt><span>vmin :</span></dt><dd>0.0</dd><dt><span>vmax :</span></dt><dd>0.0</dd></dl></div><div class='xr-var-data'><pre>[9979200 values with dtype=float32]</pre></div></li><li class='xr-var-item'><div class='xr-var-name'><span>ESoil_tavg</span></div><div class='xr-var-dims'>(time, ensemble, north_south, east_west)</div><div class='xr-var-dtype'>float32</div><div class='xr-var-preview xr-preview'>...</div><input id='attrs-b08a8523-f4e4-405f-9146-be22fd989584' class='xr-var-attrs-in' type='checkbox' ><label for='attrs-b08a8523-f4e4-405f-9146-be22fd989584' title='Show/Hide attributes'><svg class='icon xr-icon-file-text2'><use xlink:href='#icon-file-text2'></use></svg></label><input id='data-98b1a91f-2e22-45a4-8110-7417d491dc4a' class='xr-var-data-in' type='checkbox'><label for='data-98b1a91f-2e22-45a4-8110-7417d491dc4a' title='Show/Hide data repr'><svg class='icon xr-icon-database'><use xlink:href='#icon-database'></use></svg></label><div class='xr-var-attrs'><dl class='xr-attrs'><dt><span>units :</span></dt><dd>kg m-2 s-1</dd><dt><span>standard_name :</span></dt><dd>bare_soil_evaporation</dd><dt><span>long_name :</span></dt><dd>bare soil evaporation</dd><dt><span>vmin :</span></dt><dd>0.0</dd><dt><span>vmax :</span></dt><dd>0.0</dd></dl></div><div class='xr-var-data'><pre>[9979200 values with dtype=float32]</pre></div></li><li class='xr-var-item'><div class='xr-var-name'><span>WaterTableD_inst</span></div><div class='xr-var-dims'>(time, ensemble, north_south, east_west)</div><div class='xr-var-dtype'>float32</div><div class='xr-var-preview xr-preview'>...</div><input id='attrs-7600b6ce-b2cf-408f-b911-c6d6b7705c94' class='xr-var-attrs-in' type='checkbox' ><label for='attrs-7600b6ce-b2cf-408f-b911-c6d6b7705c94' title='Show/Hide attributes'><svg class='icon xr-icon-file-text2'><use xlink:href='#icon-file-text2'></use></svg></label><input id='data-25c258c0-4c53-4cca-9b6b-0ef29a3ed6ca' class='xr-var-data-in' type='checkbox'><label for='data-25c258c0-4c53-4cca-9b6b-0ef29a3ed6ca' title='Show/Hide data repr'><svg class='icon xr-icon-database'><use xlink:href='#icon-database'></use></svg></label><div class='xr-var-attrs'><dl class='xr-attrs'><dt><span>units :</span></dt><dd>m</dd><dt><span>standard_name :</span></dt><dd>water_table_depth</dd><dt><span>long_name :</span></dt><dd>water table depth</dd><dt><span>vmin :</span></dt><dd>0.0</dd><dt><span>vmax :</span></dt><dd>0.0</dd></dl></div><div class='xr-var-data'><pre>[9979200 values with dtype=float32]</pre></div></li><li class='xr-var-item'><div class='xr-var-name'><span>TWS_inst</span></div><div class='xr-var-dims'>(time, ensemble, north_south, east_west)</div><div class='xr-var-dtype'>float32</div><div class='xr-var-preview xr-preview'>...</div><input id='attrs-49a7d1de-a6e3-4535-91be-00836c4b23d5' class='xr-var-attrs-in' type='checkbox' ><label for='attrs-49a7d1de-a6e3-4535-91be-00836c4b23d5' title='Show/Hide attributes'><svg class='icon xr-icon-file-text2'><use xlink:href='#icon-file-text2'></use></svg></label><input id='data-94487d00-1439-4320-a19f-f50c925d398d' class='xr-var-data-in' type='checkbox'><label for='data-94487d00-1439-4320-a19f-f50c925d398d' title='Show/Hide data repr'><svg class='icon xr-icon-database'><use xlink:href='#icon-database'></use></svg></label><div class='xr-var-attrs'><dl class='xr-attrs'><dt><span>units :</span></dt><dd>mm</dd><dt><span>standard_name :</span></dt><dd>terrestrial_water_storage</dd><dt><span>long_name :</span></dt><dd>terrestrial water storage</dd><dt><span>vmin :</span></dt><dd>0.0</dd><dt><span>vmax :</span></dt><dd>0.0</dd></dl></div><div class='xr-var-data'><pre>[9979200 values with dtype=float32]</pre></div></li><li class='xr-var-item'><div class='xr-var-name'><span>GWS_inst</span></div><div class='xr-var-dims'>(time, ensemble, north_south, east_west)</div><div class='xr-var-dtype'>float32</div><div class='xr-var-preview xr-preview'>...</div><input id='attrs-d8aae76a-766f-477c-b37b-cc73a884c090' class='xr-var-attrs-in' type='checkbox' ><label for='attrs-d8aae76a-766f-477c-b37b-cc73a884c090' title='Show/Hide attributes'><svg class='icon xr-icon-file-text2'><use xlink:href='#icon-file-text2'></use></svg></label><input id='data-665eafdd-500d-47ca-a2c2-68cf420a6924' class='xr-var-data-in' type='checkbox'><label for='data-665eafdd-500d-47ca-a2c2-68cf420a6924' title='Show/Hide data repr'><svg class='icon xr-icon-database'><use xlink:href='#icon-database'></use></svg></label><div class='xr-var-attrs'><dl class='xr-attrs'><dt><span>units :</span></dt><dd>mm</dd><dt><span>standard_name :</span></dt><dd>ground_water_storage</dd><dt><span>long_name :</span></dt><dd>ground water storage</dd><dt><span>vmin :</span></dt><dd>0.0</dd><dt><span>vmax :</span></dt><dd>0.0</dd></dl></div><div class='xr-var-data'><pre>[9979200 values with dtype=float32]</pre></div></li><li class='xr-var-item'><div class='xr-var-name'><span>Wind_f_tavg</span></div><div class='xr-var-dims'>(time, ensemble, north_south, east_west)</div><div class='xr-var-dtype'>float32</div><div class='xr-var-preview xr-preview'>...</div><input id='attrs-ee3f851c-ce16-4ad4-a3a5-85c69215b9e9' class='xr-var-attrs-in' type='checkbox' ><label for='attrs-ee3f851c-ce16-4ad4-a3a5-85c69215b9e9' title='Show/Hide attributes'><svg class='icon xr-icon-file-text2'><use xlink:href='#icon-file-text2'></use></svg></label><input id='data-24d7a769-f832-4835-88f5-a917e1022e5e' class='xr-var-data-in' type='checkbox'><label for='data-24d7a769-f832-4835-88f5-a917e1022e5e' title='Show/Hide data repr'><svg class='icon xr-icon-database'><use xlink:href='#icon-database'></use></svg></label><div class='xr-var-attrs'><dl class='xr-attrs'><dt><span>units :</span></dt><dd>m s-1</dd><dt><span>standard_name :</span></dt><dd>wind_speed</dd><dt><span>long_name :</span></dt><dd>wind speed</dd><dt><span>vmin :</span></dt><dd>0.0</dd><dt><span>vmax :</span></dt><dd>0.0</dd></dl></div><div class='xr-var-data'><pre>[9979200 values with dtype=float32]</pre></div></li><li class='xr-var-item'><div class='xr-var-name'><span>Tair_f_tavg</span></div><div class='xr-var-dims'>(time, ensemble, north_south, east_west)</div><div class='xr-var-dtype'>float32</div><div class='xr-var-preview xr-preview'>...</div><input id='attrs-6d858de0-cc21-4145-8e59-f7dbbf8bc5ad' class='xr-var-attrs-in' type='checkbox' ><label for='attrs-6d858de0-cc21-4145-8e59-f7dbbf8bc5ad' title='Show/Hide attributes'><svg class='icon xr-icon-file-text2'><use xlink:href='#icon-file-text2'></use></svg></label><input id='data-b17b923d-ce78-4d72-852f-5dbba85aa30f' class='xr-var-data-in' type='checkbox'><label for='data-b17b923d-ce78-4d72-852f-5dbba85aa30f' title='Show/Hide data repr'><svg class='icon xr-icon-database'><use xlink:href='#icon-database'></use></svg></label><div class='xr-var-attrs'><dl class='xr-attrs'><dt><span>units :</span></dt><dd>K</dd><dt><span>standard_name :</span></dt><dd>air_temperature</dd><dt><span>long_name :</span></dt><dd>air temperature</dd><dt><span>vmin :</span></dt><dd>0.0</dd><dt><span>vmax :</span></dt><dd>0.0</dd></dl></div><div class='xr-var-data'><pre>[9979200 values with dtype=float32]</pre></div></li><li class='xr-var-item'><div class='xr-var-name'><span>Qair_f_tavg</span></div><div class='xr-var-dims'>(time, ensemble, north_south, east_west)</div><div class='xr-var-dtype'>float32</div><div class='xr-var-preview xr-preview'>...</div><input id='attrs-51737d55-0f28-4acf-ab92-1b74b0f7d265' class='xr-var-attrs-in' type='checkbox' ><label for='attrs-51737d55-0f28-4acf-ab92-1b74b0f7d265' title='Show/Hide attributes'><svg class='icon xr-icon-file-text2'><use xlink:href='#icon-file-text2'></use></svg></label><input id='data-66c8c4ed-48ca-49c2-8f50-8be8a4ea3e73' class='xr-var-data-in' type='checkbox'><label for='data-66c8c4ed-48ca-49c2-8f50-8be8a4ea3e73' title='Show/Hide data repr'><svg class='icon xr-icon-database'><use xlink:href='#icon-database'></use></svg></label><div class='xr-var-attrs'><dl class='xr-attrs'><dt><span>units :</span></dt><dd>kg kg-1</dd><dt><span>standard_name :</span></dt><dd>specific_humidity</dd><dt><span>long_name :</span></dt><dd>specific humidity</dd><dt><span>vmin :</span></dt><dd>0.0</dd><dt><span>vmax :</span></dt><dd>0.0</dd></dl></div><div class='xr-var-data'><pre>[9979200 values with dtype=float32]</pre></div></li><li class='xr-var-item'><div class='xr-var-name'><span>Psurf_f_tavg</span></div><div class='xr-var-dims'>(time, ensemble, north_south, east_west)</div><div class='xr-var-dtype'>float32</div><div class='xr-var-preview xr-preview'>...</div><input id='attrs-5b4d0316-844c-48be-91eb-d7703dced9dd' class='xr-var-attrs-in' type='checkbox' ><label for='attrs-5b4d0316-844c-48be-91eb-d7703dced9dd' title='Show/Hide attributes'><svg class='icon xr-icon-file-text2'><use xlink:href='#icon-file-text2'></use></svg></label><input id='data-6a02269a-c197-4080-a82d-e7c931b17321' class='xr-var-data-in' type='checkbox'><label for='data-6a02269a-c197-4080-a82d-e7c931b17321' title='Show/Hide data repr'><svg class='icon xr-icon-database'><use xlink:href='#icon-database'></use></svg></label><div class='xr-var-attrs'><dl class='xr-attrs'><dt><span>units :</span></dt><dd>Pa</dd><dt><span>standard_name :</span></dt><dd>surface_air_pressure</dd><dt><span>long_name :</span></dt><dd>surface pressure</dd><dt><span>vmin :</span></dt><dd>0.0</dd><dt><span>vmax :</span></dt><dd>0.0</dd></dl></div><div class='xr-var-data'><pre>[9979200 values with dtype=float32]</pre></div></li><li class='xr-var-item'><div class='xr-var-name'><span>SWdown_f_tavg</span></div><div class='xr-var-dims'>(time, ensemble, north_south, east_west)</div><div class='xr-var-dtype'>float32</div><div class='xr-var-preview xr-preview'>...</div><input id='attrs-55fa3f2f-65dc-4998-a7f6-48a0cd1b8828' class='xr-var-attrs-in' type='checkbox' ><label for='attrs-55fa3f2f-65dc-4998-a7f6-48a0cd1b8828' title='Show/Hide attributes'><svg class='icon xr-icon-file-text2'><use xlink:href='#icon-file-text2'></use></svg></label><input id='data-7916919a-76db-4105-96e0-4609bbd15ee4' class='xr-var-data-in' type='checkbox'><label for='data-7916919a-76db-4105-96e0-4609bbd15ee4' title='Show/Hide data repr'><svg class='icon xr-icon-database'><use xlink:href='#icon-database'></use></svg></label><div class='xr-var-attrs'><dl class='xr-attrs'><dt><span>units :</span></dt><dd>W m-2</dd><dt><span>standard_name :</span></dt><dd>surface_downwelling_shortwave_flux_in_air</dd><dt><span>long_name :</span></dt><dd>surface downward shortwave radiation</dd><dt><span>vmin :</span></dt><dd>0.0</dd><dt><span>vmax :</span></dt><dd>0.0</dd></dl></div><div class='xr-var-data'><pre>[9979200 values with dtype=float32]</pre></div></li><li class='xr-var-item'><div class='xr-var-name'><span>LWdown_f_tavg</span></div><div class='xr-var-dims'>(time, ensemble, north_south, east_west)</div><div class='xr-var-dtype'>float32</div><div class='xr-var-preview xr-preview'>...</div><input id='attrs-593a153b-678c-4a93-ac1a-e341c1863d19' class='xr-var-attrs-in' type='checkbox' ><label for='attrs-593a153b-678c-4a93-ac1a-e341c1863d19' title='Show/Hide attributes'><svg class='icon xr-icon-file-text2'><use xlink:href='#icon-file-text2'></use></svg></label><input id='data-d111f619-4fff-4a98-8872-dc42df848abf' class='xr-var-data-in' type='checkbox'><label for='data-d111f619-4fff-4a98-8872-dc42df848abf' title='Show/Hide data repr'><svg class='icon xr-icon-database'><use xlink:href='#icon-database'></use></svg></label><div class='xr-var-attrs'><dl class='xr-attrs'><dt><span>units :</span></dt><dd>W m-2</dd><dt><span>standard_name :</span></dt><dd>surface_downwelling_longwave_flux_in_air</dd><dt><span>long_name :</span></dt><dd>surface downward longwave radiation</dd><dt><span>vmin :</span></dt><dd>0.0</dd><dt><span>vmax :</span></dt><dd>0.0</dd></dl></div><div class='xr-var-data'><pre>[9979200 values with dtype=float32]</pre></div></li><li class='xr-var-item'><div class='xr-var-name'><span>LAI_inst</span></div><div class='xr-var-dims'>(time, ensemble, north_south, east_west)</div><div class='xr-var-dtype'>float32</div><div class='xr-var-preview xr-preview'>...</div><input id='attrs-fd709bca-6b5b-4563-a0aa-1531932af32c' class='xr-var-attrs-in' type='checkbox' ><label for='attrs-fd709bca-6b5b-4563-a0aa-1531932af32c' title='Show/Hide attributes'><svg class='icon xr-icon-file-text2'><use xlink:href='#icon-file-text2'></use></svg></label><input id='data-5cb9e438-299c-4894-8013-0b939dd5ccc9' class='xr-var-data-in' type='checkbox'><label for='data-5cb9e438-299c-4894-8013-0b939dd5ccc9' title='Show/Hide data repr'><svg class='icon xr-icon-database'><use xlink:href='#icon-database'></use></svg></label><div class='xr-var-attrs'><dl class='xr-attrs'><dt><span>units :</span></dt><dd>-</dd><dt><span>standard_name :</span></dt><dd>leaf_area_index</dd><dt><span>long_name :</span></dt><dd>leaf area index</dd><dt><span>vmin :</span></dt><dd>0.0</dd><dt><span>vmax :</span></dt><dd>0.0</dd></dl></div><div class='xr-var-data'><pre>[9979200 values with dtype=float32]</pre></div></li><li class='xr-var-item'><div class='xr-var-name'><span>Greenness_inst</span></div><div class='xr-var-dims'>(time, ensemble, north_south, east_west)</div><div class='xr-var-dtype'>float32</div><div class='xr-var-preview xr-preview'>...</div><input id='attrs-2ddfab6f-25a4-44d0-b90d-68765539957b' class='xr-var-attrs-in' type='checkbox' ><label for='attrs-2ddfab6f-25a4-44d0-b90d-68765539957b' title='Show/Hide attributes'><svg class='icon xr-icon-file-text2'><use xlink:href='#icon-file-text2'></use></svg></label><input id='data-76c5a3e6-898f-4156-8d36-fb401f9552cc' class='xr-var-data-in' type='checkbox'><label for='data-76c5a3e6-898f-4156-8d36-fb401f9552cc' title='Show/Hide data repr'><svg class='icon xr-icon-database'><use xlink:href='#icon-database'></use></svg></label><div class='xr-var-attrs'><dl class='xr-attrs'><dt><span>units :</span></dt><dd>-</dd><dt><span>standard_name :</span></dt><dd>green_vegetation_fraction</dd><dt><span>long_name :</span></dt><dd>green vegetation fraction</dd><dt><span>vmin :</span></dt><dd>0.0</dd><dt><span>vmax :</span></dt><dd>0.0</dd></dl></div><div class='xr-var-data'><pre>[9979200 values with dtype=float32]</pre></div></li></ul></div></li><li class='xr-section-item'><input id='section-83050f27-c4c9-4e54-bfb1-85204f869324' class='xr-section-summary-in' type='checkbox'  ><label for='section-83050f27-c4c9-4e54-bfb1-85204f869324' class='xr-section-summary' >Indexes: <span>(4)</span></label><div class='xr-section-inline-details'></div><div class='xr-section-details'><ul class='xr-var-list'><li class='xr-var-item'><div class='xr-index-name'><div>time</div></div><div class='xr-index-preview'>PandasIndex</div><div></div><input id='index-c8c12f27-eb38-4485-9a1d-9e6399e8c4ad' class='xr-index-data-in' type='checkbox'/><label for='index-c8c12f27-eb38-4485-9a1d-9e6399e8c4ad' title='Show/Hide index repr'><svg class='icon xr-icon-database'><use xlink:href='#icon-database'></use></svg></label><div class='xr-index-data'><pre>PandasIndex(DatetimeIndex([&#x27;2024-06-02&#x27;, &#x27;2024-06-03&#x27;, &#x27;2024-06-04&#x27;, &#x27;2024-06-05&#x27;], dtype=&#x27;datetime64[ns]&#x27;, name=&#x27;time&#x27;, freq=None))</pre></div></li><li class='xr-var-item'><div class='xr-index-name'><div>ensemble</div></div><div class='xr-index-preview'>PandasIndex</div><div></div><input id='index-0f7712c3-c2b6-47e8-b96c-86e2d559d79f' class='xr-index-data-in' type='checkbox'/><label for='index-0f7712c3-c2b6-47e8-b96c-86e2d559d79f' title='Show/Hide index repr'><svg class='icon xr-icon-database'><use xlink:href='#icon-database'></use></svg></label><div class='xr-index-data'><pre>PandasIndex(Index([1.0, 2.0, 3.0, 4.0, 5.0, 6.0, 7.0], dtype=&#x27;float32&#x27;, name=&#x27;ensemble&#x27;))</pre></div></li><li class='xr-var-item'><div class='xr-index-name'><div>north_south</div></div><div class='xr-index-preview'>PandasIndex</div><div></div><input id='index-a74866be-f5ed-46cc-9134-d2c8bcb91311' class='xr-index-data-in' type='checkbox'/><label for='index-a74866be-f5ed-46cc-9134-d2c8bcb91311' title='Show/Hide index repr'><svg class='icon xr-icon-database'><use xlink:href='#icon-database'></use></svg></label><div class='xr-index-data'><pre>PandasIndex(Index([              -21.0,  -20.94990723562152, -20.899814471243044,\n",
       "       -20.849721706864564, -20.799628942486084, -20.749536178107608,\n",
       "       -20.699443413729128, -20.649350649350648,  -20.59925788497217,\n",
       "       -20.549165120593692,\n",
       "       ...\n",
       "         5.549165120593692,   5.599257884972172,   5.649350649350648,\n",
       "         5.699443413729128,   5.749536178107608,   5.799628942486084,\n",
       "         5.849721706864564,   5.899814471243044,    5.94990723562152,\n",
       "                       6.0],\n",
       "      dtype=&#x27;float64&#x27;, name=&#x27;north_south&#x27;, length=540))</pre></div></li><li class='xr-var-item'><div class='xr-index-name'><div>east_west</div></div><div class='xr-index-preview'>PandasIndex</div><div></div><input id='index-37810e86-51c5-46e0-adb3-7b11c6f255ad' class='xr-index-data-in' type='checkbox'/><label for='index-37810e86-51c5-46e0-adb3-7b11c6f255ad' title='Show/Hide index repr'><svg class='icon xr-icon-database'><use xlink:href='#icon-database'></use></svg></label><div class='xr-index-data'><pre>PandasIndex(Index([              -82.0,  -81.94992412746586,  -81.89984825493171,\n",
       "        -81.84977238239757,  -81.79969650986342,  -81.74962063732929,\n",
       "        -81.69954476479515,    -81.649468892261,  -81.59939301972686,\n",
       "        -81.54931714719271,\n",
       "       ...\n",
       "        -49.45068285280728,  -49.40060698027314,    -49.350531107739,\n",
       "        -49.30045523520486, -49.250379362670714,  -49.20030349013657,\n",
       "       -49.150227617602425,  -49.10015174506829, -49.050075872534144,\n",
       "                     -49.0],\n",
       "      dtype=&#x27;float64&#x27;, name=&#x27;east_west&#x27;, length=660))</pre></div></li></ul></div></li><li class='xr-section-item'><input id='section-dd391d53-a160-4f8c-8da9-2201434ecff9' class='xr-section-summary-in' type='checkbox'  ><label for='section-dd391d53-a160-4f8c-8da9-2201434ecff9' class='xr-section-summary' >Attributes: <span>(15)</span></label><div class='xr-section-inline-details'></div><div class='xr-section-details'><dl class='xr-attrs'><dt><span>missing_value :</span></dt><dd>-9999.0</dd><dt><span>NUM_SOIL_LAYERS :</span></dt><dd>4</dd><dt><span>SOIL_LAYER_THICKNESSES :</span></dt><dd>[ 10.        30.000002  60.000004 100.      ]</dd><dt><span>title :</span></dt><dd>LIS land surface model output</dd><dt><span>institution :</span></dt><dd>NASA GSFC</dd><dt><span>source :</span></dt><dd></dd><dt><span>history :</span></dt><dd>created on date: 2024-07-19T16:14:29.210</dd><dt><span>references :</span></dt><dd>Kumar_etal_EMS_2006, Peters-Lidard_etal_ISSE_2007</dd><dt><span>conventions :</span></dt><dd>CF-1.6</dd><dt><span>comment :</span></dt><dd>website: http://lis.gsfc.nasa.gov/</dd><dt><span>MAP_PROJECTION :</span></dt><dd>EQUIDISTANT CYLINDRICAL</dd><dt><span>SOUTH_WEST_CORNER_LAT :</span></dt><dd>-20.975</dd><dt><span>SOUTH_WEST_CORNER_LON :</span></dt><dd>-81.975</dd><dt><span>DX :</span></dt><dd>0.05</dd><dt><span>DY :</span></dt><dd>0.05</dd></dl></div></li></ul></div></div>"
      ],
      "text/plain": [
       "<xarray.Dataset>\n",
       "Dimensions:           (time: 4, north_south: 540, east_west: 660, ensemble: 7,\n",
       "                       SoilMoist_profiles: 4, SoilTemp_profiles: 4)\n",
       "Coordinates:\n",
       "  * time              (time) datetime64[ns] 2024-06-02 2024-06-03 ... 2024-06-05\n",
       "  * ensemble          (ensemble) float32 1.0 2.0 3.0 4.0 5.0 6.0 7.0\n",
       "  * north_south       (north_south) float64 -21.0 -20.95 -20.9 ... 5.9 5.95 6.0\n",
       "  * east_west         (east_west) float64 -82.0 -81.95 -81.9 ... -49.05 -49.0\n",
       "Dimensions without coordinates: SoilMoist_profiles, SoilTemp_profiles\n",
       "Data variables: (12/32)\n",
       "    lat               (time, north_south) float32 ...\n",
       "    lon               (time, east_west) float32 ...\n",
       "    Swnet_tavg        (time, ensemble, north_south, east_west) float32 ...\n",
       "    Lwnet_tavg        (time, ensemble, north_south, east_west) float32 ...\n",
       "    Qle_tavg          (time, ensemble, north_south, east_west) float32 ...\n",
       "    Qh_tavg           (time, ensemble, north_south, east_west) float32 ...\n",
       "    ...                ...\n",
       "    Qair_f_tavg       (time, ensemble, north_south, east_west) float32 ...\n",
       "    Psurf_f_tavg      (time, ensemble, north_south, east_west) float32 ...\n",
       "    SWdown_f_tavg     (time, ensemble, north_south, east_west) float32 ...\n",
       "    LWdown_f_tavg     (time, ensemble, north_south, east_west) float32 ...\n",
       "    LAI_inst          (time, ensemble, north_south, east_west) float32 ...\n",
       "    Greenness_inst    (time, ensemble, north_south, east_west) float32 ...\n",
       "Attributes: (12/15)\n",
       "    missing_value:           -9999.0\n",
       "    NUM_SOIL_LAYERS:         4\n",
       "    SOIL_LAYER_THICKNESSES:  [ 10.        30.000002  60.000004 100.      ]\n",
       "    title:                   LIS land surface model output\n",
       "    institution:             NASA GSFC\n",
       "    source:                  \n",
       "    ...                      ...\n",
       "    comment:                 website: http://lis.gsfc.nasa.gov/\n",
       "    MAP_PROJECTION:          EQUIDISTANT CYLINDRICAL\n",
       "    SOUTH_WEST_CORNER_LAT:   -20.975\n",
       "    SOUTH_WEST_CORNER_LON:   -81.975\n",
       "    DX:                      0.05\n",
       "    DY:                      0.05"
      ]
     },
     "execution_count": 3,
     "metadata": {},
     "output_type": "execute_result"
    }
   ],
   "source": [
    "# Define shape file location\n",
    "shp_location = r\"C:\\Users\\Kris\\Documents\\amazonforcast\\gisfiles\\hydrobasins shape\\hybas_sa_lev05_areaofstudy.shp\"\n",
    "# Define netCDF file location\n",
    "ds_location = r\"C:\\Users\\Kris\\Documents\\amazonforcast\\data\\prakrut\\output\\LIS_HIST_Forecast_June_02_to_05.nc\"\n",
    "\n",
    "# .shp file loader\n",
    "hybas_sa_lev05 = gpd.read_file(shp_location)\n",
    "# netcdf file loader\n",
    "ds = xr.open_dataset(ds_location)\n",
    "\n",
    "# Reproject current crs of gdf to epsg 4326\n",
    "print(f\"East-West range: {ds.east_west.min().item()} to {ds.east_west.max().item()}\")\n",
    "print(f\"North-South range: {ds.north_south.min().item()} to {ds.north_south.max().item()}\")\n",
    "\n",
    "print(hybas_sa_lev05.total_bounds)  # This will print the bounds of the regions in your GeoDataFrame\n",
    "\n",
    "# Print current CRS of the GeoDataFrame\n",
    "print(f\"Original CRS: {hybas_sa_lev05.crs}\")\n",
    "\n",
    "# Reproject to WGS84 (latitude and longitude)\n",
    "hybas_sa_lev05 = hybas_sa_lev05.to_crs(epsg=4326)\n",
    "\n",
    "# Print new CRS to confirm\n",
    "print(f\"Reprojected CRS: {hybas_sa_lev05.crs}\")\n",
    "\n",
    "# Check the bounds again after reprojection\n",
    "print(hybas_sa_lev05.total_bounds)\n",
    "\n",
    "ds # get info about netcdf file\n"
   ]
  },
  {
   "cell_type": "code",
   "execution_count": 4,
   "metadata": {},
   "outputs": [
    {
     "data": {
      "text/html": [
       "<div><svg style=\"position: absolute; width: 0; height: 0; overflow: hidden\">\n",
       "<defs>\n",
       "<symbol id=\"icon-database\" viewBox=\"0 0 32 32\">\n",
       "<path d=\"M16 0c-8.837 0-16 2.239-16 5v4c0 2.761 7.163 5 16 5s16-2.239 16-5v-4c0-2.761-7.163-5-16-5z\"></path>\n",
       "<path d=\"M16 17c-8.837 0-16-2.239-16-5v6c0 2.761 7.163 5 16 5s16-2.239 16-5v-6c0 2.761-7.163 5-16 5z\"></path>\n",
       "<path d=\"M16 26c-8.837 0-16-2.239-16-5v6c0 2.761 7.163 5 16 5s16-2.239 16-5v-6c0 2.761-7.163 5-16 5z\"></path>\n",
       "</symbol>\n",
       "<symbol id=\"icon-file-text2\" viewBox=\"0 0 32 32\">\n",
       "<path d=\"M28.681 7.159c-0.694-0.947-1.662-2.053-2.724-3.116s-2.169-2.030-3.116-2.724c-1.612-1.182-2.393-1.319-2.841-1.319h-15.5c-1.378 0-2.5 1.121-2.5 2.5v27c0 1.378 1.122 2.5 2.5 2.5h23c1.378 0 2.5-1.122 2.5-2.5v-19.5c0-0.448-0.137-1.23-1.319-2.841zM24.543 5.457c0.959 0.959 1.712 1.825 2.268 2.543h-4.811v-4.811c0.718 0.556 1.584 1.309 2.543 2.268zM28 29.5c0 0.271-0.229 0.5-0.5 0.5h-23c-0.271 0-0.5-0.229-0.5-0.5v-27c0-0.271 0.229-0.5 0.5-0.5 0 0 15.499-0 15.5 0v7c0 0.552 0.448 1 1 1h7v19.5z\"></path>\n",
       "<path d=\"M23 26h-14c-0.552 0-1-0.448-1-1s0.448-1 1-1h14c0.552 0 1 0.448 1 1s-0.448 1-1 1z\"></path>\n",
       "<path d=\"M23 22h-14c-0.552 0-1-0.448-1-1s0.448-1 1-1h14c0.552 0 1 0.448 1 1s-0.448 1-1 1z\"></path>\n",
       "<path d=\"M23 18h-14c-0.552 0-1-0.448-1-1s0.448-1 1-1h14c0.552 0 1 0.448 1 1s-0.448 1-1 1z\"></path>\n",
       "</symbol>\n",
       "</defs>\n",
       "</svg>\n",
       "<style>/* CSS stylesheet for displaying xarray objects in jupyterlab.\n",
       " *\n",
       " */\n",
       "\n",
       ":root {\n",
       "  --xr-font-color0: var(--jp-content-font-color0, rgba(0, 0, 0, 1));\n",
       "  --xr-font-color2: var(--jp-content-font-color2, rgba(0, 0, 0, 0.54));\n",
       "  --xr-font-color3: var(--jp-content-font-color3, rgba(0, 0, 0, 0.38));\n",
       "  --xr-border-color: var(--jp-border-color2, #e0e0e0);\n",
       "  --xr-disabled-color: var(--jp-layout-color3, #bdbdbd);\n",
       "  --xr-background-color: var(--jp-layout-color0, white);\n",
       "  --xr-background-color-row-even: var(--jp-layout-color1, white);\n",
       "  --xr-background-color-row-odd: var(--jp-layout-color2, #eeeeee);\n",
       "}\n",
       "\n",
       "html[theme=dark],\n",
       "body[data-theme=dark],\n",
       "body.vscode-dark {\n",
       "  --xr-font-color0: rgba(255, 255, 255, 1);\n",
       "  --xr-font-color2: rgba(255, 255, 255, 0.54);\n",
       "  --xr-font-color3: rgba(255, 255, 255, 0.38);\n",
       "  --xr-border-color: #1F1F1F;\n",
       "  --xr-disabled-color: #515151;\n",
       "  --xr-background-color: #111111;\n",
       "  --xr-background-color-row-even: #111111;\n",
       "  --xr-background-color-row-odd: #313131;\n",
       "}\n",
       "\n",
       ".xr-wrap {\n",
       "  display: block !important;\n",
       "  min-width: 300px;\n",
       "  max-width: 700px;\n",
       "}\n",
       "\n",
       ".xr-text-repr-fallback {\n",
       "  /* fallback to plain text repr when CSS is not injected (untrusted notebook) */\n",
       "  display: none;\n",
       "}\n",
       "\n",
       ".xr-header {\n",
       "  padding-top: 6px;\n",
       "  padding-bottom: 6px;\n",
       "  margin-bottom: 4px;\n",
       "  border-bottom: solid 1px var(--xr-border-color);\n",
       "}\n",
       "\n",
       ".xr-header > div,\n",
       ".xr-header > ul {\n",
       "  display: inline;\n",
       "  margin-top: 0;\n",
       "  margin-bottom: 0;\n",
       "}\n",
       "\n",
       ".xr-obj-type,\n",
       ".xr-array-name {\n",
       "  margin-left: 2px;\n",
       "  margin-right: 10px;\n",
       "}\n",
       "\n",
       ".xr-obj-type {\n",
       "  color: var(--xr-font-color2);\n",
       "}\n",
       "\n",
       ".xr-sections {\n",
       "  padding-left: 0 !important;\n",
       "  display: grid;\n",
       "  grid-template-columns: 150px auto auto 1fr 20px 20px;\n",
       "}\n",
       "\n",
       ".xr-section-item {\n",
       "  display: contents;\n",
       "}\n",
       "\n",
       ".xr-section-item input {\n",
       "  display: none;\n",
       "}\n",
       "\n",
       ".xr-section-item input + label {\n",
       "  color: var(--xr-disabled-color);\n",
       "}\n",
       "\n",
       ".xr-section-item input:enabled + label {\n",
       "  cursor: pointer;\n",
       "  color: var(--xr-font-color2);\n",
       "}\n",
       "\n",
       ".xr-section-item input:enabled + label:hover {\n",
       "  color: var(--xr-font-color0);\n",
       "}\n",
       "\n",
       ".xr-section-summary {\n",
       "  grid-column: 1;\n",
       "  color: var(--xr-font-color2);\n",
       "  font-weight: 500;\n",
       "}\n",
       "\n",
       ".xr-section-summary > span {\n",
       "  display: inline-block;\n",
       "  padding-left: 0.5em;\n",
       "}\n",
       "\n",
       ".xr-section-summary-in:disabled + label {\n",
       "  color: var(--xr-font-color2);\n",
       "}\n",
       "\n",
       ".xr-section-summary-in + label:before {\n",
       "  display: inline-block;\n",
       "  content: '►';\n",
       "  font-size: 11px;\n",
       "  width: 15px;\n",
       "  text-align: center;\n",
       "}\n",
       "\n",
       ".xr-section-summary-in:disabled + label:before {\n",
       "  color: var(--xr-disabled-color);\n",
       "}\n",
       "\n",
       ".xr-section-summary-in:checked + label:before {\n",
       "  content: '▼';\n",
       "}\n",
       "\n",
       ".xr-section-summary-in:checked + label > span {\n",
       "  display: none;\n",
       "}\n",
       "\n",
       ".xr-section-summary,\n",
       ".xr-section-inline-details {\n",
       "  padding-top: 4px;\n",
       "  padding-bottom: 4px;\n",
       "}\n",
       "\n",
       ".xr-section-inline-details {\n",
       "  grid-column: 2 / -1;\n",
       "}\n",
       "\n",
       ".xr-section-details {\n",
       "  display: none;\n",
       "  grid-column: 1 / -1;\n",
       "  margin-bottom: 5px;\n",
       "}\n",
       "\n",
       ".xr-section-summary-in:checked ~ .xr-section-details {\n",
       "  display: contents;\n",
       "}\n",
       "\n",
       ".xr-array-wrap {\n",
       "  grid-column: 1 / -1;\n",
       "  display: grid;\n",
       "  grid-template-columns: 20px auto;\n",
       "}\n",
       "\n",
       ".xr-array-wrap > label {\n",
       "  grid-column: 1;\n",
       "  vertical-align: top;\n",
       "}\n",
       "\n",
       ".xr-preview {\n",
       "  color: var(--xr-font-color3);\n",
       "}\n",
       "\n",
       ".xr-array-preview,\n",
       ".xr-array-data {\n",
       "  padding: 0 5px !important;\n",
       "  grid-column: 2;\n",
       "}\n",
       "\n",
       ".xr-array-data,\n",
       ".xr-array-in:checked ~ .xr-array-preview {\n",
       "  display: none;\n",
       "}\n",
       "\n",
       ".xr-array-in:checked ~ .xr-array-data,\n",
       ".xr-array-preview {\n",
       "  display: inline-block;\n",
       "}\n",
       "\n",
       ".xr-dim-list {\n",
       "  display: inline-block !important;\n",
       "  list-style: none;\n",
       "  padding: 0 !important;\n",
       "  margin: 0;\n",
       "}\n",
       "\n",
       ".xr-dim-list li {\n",
       "  display: inline-block;\n",
       "  padding: 0;\n",
       "  margin: 0;\n",
       "}\n",
       "\n",
       ".xr-dim-list:before {\n",
       "  content: '(';\n",
       "}\n",
       "\n",
       ".xr-dim-list:after {\n",
       "  content: ')';\n",
       "}\n",
       "\n",
       ".xr-dim-list li:not(:last-child):after {\n",
       "  content: ',';\n",
       "  padding-right: 5px;\n",
       "}\n",
       "\n",
       ".xr-has-index {\n",
       "  font-weight: bold;\n",
       "}\n",
       "\n",
       ".xr-var-list,\n",
       ".xr-var-item {\n",
       "  display: contents;\n",
       "}\n",
       "\n",
       ".xr-var-item > div,\n",
       ".xr-var-item label,\n",
       ".xr-var-item > .xr-var-name span {\n",
       "  background-color: var(--xr-background-color-row-even);\n",
       "  margin-bottom: 0;\n",
       "}\n",
       "\n",
       ".xr-var-item > .xr-var-name:hover span {\n",
       "  padding-right: 5px;\n",
       "}\n",
       "\n",
       ".xr-var-list > li:nth-child(odd) > div,\n",
       ".xr-var-list > li:nth-child(odd) > label,\n",
       ".xr-var-list > li:nth-child(odd) > .xr-var-name span {\n",
       "  background-color: var(--xr-background-color-row-odd);\n",
       "}\n",
       "\n",
       ".xr-var-name {\n",
       "  grid-column: 1;\n",
       "}\n",
       "\n",
       ".xr-var-dims {\n",
       "  grid-column: 2;\n",
       "}\n",
       "\n",
       ".xr-var-dtype {\n",
       "  grid-column: 3;\n",
       "  text-align: right;\n",
       "  color: var(--xr-font-color2);\n",
       "}\n",
       "\n",
       ".xr-var-preview {\n",
       "  grid-column: 4;\n",
       "}\n",
       "\n",
       ".xr-index-preview {\n",
       "  grid-column: 2 / 5;\n",
       "  color: var(--xr-font-color2);\n",
       "}\n",
       "\n",
       ".xr-var-name,\n",
       ".xr-var-dims,\n",
       ".xr-var-dtype,\n",
       ".xr-preview,\n",
       ".xr-attrs dt {\n",
       "  white-space: nowrap;\n",
       "  overflow: hidden;\n",
       "  text-overflow: ellipsis;\n",
       "  padding-right: 10px;\n",
       "}\n",
       "\n",
       ".xr-var-name:hover,\n",
       ".xr-var-dims:hover,\n",
       ".xr-var-dtype:hover,\n",
       ".xr-attrs dt:hover {\n",
       "  overflow: visible;\n",
       "  width: auto;\n",
       "  z-index: 1;\n",
       "}\n",
       "\n",
       ".xr-var-attrs,\n",
       ".xr-var-data,\n",
       ".xr-index-data {\n",
       "  display: none;\n",
       "  background-color: var(--xr-background-color) !important;\n",
       "  padding-bottom: 5px !important;\n",
       "}\n",
       "\n",
       ".xr-var-attrs-in:checked ~ .xr-var-attrs,\n",
       ".xr-var-data-in:checked ~ .xr-var-data,\n",
       ".xr-index-data-in:checked ~ .xr-index-data {\n",
       "  display: block;\n",
       "}\n",
       "\n",
       ".xr-var-data > table {\n",
       "  float: right;\n",
       "}\n",
       "\n",
       ".xr-var-name span,\n",
       ".xr-var-data,\n",
       ".xr-index-name div,\n",
       ".xr-index-data,\n",
       ".xr-attrs {\n",
       "  padding-left: 25px !important;\n",
       "}\n",
       "\n",
       ".xr-attrs,\n",
       ".xr-var-attrs,\n",
       ".xr-var-data,\n",
       ".xr-index-data {\n",
       "  grid-column: 1 / -1;\n",
       "}\n",
       "\n",
       "dl.xr-attrs {\n",
       "  padding: 0;\n",
       "  margin: 0;\n",
       "  display: grid;\n",
       "  grid-template-columns: 125px auto;\n",
       "}\n",
       "\n",
       ".xr-attrs dt,\n",
       ".xr-attrs dd {\n",
       "  padding: 0;\n",
       "  margin: 0;\n",
       "  float: left;\n",
       "  padding-right: 10px;\n",
       "  width: auto;\n",
       "}\n",
       "\n",
       ".xr-attrs dt {\n",
       "  font-weight: normal;\n",
       "  grid-column: 1;\n",
       "}\n",
       "\n",
       ".xr-attrs dt:hover span {\n",
       "  display: inline-block;\n",
       "  background: var(--xr-background-color);\n",
       "  padding-right: 10px;\n",
       "}\n",
       "\n",
       ".xr-attrs dd {\n",
       "  grid-column: 2;\n",
       "  white-space: pre-wrap;\n",
       "  word-break: break-all;\n",
       "}\n",
       "\n",
       ".xr-icon-database,\n",
       ".xr-icon-file-text2,\n",
       ".xr-no-icon {\n",
       "  display: inline-block;\n",
       "  vertical-align: middle;\n",
       "  width: 1em;\n",
       "  height: 1.5em !important;\n",
       "  stroke-width: 0;\n",
       "  stroke: currentColor;\n",
       "  fill: currentColor;\n",
       "}\n",
       "</style><pre class='xr-text-repr-fallback'>&lt;xarray.DataArray &#x27;mask&#x27; (region: 1, north_south: 540, east_west: 660)&gt;\n",
       "array([[[False, False, False, ..., False, False, False],\n",
       "        [False, False, False, ..., False, False, False],\n",
       "        [False, False, False, ..., False, False, False],\n",
       "        ...,\n",
       "        [False, False, False, ..., False, False, False],\n",
       "        [False, False, False, ..., False, False, False],\n",
       "        [False, False, False, ..., False, False, False]]])\n",
       "Coordinates:\n",
       "  * north_south  (north_south) float64 -21.0 -20.95 -20.9 ... 5.9 5.95 6.0\n",
       "  * east_west    (east_west) float64 -82.0 -81.95 -81.9 ... -49.1 -49.05 -49.0\n",
       "  * region       (region) int64 90\n",
       "Attributes:\n",
       "    standard_name:  region</pre><div class='xr-wrap' style='display:none'><div class='xr-header'><div class='xr-obj-type'>xarray.DataArray</div><div class='xr-array-name'>'mask'</div><ul class='xr-dim-list'><li><span class='xr-has-index'>region</span>: 1</li><li><span class='xr-has-index'>north_south</span>: 540</li><li><span class='xr-has-index'>east_west</span>: 660</li></ul></div><ul class='xr-sections'><li class='xr-section-item'><div class='xr-array-wrap'><input id='section-b0a69685-e2cb-405d-837a-e7a573964b8d' class='xr-array-in' type='checkbox' checked><label for='section-b0a69685-e2cb-405d-837a-e7a573964b8d' title='Show/hide data repr'><svg class='icon xr-icon-database'><use xlink:href='#icon-database'></use></svg></label><div class='xr-array-preview xr-preview'><span>False False False False False False ... False False False False False</span></div><div class='xr-array-data'><pre>array([[[False, False, False, ..., False, False, False],\n",
       "        [False, False, False, ..., False, False, False],\n",
       "        [False, False, False, ..., False, False, False],\n",
       "        ...,\n",
       "        [False, False, False, ..., False, False, False],\n",
       "        [False, False, False, ..., False, False, False],\n",
       "        [False, False, False, ..., False, False, False]]])</pre></div></div></li><li class='xr-section-item'><input id='section-4dcd75f0-6476-4e0a-a839-abebffd393e3' class='xr-section-summary-in' type='checkbox'  checked><label for='section-4dcd75f0-6476-4e0a-a839-abebffd393e3' class='xr-section-summary' >Coordinates: <span>(3)</span></label><div class='xr-section-inline-details'></div><div class='xr-section-details'><ul class='xr-var-list'><li class='xr-var-item'><div class='xr-var-name'><span class='xr-has-index'>north_south</span></div><div class='xr-var-dims'>(north_south)</div><div class='xr-var-dtype'>float64</div><div class='xr-var-preview xr-preview'>-21.0 -20.95 -20.9 ... 5.9 5.95 6.0</div><input id='attrs-b528259c-0054-4d99-a039-a4533e809435' class='xr-var-attrs-in' type='checkbox' ><label for='attrs-b528259c-0054-4d99-a039-a4533e809435' title='Show/Hide attributes'><svg class='icon xr-icon-file-text2'><use xlink:href='#icon-file-text2'></use></svg></label><input id='data-9b9daab8-ea15-4d78-a354-eb1cd37800fb' class='xr-var-data-in' type='checkbox'><label for='data-9b9daab8-ea15-4d78-a354-eb1cd37800fb' title='Show/Hide data repr'><svg class='icon xr-icon-database'><use xlink:href='#icon-database'></use></svg></label><div class='xr-var-attrs'><dl class='xr-attrs'><dt><span>units :</span></dt><dd>degrees_n</dd></dl></div><div class='xr-var-data'><pre>array([-21.      , -20.949907, -20.899814, ...,   5.899814,   5.949907,\n",
       "         6.      ])</pre></div></li><li class='xr-var-item'><div class='xr-var-name'><span class='xr-has-index'>east_west</span></div><div class='xr-var-dims'>(east_west)</div><div class='xr-var-dtype'>float64</div><div class='xr-var-preview xr-preview'>-82.0 -81.95 -81.9 ... -49.05 -49.0</div><input id='attrs-2a4948bc-d27c-4ba7-9ba1-d5c2840201bd' class='xr-var-attrs-in' type='checkbox' ><label for='attrs-2a4948bc-d27c-4ba7-9ba1-d5c2840201bd' title='Show/Hide attributes'><svg class='icon xr-icon-file-text2'><use xlink:href='#icon-file-text2'></use></svg></label><input id='data-626caa92-521a-414f-94f7-a4a04a074512' class='xr-var-data-in' type='checkbox'><label for='data-626caa92-521a-414f-94f7-a4a04a074512' title='Show/Hide data repr'><svg class='icon xr-icon-database'><use xlink:href='#icon-database'></use></svg></label><div class='xr-var-attrs'><dl class='xr-attrs'><dt><span>units :</span></dt><dd>degrees_e</dd></dl></div><div class='xr-var-data'><pre>array([-82.      , -81.949924, -81.899848, ..., -49.100152, -49.050076,\n",
       "       -49.      ])</pre></div></li><li class='xr-var-item'><div class='xr-var-name'><span class='xr-has-index'>region</span></div><div class='xr-var-dims'>(region)</div><div class='xr-var-dtype'>int64</div><div class='xr-var-preview xr-preview'>90</div><input id='attrs-73efae41-4d0a-4bf7-a84c-813b3f059d64' class='xr-var-attrs-in' type='checkbox' disabled><label for='attrs-73efae41-4d0a-4bf7-a84c-813b3f059d64' title='Show/Hide attributes'><svg class='icon xr-icon-file-text2'><use xlink:href='#icon-file-text2'></use></svg></label><input id='data-e4958c57-8a23-47ed-a5e6-081fdbc1fbde' class='xr-var-data-in' type='checkbox'><label for='data-e4958c57-8a23-47ed-a5e6-081fdbc1fbde' title='Show/Hide data repr'><svg class='icon xr-icon-database'><use xlink:href='#icon-database'></use></svg></label><div class='xr-var-attrs'><dl class='xr-attrs'></dl></div><div class='xr-var-data'><pre>array([90], dtype=int64)</pre></div></li></ul></div></li><li class='xr-section-item'><input id='section-1e98107c-6199-426a-b3ad-9bc343bc2330' class='xr-section-summary-in' type='checkbox'  ><label for='section-1e98107c-6199-426a-b3ad-9bc343bc2330' class='xr-section-summary' >Indexes: <span>(3)</span></label><div class='xr-section-inline-details'></div><div class='xr-section-details'><ul class='xr-var-list'><li class='xr-var-item'><div class='xr-index-name'><div>north_south</div></div><div class='xr-index-preview'>PandasIndex</div><div></div><input id='index-25d90e2c-9e0d-45dc-a1da-9a36825bddb4' class='xr-index-data-in' type='checkbox'/><label for='index-25d90e2c-9e0d-45dc-a1da-9a36825bddb4' title='Show/Hide index repr'><svg class='icon xr-icon-database'><use xlink:href='#icon-database'></use></svg></label><div class='xr-index-data'><pre>PandasIndex(Index([              -21.0,  -20.94990723562152, -20.899814471243044,\n",
       "       -20.849721706864564, -20.799628942486084, -20.749536178107608,\n",
       "       -20.699443413729128, -20.649350649350648,  -20.59925788497217,\n",
       "       -20.549165120593692,\n",
       "       ...\n",
       "         5.549165120593692,   5.599257884972172,   5.649350649350648,\n",
       "         5.699443413729128,   5.749536178107608,   5.799628942486084,\n",
       "         5.849721706864564,   5.899814471243044,    5.94990723562152,\n",
       "                       6.0],\n",
       "      dtype=&#x27;float64&#x27;, name=&#x27;north_south&#x27;, length=540))</pre></div></li><li class='xr-var-item'><div class='xr-index-name'><div>east_west</div></div><div class='xr-index-preview'>PandasIndex</div><div></div><input id='index-f73e13f9-a876-495b-8d77-7eabdd5e6674' class='xr-index-data-in' type='checkbox'/><label for='index-f73e13f9-a876-495b-8d77-7eabdd5e6674' title='Show/Hide index repr'><svg class='icon xr-icon-database'><use xlink:href='#icon-database'></use></svg></label><div class='xr-index-data'><pre>PandasIndex(Index([              -82.0,  -81.94992412746586,  -81.89984825493171,\n",
       "        -81.84977238239757,  -81.79969650986342,  -81.74962063732929,\n",
       "        -81.69954476479515,    -81.649468892261,  -81.59939301972686,\n",
       "        -81.54931714719271,\n",
       "       ...\n",
       "        -49.45068285280728,  -49.40060698027314,    -49.350531107739,\n",
       "        -49.30045523520486, -49.250379362670714,  -49.20030349013657,\n",
       "       -49.150227617602425,  -49.10015174506829, -49.050075872534144,\n",
       "                     -49.0],\n",
       "      dtype=&#x27;float64&#x27;, name=&#x27;east_west&#x27;, length=660))</pre></div></li><li class='xr-var-item'><div class='xr-index-name'><div>region</div></div><div class='xr-index-preview'>PandasIndex</div><div></div><input id='index-6947d23f-24a3-4fb7-9e02-a10c0418efec' class='xr-index-data-in' type='checkbox'/><label for='index-6947d23f-24a3-4fb7-9e02-a10c0418efec' title='Show/Hide index repr'><svg class='icon xr-icon-database'><use xlink:href='#icon-database'></use></svg></label><div class='xr-index-data'><pre>PandasIndex(Index([90], dtype=&#x27;int64&#x27;, name=&#x27;region&#x27;))</pre></div></li></ul></div></li><li class='xr-section-item'><input id='section-dbd9fc9e-6325-47f9-be81-f05317741a3c' class='xr-section-summary-in' type='checkbox'  checked><label for='section-dbd9fc9e-6325-47f9-be81-f05317741a3c' class='xr-section-summary' >Attributes: <span>(1)</span></label><div class='xr-section-inline-details'></div><div class='xr-section-details'><dl class='xr-attrs'><dt><span>standard_name :</span></dt><dd>region</dd></dl></div></li></ul></div></div>"
      ],
      "text/plain": [
       "<xarray.DataArray 'mask' (region: 1, north_south: 540, east_west: 660)>\n",
       "array([[[False, False, False, ..., False, False, False],\n",
       "        [False, False, False, ..., False, False, False],\n",
       "        [False, False, False, ..., False, False, False],\n",
       "        ...,\n",
       "        [False, False, False, ..., False, False, False],\n",
       "        [False, False, False, ..., False, False, False],\n",
       "        [False, False, False, ..., False, False, False]]])\n",
       "Coordinates:\n",
       "  * north_south  (north_south) float64 -21.0 -20.95 -20.9 ... 5.9 5.95 6.0\n",
       "  * east_west    (east_west) float64 -82.0 -81.95 -81.9 ... -49.1 -49.05 -49.0\n",
       "  * region       (region) int64 90\n",
       "Attributes:\n",
       "    standard_name:  region"
      ]
     },
     "execution_count": 4,
     "metadata": {},
     "output_type": "execute_result"
    }
   ],
   "source": [
    "aoi = hybas_sa_lev05[hybas_sa_lev05.PFAF_ID == 62297]\n",
    "# Create a 3d mask - this contains the true / false values identifying pixels\n",
    "# inside vs outside of the mask region\n",
    "aoi_mask = regionmask.mask_3D_geopandas(aoi,\n",
    "                                         ds.east_west,\n",
    "                                         ds.north_south)\n",
    "aoi_mask\n"
   ]
  },
  {
   "cell_type": "code",
   "execution_count": 5,
   "metadata": {},
   "outputs": [
    {
     "data": {
      "text/html": [
       "<div><svg style=\"position: absolute; width: 0; height: 0; overflow: hidden\">\n",
       "<defs>\n",
       "<symbol id=\"icon-database\" viewBox=\"0 0 32 32\">\n",
       "<path d=\"M16 0c-8.837 0-16 2.239-16 5v4c0 2.761 7.163 5 16 5s16-2.239 16-5v-4c0-2.761-7.163-5-16-5z\"></path>\n",
       "<path d=\"M16 17c-8.837 0-16-2.239-16-5v6c0 2.761 7.163 5 16 5s16-2.239 16-5v-6c0 2.761-7.163 5-16 5z\"></path>\n",
       "<path d=\"M16 26c-8.837 0-16-2.239-16-5v6c0 2.761 7.163 5 16 5s16-2.239 16-5v-6c0 2.761-7.163 5-16 5z\"></path>\n",
       "</symbol>\n",
       "<symbol id=\"icon-file-text2\" viewBox=\"0 0 32 32\">\n",
       "<path d=\"M28.681 7.159c-0.694-0.947-1.662-2.053-2.724-3.116s-2.169-2.030-3.116-2.724c-1.612-1.182-2.393-1.319-2.841-1.319h-15.5c-1.378 0-2.5 1.121-2.5 2.5v27c0 1.378 1.122 2.5 2.5 2.5h23c1.378 0 2.5-1.122 2.5-2.5v-19.5c0-0.448-0.137-1.23-1.319-2.841zM24.543 5.457c0.959 0.959 1.712 1.825 2.268 2.543h-4.811v-4.811c0.718 0.556 1.584 1.309 2.543 2.268zM28 29.5c0 0.271-0.229 0.5-0.5 0.5h-23c-0.271 0-0.5-0.229-0.5-0.5v-27c0-0.271 0.229-0.5 0.5-0.5 0 0 15.499-0 15.5 0v7c0 0.552 0.448 1 1 1h7v19.5z\"></path>\n",
       "<path d=\"M23 26h-14c-0.552 0-1-0.448-1-1s0.448-1 1-1h14c0.552 0 1 0.448 1 1s-0.448 1-1 1z\"></path>\n",
       "<path d=\"M23 22h-14c-0.552 0-1-0.448-1-1s0.448-1 1-1h14c0.552 0 1 0.448 1 1s-0.448 1-1 1z\"></path>\n",
       "<path d=\"M23 18h-14c-0.552 0-1-0.448-1-1s0.448-1 1-1h14c0.552 0 1 0.448 1 1s-0.448 1-1 1z\"></path>\n",
       "</symbol>\n",
       "</defs>\n",
       "</svg>\n",
       "<style>/* CSS stylesheet for displaying xarray objects in jupyterlab.\n",
       " *\n",
       " */\n",
       "\n",
       ":root {\n",
       "  --xr-font-color0: var(--jp-content-font-color0, rgba(0, 0, 0, 1));\n",
       "  --xr-font-color2: var(--jp-content-font-color2, rgba(0, 0, 0, 0.54));\n",
       "  --xr-font-color3: var(--jp-content-font-color3, rgba(0, 0, 0, 0.38));\n",
       "  --xr-border-color: var(--jp-border-color2, #e0e0e0);\n",
       "  --xr-disabled-color: var(--jp-layout-color3, #bdbdbd);\n",
       "  --xr-background-color: var(--jp-layout-color0, white);\n",
       "  --xr-background-color-row-even: var(--jp-layout-color1, white);\n",
       "  --xr-background-color-row-odd: var(--jp-layout-color2, #eeeeee);\n",
       "}\n",
       "\n",
       "html[theme=dark],\n",
       "body[data-theme=dark],\n",
       "body.vscode-dark {\n",
       "  --xr-font-color0: rgba(255, 255, 255, 1);\n",
       "  --xr-font-color2: rgba(255, 255, 255, 0.54);\n",
       "  --xr-font-color3: rgba(255, 255, 255, 0.38);\n",
       "  --xr-border-color: #1F1F1F;\n",
       "  --xr-disabled-color: #515151;\n",
       "  --xr-background-color: #111111;\n",
       "  --xr-background-color-row-even: #111111;\n",
       "  --xr-background-color-row-odd: #313131;\n",
       "}\n",
       "\n",
       ".xr-wrap {\n",
       "  display: block !important;\n",
       "  min-width: 300px;\n",
       "  max-width: 700px;\n",
       "}\n",
       "\n",
       ".xr-text-repr-fallback {\n",
       "  /* fallback to plain text repr when CSS is not injected (untrusted notebook) */\n",
       "  display: none;\n",
       "}\n",
       "\n",
       ".xr-header {\n",
       "  padding-top: 6px;\n",
       "  padding-bottom: 6px;\n",
       "  margin-bottom: 4px;\n",
       "  border-bottom: solid 1px var(--xr-border-color);\n",
       "}\n",
       "\n",
       ".xr-header > div,\n",
       ".xr-header > ul {\n",
       "  display: inline;\n",
       "  margin-top: 0;\n",
       "  margin-bottom: 0;\n",
       "}\n",
       "\n",
       ".xr-obj-type,\n",
       ".xr-array-name {\n",
       "  margin-left: 2px;\n",
       "  margin-right: 10px;\n",
       "}\n",
       "\n",
       ".xr-obj-type {\n",
       "  color: var(--xr-font-color2);\n",
       "}\n",
       "\n",
       ".xr-sections {\n",
       "  padding-left: 0 !important;\n",
       "  display: grid;\n",
       "  grid-template-columns: 150px auto auto 1fr 20px 20px;\n",
       "}\n",
       "\n",
       ".xr-section-item {\n",
       "  display: contents;\n",
       "}\n",
       "\n",
       ".xr-section-item input {\n",
       "  display: none;\n",
       "}\n",
       "\n",
       ".xr-section-item input + label {\n",
       "  color: var(--xr-disabled-color);\n",
       "}\n",
       "\n",
       ".xr-section-item input:enabled + label {\n",
       "  cursor: pointer;\n",
       "  color: var(--xr-font-color2);\n",
       "}\n",
       "\n",
       ".xr-section-item input:enabled + label:hover {\n",
       "  color: var(--xr-font-color0);\n",
       "}\n",
       "\n",
       ".xr-section-summary {\n",
       "  grid-column: 1;\n",
       "  color: var(--xr-font-color2);\n",
       "  font-weight: 500;\n",
       "}\n",
       "\n",
       ".xr-section-summary > span {\n",
       "  display: inline-block;\n",
       "  padding-left: 0.5em;\n",
       "}\n",
       "\n",
       ".xr-section-summary-in:disabled + label {\n",
       "  color: var(--xr-font-color2);\n",
       "}\n",
       "\n",
       ".xr-section-summary-in + label:before {\n",
       "  display: inline-block;\n",
       "  content: '►';\n",
       "  font-size: 11px;\n",
       "  width: 15px;\n",
       "  text-align: center;\n",
       "}\n",
       "\n",
       ".xr-section-summary-in:disabled + label:before {\n",
       "  color: var(--xr-disabled-color);\n",
       "}\n",
       "\n",
       ".xr-section-summary-in:checked + label:before {\n",
       "  content: '▼';\n",
       "}\n",
       "\n",
       ".xr-section-summary-in:checked + label > span {\n",
       "  display: none;\n",
       "}\n",
       "\n",
       ".xr-section-summary,\n",
       ".xr-section-inline-details {\n",
       "  padding-top: 4px;\n",
       "  padding-bottom: 4px;\n",
       "}\n",
       "\n",
       ".xr-section-inline-details {\n",
       "  grid-column: 2 / -1;\n",
       "}\n",
       "\n",
       ".xr-section-details {\n",
       "  display: none;\n",
       "  grid-column: 1 / -1;\n",
       "  margin-bottom: 5px;\n",
       "}\n",
       "\n",
       ".xr-section-summary-in:checked ~ .xr-section-details {\n",
       "  display: contents;\n",
       "}\n",
       "\n",
       ".xr-array-wrap {\n",
       "  grid-column: 1 / -1;\n",
       "  display: grid;\n",
       "  grid-template-columns: 20px auto;\n",
       "}\n",
       "\n",
       ".xr-array-wrap > label {\n",
       "  grid-column: 1;\n",
       "  vertical-align: top;\n",
       "}\n",
       "\n",
       ".xr-preview {\n",
       "  color: var(--xr-font-color3);\n",
       "}\n",
       "\n",
       ".xr-array-preview,\n",
       ".xr-array-data {\n",
       "  padding: 0 5px !important;\n",
       "  grid-column: 2;\n",
       "}\n",
       "\n",
       ".xr-array-data,\n",
       ".xr-array-in:checked ~ .xr-array-preview {\n",
       "  display: none;\n",
       "}\n",
       "\n",
       ".xr-array-in:checked ~ .xr-array-data,\n",
       ".xr-array-preview {\n",
       "  display: inline-block;\n",
       "}\n",
       "\n",
       ".xr-dim-list {\n",
       "  display: inline-block !important;\n",
       "  list-style: none;\n",
       "  padding: 0 !important;\n",
       "  margin: 0;\n",
       "}\n",
       "\n",
       ".xr-dim-list li {\n",
       "  display: inline-block;\n",
       "  padding: 0;\n",
       "  margin: 0;\n",
       "}\n",
       "\n",
       ".xr-dim-list:before {\n",
       "  content: '(';\n",
       "}\n",
       "\n",
       ".xr-dim-list:after {\n",
       "  content: ')';\n",
       "}\n",
       "\n",
       ".xr-dim-list li:not(:last-child):after {\n",
       "  content: ',';\n",
       "  padding-right: 5px;\n",
       "}\n",
       "\n",
       ".xr-has-index {\n",
       "  font-weight: bold;\n",
       "}\n",
       "\n",
       ".xr-var-list,\n",
       ".xr-var-item {\n",
       "  display: contents;\n",
       "}\n",
       "\n",
       ".xr-var-item > div,\n",
       ".xr-var-item label,\n",
       ".xr-var-item > .xr-var-name span {\n",
       "  background-color: var(--xr-background-color-row-even);\n",
       "  margin-bottom: 0;\n",
       "}\n",
       "\n",
       ".xr-var-item > .xr-var-name:hover span {\n",
       "  padding-right: 5px;\n",
       "}\n",
       "\n",
       ".xr-var-list > li:nth-child(odd) > div,\n",
       ".xr-var-list > li:nth-child(odd) > label,\n",
       ".xr-var-list > li:nth-child(odd) > .xr-var-name span {\n",
       "  background-color: var(--xr-background-color-row-odd);\n",
       "}\n",
       "\n",
       ".xr-var-name {\n",
       "  grid-column: 1;\n",
       "}\n",
       "\n",
       ".xr-var-dims {\n",
       "  grid-column: 2;\n",
       "}\n",
       "\n",
       ".xr-var-dtype {\n",
       "  grid-column: 3;\n",
       "  text-align: right;\n",
       "  color: var(--xr-font-color2);\n",
       "}\n",
       "\n",
       ".xr-var-preview {\n",
       "  grid-column: 4;\n",
       "}\n",
       "\n",
       ".xr-index-preview {\n",
       "  grid-column: 2 / 5;\n",
       "  color: var(--xr-font-color2);\n",
       "}\n",
       "\n",
       ".xr-var-name,\n",
       ".xr-var-dims,\n",
       ".xr-var-dtype,\n",
       ".xr-preview,\n",
       ".xr-attrs dt {\n",
       "  white-space: nowrap;\n",
       "  overflow: hidden;\n",
       "  text-overflow: ellipsis;\n",
       "  padding-right: 10px;\n",
       "}\n",
       "\n",
       ".xr-var-name:hover,\n",
       ".xr-var-dims:hover,\n",
       ".xr-var-dtype:hover,\n",
       ".xr-attrs dt:hover {\n",
       "  overflow: visible;\n",
       "  width: auto;\n",
       "  z-index: 1;\n",
       "}\n",
       "\n",
       ".xr-var-attrs,\n",
       ".xr-var-data,\n",
       ".xr-index-data {\n",
       "  display: none;\n",
       "  background-color: var(--xr-background-color) !important;\n",
       "  padding-bottom: 5px !important;\n",
       "}\n",
       "\n",
       ".xr-var-attrs-in:checked ~ .xr-var-attrs,\n",
       ".xr-var-data-in:checked ~ .xr-var-data,\n",
       ".xr-index-data-in:checked ~ .xr-index-data {\n",
       "  display: block;\n",
       "}\n",
       "\n",
       ".xr-var-data > table {\n",
       "  float: right;\n",
       "}\n",
       "\n",
       ".xr-var-name span,\n",
       ".xr-var-data,\n",
       ".xr-index-name div,\n",
       ".xr-index-data,\n",
       ".xr-attrs {\n",
       "  padding-left: 25px !important;\n",
       "}\n",
       "\n",
       ".xr-attrs,\n",
       ".xr-var-attrs,\n",
       ".xr-var-data,\n",
       ".xr-index-data {\n",
       "  grid-column: 1 / -1;\n",
       "}\n",
       "\n",
       "dl.xr-attrs {\n",
       "  padding: 0;\n",
       "  margin: 0;\n",
       "  display: grid;\n",
       "  grid-template-columns: 125px auto;\n",
       "}\n",
       "\n",
       ".xr-attrs dt,\n",
       ".xr-attrs dd {\n",
       "  padding: 0;\n",
       "  margin: 0;\n",
       "  float: left;\n",
       "  padding-right: 10px;\n",
       "  width: auto;\n",
       "}\n",
       "\n",
       ".xr-attrs dt {\n",
       "  font-weight: normal;\n",
       "  grid-column: 1;\n",
       "}\n",
       "\n",
       ".xr-attrs dt:hover span {\n",
       "  display: inline-block;\n",
       "  background: var(--xr-background-color);\n",
       "  padding-right: 10px;\n",
       "}\n",
       "\n",
       ".xr-attrs dd {\n",
       "  grid-column: 2;\n",
       "  white-space: pre-wrap;\n",
       "  word-break: break-all;\n",
       "}\n",
       "\n",
       ".xr-icon-database,\n",
       ".xr-icon-file-text2,\n",
       ".xr-no-icon {\n",
       "  display: inline-block;\n",
       "  vertical-align: middle;\n",
       "  width: 1em;\n",
       "  height: 1.5em !important;\n",
       "  stroke-width: 0;\n",
       "  stroke: currentColor;\n",
       "  fill: currentColor;\n",
       "}\n",
       "</style><pre class='xr-text-repr-fallback'>&lt;xarray.DataArray &#x27;Rainf_tavg&#x27; (time: 4, ensemble: 7, north_south: 540,\n",
       "                                east_west: 660, region: 1)&gt;\n",
       "array([[[[[nan],\n",
       "          [nan],\n",
       "          [nan],\n",
       "          ...,\n",
       "          [nan],\n",
       "          [nan],\n",
       "          [nan]],\n",
       "\n",
       "         [[nan],\n",
       "          [nan],\n",
       "          [nan],\n",
       "          ...,\n",
       "          [nan],\n",
       "          [nan],\n",
       "          [nan]],\n",
       "\n",
       "         [[nan],\n",
       "          [nan],\n",
       "          [nan],\n",
       "          ...,\n",
       "...\n",
       "          ...,\n",
       "          [nan],\n",
       "          [nan],\n",
       "          [nan]],\n",
       "\n",
       "         [[nan],\n",
       "          [nan],\n",
       "          [nan],\n",
       "          ...,\n",
       "          [nan],\n",
       "          [nan],\n",
       "          [nan]],\n",
       "\n",
       "         [[nan],\n",
       "          [nan],\n",
       "          [nan],\n",
       "          ...,\n",
       "          [nan],\n",
       "          [nan],\n",
       "          [nan]]]]], dtype=float32)\n",
       "Coordinates:\n",
       "  * time         (time) datetime64[ns] 2024-06-02 2024-06-03 ... 2024-06-05\n",
       "  * ensemble     (ensemble) float32 1.0 2.0 3.0 4.0 5.0 6.0 7.0\n",
       "  * north_south  (north_south) float64 -21.0 -20.95 -20.9 ... 5.9 5.95 6.0\n",
       "  * east_west    (east_west) float64 -82.0 -81.95 -81.9 ... -49.1 -49.05 -49.0\n",
       "  * region       (region) int64 90\n",
       "Attributes:\n",
       "    units:          kg m-2 s-1\n",
       "    standard_name:  precipitation_rate\n",
       "    long_name:      precipitation rate\n",
       "    vmin:           0.0\n",
       "    vmax:           0.0</pre><div class='xr-wrap' style='display:none'><div class='xr-header'><div class='xr-obj-type'>xarray.DataArray</div><div class='xr-array-name'>'Rainf_tavg'</div><ul class='xr-dim-list'><li><span class='xr-has-index'>time</span>: 4</li><li><span class='xr-has-index'>ensemble</span>: 7</li><li><span class='xr-has-index'>north_south</span>: 540</li><li><span class='xr-has-index'>east_west</span>: 660</li><li><span class='xr-has-index'>region</span>: 1</li></ul></div><ul class='xr-sections'><li class='xr-section-item'><div class='xr-array-wrap'><input id='section-3a504320-14b5-4d54-a9f3-794e1faca8cc' class='xr-array-in' type='checkbox' checked><label for='section-3a504320-14b5-4d54-a9f3-794e1faca8cc' title='Show/hide data repr'><svg class='icon xr-icon-database'><use xlink:href='#icon-database'></use></svg></label><div class='xr-array-preview xr-preview'><span>nan nan nan nan nan nan nan nan ... nan nan nan nan nan nan nan nan</span></div><div class='xr-array-data'><pre>array([[[[[nan],\n",
       "          [nan],\n",
       "          [nan],\n",
       "          ...,\n",
       "          [nan],\n",
       "          [nan],\n",
       "          [nan]],\n",
       "\n",
       "         [[nan],\n",
       "          [nan],\n",
       "          [nan],\n",
       "          ...,\n",
       "          [nan],\n",
       "          [nan],\n",
       "          [nan]],\n",
       "\n",
       "         [[nan],\n",
       "          [nan],\n",
       "          [nan],\n",
       "          ...,\n",
       "...\n",
       "          ...,\n",
       "          [nan],\n",
       "          [nan],\n",
       "          [nan]],\n",
       "\n",
       "         [[nan],\n",
       "          [nan],\n",
       "          [nan],\n",
       "          ...,\n",
       "          [nan],\n",
       "          [nan],\n",
       "          [nan]],\n",
       "\n",
       "         [[nan],\n",
       "          [nan],\n",
       "          [nan],\n",
       "          ...,\n",
       "          [nan],\n",
       "          [nan],\n",
       "          [nan]]]]], dtype=float32)</pre></div></div></li><li class='xr-section-item'><input id='section-ce0da14f-892c-4cf9-8c4d-a561aea92070' class='xr-section-summary-in' type='checkbox'  checked><label for='section-ce0da14f-892c-4cf9-8c4d-a561aea92070' class='xr-section-summary' >Coordinates: <span>(5)</span></label><div class='xr-section-inline-details'></div><div class='xr-section-details'><ul class='xr-var-list'><li class='xr-var-item'><div class='xr-var-name'><span class='xr-has-index'>time</span></div><div class='xr-var-dims'>(time)</div><div class='xr-var-dtype'>datetime64[ns]</div><div class='xr-var-preview xr-preview'>2024-06-02 ... 2024-06-05</div><input id='attrs-08f9ec50-4ae6-411a-86ba-751234bc067a' class='xr-var-attrs-in' type='checkbox' ><label for='attrs-08f9ec50-4ae6-411a-86ba-751234bc067a' title='Show/Hide attributes'><svg class='icon xr-icon-file-text2'><use xlink:href='#icon-file-text2'></use></svg></label><input id='data-ceeb050e-79ba-404c-b90e-a948987d91e9' class='xr-var-data-in' type='checkbox'><label for='data-ceeb050e-79ba-404c-b90e-a948987d91e9' title='Show/Hide data repr'><svg class='icon xr-icon-database'><use xlink:href='#icon-database'></use></svg></label><div class='xr-var-attrs'><dl class='xr-attrs'><dt><span>long_name :</span></dt><dd>time</dd><dt><span>time_increment :</span></dt><dd>86400</dd><dt><span>begin_date :</span></dt><dd>20240602</dd><dt><span>begin_time :</span></dt><dd>000000</dd></dl></div><div class='xr-var-data'><pre>array([&#x27;2024-06-02T00:00:00.000000000&#x27;, &#x27;2024-06-03T00:00:00.000000000&#x27;,\n",
       "       &#x27;2024-06-04T00:00:00.000000000&#x27;, &#x27;2024-06-05T00:00:00.000000000&#x27;],\n",
       "      dtype=&#x27;datetime64[ns]&#x27;)</pre></div></li><li class='xr-var-item'><div class='xr-var-name'><span class='xr-has-index'>ensemble</span></div><div class='xr-var-dims'>(ensemble)</div><div class='xr-var-dtype'>float32</div><div class='xr-var-preview xr-preview'>1.0 2.0 3.0 4.0 5.0 6.0 7.0</div><input id='attrs-8724a6d0-aecd-4f47-a89c-0ff96311b545' class='xr-var-attrs-in' type='checkbox' ><label for='attrs-8724a6d0-aecd-4f47-a89c-0ff96311b545' title='Show/Hide attributes'><svg class='icon xr-icon-file-text2'><use xlink:href='#icon-file-text2'></use></svg></label><input id='data-4be854fb-49c8-4fb0-817e-6990128c5a05' class='xr-var-data-in' type='checkbox'><label for='data-4be854fb-49c8-4fb0-817e-6990128c5a05' title='Show/Hide data repr'><svg class='icon xr-icon-database'><use xlink:href='#icon-database'></use></svg></label><div class='xr-var-attrs'><dl class='xr-attrs'><dt><span>units :</span></dt><dd>ensemble number</dd><dt><span>long_name :</span></dt><dd>Ensemble numbers</dd></dl></div><div class='xr-var-data'><pre>array([1., 2., 3., 4., 5., 6., 7.], dtype=float32)</pre></div></li><li class='xr-var-item'><div class='xr-var-name'><span class='xr-has-index'>north_south</span></div><div class='xr-var-dims'>(north_south)</div><div class='xr-var-dtype'>float64</div><div class='xr-var-preview xr-preview'>-21.0 -20.95 -20.9 ... 5.9 5.95 6.0</div><input id='attrs-5113e946-e0be-4648-b573-244723e9ee98' class='xr-var-attrs-in' type='checkbox' ><label for='attrs-5113e946-e0be-4648-b573-244723e9ee98' title='Show/Hide attributes'><svg class='icon xr-icon-file-text2'><use xlink:href='#icon-file-text2'></use></svg></label><input id='data-d4b74271-e9ea-4f7e-98ab-6a41e8c3daad' class='xr-var-data-in' type='checkbox'><label for='data-d4b74271-e9ea-4f7e-98ab-6a41e8c3daad' title='Show/Hide data repr'><svg class='icon xr-icon-database'><use xlink:href='#icon-database'></use></svg></label><div class='xr-var-attrs'><dl class='xr-attrs'><dt><span>units :</span></dt><dd>degrees_n</dd></dl></div><div class='xr-var-data'><pre>array([-21.      , -20.949907, -20.899814, ...,   5.899814,   5.949907,\n",
       "         6.      ])</pre></div></li><li class='xr-var-item'><div class='xr-var-name'><span class='xr-has-index'>east_west</span></div><div class='xr-var-dims'>(east_west)</div><div class='xr-var-dtype'>float64</div><div class='xr-var-preview xr-preview'>-82.0 -81.95 -81.9 ... -49.05 -49.0</div><input id='attrs-fdc94b3b-5667-4ba7-a4fe-4c6bae879d1e' class='xr-var-attrs-in' type='checkbox' ><label for='attrs-fdc94b3b-5667-4ba7-a4fe-4c6bae879d1e' title='Show/Hide attributes'><svg class='icon xr-icon-file-text2'><use xlink:href='#icon-file-text2'></use></svg></label><input id='data-f168c534-16e3-4f40-b6ff-df7b057fe289' class='xr-var-data-in' type='checkbox'><label for='data-f168c534-16e3-4f40-b6ff-df7b057fe289' title='Show/Hide data repr'><svg class='icon xr-icon-database'><use xlink:href='#icon-database'></use></svg></label><div class='xr-var-attrs'><dl class='xr-attrs'><dt><span>units :</span></dt><dd>degrees_e</dd></dl></div><div class='xr-var-data'><pre>array([-82.      , -81.949924, -81.899848, ..., -49.100152, -49.050076,\n",
       "       -49.      ])</pre></div></li><li class='xr-var-item'><div class='xr-var-name'><span class='xr-has-index'>region</span></div><div class='xr-var-dims'>(region)</div><div class='xr-var-dtype'>int64</div><div class='xr-var-preview xr-preview'>90</div><input id='attrs-887c9862-2ac9-4b98-a775-a5014ae0b1f7' class='xr-var-attrs-in' type='checkbox' disabled><label for='attrs-887c9862-2ac9-4b98-a775-a5014ae0b1f7' title='Show/Hide attributes'><svg class='icon xr-icon-file-text2'><use xlink:href='#icon-file-text2'></use></svg></label><input id='data-90002758-7e04-4fe7-9e67-6ce118581bc7' class='xr-var-data-in' type='checkbox'><label for='data-90002758-7e04-4fe7-9e67-6ce118581bc7' title='Show/Hide data repr'><svg class='icon xr-icon-database'><use xlink:href='#icon-database'></use></svg></label><div class='xr-var-attrs'><dl class='xr-attrs'></dl></div><div class='xr-var-data'><pre>array([90], dtype=int64)</pre></div></li></ul></div></li><li class='xr-section-item'><input id='section-d4e34dcd-70e0-46ba-a57a-ecdc962f7afd' class='xr-section-summary-in' type='checkbox'  ><label for='section-d4e34dcd-70e0-46ba-a57a-ecdc962f7afd' class='xr-section-summary' >Indexes: <span>(5)</span></label><div class='xr-section-inline-details'></div><div class='xr-section-details'><ul class='xr-var-list'><li class='xr-var-item'><div class='xr-index-name'><div>time</div></div><div class='xr-index-preview'>PandasIndex</div><div></div><input id='index-ccbf3a35-e9b6-4ae6-858a-1543df65c215' class='xr-index-data-in' type='checkbox'/><label for='index-ccbf3a35-e9b6-4ae6-858a-1543df65c215' title='Show/Hide index repr'><svg class='icon xr-icon-database'><use xlink:href='#icon-database'></use></svg></label><div class='xr-index-data'><pre>PandasIndex(DatetimeIndex([&#x27;2024-06-02&#x27;, &#x27;2024-06-03&#x27;, &#x27;2024-06-04&#x27;, &#x27;2024-06-05&#x27;], dtype=&#x27;datetime64[ns]&#x27;, name=&#x27;time&#x27;, freq=None))</pre></div></li><li class='xr-var-item'><div class='xr-index-name'><div>ensemble</div></div><div class='xr-index-preview'>PandasIndex</div><div></div><input id='index-63526cde-6d38-473c-ad66-191f19b46818' class='xr-index-data-in' type='checkbox'/><label for='index-63526cde-6d38-473c-ad66-191f19b46818' title='Show/Hide index repr'><svg class='icon xr-icon-database'><use xlink:href='#icon-database'></use></svg></label><div class='xr-index-data'><pre>PandasIndex(Index([1.0, 2.0, 3.0, 4.0, 5.0, 6.0, 7.0], dtype=&#x27;float32&#x27;, name=&#x27;ensemble&#x27;))</pre></div></li><li class='xr-var-item'><div class='xr-index-name'><div>north_south</div></div><div class='xr-index-preview'>PandasIndex</div><div></div><input id='index-82d274d5-0276-4ff8-8bc2-68ce010eda5a' class='xr-index-data-in' type='checkbox'/><label for='index-82d274d5-0276-4ff8-8bc2-68ce010eda5a' title='Show/Hide index repr'><svg class='icon xr-icon-database'><use xlink:href='#icon-database'></use></svg></label><div class='xr-index-data'><pre>PandasIndex(Index([              -21.0,  -20.94990723562152, -20.899814471243044,\n",
       "       -20.849721706864564, -20.799628942486084, -20.749536178107608,\n",
       "       -20.699443413729128, -20.649350649350648,  -20.59925788497217,\n",
       "       -20.549165120593692,\n",
       "       ...\n",
       "         5.549165120593692,   5.599257884972172,   5.649350649350648,\n",
       "         5.699443413729128,   5.749536178107608,   5.799628942486084,\n",
       "         5.849721706864564,   5.899814471243044,    5.94990723562152,\n",
       "                       6.0],\n",
       "      dtype=&#x27;float64&#x27;, name=&#x27;north_south&#x27;, length=540))</pre></div></li><li class='xr-var-item'><div class='xr-index-name'><div>east_west</div></div><div class='xr-index-preview'>PandasIndex</div><div></div><input id='index-18f685f6-a458-4358-88eb-de67ea411e9b' class='xr-index-data-in' type='checkbox'/><label for='index-18f685f6-a458-4358-88eb-de67ea411e9b' title='Show/Hide index repr'><svg class='icon xr-icon-database'><use xlink:href='#icon-database'></use></svg></label><div class='xr-index-data'><pre>PandasIndex(Index([              -82.0,  -81.94992412746586,  -81.89984825493171,\n",
       "        -81.84977238239757,  -81.79969650986342,  -81.74962063732929,\n",
       "        -81.69954476479515,    -81.649468892261,  -81.59939301972686,\n",
       "        -81.54931714719271,\n",
       "       ...\n",
       "        -49.45068285280728,  -49.40060698027314,    -49.350531107739,\n",
       "        -49.30045523520486, -49.250379362670714,  -49.20030349013657,\n",
       "       -49.150227617602425,  -49.10015174506829, -49.050075872534144,\n",
       "                     -49.0],\n",
       "      dtype=&#x27;float64&#x27;, name=&#x27;east_west&#x27;, length=660))</pre></div></li><li class='xr-var-item'><div class='xr-index-name'><div>region</div></div><div class='xr-index-preview'>PandasIndex</div><div></div><input id='index-e578aea1-1c55-4901-a19d-7fda307358a2' class='xr-index-data-in' type='checkbox'/><label for='index-e578aea1-1c55-4901-a19d-7fda307358a2' title='Show/Hide index repr'><svg class='icon xr-icon-database'><use xlink:href='#icon-database'></use></svg></label><div class='xr-index-data'><pre>PandasIndex(Index([90], dtype=&#x27;int64&#x27;, name=&#x27;region&#x27;))</pre></div></li></ul></div></li><li class='xr-section-item'><input id='section-ff868806-476c-4e11-adf3-1ee67fcc4a2e' class='xr-section-summary-in' type='checkbox'  checked><label for='section-ff868806-476c-4e11-adf3-1ee67fcc4a2e' class='xr-section-summary' >Attributes: <span>(5)</span></label><div class='xr-section-inline-details'></div><div class='xr-section-details'><dl class='xr-attrs'><dt><span>units :</span></dt><dd>kg m-2 s-1</dd><dt><span>standard_name :</span></dt><dd>precipitation_rate</dd><dt><span>long_name :</span></dt><dd>precipitation rate</dd><dt><span>vmin :</span></dt><dd>0.0</dd><dt><span>vmax :</span></dt><dd>0.0</dd></dl></div></li></ul></div></div>"
      ],
      "text/plain": [
       "<xarray.DataArray 'Rainf_tavg' (time: 4, ensemble: 7, north_south: 540,\n",
       "                                east_west: 660, region: 1)>\n",
       "array([[[[[nan],\n",
       "          [nan],\n",
       "          [nan],\n",
       "          ...,\n",
       "          [nan],\n",
       "          [nan],\n",
       "          [nan]],\n",
       "\n",
       "         [[nan],\n",
       "          [nan],\n",
       "          [nan],\n",
       "          ...,\n",
       "          [nan],\n",
       "          [nan],\n",
       "          [nan]],\n",
       "\n",
       "         [[nan],\n",
       "          [nan],\n",
       "          [nan],\n",
       "          ...,\n",
       "...\n",
       "          ...,\n",
       "          [nan],\n",
       "          [nan],\n",
       "          [nan]],\n",
       "\n",
       "         [[nan],\n",
       "          [nan],\n",
       "          [nan],\n",
       "          ...,\n",
       "          [nan],\n",
       "          [nan],\n",
       "          [nan]],\n",
       "\n",
       "         [[nan],\n",
       "          [nan],\n",
       "          [nan],\n",
       "          ...,\n",
       "          [nan],\n",
       "          [nan],\n",
       "          [nan]]]]], dtype=float32)\n",
       "Coordinates:\n",
       "  * time         (time) datetime64[ns] 2024-06-02 2024-06-03 ... 2024-06-05\n",
       "  * ensemble     (ensemble) float32 1.0 2.0 3.0 4.0 5.0 6.0 7.0\n",
       "  * north_south  (north_south) float64 -21.0 -20.95 -20.9 ... 5.9 5.95 6.0\n",
       "  * east_west    (east_west) float64 -82.0 -81.95 -81.9 ... -49.1 -49.05 -49.0\n",
       "  * region       (region) int64 90\n",
       "Attributes:\n",
       "    units:          kg m-2 s-1\n",
       "    standard_name:  precipitation_rate\n",
       "    long_name:      precipitation rate\n",
       "    vmin:           0.0\n",
       "    vmax:           0.0"
      ]
     },
     "execution_count": 5,
     "metadata": {},
     "output_type": "execute_result"
    }
   ],
   "source": [
    "aoi_ds = ds['Rainf_tavg'].where(aoi_mask)\n",
    "aoi_ds"
   ]
  },
  {
   "cell_type": "code",
   "execution_count": 43,
   "metadata": {},
   "outputs": [
    {
     "data": {
      "text/html": [
       "<div>\n",
       "<style scoped>\n",
       "    .dataframe tbody tr th:only-of-type {\n",
       "        vertical-align: middle;\n",
       "    }\n",
       "\n",
       "    .dataframe tbody tr th {\n",
       "        vertical-align: top;\n",
       "    }\n",
       "\n",
       "    .dataframe thead th {\n",
       "        text-align: right;\n",
       "    }\n",
       "</style>\n",
       "<table border=\"1\" class=\"dataframe\">\n",
       "  <thead>\n",
       "    <tr style=\"text-align: right;\">\n",
       "      <th></th>\n",
       "      <th>time</th>\n",
       "      <th>ensemble</th>\n",
       "      <th>region</th>\n",
       "      <th>Rainf_tavg</th>\n",
       "    </tr>\n",
       "  </thead>\n",
       "  <tbody>\n",
       "    <tr>\n",
       "      <th>0</th>\n",
       "      <td>2024-06-02</td>\n",
       "      <td>1.0</td>\n",
       "      <td>90</td>\n",
       "      <td>0.000044</td>\n",
       "    </tr>\n",
       "    <tr>\n",
       "      <th>1</th>\n",
       "      <td>2024-06-02</td>\n",
       "      <td>2.0</td>\n",
       "      <td>90</td>\n",
       "      <td>0.000044</td>\n",
       "    </tr>\n",
       "    <tr>\n",
       "      <th>2</th>\n",
       "      <td>2024-06-02</td>\n",
       "      <td>3.0</td>\n",
       "      <td>90</td>\n",
       "      <td>0.000045</td>\n",
       "    </tr>\n",
       "    <tr>\n",
       "      <th>3</th>\n",
       "      <td>2024-06-02</td>\n",
       "      <td>4.0</td>\n",
       "      <td>90</td>\n",
       "      <td>0.000045</td>\n",
       "    </tr>\n",
       "    <tr>\n",
       "      <th>4</th>\n",
       "      <td>2024-06-02</td>\n",
       "      <td>5.0</td>\n",
       "      <td>90</td>\n",
       "      <td>0.000043</td>\n",
       "    </tr>\n",
       "    <tr>\n",
       "      <th>5</th>\n",
       "      <td>2024-06-02</td>\n",
       "      <td>6.0</td>\n",
       "      <td>90</td>\n",
       "      <td>0.000044</td>\n",
       "    </tr>\n",
       "    <tr>\n",
       "      <th>6</th>\n",
       "      <td>2024-06-02</td>\n",
       "      <td>7.0</td>\n",
       "      <td>90</td>\n",
       "      <td>0.000043</td>\n",
       "    </tr>\n",
       "    <tr>\n",
       "      <th>7</th>\n",
       "      <td>2024-06-03</td>\n",
       "      <td>1.0</td>\n",
       "      <td>90</td>\n",
       "      <td>0.000055</td>\n",
       "    </tr>\n",
       "    <tr>\n",
       "      <th>8</th>\n",
       "      <td>2024-06-03</td>\n",
       "      <td>2.0</td>\n",
       "      <td>90</td>\n",
       "      <td>0.000055</td>\n",
       "    </tr>\n",
       "    <tr>\n",
       "      <th>9</th>\n",
       "      <td>2024-06-03</td>\n",
       "      <td>3.0</td>\n",
       "      <td>90</td>\n",
       "      <td>0.000056</td>\n",
       "    </tr>\n",
       "    <tr>\n",
       "      <th>10</th>\n",
       "      <td>2024-06-03</td>\n",
       "      <td>4.0</td>\n",
       "      <td>90</td>\n",
       "      <td>0.000056</td>\n",
       "    </tr>\n",
       "    <tr>\n",
       "      <th>11</th>\n",
       "      <td>2024-06-03</td>\n",
       "      <td>5.0</td>\n",
       "      <td>90</td>\n",
       "      <td>0.000052</td>\n",
       "    </tr>\n",
       "    <tr>\n",
       "      <th>12</th>\n",
       "      <td>2024-06-03</td>\n",
       "      <td>6.0</td>\n",
       "      <td>90</td>\n",
       "      <td>0.000055</td>\n",
       "    </tr>\n",
       "    <tr>\n",
       "      <th>13</th>\n",
       "      <td>2024-06-03</td>\n",
       "      <td>7.0</td>\n",
       "      <td>90</td>\n",
       "      <td>0.000052</td>\n",
       "    </tr>\n",
       "    <tr>\n",
       "      <th>14</th>\n",
       "      <td>2024-06-04</td>\n",
       "      <td>1.0</td>\n",
       "      <td>90</td>\n",
       "      <td>0.000062</td>\n",
       "    </tr>\n",
       "    <tr>\n",
       "      <th>15</th>\n",
       "      <td>2024-06-04</td>\n",
       "      <td>2.0</td>\n",
       "      <td>90</td>\n",
       "      <td>0.000062</td>\n",
       "    </tr>\n",
       "    <tr>\n",
       "      <th>16</th>\n",
       "      <td>2024-06-04</td>\n",
       "      <td>3.0</td>\n",
       "      <td>90</td>\n",
       "      <td>0.000060</td>\n",
       "    </tr>\n",
       "    <tr>\n",
       "      <th>17</th>\n",
       "      <td>2024-06-04</td>\n",
       "      <td>4.0</td>\n",
       "      <td>90</td>\n",
       "      <td>0.000061</td>\n",
       "    </tr>\n",
       "    <tr>\n",
       "      <th>18</th>\n",
       "      <td>2024-06-04</td>\n",
       "      <td>5.0</td>\n",
       "      <td>90</td>\n",
       "      <td>0.000061</td>\n",
       "    </tr>\n",
       "    <tr>\n",
       "      <th>19</th>\n",
       "      <td>2024-06-04</td>\n",
       "      <td>6.0</td>\n",
       "      <td>90</td>\n",
       "      <td>0.000061</td>\n",
       "    </tr>\n",
       "    <tr>\n",
       "      <th>20</th>\n",
       "      <td>2024-06-04</td>\n",
       "      <td>7.0</td>\n",
       "      <td>90</td>\n",
       "      <td>0.000061</td>\n",
       "    </tr>\n",
       "    <tr>\n",
       "      <th>21</th>\n",
       "      <td>2024-06-05</td>\n",
       "      <td>1.0</td>\n",
       "      <td>90</td>\n",
       "      <td>0.000070</td>\n",
       "    </tr>\n",
       "    <tr>\n",
       "      <th>22</th>\n",
       "      <td>2024-06-05</td>\n",
       "      <td>2.0</td>\n",
       "      <td>90</td>\n",
       "      <td>0.000071</td>\n",
       "    </tr>\n",
       "    <tr>\n",
       "      <th>23</th>\n",
       "      <td>2024-06-05</td>\n",
       "      <td>3.0</td>\n",
       "      <td>90</td>\n",
       "      <td>0.000062</td>\n",
       "    </tr>\n",
       "    <tr>\n",
       "      <th>24</th>\n",
       "      <td>2024-06-05</td>\n",
       "      <td>4.0</td>\n",
       "      <td>90</td>\n",
       "      <td>0.000062</td>\n",
       "    </tr>\n",
       "    <tr>\n",
       "      <th>25</th>\n",
       "      <td>2024-06-05</td>\n",
       "      <td>5.0</td>\n",
       "      <td>90</td>\n",
       "      <td>0.000072</td>\n",
       "    </tr>\n",
       "    <tr>\n",
       "      <th>26</th>\n",
       "      <td>2024-06-05</td>\n",
       "      <td>6.0</td>\n",
       "      <td>90</td>\n",
       "      <td>0.000070</td>\n",
       "    </tr>\n",
       "    <tr>\n",
       "      <th>27</th>\n",
       "      <td>2024-06-05</td>\n",
       "      <td>7.0</td>\n",
       "      <td>90</td>\n",
       "      <td>0.000072</td>\n",
       "    </tr>\n",
       "  </tbody>\n",
       "</table>\n",
       "</div>"
      ],
      "text/plain": [
       "         time  ensemble  region  Rainf_tavg\n",
       "0  2024-06-02       1.0      90    0.000044\n",
       "1  2024-06-02       2.0      90    0.000044\n",
       "2  2024-06-02       3.0      90    0.000045\n",
       "3  2024-06-02       4.0      90    0.000045\n",
       "4  2024-06-02       5.0      90    0.000043\n",
       "5  2024-06-02       6.0      90    0.000044\n",
       "6  2024-06-02       7.0      90    0.000043\n",
       "7  2024-06-03       1.0      90    0.000055\n",
       "8  2024-06-03       2.0      90    0.000055\n",
       "9  2024-06-03       3.0      90    0.000056\n",
       "10 2024-06-03       4.0      90    0.000056\n",
       "11 2024-06-03       5.0      90    0.000052\n",
       "12 2024-06-03       6.0      90    0.000055\n",
       "13 2024-06-03       7.0      90    0.000052\n",
       "14 2024-06-04       1.0      90    0.000062\n",
       "15 2024-06-04       2.0      90    0.000062\n",
       "16 2024-06-04       3.0      90    0.000060\n",
       "17 2024-06-04       4.0      90    0.000061\n",
       "18 2024-06-04       5.0      90    0.000061\n",
       "19 2024-06-04       6.0      90    0.000061\n",
       "20 2024-06-04       7.0      90    0.000061\n",
       "21 2024-06-05       1.0      90    0.000070\n",
       "22 2024-06-05       2.0      90    0.000071\n",
       "23 2024-06-05       3.0      90    0.000062\n",
       "24 2024-06-05       4.0      90    0.000062\n",
       "25 2024-06-05       5.0      90    0.000072\n",
       "26 2024-06-05       6.0      90    0.000070\n",
       "27 2024-06-05       7.0      90    0.000072"
      ]
     },
     "execution_count": 43,
     "metadata": {},
     "output_type": "execute_result"
    }
   ],
   "source": [
    "summary = aoi_ds.groupby(\"time\").mean([\"north_south\", \"east_west\"])\n",
    "aoi_ds_summary = summary.to_dataframe().reset_index()\n",
    "aoi_ds_summary"
   ]
  },
  {
   "cell_type": "markdown",
   "metadata": {},
   "source": [
    "## Building time series with spread using boxplot"
   ]
  },
  {
   "cell_type": "code",
   "execution_count": 53,
   "metadata": {},
   "outputs": [
    {
     "data": {
      "application/vnd.plotly.v1+json": {
       "config": {
        "plotlyServerURL": "https://plot.ly"
       },
       "data": [
        {
         "alignmentgroup": "True",
         "hovertemplate": "time=%{x}<br>Rainf_tavg=%{y}<extra></extra>",
         "legendgroup": "2024-06-02 00:00:00",
         "marker": {
          "color": "#636efa"
         },
         "name": "2024-06-02 00:00:00",
         "notched": false,
         "offsetgroup": "2024-06-02 00:00:00",
         "orientation": "v",
         "showlegend": true,
         "type": "box",
         "x": [
          "2024-06-02T00:00:00",
          "2024-06-02T00:00:00",
          "2024-06-02T00:00:00",
          "2024-06-02T00:00:00",
          "2024-06-02T00:00:00",
          "2024-06-02T00:00:00",
          "2024-06-02T00:00:00"
         ],
         "x0": " ",
         "xaxis": "x",
         "y": [
          0.000044164651626488194,
          0.00004409303073771298,
          0.000045095293899066746,
          0.000045033852074993774,
          0.00004269915370969102,
          0.000044243293814361095,
          0.000042778039642143995
         ],
         "y0": " ",
         "yaxis": "y"
        },
        {
         "alignmentgroup": "True",
         "hovertemplate": "time=%{x}<br>Rainf_tavg=%{y}<extra></extra>",
         "legendgroup": "2024-06-03 00:00:00",
         "marker": {
          "color": "#EF553B"
         },
         "name": "2024-06-03 00:00:00",
         "notched": false,
         "offsetgroup": "2024-06-03 00:00:00",
         "orientation": "v",
         "showlegend": true,
         "type": "box",
         "x": [
          "2024-06-03T00:00:00",
          "2024-06-03T00:00:00",
          "2024-06-03T00:00:00",
          "2024-06-03T00:00:00",
          "2024-06-03T00:00:00",
          "2024-06-03T00:00:00",
          "2024-06-03T00:00:00"
         ],
         "x0": " ",
         "xaxis": "x",
         "y": [
          0.00005484860957949422,
          0.000054528201872017235,
          0.00005611458618659526,
          0.000056312572269234806,
          0.000051984905439894646,
          0.00005464062633109279,
          0.00005200689338380471
         ],
         "y0": " ",
         "yaxis": "y"
        },
        {
         "alignmentgroup": "True",
         "hovertemplate": "time=%{x}<br>Rainf_tavg=%{y}<extra></extra>",
         "legendgroup": "2024-06-04 00:00:00",
         "marker": {
          "color": "#00cc96"
         },
         "name": "2024-06-04 00:00:00",
         "notched": false,
         "offsetgroup": "2024-06-04 00:00:00",
         "orientation": "v",
         "showlegend": true,
         "type": "box",
         "x": [
          "2024-06-04T00:00:00",
          "2024-06-04T00:00:00",
          "2024-06-04T00:00:00",
          "2024-06-04T00:00:00",
          "2024-06-04T00:00:00",
          "2024-06-04T00:00:00",
          "2024-06-04T00:00:00"
         ],
         "x0": " ",
         "xaxis": "x",
         "y": [
          0.00006163490616017953,
          0.00006156414019642398,
          0.000059721514844568446,
          0.000060620350268436596,
          0.0000613018564763479,
          0.00006095473509049043,
          0.00006120633042883128
         ],
         "y0": " ",
         "yaxis": "y"
        },
        {
         "alignmentgroup": "True",
         "hovertemplate": "time=%{x}<br>Rainf_tavg=%{y}<extra></extra>",
         "legendgroup": "2024-06-05 00:00:00",
         "marker": {
          "color": "#ab63fa"
         },
         "name": "2024-06-05 00:00:00",
         "notched": false,
         "offsetgroup": "2024-06-05 00:00:00",
         "orientation": "v",
         "showlegend": true,
         "type": "box",
         "x": [
          "2024-06-05T00:00:00",
          "2024-06-05T00:00:00",
          "2024-06-05T00:00:00",
          "2024-06-05T00:00:00",
          "2024-06-05T00:00:00",
          "2024-06-05T00:00:00",
          "2024-06-05T00:00:00"
         ],
         "x0": " ",
         "xaxis": "x",
         "y": [
          0.00006994714931352064,
          0.0000712805413058959,
          0.00006173596193548292,
          0.00006220338400453329,
          0.00007231372728710994,
          0.00007011263369349763,
          0.0000721981268725358
         ],
         "y0": " ",
         "yaxis": "y"
        }
       ],
       "layout": {
        "boxmode": "overlay",
        "height": 800,
        "legend": {
         "title": {
          "text": "time"
         },
         "tracegroupgap": 0
        },
        "margin": {
         "t": 60
        },
        "template": {
         "data": {
          "bar": [
           {
            "error_x": {
             "color": "#2a3f5f"
            },
            "error_y": {
             "color": "#2a3f5f"
            },
            "marker": {
             "line": {
              "color": "#E5ECF6",
              "width": 0.5
             },
             "pattern": {
              "fillmode": "overlay",
              "size": 10,
              "solidity": 0.2
             }
            },
            "type": "bar"
           }
          ],
          "barpolar": [
           {
            "marker": {
             "line": {
              "color": "#E5ECF6",
              "width": 0.5
             },
             "pattern": {
              "fillmode": "overlay",
              "size": 10,
              "solidity": 0.2
             }
            },
            "type": "barpolar"
           }
          ],
          "carpet": [
           {
            "aaxis": {
             "endlinecolor": "#2a3f5f",
             "gridcolor": "white",
             "linecolor": "white",
             "minorgridcolor": "white",
             "startlinecolor": "#2a3f5f"
            },
            "baxis": {
             "endlinecolor": "#2a3f5f",
             "gridcolor": "white",
             "linecolor": "white",
             "minorgridcolor": "white",
             "startlinecolor": "#2a3f5f"
            },
            "type": "carpet"
           }
          ],
          "choropleth": [
           {
            "colorbar": {
             "outlinewidth": 0,
             "ticks": ""
            },
            "type": "choropleth"
           }
          ],
          "contour": [
           {
            "colorbar": {
             "outlinewidth": 0,
             "ticks": ""
            },
            "colorscale": [
             [
              0,
              "#0d0887"
             ],
             [
              0.1111111111111111,
              "#46039f"
             ],
             [
              0.2222222222222222,
              "#7201a8"
             ],
             [
              0.3333333333333333,
              "#9c179e"
             ],
             [
              0.4444444444444444,
              "#bd3786"
             ],
             [
              0.5555555555555556,
              "#d8576b"
             ],
             [
              0.6666666666666666,
              "#ed7953"
             ],
             [
              0.7777777777777778,
              "#fb9f3a"
             ],
             [
              0.8888888888888888,
              "#fdca26"
             ],
             [
              1,
              "#f0f921"
             ]
            ],
            "type": "contour"
           }
          ],
          "contourcarpet": [
           {
            "colorbar": {
             "outlinewidth": 0,
             "ticks": ""
            },
            "type": "contourcarpet"
           }
          ],
          "heatmap": [
           {
            "colorbar": {
             "outlinewidth": 0,
             "ticks": ""
            },
            "colorscale": [
             [
              0,
              "#0d0887"
             ],
             [
              0.1111111111111111,
              "#46039f"
             ],
             [
              0.2222222222222222,
              "#7201a8"
             ],
             [
              0.3333333333333333,
              "#9c179e"
             ],
             [
              0.4444444444444444,
              "#bd3786"
             ],
             [
              0.5555555555555556,
              "#d8576b"
             ],
             [
              0.6666666666666666,
              "#ed7953"
             ],
             [
              0.7777777777777778,
              "#fb9f3a"
             ],
             [
              0.8888888888888888,
              "#fdca26"
             ],
             [
              1,
              "#f0f921"
             ]
            ],
            "type": "heatmap"
           }
          ],
          "heatmapgl": [
           {
            "colorbar": {
             "outlinewidth": 0,
             "ticks": ""
            },
            "colorscale": [
             [
              0,
              "#0d0887"
             ],
             [
              0.1111111111111111,
              "#46039f"
             ],
             [
              0.2222222222222222,
              "#7201a8"
             ],
             [
              0.3333333333333333,
              "#9c179e"
             ],
             [
              0.4444444444444444,
              "#bd3786"
             ],
             [
              0.5555555555555556,
              "#d8576b"
             ],
             [
              0.6666666666666666,
              "#ed7953"
             ],
             [
              0.7777777777777778,
              "#fb9f3a"
             ],
             [
              0.8888888888888888,
              "#fdca26"
             ],
             [
              1,
              "#f0f921"
             ]
            ],
            "type": "heatmapgl"
           }
          ],
          "histogram": [
           {
            "marker": {
             "pattern": {
              "fillmode": "overlay",
              "size": 10,
              "solidity": 0.2
             }
            },
            "type": "histogram"
           }
          ],
          "histogram2d": [
           {
            "colorbar": {
             "outlinewidth": 0,
             "ticks": ""
            },
            "colorscale": [
             [
              0,
              "#0d0887"
             ],
             [
              0.1111111111111111,
              "#46039f"
             ],
             [
              0.2222222222222222,
              "#7201a8"
             ],
             [
              0.3333333333333333,
              "#9c179e"
             ],
             [
              0.4444444444444444,
              "#bd3786"
             ],
             [
              0.5555555555555556,
              "#d8576b"
             ],
             [
              0.6666666666666666,
              "#ed7953"
             ],
             [
              0.7777777777777778,
              "#fb9f3a"
             ],
             [
              0.8888888888888888,
              "#fdca26"
             ],
             [
              1,
              "#f0f921"
             ]
            ],
            "type": "histogram2d"
           }
          ],
          "histogram2dcontour": [
           {
            "colorbar": {
             "outlinewidth": 0,
             "ticks": ""
            },
            "colorscale": [
             [
              0,
              "#0d0887"
             ],
             [
              0.1111111111111111,
              "#46039f"
             ],
             [
              0.2222222222222222,
              "#7201a8"
             ],
             [
              0.3333333333333333,
              "#9c179e"
             ],
             [
              0.4444444444444444,
              "#bd3786"
             ],
             [
              0.5555555555555556,
              "#d8576b"
             ],
             [
              0.6666666666666666,
              "#ed7953"
             ],
             [
              0.7777777777777778,
              "#fb9f3a"
             ],
             [
              0.8888888888888888,
              "#fdca26"
             ],
             [
              1,
              "#f0f921"
             ]
            ],
            "type": "histogram2dcontour"
           }
          ],
          "mesh3d": [
           {
            "colorbar": {
             "outlinewidth": 0,
             "ticks": ""
            },
            "type": "mesh3d"
           }
          ],
          "parcoords": [
           {
            "line": {
             "colorbar": {
              "outlinewidth": 0,
              "ticks": ""
             }
            },
            "type": "parcoords"
           }
          ],
          "pie": [
           {
            "automargin": true,
            "type": "pie"
           }
          ],
          "scatter": [
           {
            "fillpattern": {
             "fillmode": "overlay",
             "size": 10,
             "solidity": 0.2
            },
            "type": "scatter"
           }
          ],
          "scatter3d": [
           {
            "line": {
             "colorbar": {
              "outlinewidth": 0,
              "ticks": ""
             }
            },
            "marker": {
             "colorbar": {
              "outlinewidth": 0,
              "ticks": ""
             }
            },
            "type": "scatter3d"
           }
          ],
          "scattercarpet": [
           {
            "marker": {
             "colorbar": {
              "outlinewidth": 0,
              "ticks": ""
             }
            },
            "type": "scattercarpet"
           }
          ],
          "scattergeo": [
           {
            "marker": {
             "colorbar": {
              "outlinewidth": 0,
              "ticks": ""
             }
            },
            "type": "scattergeo"
           }
          ],
          "scattergl": [
           {
            "marker": {
             "colorbar": {
              "outlinewidth": 0,
              "ticks": ""
             }
            },
            "type": "scattergl"
           }
          ],
          "scattermapbox": [
           {
            "marker": {
             "colorbar": {
              "outlinewidth": 0,
              "ticks": ""
             }
            },
            "type": "scattermapbox"
           }
          ],
          "scatterpolar": [
           {
            "marker": {
             "colorbar": {
              "outlinewidth": 0,
              "ticks": ""
             }
            },
            "type": "scatterpolar"
           }
          ],
          "scatterpolargl": [
           {
            "marker": {
             "colorbar": {
              "outlinewidth": 0,
              "ticks": ""
             }
            },
            "type": "scatterpolargl"
           }
          ],
          "scatterternary": [
           {
            "marker": {
             "colorbar": {
              "outlinewidth": 0,
              "ticks": ""
             }
            },
            "type": "scatterternary"
           }
          ],
          "surface": [
           {
            "colorbar": {
             "outlinewidth": 0,
             "ticks": ""
            },
            "colorscale": [
             [
              0,
              "#0d0887"
             ],
             [
              0.1111111111111111,
              "#46039f"
             ],
             [
              0.2222222222222222,
              "#7201a8"
             ],
             [
              0.3333333333333333,
              "#9c179e"
             ],
             [
              0.4444444444444444,
              "#bd3786"
             ],
             [
              0.5555555555555556,
              "#d8576b"
             ],
             [
              0.6666666666666666,
              "#ed7953"
             ],
             [
              0.7777777777777778,
              "#fb9f3a"
             ],
             [
              0.8888888888888888,
              "#fdca26"
             ],
             [
              1,
              "#f0f921"
             ]
            ],
            "type": "surface"
           }
          ],
          "table": [
           {
            "cells": {
             "fill": {
              "color": "#EBF0F8"
             },
             "line": {
              "color": "white"
             }
            },
            "header": {
             "fill": {
              "color": "#C8D4E3"
             },
             "line": {
              "color": "white"
             }
            },
            "type": "table"
           }
          ]
         },
         "layout": {
          "annotationdefaults": {
           "arrowcolor": "#2a3f5f",
           "arrowhead": 0,
           "arrowwidth": 1
          },
          "autotypenumbers": "strict",
          "coloraxis": {
           "colorbar": {
            "outlinewidth": 0,
            "ticks": ""
           }
          },
          "colorscale": {
           "diverging": [
            [
             0,
             "#8e0152"
            ],
            [
             0.1,
             "#c51b7d"
            ],
            [
             0.2,
             "#de77ae"
            ],
            [
             0.3,
             "#f1b6da"
            ],
            [
             0.4,
             "#fde0ef"
            ],
            [
             0.5,
             "#f7f7f7"
            ],
            [
             0.6,
             "#e6f5d0"
            ],
            [
             0.7,
             "#b8e186"
            ],
            [
             0.8,
             "#7fbc41"
            ],
            [
             0.9,
             "#4d9221"
            ],
            [
             1,
             "#276419"
            ]
           ],
           "sequential": [
            [
             0,
             "#0d0887"
            ],
            [
             0.1111111111111111,
             "#46039f"
            ],
            [
             0.2222222222222222,
             "#7201a8"
            ],
            [
             0.3333333333333333,
             "#9c179e"
            ],
            [
             0.4444444444444444,
             "#bd3786"
            ],
            [
             0.5555555555555556,
             "#d8576b"
            ],
            [
             0.6666666666666666,
             "#ed7953"
            ],
            [
             0.7777777777777778,
             "#fb9f3a"
            ],
            [
             0.8888888888888888,
             "#fdca26"
            ],
            [
             1,
             "#f0f921"
            ]
           ],
           "sequentialminus": [
            [
             0,
             "#0d0887"
            ],
            [
             0.1111111111111111,
             "#46039f"
            ],
            [
             0.2222222222222222,
             "#7201a8"
            ],
            [
             0.3333333333333333,
             "#9c179e"
            ],
            [
             0.4444444444444444,
             "#bd3786"
            ],
            [
             0.5555555555555556,
             "#d8576b"
            ],
            [
             0.6666666666666666,
             "#ed7953"
            ],
            [
             0.7777777777777778,
             "#fb9f3a"
            ],
            [
             0.8888888888888888,
             "#fdca26"
            ],
            [
             1,
             "#f0f921"
            ]
           ]
          },
          "colorway": [
           "#636efa",
           "#EF553B",
           "#00cc96",
           "#ab63fa",
           "#FFA15A",
           "#19d3f3",
           "#FF6692",
           "#B6E880",
           "#FF97FF",
           "#FECB52"
          ],
          "font": {
           "color": "#2a3f5f"
          },
          "geo": {
           "bgcolor": "white",
           "lakecolor": "white",
           "landcolor": "#E5ECF6",
           "showlakes": true,
           "showland": true,
           "subunitcolor": "white"
          },
          "hoverlabel": {
           "align": "left"
          },
          "hovermode": "closest",
          "mapbox": {
           "style": "light"
          },
          "paper_bgcolor": "white",
          "plot_bgcolor": "#E5ECF6",
          "polar": {
           "angularaxis": {
            "gridcolor": "white",
            "linecolor": "white",
            "ticks": ""
           },
           "bgcolor": "#E5ECF6",
           "radialaxis": {
            "gridcolor": "white",
            "linecolor": "white",
            "ticks": ""
           }
          },
          "scene": {
           "xaxis": {
            "backgroundcolor": "#E5ECF6",
            "gridcolor": "white",
            "gridwidth": 2,
            "linecolor": "white",
            "showbackground": true,
            "ticks": "",
            "zerolinecolor": "white"
           },
           "yaxis": {
            "backgroundcolor": "#E5ECF6",
            "gridcolor": "white",
            "gridwidth": 2,
            "linecolor": "white",
            "showbackground": true,
            "ticks": "",
            "zerolinecolor": "white"
           },
           "zaxis": {
            "backgroundcolor": "#E5ECF6",
            "gridcolor": "white",
            "gridwidth": 2,
            "linecolor": "white",
            "showbackground": true,
            "ticks": "",
            "zerolinecolor": "white"
           }
          },
          "shapedefaults": {
           "line": {
            "color": "#2a3f5f"
           }
          },
          "ternary": {
           "aaxis": {
            "gridcolor": "white",
            "linecolor": "white",
            "ticks": ""
           },
           "baxis": {
            "gridcolor": "white",
            "linecolor": "white",
            "ticks": ""
           },
           "bgcolor": "#E5ECF6",
           "caxis": {
            "gridcolor": "white",
            "linecolor": "white",
            "ticks": ""
           }
          },
          "title": {
           "x": 0.05
          },
          "xaxis": {
           "automargin": true,
           "gridcolor": "white",
           "linecolor": "white",
           "ticks": "",
           "title": {
            "standoff": 15
           },
           "zerolinecolor": "white",
           "zerolinewidth": 2
          },
          "yaxis": {
           "automargin": true,
           "gridcolor": "white",
           "linecolor": "white",
           "ticks": "",
           "title": {
            "standoff": 15
           },
           "zerolinecolor": "white",
           "zerolinewidth": 2
          }
         }
        },
        "title": {
         "text": "Precipitation of Region (PFAF-ID) 62297"
        },
        "width": 800,
        "xaxis": {
         "anchor": "y",
         "categoryarray": [
          "2024-06-02T00:00:00",
          "2024-06-03T00:00:00",
          "2024-06-04T00:00:00",
          "2024-06-05T00:00:00"
         ],
         "categoryorder": "array",
         "domain": [
          0,
          1
         ],
         "title": {
          "text": "time"
         }
        },
        "yaxis": {
         "anchor": "x",
         "domain": [
          0,
          1
         ],
         "title": {
          "text": "Rainf_tavg"
         }
        }
       }
      }
     },
     "metadata": {},
     "output_type": "display_data"
    }
   ],
   "source": [
    "\n",
    "fig = px.box(aoi_ds_summary, y = 'Rainf_tavg', x = 'time', color='time')\n",
    "fig.update_layout(title='Precipitation of Region (PFAF-ID) 62297', height = 800, width = 800)\n",
    "fig.show()\n",
    "\n"
   ]
  }
 ],
 "metadata": {
  "kernelspec": {
   "display_name": "base",
   "language": "python",
   "name": "python3"
  },
  "language_info": {
   "codemirror_mode": {
    "name": "ipython",
    "version": 3
   },
   "file_extension": ".py",
   "mimetype": "text/x-python",
   "name": "python",
   "nbconvert_exporter": "python",
   "pygments_lexer": "ipython3",
   "version": "3.11.7"
  }
 },
 "nbformat": 4,
 "nbformat_minor": 2
}
