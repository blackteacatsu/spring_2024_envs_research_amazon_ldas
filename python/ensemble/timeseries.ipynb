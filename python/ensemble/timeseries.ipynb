{
 "cells": [
  {
   "cell_type": "markdown",
   "metadata": {},
   "source": [
    "Description: This jupyter notebook workspace demonstrates method used of grouping mean measurement across all 7 ensemble members by regions"
   ]
  },
  {
   "cell_type": "markdown",
   "metadata": {},
   "source": [
    "## Add packages"
   ]
  },
  {
   "cell_type": "code",
   "execution_count": 2,
   "metadata": {},
   "outputs": [
    {
     "name": "stderr",
     "output_type": "stream",
     "text": [
      "c:\\Users\\Kris\\AppData\\Local\\anaconda3\\Lib\\site-packages\\paramiko\\transport.py:219: CryptographyDeprecationWarning:\n",
      "\n",
      "Blowfish has been deprecated and will be removed in a future release\n",
      "\n"
     ]
    }
   ],
   "source": [
    "# import packages\n",
    "import xarray as xr\n",
    "import geopandas as gpd\n",
    "import regionmask\n",
    "import matplotlib.pyplot as plt\n",
    "#import cartopy.crs as ccrs\n",
    "import plotly.express as px"
   ]
  },
  {
   "cell_type": "markdown",
   "metadata": {},
   "source": [
    "## Setup"
   ]
  },
  {
   "cell_type": "code",
   "execution_count": 3,
   "metadata": {},
   "outputs": [
    {
     "name": "stdout",
     "output_type": "stream",
     "text": [
      "East-West range: -82.0 to -49.0\n",
      "North-South range: -21.0 to 6.0\n",
      "[-9054007.67266785 -2376978.16229946 -5440740.11254905   671070.13011205]\n",
      "Original CRS: EPSG:3857\n",
      "Reprojected CRS: EPSG:4326\n",
      "[-81.33353475 -20.87498542 -48.875        6.01723395]\n"
     ]
    },
    {
     "data": {
      "text/html": [
       "<div><svg style=\"position: absolute; width: 0; height: 0; overflow: hidden\">\n",
       "<defs>\n",
       "<symbol id=\"icon-database\" viewBox=\"0 0 32 32\">\n",
       "<path d=\"M16 0c-8.837 0-16 2.239-16 5v4c0 2.761 7.163 5 16 5s16-2.239 16-5v-4c0-2.761-7.163-5-16-5z\"></path>\n",
       "<path d=\"M16 17c-8.837 0-16-2.239-16-5v6c0 2.761 7.163 5 16 5s16-2.239 16-5v-6c0 2.761-7.163 5-16 5z\"></path>\n",
       "<path d=\"M16 26c-8.837 0-16-2.239-16-5v6c0 2.761 7.163 5 16 5s16-2.239 16-5v-6c0 2.761-7.163 5-16 5z\"></path>\n",
       "</symbol>\n",
       "<symbol id=\"icon-file-text2\" viewBox=\"0 0 32 32\">\n",
       "<path d=\"M28.681 7.159c-0.694-0.947-1.662-2.053-2.724-3.116s-2.169-2.030-3.116-2.724c-1.612-1.182-2.393-1.319-2.841-1.319h-15.5c-1.378 0-2.5 1.121-2.5 2.5v27c0 1.378 1.122 2.5 2.5 2.5h23c1.378 0 2.5-1.122 2.5-2.5v-19.5c0-0.448-0.137-1.23-1.319-2.841zM24.543 5.457c0.959 0.959 1.712 1.825 2.268 2.543h-4.811v-4.811c0.718 0.556 1.584 1.309 2.543 2.268zM28 29.5c0 0.271-0.229 0.5-0.5 0.5h-23c-0.271 0-0.5-0.229-0.5-0.5v-27c0-0.271 0.229-0.5 0.5-0.5 0 0 15.499-0 15.5 0v7c0 0.552 0.448 1 1 1h7v19.5z\"></path>\n",
       "<path d=\"M23 26h-14c-0.552 0-1-0.448-1-1s0.448-1 1-1h14c0.552 0 1 0.448 1 1s-0.448 1-1 1z\"></path>\n",
       "<path d=\"M23 22h-14c-0.552 0-1-0.448-1-1s0.448-1 1-1h14c0.552 0 1 0.448 1 1s-0.448 1-1 1z\"></path>\n",
       "<path d=\"M23 18h-14c-0.552 0-1-0.448-1-1s0.448-1 1-1h14c0.552 0 1 0.448 1 1s-0.448 1-1 1z\"></path>\n",
       "</symbol>\n",
       "</defs>\n",
       "</svg>\n",
       "<style>/* CSS stylesheet for displaying xarray objects in jupyterlab.\n",
       " *\n",
       " */\n",
       "\n",
       ":root {\n",
       "  --xr-font-color0: var(--jp-content-font-color0, rgba(0, 0, 0, 1));\n",
       "  --xr-font-color2: var(--jp-content-font-color2, rgba(0, 0, 0, 0.54));\n",
       "  --xr-font-color3: var(--jp-content-font-color3, rgba(0, 0, 0, 0.38));\n",
       "  --xr-border-color: var(--jp-border-color2, #e0e0e0);\n",
       "  --xr-disabled-color: var(--jp-layout-color3, #bdbdbd);\n",
       "  --xr-background-color: var(--jp-layout-color0, white);\n",
       "  --xr-background-color-row-even: var(--jp-layout-color1, white);\n",
       "  --xr-background-color-row-odd: var(--jp-layout-color2, #eeeeee);\n",
       "}\n",
       "\n",
       "html[theme=dark],\n",
       "body[data-theme=dark],\n",
       "body.vscode-dark {\n",
       "  --xr-font-color0: rgba(255, 255, 255, 1);\n",
       "  --xr-font-color2: rgba(255, 255, 255, 0.54);\n",
       "  --xr-font-color3: rgba(255, 255, 255, 0.38);\n",
       "  --xr-border-color: #1F1F1F;\n",
       "  --xr-disabled-color: #515151;\n",
       "  --xr-background-color: #111111;\n",
       "  --xr-background-color-row-even: #111111;\n",
       "  --xr-background-color-row-odd: #313131;\n",
       "}\n",
       "\n",
       ".xr-wrap {\n",
       "  display: block !important;\n",
       "  min-width: 300px;\n",
       "  max-width: 700px;\n",
       "}\n",
       "\n",
       ".xr-text-repr-fallback {\n",
       "  /* fallback to plain text repr when CSS is not injected (untrusted notebook) */\n",
       "  display: none;\n",
       "}\n",
       "\n",
       ".xr-header {\n",
       "  padding-top: 6px;\n",
       "  padding-bottom: 6px;\n",
       "  margin-bottom: 4px;\n",
       "  border-bottom: solid 1px var(--xr-border-color);\n",
       "}\n",
       "\n",
       ".xr-header > div,\n",
       ".xr-header > ul {\n",
       "  display: inline;\n",
       "  margin-top: 0;\n",
       "  margin-bottom: 0;\n",
       "}\n",
       "\n",
       ".xr-obj-type,\n",
       ".xr-array-name {\n",
       "  margin-left: 2px;\n",
       "  margin-right: 10px;\n",
       "}\n",
       "\n",
       ".xr-obj-type {\n",
       "  color: var(--xr-font-color2);\n",
       "}\n",
       "\n",
       ".xr-sections {\n",
       "  padding-left: 0 !important;\n",
       "  display: grid;\n",
       "  grid-template-columns: 150px auto auto 1fr 20px 20px;\n",
       "}\n",
       "\n",
       ".xr-section-item {\n",
       "  display: contents;\n",
       "}\n",
       "\n",
       ".xr-section-item input {\n",
       "  display: none;\n",
       "}\n",
       "\n",
       ".xr-section-item input + label {\n",
       "  color: var(--xr-disabled-color);\n",
       "}\n",
       "\n",
       ".xr-section-item input:enabled + label {\n",
       "  cursor: pointer;\n",
       "  color: var(--xr-font-color2);\n",
       "}\n",
       "\n",
       ".xr-section-item input:enabled + label:hover {\n",
       "  color: var(--xr-font-color0);\n",
       "}\n",
       "\n",
       ".xr-section-summary {\n",
       "  grid-column: 1;\n",
       "  color: var(--xr-font-color2);\n",
       "  font-weight: 500;\n",
       "}\n",
       "\n",
       ".xr-section-summary > span {\n",
       "  display: inline-block;\n",
       "  padding-left: 0.5em;\n",
       "}\n",
       "\n",
       ".xr-section-summary-in:disabled + label {\n",
       "  color: var(--xr-font-color2);\n",
       "}\n",
       "\n",
       ".xr-section-summary-in + label:before {\n",
       "  display: inline-block;\n",
       "  content: '►';\n",
       "  font-size: 11px;\n",
       "  width: 15px;\n",
       "  text-align: center;\n",
       "}\n",
       "\n",
       ".xr-section-summary-in:disabled + label:before {\n",
       "  color: var(--xr-disabled-color);\n",
       "}\n",
       "\n",
       ".xr-section-summary-in:checked + label:before {\n",
       "  content: '▼';\n",
       "}\n",
       "\n",
       ".xr-section-summary-in:checked + label > span {\n",
       "  display: none;\n",
       "}\n",
       "\n",
       ".xr-section-summary,\n",
       ".xr-section-inline-details {\n",
       "  padding-top: 4px;\n",
       "  padding-bottom: 4px;\n",
       "}\n",
       "\n",
       ".xr-section-inline-details {\n",
       "  grid-column: 2 / -1;\n",
       "}\n",
       "\n",
       ".xr-section-details {\n",
       "  display: none;\n",
       "  grid-column: 1 / -1;\n",
       "  margin-bottom: 5px;\n",
       "}\n",
       "\n",
       ".xr-section-summary-in:checked ~ .xr-section-details {\n",
       "  display: contents;\n",
       "}\n",
       "\n",
       ".xr-array-wrap {\n",
       "  grid-column: 1 / -1;\n",
       "  display: grid;\n",
       "  grid-template-columns: 20px auto;\n",
       "}\n",
       "\n",
       ".xr-array-wrap > label {\n",
       "  grid-column: 1;\n",
       "  vertical-align: top;\n",
       "}\n",
       "\n",
       ".xr-preview {\n",
       "  color: var(--xr-font-color3);\n",
       "}\n",
       "\n",
       ".xr-array-preview,\n",
       ".xr-array-data {\n",
       "  padding: 0 5px !important;\n",
       "  grid-column: 2;\n",
       "}\n",
       "\n",
       ".xr-array-data,\n",
       ".xr-array-in:checked ~ .xr-array-preview {\n",
       "  display: none;\n",
       "}\n",
       "\n",
       ".xr-array-in:checked ~ .xr-array-data,\n",
       ".xr-array-preview {\n",
       "  display: inline-block;\n",
       "}\n",
       "\n",
       ".xr-dim-list {\n",
       "  display: inline-block !important;\n",
       "  list-style: none;\n",
       "  padding: 0 !important;\n",
       "  margin: 0;\n",
       "}\n",
       "\n",
       ".xr-dim-list li {\n",
       "  display: inline-block;\n",
       "  padding: 0;\n",
       "  margin: 0;\n",
       "}\n",
       "\n",
       ".xr-dim-list:before {\n",
       "  content: '(';\n",
       "}\n",
       "\n",
       ".xr-dim-list:after {\n",
       "  content: ')';\n",
       "}\n",
       "\n",
       ".xr-dim-list li:not(:last-child):after {\n",
       "  content: ',';\n",
       "  padding-right: 5px;\n",
       "}\n",
       "\n",
       ".xr-has-index {\n",
       "  font-weight: bold;\n",
       "}\n",
       "\n",
       ".xr-var-list,\n",
       ".xr-var-item {\n",
       "  display: contents;\n",
       "}\n",
       "\n",
       ".xr-var-item > div,\n",
       ".xr-var-item label,\n",
       ".xr-var-item > .xr-var-name span {\n",
       "  background-color: var(--xr-background-color-row-even);\n",
       "  margin-bottom: 0;\n",
       "}\n",
       "\n",
       ".xr-var-item > .xr-var-name:hover span {\n",
       "  padding-right: 5px;\n",
       "}\n",
       "\n",
       ".xr-var-list > li:nth-child(odd) > div,\n",
       ".xr-var-list > li:nth-child(odd) > label,\n",
       ".xr-var-list > li:nth-child(odd) > .xr-var-name span {\n",
       "  background-color: var(--xr-background-color-row-odd);\n",
       "}\n",
       "\n",
       ".xr-var-name {\n",
       "  grid-column: 1;\n",
       "}\n",
       "\n",
       ".xr-var-dims {\n",
       "  grid-column: 2;\n",
       "}\n",
       "\n",
       ".xr-var-dtype {\n",
       "  grid-column: 3;\n",
       "  text-align: right;\n",
       "  color: var(--xr-font-color2);\n",
       "}\n",
       "\n",
       ".xr-var-preview {\n",
       "  grid-column: 4;\n",
       "}\n",
       "\n",
       ".xr-index-preview {\n",
       "  grid-column: 2 / 5;\n",
       "  color: var(--xr-font-color2);\n",
       "}\n",
       "\n",
       ".xr-var-name,\n",
       ".xr-var-dims,\n",
       ".xr-var-dtype,\n",
       ".xr-preview,\n",
       ".xr-attrs dt {\n",
       "  white-space: nowrap;\n",
       "  overflow: hidden;\n",
       "  text-overflow: ellipsis;\n",
       "  padding-right: 10px;\n",
       "}\n",
       "\n",
       ".xr-var-name:hover,\n",
       ".xr-var-dims:hover,\n",
       ".xr-var-dtype:hover,\n",
       ".xr-attrs dt:hover {\n",
       "  overflow: visible;\n",
       "  width: auto;\n",
       "  z-index: 1;\n",
       "}\n",
       "\n",
       ".xr-var-attrs,\n",
       ".xr-var-data,\n",
       ".xr-index-data {\n",
       "  display: none;\n",
       "  background-color: var(--xr-background-color) !important;\n",
       "  padding-bottom: 5px !important;\n",
       "}\n",
       "\n",
       ".xr-var-attrs-in:checked ~ .xr-var-attrs,\n",
       ".xr-var-data-in:checked ~ .xr-var-data,\n",
       ".xr-index-data-in:checked ~ .xr-index-data {\n",
       "  display: block;\n",
       "}\n",
       "\n",
       ".xr-var-data > table {\n",
       "  float: right;\n",
       "}\n",
       "\n",
       ".xr-var-name span,\n",
       ".xr-var-data,\n",
       ".xr-index-name div,\n",
       ".xr-index-data,\n",
       ".xr-attrs {\n",
       "  padding-left: 25px !important;\n",
       "}\n",
       "\n",
       ".xr-attrs,\n",
       ".xr-var-attrs,\n",
       ".xr-var-data,\n",
       ".xr-index-data {\n",
       "  grid-column: 1 / -1;\n",
       "}\n",
       "\n",
       "dl.xr-attrs {\n",
       "  padding: 0;\n",
       "  margin: 0;\n",
       "  display: grid;\n",
       "  grid-template-columns: 125px auto;\n",
       "}\n",
       "\n",
       ".xr-attrs dt,\n",
       ".xr-attrs dd {\n",
       "  padding: 0;\n",
       "  margin: 0;\n",
       "  float: left;\n",
       "  padding-right: 10px;\n",
       "  width: auto;\n",
       "}\n",
       "\n",
       ".xr-attrs dt {\n",
       "  font-weight: normal;\n",
       "  grid-column: 1;\n",
       "}\n",
       "\n",
       ".xr-attrs dt:hover span {\n",
       "  display: inline-block;\n",
       "  background: var(--xr-background-color);\n",
       "  padding-right: 10px;\n",
       "}\n",
       "\n",
       ".xr-attrs dd {\n",
       "  grid-column: 2;\n",
       "  white-space: pre-wrap;\n",
       "  word-break: break-all;\n",
       "}\n",
       "\n",
       ".xr-icon-database,\n",
       ".xr-icon-file-text2,\n",
       ".xr-no-icon {\n",
       "  display: inline-block;\n",
       "  vertical-align: middle;\n",
       "  width: 1em;\n",
       "  height: 1.5em !important;\n",
       "  stroke-width: 0;\n",
       "  stroke: currentColor;\n",
       "  fill: currentColor;\n",
       "}\n",
       "</style><pre class='xr-text-repr-fallback'>&lt;xarray.Dataset&gt;\n",
       "Dimensions:           (time: 4, north_south: 540, east_west: 660, ensemble: 7,\n",
       "                       SoilMoist_profiles: 4, SoilTemp_profiles: 4)\n",
       "Coordinates:\n",
       "  * time              (time) datetime64[ns] 2024-06-02 2024-06-03 ... 2024-06-05\n",
       "  * ensemble          (ensemble) float32 1.0 2.0 3.0 4.0 5.0 6.0 7.0\n",
       "  * north_south       (north_south) float64 -21.0 -20.95 -20.9 ... 5.9 5.95 6.0\n",
       "  * east_west         (east_west) float64 -82.0 -81.95 -81.9 ... -49.05 -49.0\n",
       "Dimensions without coordinates: SoilMoist_profiles, SoilTemp_profiles\n",
       "Data variables: (12/32)\n",
       "    lat               (time, north_south) float32 ...\n",
       "    lon               (time, east_west) float32 ...\n",
       "    Swnet_tavg        (time, ensemble, north_south, east_west) float32 ...\n",
       "    Lwnet_tavg        (time, ensemble, north_south, east_west) float32 ...\n",
       "    Qle_tavg          (time, ensemble, north_south, east_west) float32 ...\n",
       "    Qh_tavg           (time, ensemble, north_south, east_west) float32 ...\n",
       "    ...                ...\n",
       "    Qair_f_tavg       (time, ensemble, north_south, east_west) float32 ...\n",
       "    Psurf_f_tavg      (time, ensemble, north_south, east_west) float32 ...\n",
       "    SWdown_f_tavg     (time, ensemble, north_south, east_west) float32 ...\n",
       "    LWdown_f_tavg     (time, ensemble, north_south, east_west) float32 ...\n",
       "    LAI_inst          (time, ensemble, north_south, east_west) float32 ...\n",
       "    Greenness_inst    (time, ensemble, north_south, east_west) float32 ...\n",
       "Attributes: (12/15)\n",
       "    missing_value:           -9999.0\n",
       "    NUM_SOIL_LAYERS:         4\n",
       "    SOIL_LAYER_THICKNESSES:  [ 10.        30.000002  60.000004 100.      ]\n",
       "    title:                   LIS land surface model output\n",
       "    institution:             NASA GSFC\n",
       "    source:                  \n",
       "    ...                      ...\n",
       "    comment:                 website: http://lis.gsfc.nasa.gov/\n",
       "    MAP_PROJECTION:          EQUIDISTANT CYLINDRICAL\n",
       "    SOUTH_WEST_CORNER_LAT:   -20.975\n",
       "    SOUTH_WEST_CORNER_LON:   -81.975\n",
       "    DX:                      0.05\n",
       "    DY:                      0.05</pre><div class='xr-wrap' style='display:none'><div class='xr-header'><div class='xr-obj-type'>xarray.Dataset</div></div><ul class='xr-sections'><li class='xr-section-item'><input id='section-16402d10-4327-4ab1-a03d-0385c785fad1' class='xr-section-summary-in' type='checkbox' disabled ><label for='section-16402d10-4327-4ab1-a03d-0385c785fad1' class='xr-section-summary'  title='Expand/collapse section'>Dimensions:</label><div class='xr-section-inline-details'><ul class='xr-dim-list'><li><span class='xr-has-index'>time</span>: 4</li><li><span class='xr-has-index'>north_south</span>: 540</li><li><span class='xr-has-index'>east_west</span>: 660</li><li><span class='xr-has-index'>ensemble</span>: 7</li><li><span>SoilMoist_profiles</span>: 4</li><li><span>SoilTemp_profiles</span>: 4</li></ul></div><div class='xr-section-details'></div></li><li class='xr-section-item'><input id='section-5074c94b-f833-4fa0-92f0-b495dbe88d64' class='xr-section-summary-in' type='checkbox'  checked><label for='section-5074c94b-f833-4fa0-92f0-b495dbe88d64' class='xr-section-summary' >Coordinates: <span>(4)</span></label><div class='xr-section-inline-details'></div><div class='xr-section-details'><ul class='xr-var-list'><li class='xr-var-item'><div class='xr-var-name'><span class='xr-has-index'>time</span></div><div class='xr-var-dims'>(time)</div><div class='xr-var-dtype'>datetime64[ns]</div><div class='xr-var-preview xr-preview'>2024-06-02 ... 2024-06-05</div><input id='attrs-a40ef22e-cfcc-4796-8cbe-0a1c0f9d7fa3' class='xr-var-attrs-in' type='checkbox' ><label for='attrs-a40ef22e-cfcc-4796-8cbe-0a1c0f9d7fa3' title='Show/Hide attributes'><svg class='icon xr-icon-file-text2'><use xlink:href='#icon-file-text2'></use></svg></label><input id='data-95cfd253-ff39-465d-8cf4-0ca488bce881' class='xr-var-data-in' type='checkbox'><label for='data-95cfd253-ff39-465d-8cf4-0ca488bce881' title='Show/Hide data repr'><svg class='icon xr-icon-database'><use xlink:href='#icon-database'></use></svg></label><div class='xr-var-attrs'><dl class='xr-attrs'><dt><span>long_name :</span></dt><dd>time</dd><dt><span>time_increment :</span></dt><dd>86400</dd><dt><span>begin_date :</span></dt><dd>20240602</dd><dt><span>begin_time :</span></dt><dd>000000</dd></dl></div><div class='xr-var-data'><pre>array([&#x27;2024-06-02T00:00:00.000000000&#x27;, &#x27;2024-06-03T00:00:00.000000000&#x27;,\n",
       "       &#x27;2024-06-04T00:00:00.000000000&#x27;, &#x27;2024-06-05T00:00:00.000000000&#x27;],\n",
       "      dtype=&#x27;datetime64[ns]&#x27;)</pre></div></li><li class='xr-var-item'><div class='xr-var-name'><span class='xr-has-index'>ensemble</span></div><div class='xr-var-dims'>(ensemble)</div><div class='xr-var-dtype'>float32</div><div class='xr-var-preview xr-preview'>1.0 2.0 3.0 4.0 5.0 6.0 7.0</div><input id='attrs-2628ee9b-0b65-44f3-b692-f4f403b01be6' class='xr-var-attrs-in' type='checkbox' ><label for='attrs-2628ee9b-0b65-44f3-b692-f4f403b01be6' title='Show/Hide attributes'><svg class='icon xr-icon-file-text2'><use xlink:href='#icon-file-text2'></use></svg></label><input id='data-254a80b3-db95-445c-866e-2a0c00635d34' class='xr-var-data-in' type='checkbox'><label for='data-254a80b3-db95-445c-866e-2a0c00635d34' title='Show/Hide data repr'><svg class='icon xr-icon-database'><use xlink:href='#icon-database'></use></svg></label><div class='xr-var-attrs'><dl class='xr-attrs'><dt><span>units :</span></dt><dd>ensemble number</dd><dt><span>long_name :</span></dt><dd>Ensemble numbers</dd></dl></div><div class='xr-var-data'><pre>array([1., 2., 3., 4., 5., 6., 7.], dtype=float32)</pre></div></li><li class='xr-var-item'><div class='xr-var-name'><span class='xr-has-index'>north_south</span></div><div class='xr-var-dims'>(north_south)</div><div class='xr-var-dtype'>float64</div><div class='xr-var-preview xr-preview'>-21.0 -20.95 -20.9 ... 5.9 5.95 6.0</div><input id='attrs-69d1d054-02f2-434d-8895-357bd11fc7f9' class='xr-var-attrs-in' type='checkbox' ><label for='attrs-69d1d054-02f2-434d-8895-357bd11fc7f9' title='Show/Hide attributes'><svg class='icon xr-icon-file-text2'><use xlink:href='#icon-file-text2'></use></svg></label><input id='data-7e8b1705-66e1-4c00-9ad7-b00275643b30' class='xr-var-data-in' type='checkbox'><label for='data-7e8b1705-66e1-4c00-9ad7-b00275643b30' title='Show/Hide data repr'><svg class='icon xr-icon-database'><use xlink:href='#icon-database'></use></svg></label><div class='xr-var-attrs'><dl class='xr-attrs'><dt><span>units :</span></dt><dd>degrees_n</dd></dl></div><div class='xr-var-data'><pre>array([-21.      , -20.949907, -20.899814, ...,   5.899814,   5.949907,\n",
       "         6.      ])</pre></div></li><li class='xr-var-item'><div class='xr-var-name'><span class='xr-has-index'>east_west</span></div><div class='xr-var-dims'>(east_west)</div><div class='xr-var-dtype'>float64</div><div class='xr-var-preview xr-preview'>-82.0 -81.95 -81.9 ... -49.05 -49.0</div><input id='attrs-dd659be4-37c1-4a3b-b130-6ce27c2ecaba' class='xr-var-attrs-in' type='checkbox' ><label for='attrs-dd659be4-37c1-4a3b-b130-6ce27c2ecaba' title='Show/Hide attributes'><svg class='icon xr-icon-file-text2'><use xlink:href='#icon-file-text2'></use></svg></label><input id='data-6baccebd-841f-4be7-9666-dffb503a0e0e' class='xr-var-data-in' type='checkbox'><label for='data-6baccebd-841f-4be7-9666-dffb503a0e0e' title='Show/Hide data repr'><svg class='icon xr-icon-database'><use xlink:href='#icon-database'></use></svg></label><div class='xr-var-attrs'><dl class='xr-attrs'><dt><span>units :</span></dt><dd>degrees_e</dd></dl></div><div class='xr-var-data'><pre>array([-82.      , -81.949924, -81.899848, ..., -49.100152, -49.050076,\n",
       "       -49.      ])</pre></div></li></ul></div></li><li class='xr-section-item'><input id='section-f923cdcd-07fe-4328-9c44-5873a80ce019' class='xr-section-summary-in' type='checkbox'  ><label for='section-f923cdcd-07fe-4328-9c44-5873a80ce019' class='xr-section-summary' >Data variables: <span>(32)</span></label><div class='xr-section-inline-details'></div><div class='xr-section-details'><ul class='xr-var-list'><li class='xr-var-item'><div class='xr-var-name'><span>lat</span></div><div class='xr-var-dims'>(time, north_south)</div><div class='xr-var-dtype'>float32</div><div class='xr-var-preview xr-preview'>...</div><input id='attrs-9f04c03f-867b-4b3b-afa3-de1e5a454f7c' class='xr-var-attrs-in' type='checkbox' ><label for='attrs-9f04c03f-867b-4b3b-afa3-de1e5a454f7c' title='Show/Hide attributes'><svg class='icon xr-icon-file-text2'><use xlink:href='#icon-file-text2'></use></svg></label><input id='data-3d846e48-99aa-4d3b-8379-7b0ed56fff05' class='xr-var-data-in' type='checkbox'><label for='data-3d846e48-99aa-4d3b-8379-7b0ed56fff05' title='Show/Hide data repr'><svg class='icon xr-icon-database'><use xlink:href='#icon-database'></use></svg></label><div class='xr-var-attrs'><dl class='xr-attrs'><dt><span>units :</span></dt><dd>degree_north</dd><dt><span>standard_name :</span></dt><dd>latitude</dd><dt><span>long_name :</span></dt><dd>latitude</dd><dt><span>vmin :</span></dt><dd>0.0</dd><dt><span>vmax :</span></dt><dd>0.0</dd></dl></div><div class='xr-var-data'><pre>[2160 values with dtype=float32]</pre></div></li><li class='xr-var-item'><div class='xr-var-name'><span>lon</span></div><div class='xr-var-dims'>(time, east_west)</div><div class='xr-var-dtype'>float32</div><div class='xr-var-preview xr-preview'>...</div><input id='attrs-1b02b39d-8c64-4f07-9165-7034a87c8dc7' class='xr-var-attrs-in' type='checkbox' ><label for='attrs-1b02b39d-8c64-4f07-9165-7034a87c8dc7' title='Show/Hide attributes'><svg class='icon xr-icon-file-text2'><use xlink:href='#icon-file-text2'></use></svg></label><input id='data-1404f7aa-89f8-4d3a-ac5a-1b0413a437eb' class='xr-var-data-in' type='checkbox'><label for='data-1404f7aa-89f8-4d3a-ac5a-1b0413a437eb' title='Show/Hide data repr'><svg class='icon xr-icon-database'><use xlink:href='#icon-database'></use></svg></label><div class='xr-var-attrs'><dl class='xr-attrs'><dt><span>units :</span></dt><dd>degree_east</dd><dt><span>standard_name :</span></dt><dd>longitude</dd><dt><span>long_name :</span></dt><dd>longitude</dd><dt><span>vmin :</span></dt><dd>0.0</dd><dt><span>vmax :</span></dt><dd>0.0</dd></dl></div><div class='xr-var-data'><pre>[2640 values with dtype=float32]</pre></div></li><li class='xr-var-item'><div class='xr-var-name'><span>Swnet_tavg</span></div><div class='xr-var-dims'>(time, ensemble, north_south, east_west)</div><div class='xr-var-dtype'>float32</div><div class='xr-var-preview xr-preview'>...</div><input id='attrs-1caa4aa1-7240-4845-88f9-8e252c900b91' class='xr-var-attrs-in' type='checkbox' ><label for='attrs-1caa4aa1-7240-4845-88f9-8e252c900b91' title='Show/Hide attributes'><svg class='icon xr-icon-file-text2'><use xlink:href='#icon-file-text2'></use></svg></label><input id='data-b06c6e9b-ff0d-40c9-907f-41c93f973348' class='xr-var-data-in' type='checkbox'><label for='data-b06c6e9b-ff0d-40c9-907f-41c93f973348' title='Show/Hide data repr'><svg class='icon xr-icon-database'><use xlink:href='#icon-database'></use></svg></label><div class='xr-var-attrs'><dl class='xr-attrs'><dt><span>units :</span></dt><dd>W m-2</dd><dt><span>standard_name :</span></dt><dd>surface_net_downward_shortwave_flux</dd><dt><span>long_name :</span></dt><dd>net downward shortwave radiation</dd><dt><span>vmin :</span></dt><dd>0.0</dd><dt><span>vmax :</span></dt><dd>0.0</dd></dl></div><div class='xr-var-data'><pre>[9979200 values with dtype=float32]</pre></div></li><li class='xr-var-item'><div class='xr-var-name'><span>Lwnet_tavg</span></div><div class='xr-var-dims'>(time, ensemble, north_south, east_west)</div><div class='xr-var-dtype'>float32</div><div class='xr-var-preview xr-preview'>...</div><input id='attrs-627527a1-f77e-4f9f-b2f6-ed11adcfd36f' class='xr-var-attrs-in' type='checkbox' ><label for='attrs-627527a1-f77e-4f9f-b2f6-ed11adcfd36f' title='Show/Hide attributes'><svg class='icon xr-icon-file-text2'><use xlink:href='#icon-file-text2'></use></svg></label><input id='data-5aa7c21a-7975-4230-bef6-be6f2bf143ae' class='xr-var-data-in' type='checkbox'><label for='data-5aa7c21a-7975-4230-bef6-be6f2bf143ae' title='Show/Hide data repr'><svg class='icon xr-icon-database'><use xlink:href='#icon-database'></use></svg></label><div class='xr-var-attrs'><dl class='xr-attrs'><dt><span>units :</span></dt><dd>W m-2</dd><dt><span>standard_name :</span></dt><dd>surface_net_downward_longwave_flux</dd><dt><span>long_name :</span></dt><dd>net downward longwave radiation</dd><dt><span>vmin :</span></dt><dd>0.0</dd><dt><span>vmax :</span></dt><dd>0.0</dd></dl></div><div class='xr-var-data'><pre>[9979200 values with dtype=float32]</pre></div></li><li class='xr-var-item'><div class='xr-var-name'><span>Qle_tavg</span></div><div class='xr-var-dims'>(time, ensemble, north_south, east_west)</div><div class='xr-var-dtype'>float32</div><div class='xr-var-preview xr-preview'>...</div><input id='attrs-f8e0032a-25bc-41e3-a896-a605fd8a615e' class='xr-var-attrs-in' type='checkbox' ><label for='attrs-f8e0032a-25bc-41e3-a896-a605fd8a615e' title='Show/Hide attributes'><svg class='icon xr-icon-file-text2'><use xlink:href='#icon-file-text2'></use></svg></label><input id='data-d1e58265-e3e4-4259-8ed7-930fd0d23d8d' class='xr-var-data-in' type='checkbox'><label for='data-d1e58265-e3e4-4259-8ed7-930fd0d23d8d' title='Show/Hide data repr'><svg class='icon xr-icon-database'><use xlink:href='#icon-database'></use></svg></label><div class='xr-var-attrs'><dl class='xr-attrs'><dt><span>units :</span></dt><dd>W m-2</dd><dt><span>standard_name :</span></dt><dd>surface_upward_latent_heat_flux</dd><dt><span>long_name :</span></dt><dd>latent heat flux</dd><dt><span>vmin :</span></dt><dd>0.0</dd><dt><span>vmax :</span></dt><dd>0.0</dd></dl></div><div class='xr-var-data'><pre>[9979200 values with dtype=float32]</pre></div></li><li class='xr-var-item'><div class='xr-var-name'><span>Qh_tavg</span></div><div class='xr-var-dims'>(time, ensemble, north_south, east_west)</div><div class='xr-var-dtype'>float32</div><div class='xr-var-preview xr-preview'>...</div><input id='attrs-18c3451d-007c-414f-a4bf-66ffdbf305c9' class='xr-var-attrs-in' type='checkbox' ><label for='attrs-18c3451d-007c-414f-a4bf-66ffdbf305c9' title='Show/Hide attributes'><svg class='icon xr-icon-file-text2'><use xlink:href='#icon-file-text2'></use></svg></label><input id='data-c3f87679-57eb-4b59-8e17-81807092a9d1' class='xr-var-data-in' type='checkbox'><label for='data-c3f87679-57eb-4b59-8e17-81807092a9d1' title='Show/Hide data repr'><svg class='icon xr-icon-database'><use xlink:href='#icon-database'></use></svg></label><div class='xr-var-attrs'><dl class='xr-attrs'><dt><span>units :</span></dt><dd>W m-2</dd><dt><span>standard_name :</span></dt><dd>surface_upward_sensible_heat_flux</dd><dt><span>long_name :</span></dt><dd>sensible heat flux</dd><dt><span>vmin :</span></dt><dd>0.0</dd><dt><span>vmax :</span></dt><dd>0.0</dd></dl></div><div class='xr-var-data'><pre>[9979200 values with dtype=float32]</pre></div></li><li class='xr-var-item'><div class='xr-var-name'><span>Qg_tavg</span></div><div class='xr-var-dims'>(time, ensemble, north_south, east_west)</div><div class='xr-var-dtype'>float32</div><div class='xr-var-preview xr-preview'>...</div><input id='attrs-40ad73cf-09f4-4309-9a8e-c988130b1621' class='xr-var-attrs-in' type='checkbox' ><label for='attrs-40ad73cf-09f4-4309-9a8e-c988130b1621' title='Show/Hide attributes'><svg class='icon xr-icon-file-text2'><use xlink:href='#icon-file-text2'></use></svg></label><input id='data-7eeb1f1e-c54d-490a-b395-a1de0b9537ff' class='xr-var-data-in' type='checkbox'><label for='data-7eeb1f1e-c54d-490a-b395-a1de0b9537ff' title='Show/Hide data repr'><svg class='icon xr-icon-database'><use xlink:href='#icon-database'></use></svg></label><div class='xr-var-attrs'><dl class='xr-attrs'><dt><span>units :</span></dt><dd>W m-2</dd><dt><span>standard_name :</span></dt><dd>downward_heat_flux_in_soil</dd><dt><span>long_name :</span></dt><dd>soil heat flux</dd><dt><span>vmin :</span></dt><dd>0.0</dd><dt><span>vmax :</span></dt><dd>0.0</dd></dl></div><div class='xr-var-data'><pre>[9979200 values with dtype=float32]</pre></div></li><li class='xr-var-item'><div class='xr-var-name'><span>Snowf_tavg</span></div><div class='xr-var-dims'>(time, ensemble, north_south, east_west)</div><div class='xr-var-dtype'>float32</div><div class='xr-var-preview xr-preview'>...</div><input id='attrs-073e8e83-86ee-4d53-b7e3-5d646bd87f91' class='xr-var-attrs-in' type='checkbox' ><label for='attrs-073e8e83-86ee-4d53-b7e3-5d646bd87f91' title='Show/Hide attributes'><svg class='icon xr-icon-file-text2'><use xlink:href='#icon-file-text2'></use></svg></label><input id='data-f1c5575d-e61c-4d23-b05c-57d4e6531461' class='xr-var-data-in' type='checkbox'><label for='data-f1c5575d-e61c-4d23-b05c-57d4e6531461' title='Show/Hide data repr'><svg class='icon xr-icon-database'><use xlink:href='#icon-database'></use></svg></label><div class='xr-var-attrs'><dl class='xr-attrs'><dt><span>units :</span></dt><dd>kg m-2 s-1</dd><dt><span>standard_name :</span></dt><dd>snowfall_rate</dd><dt><span>long_name :</span></dt><dd>snowfall rate</dd><dt><span>vmin :</span></dt><dd>0.0</dd><dt><span>vmax :</span></dt><dd>0.0</dd></dl></div><div class='xr-var-data'><pre>[9979200 values with dtype=float32]</pre></div></li><li class='xr-var-item'><div class='xr-var-name'><span>Rainf_tavg</span></div><div class='xr-var-dims'>(time, ensemble, north_south, east_west)</div><div class='xr-var-dtype'>float32</div><div class='xr-var-preview xr-preview'>...</div><input id='attrs-479d1314-5384-43d2-b9c3-49297bde3caf' class='xr-var-attrs-in' type='checkbox' ><label for='attrs-479d1314-5384-43d2-b9c3-49297bde3caf' title='Show/Hide attributes'><svg class='icon xr-icon-file-text2'><use xlink:href='#icon-file-text2'></use></svg></label><input id='data-1bd1d327-0842-4304-8785-cf59422fb717' class='xr-var-data-in' type='checkbox'><label for='data-1bd1d327-0842-4304-8785-cf59422fb717' title='Show/Hide data repr'><svg class='icon xr-icon-database'><use xlink:href='#icon-database'></use></svg></label><div class='xr-var-attrs'><dl class='xr-attrs'><dt><span>units :</span></dt><dd>kg m-2 s-1</dd><dt><span>standard_name :</span></dt><dd>precipitation_rate</dd><dt><span>long_name :</span></dt><dd>precipitation rate</dd><dt><span>vmin :</span></dt><dd>0.0</dd><dt><span>vmax :</span></dt><dd>0.0</dd></dl></div><div class='xr-var-data'><pre>[9979200 values with dtype=float32]</pre></div></li><li class='xr-var-item'><div class='xr-var-name'><span>Evap_tavg</span></div><div class='xr-var-dims'>(time, ensemble, north_south, east_west)</div><div class='xr-var-dtype'>float32</div><div class='xr-var-preview xr-preview'>...</div><input id='attrs-133883de-f3bd-4471-aa71-327ea8b756b5' class='xr-var-attrs-in' type='checkbox' ><label for='attrs-133883de-f3bd-4471-aa71-327ea8b756b5' title='Show/Hide attributes'><svg class='icon xr-icon-file-text2'><use xlink:href='#icon-file-text2'></use></svg></label><input id='data-a7271076-76e5-4107-8fbf-2c1f318623c3' class='xr-var-data-in' type='checkbox'><label for='data-a7271076-76e5-4107-8fbf-2c1f318623c3' title='Show/Hide data repr'><svg class='icon xr-icon-database'><use xlink:href='#icon-database'></use></svg></label><div class='xr-var-attrs'><dl class='xr-attrs'><dt><span>units :</span></dt><dd>kg m-2 s-1</dd><dt><span>standard_name :</span></dt><dd>total_evapotranspiration</dd><dt><span>long_name :</span></dt><dd>total evapotranspiration</dd><dt><span>vmin :</span></dt><dd>0.0</dd><dt><span>vmax :</span></dt><dd>0.0</dd></dl></div><div class='xr-var-data'><pre>[9979200 values with dtype=float32]</pre></div></li><li class='xr-var-item'><div class='xr-var-name'><span>Qs_tavg</span></div><div class='xr-var-dims'>(time, ensemble, north_south, east_west)</div><div class='xr-var-dtype'>float32</div><div class='xr-var-preview xr-preview'>...</div><input id='attrs-1a9c5d79-c99a-49c2-ad76-aa5fd4dd2d89' class='xr-var-attrs-in' type='checkbox' ><label for='attrs-1a9c5d79-c99a-49c2-ad76-aa5fd4dd2d89' title='Show/Hide attributes'><svg class='icon xr-icon-file-text2'><use xlink:href='#icon-file-text2'></use></svg></label><input id='data-a45d56af-a053-426e-a72c-02db48136c67' class='xr-var-data-in' type='checkbox'><label for='data-a45d56af-a053-426e-a72c-02db48136c67' title='Show/Hide data repr'><svg class='icon xr-icon-database'><use xlink:href='#icon-database'></use></svg></label><div class='xr-var-attrs'><dl class='xr-attrs'><dt><span>units :</span></dt><dd>kg m-2 s-1</dd><dt><span>standard_name :</span></dt><dd>surface_runoff_amount</dd><dt><span>long_name :</span></dt><dd>surface runoff</dd><dt><span>vmin :</span></dt><dd>0.0</dd><dt><span>vmax :</span></dt><dd>0.0</dd></dl></div><div class='xr-var-data'><pre>[9979200 values with dtype=float32]</pre></div></li><li class='xr-var-item'><div class='xr-var-name'><span>Qsb_tavg</span></div><div class='xr-var-dims'>(time, ensemble, north_south, east_west)</div><div class='xr-var-dtype'>float32</div><div class='xr-var-preview xr-preview'>...</div><input id='attrs-524c7944-f7f3-450b-90d9-ec089db99895' class='xr-var-attrs-in' type='checkbox' ><label for='attrs-524c7944-f7f3-450b-90d9-ec089db99895' title='Show/Hide attributes'><svg class='icon xr-icon-file-text2'><use xlink:href='#icon-file-text2'></use></svg></label><input id='data-c5a5693d-78cc-47b7-902c-2125d9a7527f' class='xr-var-data-in' type='checkbox'><label for='data-c5a5693d-78cc-47b7-902c-2125d9a7527f' title='Show/Hide data repr'><svg class='icon xr-icon-database'><use xlink:href='#icon-database'></use></svg></label><div class='xr-var-attrs'><dl class='xr-attrs'><dt><span>units :</span></dt><dd>kg m-2 s-1</dd><dt><span>standard_name :</span></dt><dd>subsurface_runoff_amount</dd><dt><span>long_name :</span></dt><dd>subsurface runoff amount</dd><dt><span>vmin :</span></dt><dd>0.0</dd><dt><span>vmax :</span></dt><dd>0.0</dd></dl></div><div class='xr-var-data'><pre>[9979200 values with dtype=float32]</pre></div></li><li class='xr-var-item'><div class='xr-var-name'><span>Qsm_tavg</span></div><div class='xr-var-dims'>(time, ensemble, north_south, east_west)</div><div class='xr-var-dtype'>float32</div><div class='xr-var-preview xr-preview'>...</div><input id='attrs-04c165d8-51ba-4877-b83d-63899f442487' class='xr-var-attrs-in' type='checkbox' ><label for='attrs-04c165d8-51ba-4877-b83d-63899f442487' title='Show/Hide attributes'><svg class='icon xr-icon-file-text2'><use xlink:href='#icon-file-text2'></use></svg></label><input id='data-77069ddf-c790-4d65-8713-5d3e5d0bcaa2' class='xr-var-data-in' type='checkbox'><label for='data-77069ddf-c790-4d65-8713-5d3e5d0bcaa2' title='Show/Hide data repr'><svg class='icon xr-icon-database'><use xlink:href='#icon-database'></use></svg></label><div class='xr-var-attrs'><dl class='xr-attrs'><dt><span>units :</span></dt><dd>kg m-2 s-1</dd><dt><span>standard_name :</span></dt><dd>snowmelt</dd><dt><span>long_name :</span></dt><dd>snowmelt</dd><dt><span>vmin :</span></dt><dd>0.0</dd><dt><span>vmax :</span></dt><dd>0.0</dd></dl></div><div class='xr-var-data'><pre>[9979200 values with dtype=float32]</pre></div></li><li class='xr-var-item'><div class='xr-var-name'><span>Albedo_inst</span></div><div class='xr-var-dims'>(time, ensemble, north_south, east_west)</div><div class='xr-var-dtype'>float32</div><div class='xr-var-preview xr-preview'>...</div><input id='attrs-5f19649f-9242-4596-a062-cf4e24470263' class='xr-var-attrs-in' type='checkbox' ><label for='attrs-5f19649f-9242-4596-a062-cf4e24470263' title='Show/Hide attributes'><svg class='icon xr-icon-file-text2'><use xlink:href='#icon-file-text2'></use></svg></label><input id='data-9c116d73-3df1-4d31-bd87-c117ca4fc982' class='xr-var-data-in' type='checkbox'><label for='data-9c116d73-3df1-4d31-bd87-c117ca4fc982' title='Show/Hide data repr'><svg class='icon xr-icon-database'><use xlink:href='#icon-database'></use></svg></label><div class='xr-var-attrs'><dl class='xr-attrs'><dt><span>units :</span></dt><dd>-</dd><dt><span>standard_name :</span></dt><dd>surface_albedo</dd><dt><span>long_name :</span></dt><dd>surface albedo</dd><dt><span>vmin :</span></dt><dd>0.0</dd><dt><span>vmax :</span></dt><dd>0.0</dd></dl></div><div class='xr-var-data'><pre>[9979200 values with dtype=float32]</pre></div></li><li class='xr-var-item'><div class='xr-var-name'><span>SWE_inst</span></div><div class='xr-var-dims'>(time, ensemble, north_south, east_west)</div><div class='xr-var-dtype'>float32</div><div class='xr-var-preview xr-preview'>...</div><input id='attrs-d72c0511-0231-4cee-b513-891e9cf320eb' class='xr-var-attrs-in' type='checkbox' ><label for='attrs-d72c0511-0231-4cee-b513-891e9cf320eb' title='Show/Hide attributes'><svg class='icon xr-icon-file-text2'><use xlink:href='#icon-file-text2'></use></svg></label><input id='data-40827d31-ab4d-4663-aaf1-5cd1b21e8cec' class='xr-var-data-in' type='checkbox'><label for='data-40827d31-ab4d-4663-aaf1-5cd1b21e8cec' title='Show/Hide data repr'><svg class='icon xr-icon-database'><use xlink:href='#icon-database'></use></svg></label><div class='xr-var-attrs'><dl class='xr-attrs'><dt><span>units :</span></dt><dd>kg m-2</dd><dt><span>standard_name :</span></dt><dd>liquid_water_content_of_surface_snow</dd><dt><span>long_name :</span></dt><dd>snow water equivalent</dd><dt><span>vmin :</span></dt><dd>0.0</dd><dt><span>vmax :</span></dt><dd>0.0</dd></dl></div><div class='xr-var-data'><pre>[9979200 values with dtype=float32]</pre></div></li><li class='xr-var-item'><div class='xr-var-name'><span>SoilMoist_inst</span></div><div class='xr-var-dims'>(time, SoilMoist_profiles, ensemble, north_south, east_west)</div><div class='xr-var-dtype'>float32</div><div class='xr-var-preview xr-preview'>...</div><input id='attrs-fd609dd5-cdfd-404a-95ac-baeab4a53bb3' class='xr-var-attrs-in' type='checkbox' ><label for='attrs-fd609dd5-cdfd-404a-95ac-baeab4a53bb3' title='Show/Hide attributes'><svg class='icon xr-icon-file-text2'><use xlink:href='#icon-file-text2'></use></svg></label><input id='data-d2fd7538-9c03-4129-a580-f08075eb00d3' class='xr-var-data-in' type='checkbox'><label for='data-d2fd7538-9c03-4129-a580-f08075eb00d3' title='Show/Hide data repr'><svg class='icon xr-icon-database'><use xlink:href='#icon-database'></use></svg></label><div class='xr-var-attrs'><dl class='xr-attrs'><dt><span>units :</span></dt><dd>m^3 m-3</dd><dt><span>standard_name :</span></dt><dd>soil_moisture_content</dd><dt><span>long_name :</span></dt><dd>soil moisture content</dd><dt><span>vmin :</span></dt><dd>0.0</dd><dt><span>vmax :</span></dt><dd>0.0</dd></dl></div><div class='xr-var-data'><pre>[39916800 values with dtype=float32]</pre></div></li><li class='xr-var-item'><div class='xr-var-name'><span>SoilTemp_inst</span></div><div class='xr-var-dims'>(time, SoilTemp_profiles, ensemble, north_south, east_west)</div><div class='xr-var-dtype'>float32</div><div class='xr-var-preview xr-preview'>...</div><input id='attrs-10568e10-aa6f-4c01-95f9-96c93f1d4e3d' class='xr-var-attrs-in' type='checkbox' ><label for='attrs-10568e10-aa6f-4c01-95f9-96c93f1d4e3d' title='Show/Hide attributes'><svg class='icon xr-icon-file-text2'><use xlink:href='#icon-file-text2'></use></svg></label><input id='data-4098915c-2cd1-4165-a9c2-4f41c709ac41' class='xr-var-data-in' type='checkbox'><label for='data-4098915c-2cd1-4165-a9c2-4f41c709ac41' title='Show/Hide data repr'><svg class='icon xr-icon-database'><use xlink:href='#icon-database'></use></svg></label><div class='xr-var-attrs'><dl class='xr-attrs'><dt><span>units :</span></dt><dd>K</dd><dt><span>standard_name :</span></dt><dd>soil_temperature</dd><dt><span>long_name :</span></dt><dd>soil temperature</dd><dt><span>vmin :</span></dt><dd>0.0</dd><dt><span>vmax :</span></dt><dd>0.0</dd></dl></div><div class='xr-var-data'><pre>[39916800 values with dtype=float32]</pre></div></li><li class='xr-var-item'><div class='xr-var-name'><span>PotEvap_tavg</span></div><div class='xr-var-dims'>(time, ensemble, north_south, east_west)</div><div class='xr-var-dtype'>float32</div><div class='xr-var-preview xr-preview'>...</div><input id='attrs-f5d1cfdd-e02a-4c8b-861b-1aed88fee728' class='xr-var-attrs-in' type='checkbox' ><label for='attrs-f5d1cfdd-e02a-4c8b-861b-1aed88fee728' title='Show/Hide attributes'><svg class='icon xr-icon-file-text2'><use xlink:href='#icon-file-text2'></use></svg></label><input id='data-553cdb67-f8ea-49c4-adce-d1fd983460f7' class='xr-var-data-in' type='checkbox'><label for='data-553cdb67-f8ea-49c4-adce-d1fd983460f7' title='Show/Hide data repr'><svg class='icon xr-icon-database'><use xlink:href='#icon-database'></use></svg></label><div class='xr-var-attrs'><dl class='xr-attrs'><dt><span>units :</span></dt><dd>kg m-2 s-1</dd><dt><span>standard_name :</span></dt><dd>potential_evapotranspiration</dd><dt><span>long_name :</span></dt><dd>potential evapotranspiration</dd><dt><span>vmin :</span></dt><dd>0.0</dd><dt><span>vmax :</span></dt><dd>0.0</dd></dl></div><div class='xr-var-data'><pre>[9979200 values with dtype=float32]</pre></div></li><li class='xr-var-item'><div class='xr-var-name'><span>ECanop_tavg</span></div><div class='xr-var-dims'>(time, ensemble, north_south, east_west)</div><div class='xr-var-dtype'>float32</div><div class='xr-var-preview xr-preview'>...</div><input id='attrs-77c9dbbf-f834-4014-9249-17fa749e3fee' class='xr-var-attrs-in' type='checkbox' ><label for='attrs-77c9dbbf-f834-4014-9249-17fa749e3fee' title='Show/Hide attributes'><svg class='icon xr-icon-file-text2'><use xlink:href='#icon-file-text2'></use></svg></label><input id='data-9b76fb57-8530-4c58-bc2a-768146bc614d' class='xr-var-data-in' type='checkbox'><label for='data-9b76fb57-8530-4c58-bc2a-768146bc614d' title='Show/Hide data repr'><svg class='icon xr-icon-database'><use xlink:href='#icon-database'></use></svg></label><div class='xr-var-attrs'><dl class='xr-attrs'><dt><span>units :</span></dt><dd>kg m-2 s-1</dd><dt><span>standard_name :</span></dt><dd>interception_evaporation</dd><dt><span>long_name :</span></dt><dd>interception evaporation</dd><dt><span>vmin :</span></dt><dd>0.0</dd><dt><span>vmax :</span></dt><dd>0.0</dd></dl></div><div class='xr-var-data'><pre>[9979200 values with dtype=float32]</pre></div></li><li class='xr-var-item'><div class='xr-var-name'><span>TVeg_tavg</span></div><div class='xr-var-dims'>(time, ensemble, north_south, east_west)</div><div class='xr-var-dtype'>float32</div><div class='xr-var-preview xr-preview'>...</div><input id='attrs-386a65c8-1804-4a93-a8c1-a28340c6b201' class='xr-var-attrs-in' type='checkbox' ><label for='attrs-386a65c8-1804-4a93-a8c1-a28340c6b201' title='Show/Hide attributes'><svg class='icon xr-icon-file-text2'><use xlink:href='#icon-file-text2'></use></svg></label><input id='data-dc5cd5da-ab2a-4e77-9857-8fb4342d846b' class='xr-var-data-in' type='checkbox'><label for='data-dc5cd5da-ab2a-4e77-9857-8fb4342d846b' title='Show/Hide data repr'><svg class='icon xr-icon-database'><use xlink:href='#icon-database'></use></svg></label><div class='xr-var-attrs'><dl class='xr-attrs'><dt><span>units :</span></dt><dd>kg m-2 s-1</dd><dt><span>standard_name :</span></dt><dd>vegetation_transpiration</dd><dt><span>long_name :</span></dt><dd>vegetation transpiration</dd><dt><span>vmin :</span></dt><dd>0.0</dd><dt><span>vmax :</span></dt><dd>0.0</dd></dl></div><div class='xr-var-data'><pre>[9979200 values with dtype=float32]</pre></div></li><li class='xr-var-item'><div class='xr-var-name'><span>ESoil_tavg</span></div><div class='xr-var-dims'>(time, ensemble, north_south, east_west)</div><div class='xr-var-dtype'>float32</div><div class='xr-var-preview xr-preview'>...</div><input id='attrs-f4a8016a-201a-4488-b3e3-1b3cbc55cf02' class='xr-var-attrs-in' type='checkbox' ><label for='attrs-f4a8016a-201a-4488-b3e3-1b3cbc55cf02' title='Show/Hide attributes'><svg class='icon xr-icon-file-text2'><use xlink:href='#icon-file-text2'></use></svg></label><input id='data-c783f1fb-0132-484e-a39e-8c27dd222c23' class='xr-var-data-in' type='checkbox'><label for='data-c783f1fb-0132-484e-a39e-8c27dd222c23' title='Show/Hide data repr'><svg class='icon xr-icon-database'><use xlink:href='#icon-database'></use></svg></label><div class='xr-var-attrs'><dl class='xr-attrs'><dt><span>units :</span></dt><dd>kg m-2 s-1</dd><dt><span>standard_name :</span></dt><dd>bare_soil_evaporation</dd><dt><span>long_name :</span></dt><dd>bare soil evaporation</dd><dt><span>vmin :</span></dt><dd>0.0</dd><dt><span>vmax :</span></dt><dd>0.0</dd></dl></div><div class='xr-var-data'><pre>[9979200 values with dtype=float32]</pre></div></li><li class='xr-var-item'><div class='xr-var-name'><span>WaterTableD_inst</span></div><div class='xr-var-dims'>(time, ensemble, north_south, east_west)</div><div class='xr-var-dtype'>float32</div><div class='xr-var-preview xr-preview'>...</div><input id='attrs-6c7df1d4-6d39-4421-9d83-e450752bb8de' class='xr-var-attrs-in' type='checkbox' ><label for='attrs-6c7df1d4-6d39-4421-9d83-e450752bb8de' title='Show/Hide attributes'><svg class='icon xr-icon-file-text2'><use xlink:href='#icon-file-text2'></use></svg></label><input id='data-f2677558-56b2-445f-8337-92a30e5cf052' class='xr-var-data-in' type='checkbox'><label for='data-f2677558-56b2-445f-8337-92a30e5cf052' title='Show/Hide data repr'><svg class='icon xr-icon-database'><use xlink:href='#icon-database'></use></svg></label><div class='xr-var-attrs'><dl class='xr-attrs'><dt><span>units :</span></dt><dd>m</dd><dt><span>standard_name :</span></dt><dd>water_table_depth</dd><dt><span>long_name :</span></dt><dd>water table depth</dd><dt><span>vmin :</span></dt><dd>0.0</dd><dt><span>vmax :</span></dt><dd>0.0</dd></dl></div><div class='xr-var-data'><pre>[9979200 values with dtype=float32]</pre></div></li><li class='xr-var-item'><div class='xr-var-name'><span>TWS_inst</span></div><div class='xr-var-dims'>(time, ensemble, north_south, east_west)</div><div class='xr-var-dtype'>float32</div><div class='xr-var-preview xr-preview'>...</div><input id='attrs-2a324bab-9bd2-4af5-8de2-c299c487273a' class='xr-var-attrs-in' type='checkbox' ><label for='attrs-2a324bab-9bd2-4af5-8de2-c299c487273a' title='Show/Hide attributes'><svg class='icon xr-icon-file-text2'><use xlink:href='#icon-file-text2'></use></svg></label><input id='data-df48cb07-a3ac-42d7-a96c-ba24e79d9510' class='xr-var-data-in' type='checkbox'><label for='data-df48cb07-a3ac-42d7-a96c-ba24e79d9510' title='Show/Hide data repr'><svg class='icon xr-icon-database'><use xlink:href='#icon-database'></use></svg></label><div class='xr-var-attrs'><dl class='xr-attrs'><dt><span>units :</span></dt><dd>mm</dd><dt><span>standard_name :</span></dt><dd>terrestrial_water_storage</dd><dt><span>long_name :</span></dt><dd>terrestrial water storage</dd><dt><span>vmin :</span></dt><dd>0.0</dd><dt><span>vmax :</span></dt><dd>0.0</dd></dl></div><div class='xr-var-data'><pre>[9979200 values with dtype=float32]</pre></div></li><li class='xr-var-item'><div class='xr-var-name'><span>GWS_inst</span></div><div class='xr-var-dims'>(time, ensemble, north_south, east_west)</div><div class='xr-var-dtype'>float32</div><div class='xr-var-preview xr-preview'>...</div><input id='attrs-93891450-0d07-4b24-b6e8-9a3925d9f956' class='xr-var-attrs-in' type='checkbox' ><label for='attrs-93891450-0d07-4b24-b6e8-9a3925d9f956' title='Show/Hide attributes'><svg class='icon xr-icon-file-text2'><use xlink:href='#icon-file-text2'></use></svg></label><input id='data-57188fa4-f9b5-4d0c-b4fd-24d8771841d8' class='xr-var-data-in' type='checkbox'><label for='data-57188fa4-f9b5-4d0c-b4fd-24d8771841d8' title='Show/Hide data repr'><svg class='icon xr-icon-database'><use xlink:href='#icon-database'></use></svg></label><div class='xr-var-attrs'><dl class='xr-attrs'><dt><span>units :</span></dt><dd>mm</dd><dt><span>standard_name :</span></dt><dd>ground_water_storage</dd><dt><span>long_name :</span></dt><dd>ground water storage</dd><dt><span>vmin :</span></dt><dd>0.0</dd><dt><span>vmax :</span></dt><dd>0.0</dd></dl></div><div class='xr-var-data'><pre>[9979200 values with dtype=float32]</pre></div></li><li class='xr-var-item'><div class='xr-var-name'><span>Wind_f_tavg</span></div><div class='xr-var-dims'>(time, ensemble, north_south, east_west)</div><div class='xr-var-dtype'>float32</div><div class='xr-var-preview xr-preview'>...</div><input id='attrs-d51499c1-2e13-4eac-b35b-1999e7bc5e4a' class='xr-var-attrs-in' type='checkbox' ><label for='attrs-d51499c1-2e13-4eac-b35b-1999e7bc5e4a' title='Show/Hide attributes'><svg class='icon xr-icon-file-text2'><use xlink:href='#icon-file-text2'></use></svg></label><input id='data-d8cc66e6-0e31-44ef-8de4-0b89d0a5c7ac' class='xr-var-data-in' type='checkbox'><label for='data-d8cc66e6-0e31-44ef-8de4-0b89d0a5c7ac' title='Show/Hide data repr'><svg class='icon xr-icon-database'><use xlink:href='#icon-database'></use></svg></label><div class='xr-var-attrs'><dl class='xr-attrs'><dt><span>units :</span></dt><dd>m s-1</dd><dt><span>standard_name :</span></dt><dd>wind_speed</dd><dt><span>long_name :</span></dt><dd>wind speed</dd><dt><span>vmin :</span></dt><dd>0.0</dd><dt><span>vmax :</span></dt><dd>0.0</dd></dl></div><div class='xr-var-data'><pre>[9979200 values with dtype=float32]</pre></div></li><li class='xr-var-item'><div class='xr-var-name'><span>Tair_f_tavg</span></div><div class='xr-var-dims'>(time, ensemble, north_south, east_west)</div><div class='xr-var-dtype'>float32</div><div class='xr-var-preview xr-preview'>...</div><input id='attrs-6b054509-5079-4669-a2a4-c1421688f3c0' class='xr-var-attrs-in' type='checkbox' ><label for='attrs-6b054509-5079-4669-a2a4-c1421688f3c0' title='Show/Hide attributes'><svg class='icon xr-icon-file-text2'><use xlink:href='#icon-file-text2'></use></svg></label><input id='data-0d4154a5-1030-4d36-9c53-cc71cdc0c46e' class='xr-var-data-in' type='checkbox'><label for='data-0d4154a5-1030-4d36-9c53-cc71cdc0c46e' title='Show/Hide data repr'><svg class='icon xr-icon-database'><use xlink:href='#icon-database'></use></svg></label><div class='xr-var-attrs'><dl class='xr-attrs'><dt><span>units :</span></dt><dd>K</dd><dt><span>standard_name :</span></dt><dd>air_temperature</dd><dt><span>long_name :</span></dt><dd>air temperature</dd><dt><span>vmin :</span></dt><dd>0.0</dd><dt><span>vmax :</span></dt><dd>0.0</dd></dl></div><div class='xr-var-data'><pre>[9979200 values with dtype=float32]</pre></div></li><li class='xr-var-item'><div class='xr-var-name'><span>Qair_f_tavg</span></div><div class='xr-var-dims'>(time, ensemble, north_south, east_west)</div><div class='xr-var-dtype'>float32</div><div class='xr-var-preview xr-preview'>...</div><input id='attrs-f3437ffb-349e-4052-b959-b5181dcfadaf' class='xr-var-attrs-in' type='checkbox' ><label for='attrs-f3437ffb-349e-4052-b959-b5181dcfadaf' title='Show/Hide attributes'><svg class='icon xr-icon-file-text2'><use xlink:href='#icon-file-text2'></use></svg></label><input id='data-95c4e7e2-25e6-419f-b0fa-0143a7484c1d' class='xr-var-data-in' type='checkbox'><label for='data-95c4e7e2-25e6-419f-b0fa-0143a7484c1d' title='Show/Hide data repr'><svg class='icon xr-icon-database'><use xlink:href='#icon-database'></use></svg></label><div class='xr-var-attrs'><dl class='xr-attrs'><dt><span>units :</span></dt><dd>kg kg-1</dd><dt><span>standard_name :</span></dt><dd>specific_humidity</dd><dt><span>long_name :</span></dt><dd>specific humidity</dd><dt><span>vmin :</span></dt><dd>0.0</dd><dt><span>vmax :</span></dt><dd>0.0</dd></dl></div><div class='xr-var-data'><pre>[9979200 values with dtype=float32]</pre></div></li><li class='xr-var-item'><div class='xr-var-name'><span>Psurf_f_tavg</span></div><div class='xr-var-dims'>(time, ensemble, north_south, east_west)</div><div class='xr-var-dtype'>float32</div><div class='xr-var-preview xr-preview'>...</div><input id='attrs-9a89f684-6176-4727-97ea-bd37caec31d3' class='xr-var-attrs-in' type='checkbox' ><label for='attrs-9a89f684-6176-4727-97ea-bd37caec31d3' title='Show/Hide attributes'><svg class='icon xr-icon-file-text2'><use xlink:href='#icon-file-text2'></use></svg></label><input id='data-ae973c88-6555-4182-a725-2c5ecffc7704' class='xr-var-data-in' type='checkbox'><label for='data-ae973c88-6555-4182-a725-2c5ecffc7704' title='Show/Hide data repr'><svg class='icon xr-icon-database'><use xlink:href='#icon-database'></use></svg></label><div class='xr-var-attrs'><dl class='xr-attrs'><dt><span>units :</span></dt><dd>Pa</dd><dt><span>standard_name :</span></dt><dd>surface_air_pressure</dd><dt><span>long_name :</span></dt><dd>surface pressure</dd><dt><span>vmin :</span></dt><dd>0.0</dd><dt><span>vmax :</span></dt><dd>0.0</dd></dl></div><div class='xr-var-data'><pre>[9979200 values with dtype=float32]</pre></div></li><li class='xr-var-item'><div class='xr-var-name'><span>SWdown_f_tavg</span></div><div class='xr-var-dims'>(time, ensemble, north_south, east_west)</div><div class='xr-var-dtype'>float32</div><div class='xr-var-preview xr-preview'>...</div><input id='attrs-269642bd-c3dc-4418-9e46-8ca1626a3e00' class='xr-var-attrs-in' type='checkbox' ><label for='attrs-269642bd-c3dc-4418-9e46-8ca1626a3e00' title='Show/Hide attributes'><svg class='icon xr-icon-file-text2'><use xlink:href='#icon-file-text2'></use></svg></label><input id='data-ebc90237-bd41-4857-9321-6f9ddbd6f49f' class='xr-var-data-in' type='checkbox'><label for='data-ebc90237-bd41-4857-9321-6f9ddbd6f49f' title='Show/Hide data repr'><svg class='icon xr-icon-database'><use xlink:href='#icon-database'></use></svg></label><div class='xr-var-attrs'><dl class='xr-attrs'><dt><span>units :</span></dt><dd>W m-2</dd><dt><span>standard_name :</span></dt><dd>surface_downwelling_shortwave_flux_in_air</dd><dt><span>long_name :</span></dt><dd>surface downward shortwave radiation</dd><dt><span>vmin :</span></dt><dd>0.0</dd><dt><span>vmax :</span></dt><dd>0.0</dd></dl></div><div class='xr-var-data'><pre>[9979200 values with dtype=float32]</pre></div></li><li class='xr-var-item'><div class='xr-var-name'><span>LWdown_f_tavg</span></div><div class='xr-var-dims'>(time, ensemble, north_south, east_west)</div><div class='xr-var-dtype'>float32</div><div class='xr-var-preview xr-preview'>...</div><input id='attrs-dd54b755-46ea-4c8d-b19a-f240354a3acd' class='xr-var-attrs-in' type='checkbox' ><label for='attrs-dd54b755-46ea-4c8d-b19a-f240354a3acd' title='Show/Hide attributes'><svg class='icon xr-icon-file-text2'><use xlink:href='#icon-file-text2'></use></svg></label><input id='data-179877b5-cc98-417b-acd3-5221e61923f9' class='xr-var-data-in' type='checkbox'><label for='data-179877b5-cc98-417b-acd3-5221e61923f9' title='Show/Hide data repr'><svg class='icon xr-icon-database'><use xlink:href='#icon-database'></use></svg></label><div class='xr-var-attrs'><dl class='xr-attrs'><dt><span>units :</span></dt><dd>W m-2</dd><dt><span>standard_name :</span></dt><dd>surface_downwelling_longwave_flux_in_air</dd><dt><span>long_name :</span></dt><dd>surface downward longwave radiation</dd><dt><span>vmin :</span></dt><dd>0.0</dd><dt><span>vmax :</span></dt><dd>0.0</dd></dl></div><div class='xr-var-data'><pre>[9979200 values with dtype=float32]</pre></div></li><li class='xr-var-item'><div class='xr-var-name'><span>LAI_inst</span></div><div class='xr-var-dims'>(time, ensemble, north_south, east_west)</div><div class='xr-var-dtype'>float32</div><div class='xr-var-preview xr-preview'>...</div><input id='attrs-ef73556b-b656-4e77-8e28-7fd25deb758b' class='xr-var-attrs-in' type='checkbox' ><label for='attrs-ef73556b-b656-4e77-8e28-7fd25deb758b' title='Show/Hide attributes'><svg class='icon xr-icon-file-text2'><use xlink:href='#icon-file-text2'></use></svg></label><input id='data-7aeeb604-d880-4322-b3ae-220ed88daca3' class='xr-var-data-in' type='checkbox'><label for='data-7aeeb604-d880-4322-b3ae-220ed88daca3' title='Show/Hide data repr'><svg class='icon xr-icon-database'><use xlink:href='#icon-database'></use></svg></label><div class='xr-var-attrs'><dl class='xr-attrs'><dt><span>units :</span></dt><dd>-</dd><dt><span>standard_name :</span></dt><dd>leaf_area_index</dd><dt><span>long_name :</span></dt><dd>leaf area index</dd><dt><span>vmin :</span></dt><dd>0.0</dd><dt><span>vmax :</span></dt><dd>0.0</dd></dl></div><div class='xr-var-data'><pre>[9979200 values with dtype=float32]</pre></div></li><li class='xr-var-item'><div class='xr-var-name'><span>Greenness_inst</span></div><div class='xr-var-dims'>(time, ensemble, north_south, east_west)</div><div class='xr-var-dtype'>float32</div><div class='xr-var-preview xr-preview'>...</div><input id='attrs-ce0fc8e5-8ea7-4bd2-a1b1-5cfb49d83f40' class='xr-var-attrs-in' type='checkbox' ><label for='attrs-ce0fc8e5-8ea7-4bd2-a1b1-5cfb49d83f40' title='Show/Hide attributes'><svg class='icon xr-icon-file-text2'><use xlink:href='#icon-file-text2'></use></svg></label><input id='data-797e4dd5-d090-4d96-8295-00061e21bc94' class='xr-var-data-in' type='checkbox'><label for='data-797e4dd5-d090-4d96-8295-00061e21bc94' title='Show/Hide data repr'><svg class='icon xr-icon-database'><use xlink:href='#icon-database'></use></svg></label><div class='xr-var-attrs'><dl class='xr-attrs'><dt><span>units :</span></dt><dd>-</dd><dt><span>standard_name :</span></dt><dd>green_vegetation_fraction</dd><dt><span>long_name :</span></dt><dd>green vegetation fraction</dd><dt><span>vmin :</span></dt><dd>0.0</dd><dt><span>vmax :</span></dt><dd>0.0</dd></dl></div><div class='xr-var-data'><pre>[9979200 values with dtype=float32]</pre></div></li></ul></div></li><li class='xr-section-item'><input id='section-8e6922d7-2403-4f92-8660-d3f62b3bb376' class='xr-section-summary-in' type='checkbox'  ><label for='section-8e6922d7-2403-4f92-8660-d3f62b3bb376' class='xr-section-summary' >Indexes: <span>(4)</span></label><div class='xr-section-inline-details'></div><div class='xr-section-details'><ul class='xr-var-list'><li class='xr-var-item'><div class='xr-index-name'><div>time</div></div><div class='xr-index-preview'>PandasIndex</div><div></div><input id='index-46d1210f-69c6-429a-9dcc-2da83dfeab16' class='xr-index-data-in' type='checkbox'/><label for='index-46d1210f-69c6-429a-9dcc-2da83dfeab16' title='Show/Hide index repr'><svg class='icon xr-icon-database'><use xlink:href='#icon-database'></use></svg></label><div class='xr-index-data'><pre>PandasIndex(DatetimeIndex([&#x27;2024-06-02&#x27;, &#x27;2024-06-03&#x27;, &#x27;2024-06-04&#x27;, &#x27;2024-06-05&#x27;], dtype=&#x27;datetime64[ns]&#x27;, name=&#x27;time&#x27;, freq=None))</pre></div></li><li class='xr-var-item'><div class='xr-index-name'><div>ensemble</div></div><div class='xr-index-preview'>PandasIndex</div><div></div><input id='index-dfe80687-8c84-4e60-a4fe-d793cfd47c18' class='xr-index-data-in' type='checkbox'/><label for='index-dfe80687-8c84-4e60-a4fe-d793cfd47c18' title='Show/Hide index repr'><svg class='icon xr-icon-database'><use xlink:href='#icon-database'></use></svg></label><div class='xr-index-data'><pre>PandasIndex(Index([1.0, 2.0, 3.0, 4.0, 5.0, 6.0, 7.0], dtype=&#x27;float32&#x27;, name=&#x27;ensemble&#x27;))</pre></div></li><li class='xr-var-item'><div class='xr-index-name'><div>north_south</div></div><div class='xr-index-preview'>PandasIndex</div><div></div><input id='index-5058168c-ad5f-4317-8f74-348a95ddb5bc' class='xr-index-data-in' type='checkbox'/><label for='index-5058168c-ad5f-4317-8f74-348a95ddb5bc' title='Show/Hide index repr'><svg class='icon xr-icon-database'><use xlink:href='#icon-database'></use></svg></label><div class='xr-index-data'><pre>PandasIndex(Index([              -21.0,  -20.94990723562152, -20.899814471243044,\n",
       "       -20.849721706864564, -20.799628942486084, -20.749536178107608,\n",
       "       -20.699443413729128, -20.649350649350648,  -20.59925788497217,\n",
       "       -20.549165120593692,\n",
       "       ...\n",
       "         5.549165120593692,   5.599257884972172,   5.649350649350648,\n",
       "         5.699443413729128,   5.749536178107608,   5.799628942486084,\n",
       "         5.849721706864564,   5.899814471243044,    5.94990723562152,\n",
       "                       6.0],\n",
       "      dtype=&#x27;float64&#x27;, name=&#x27;north_south&#x27;, length=540))</pre></div></li><li class='xr-var-item'><div class='xr-index-name'><div>east_west</div></div><div class='xr-index-preview'>PandasIndex</div><div></div><input id='index-ad0d6ac1-9500-438f-8363-b76720c8d238' class='xr-index-data-in' type='checkbox'/><label for='index-ad0d6ac1-9500-438f-8363-b76720c8d238' title='Show/Hide index repr'><svg class='icon xr-icon-database'><use xlink:href='#icon-database'></use></svg></label><div class='xr-index-data'><pre>PandasIndex(Index([              -82.0,  -81.94992412746586,  -81.89984825493171,\n",
       "        -81.84977238239757,  -81.79969650986342,  -81.74962063732929,\n",
       "        -81.69954476479515,    -81.649468892261,  -81.59939301972686,\n",
       "        -81.54931714719271,\n",
       "       ...\n",
       "        -49.45068285280728,  -49.40060698027314,    -49.350531107739,\n",
       "        -49.30045523520486, -49.250379362670714,  -49.20030349013657,\n",
       "       -49.150227617602425,  -49.10015174506829, -49.050075872534144,\n",
       "                     -49.0],\n",
       "      dtype=&#x27;float64&#x27;, name=&#x27;east_west&#x27;, length=660))</pre></div></li></ul></div></li><li class='xr-section-item'><input id='section-7a191b3b-3507-4c0d-b5d6-f7af7506b3e1' class='xr-section-summary-in' type='checkbox'  ><label for='section-7a191b3b-3507-4c0d-b5d6-f7af7506b3e1' class='xr-section-summary' >Attributes: <span>(15)</span></label><div class='xr-section-inline-details'></div><div class='xr-section-details'><dl class='xr-attrs'><dt><span>missing_value :</span></dt><dd>-9999.0</dd><dt><span>NUM_SOIL_LAYERS :</span></dt><dd>4</dd><dt><span>SOIL_LAYER_THICKNESSES :</span></dt><dd>[ 10.        30.000002  60.000004 100.      ]</dd><dt><span>title :</span></dt><dd>LIS land surface model output</dd><dt><span>institution :</span></dt><dd>NASA GSFC</dd><dt><span>source :</span></dt><dd></dd><dt><span>history :</span></dt><dd>created on date: 2024-07-19T16:14:29.210</dd><dt><span>references :</span></dt><dd>Kumar_etal_EMS_2006, Peters-Lidard_etal_ISSE_2007</dd><dt><span>conventions :</span></dt><dd>CF-1.6</dd><dt><span>comment :</span></dt><dd>website: http://lis.gsfc.nasa.gov/</dd><dt><span>MAP_PROJECTION :</span></dt><dd>EQUIDISTANT CYLINDRICAL</dd><dt><span>SOUTH_WEST_CORNER_LAT :</span></dt><dd>-20.975</dd><dt><span>SOUTH_WEST_CORNER_LON :</span></dt><dd>-81.975</dd><dt><span>DX :</span></dt><dd>0.05</dd><dt><span>DY :</span></dt><dd>0.05</dd></dl></div></li></ul></div></div>"
      ],
      "text/plain": [
       "<xarray.Dataset>\n",
       "Dimensions:           (time: 4, north_south: 540, east_west: 660, ensemble: 7,\n",
       "                       SoilMoist_profiles: 4, SoilTemp_profiles: 4)\n",
       "Coordinates:\n",
       "  * time              (time) datetime64[ns] 2024-06-02 2024-06-03 ... 2024-06-05\n",
       "  * ensemble          (ensemble) float32 1.0 2.0 3.0 4.0 5.0 6.0 7.0\n",
       "  * north_south       (north_south) float64 -21.0 -20.95 -20.9 ... 5.9 5.95 6.0\n",
       "  * east_west         (east_west) float64 -82.0 -81.95 -81.9 ... -49.05 -49.0\n",
       "Dimensions without coordinates: SoilMoist_profiles, SoilTemp_profiles\n",
       "Data variables: (12/32)\n",
       "    lat               (time, north_south) float32 ...\n",
       "    lon               (time, east_west) float32 ...\n",
       "    Swnet_tavg        (time, ensemble, north_south, east_west) float32 ...\n",
       "    Lwnet_tavg        (time, ensemble, north_south, east_west) float32 ...\n",
       "    Qle_tavg          (time, ensemble, north_south, east_west) float32 ...\n",
       "    Qh_tavg           (time, ensemble, north_south, east_west) float32 ...\n",
       "    ...                ...\n",
       "    Qair_f_tavg       (time, ensemble, north_south, east_west) float32 ...\n",
       "    Psurf_f_tavg      (time, ensemble, north_south, east_west) float32 ...\n",
       "    SWdown_f_tavg     (time, ensemble, north_south, east_west) float32 ...\n",
       "    LWdown_f_tavg     (time, ensemble, north_south, east_west) float32 ...\n",
       "    LAI_inst          (time, ensemble, north_south, east_west) float32 ...\n",
       "    Greenness_inst    (time, ensemble, north_south, east_west) float32 ...\n",
       "Attributes: (12/15)\n",
       "    missing_value:           -9999.0\n",
       "    NUM_SOIL_LAYERS:         4\n",
       "    SOIL_LAYER_THICKNESSES:  [ 10.        30.000002  60.000004 100.      ]\n",
       "    title:                   LIS land surface model output\n",
       "    institution:             NASA GSFC\n",
       "    source:                  \n",
       "    ...                      ...\n",
       "    comment:                 website: http://lis.gsfc.nasa.gov/\n",
       "    MAP_PROJECTION:          EQUIDISTANT CYLINDRICAL\n",
       "    SOUTH_WEST_CORNER_LAT:   -20.975\n",
       "    SOUTH_WEST_CORNER_LON:   -81.975\n",
       "    DX:                      0.05\n",
       "    DY:                      0.05"
      ]
     },
     "execution_count": 3,
     "metadata": {},
     "output_type": "execute_result"
    }
   ],
   "source": [
    "# Define shape file location\n",
    "shp_location = r\"C:\\Users\\Kris\\Documents\\amazonforcast\\gisfiles\\hydrobasins shape\\hybas_sa_lev05_areaofstudy.shp\"\n",
    "# Define netCDF file location\n",
    "ds_location = r\"C:\\Users\\Kris\\Documents\\amazonforcast\\data\\prakrut\\output\\LIS_HIST_Forecast_June_02_to_05.nc\"\n",
    "\n",
    "# .shp file loader\n",
    "hybas_sa_lev05 = gpd.read_file(shp_location)\n",
    "# netcdf file loader\n",
    "ds = xr.open_dataset(ds_location)\n",
    "\n",
    "# Reproject current crs of gdf to epsg 4326\n",
    "print(f\"East-West range: {ds.east_west.min().item()} to {ds.east_west.max().item()}\")\n",
    "print(f\"North-South range: {ds.north_south.min().item()} to {ds.north_south.max().item()}\")\n",
    "\n",
    "print(hybas_sa_lev05.total_bounds)  # This will print the bounds of the regions in your GeoDataFrame\n",
    "\n",
    "# Print current CRS of the GeoDataFrame\n",
    "print(f\"Original CRS: {hybas_sa_lev05.crs}\")\n",
    "\n",
    "# Reproject to WGS84 (latitude and longitude)\n",
    "hybas_sa_lev05 = hybas_sa_lev05.to_crs(epsg=4326)\n",
    "\n",
    "# Print new CRS to confirm\n",
    "print(f\"Reprojected CRS: {hybas_sa_lev05.crs}\")\n",
    "\n",
    "# Check the bounds again after reprojection\n",
    "print(hybas_sa_lev05.total_bounds)\n",
    "\n",
    "ds # get info about netcdf file\n"
   ]
  },
  {
   "cell_type": "code",
   "execution_count": 4,
   "metadata": {},
   "outputs": [
    {
     "data": {
      "text/html": [
       "<div><svg style=\"position: absolute; width: 0; height: 0; overflow: hidden\">\n",
       "<defs>\n",
       "<symbol id=\"icon-database\" viewBox=\"0 0 32 32\">\n",
       "<path d=\"M16 0c-8.837 0-16 2.239-16 5v4c0 2.761 7.163 5 16 5s16-2.239 16-5v-4c0-2.761-7.163-5-16-5z\"></path>\n",
       "<path d=\"M16 17c-8.837 0-16-2.239-16-5v6c0 2.761 7.163 5 16 5s16-2.239 16-5v-6c0 2.761-7.163 5-16 5z\"></path>\n",
       "<path d=\"M16 26c-8.837 0-16-2.239-16-5v6c0 2.761 7.163 5 16 5s16-2.239 16-5v-6c0 2.761-7.163 5-16 5z\"></path>\n",
       "</symbol>\n",
       "<symbol id=\"icon-file-text2\" viewBox=\"0 0 32 32\">\n",
       "<path d=\"M28.681 7.159c-0.694-0.947-1.662-2.053-2.724-3.116s-2.169-2.030-3.116-2.724c-1.612-1.182-2.393-1.319-2.841-1.319h-15.5c-1.378 0-2.5 1.121-2.5 2.5v27c0 1.378 1.122 2.5 2.5 2.5h23c1.378 0 2.5-1.122 2.5-2.5v-19.5c0-0.448-0.137-1.23-1.319-2.841zM24.543 5.457c0.959 0.959 1.712 1.825 2.268 2.543h-4.811v-4.811c0.718 0.556 1.584 1.309 2.543 2.268zM28 29.5c0 0.271-0.229 0.5-0.5 0.5h-23c-0.271 0-0.5-0.229-0.5-0.5v-27c0-0.271 0.229-0.5 0.5-0.5 0 0 15.499-0 15.5 0v7c0 0.552 0.448 1 1 1h7v19.5z\"></path>\n",
       "<path d=\"M23 26h-14c-0.552 0-1-0.448-1-1s0.448-1 1-1h14c0.552 0 1 0.448 1 1s-0.448 1-1 1z\"></path>\n",
       "<path d=\"M23 22h-14c-0.552 0-1-0.448-1-1s0.448-1 1-1h14c0.552 0 1 0.448 1 1s-0.448 1-1 1z\"></path>\n",
       "<path d=\"M23 18h-14c-0.552 0-1-0.448-1-1s0.448-1 1-1h14c0.552 0 1 0.448 1 1s-0.448 1-1 1z\"></path>\n",
       "</symbol>\n",
       "</defs>\n",
       "</svg>\n",
       "<style>/* CSS stylesheet for displaying xarray objects in jupyterlab.\n",
       " *\n",
       " */\n",
       "\n",
       ":root {\n",
       "  --xr-font-color0: var(--jp-content-font-color0, rgba(0, 0, 0, 1));\n",
       "  --xr-font-color2: var(--jp-content-font-color2, rgba(0, 0, 0, 0.54));\n",
       "  --xr-font-color3: var(--jp-content-font-color3, rgba(0, 0, 0, 0.38));\n",
       "  --xr-border-color: var(--jp-border-color2, #e0e0e0);\n",
       "  --xr-disabled-color: var(--jp-layout-color3, #bdbdbd);\n",
       "  --xr-background-color: var(--jp-layout-color0, white);\n",
       "  --xr-background-color-row-even: var(--jp-layout-color1, white);\n",
       "  --xr-background-color-row-odd: var(--jp-layout-color2, #eeeeee);\n",
       "}\n",
       "\n",
       "html[theme=dark],\n",
       "body[data-theme=dark],\n",
       "body.vscode-dark {\n",
       "  --xr-font-color0: rgba(255, 255, 255, 1);\n",
       "  --xr-font-color2: rgba(255, 255, 255, 0.54);\n",
       "  --xr-font-color3: rgba(255, 255, 255, 0.38);\n",
       "  --xr-border-color: #1F1F1F;\n",
       "  --xr-disabled-color: #515151;\n",
       "  --xr-background-color: #111111;\n",
       "  --xr-background-color-row-even: #111111;\n",
       "  --xr-background-color-row-odd: #313131;\n",
       "}\n",
       "\n",
       ".xr-wrap {\n",
       "  display: block !important;\n",
       "  min-width: 300px;\n",
       "  max-width: 700px;\n",
       "}\n",
       "\n",
       ".xr-text-repr-fallback {\n",
       "  /* fallback to plain text repr when CSS is not injected (untrusted notebook) */\n",
       "  display: none;\n",
       "}\n",
       "\n",
       ".xr-header {\n",
       "  padding-top: 6px;\n",
       "  padding-bottom: 6px;\n",
       "  margin-bottom: 4px;\n",
       "  border-bottom: solid 1px var(--xr-border-color);\n",
       "}\n",
       "\n",
       ".xr-header > div,\n",
       ".xr-header > ul {\n",
       "  display: inline;\n",
       "  margin-top: 0;\n",
       "  margin-bottom: 0;\n",
       "}\n",
       "\n",
       ".xr-obj-type,\n",
       ".xr-array-name {\n",
       "  margin-left: 2px;\n",
       "  margin-right: 10px;\n",
       "}\n",
       "\n",
       ".xr-obj-type {\n",
       "  color: var(--xr-font-color2);\n",
       "}\n",
       "\n",
       ".xr-sections {\n",
       "  padding-left: 0 !important;\n",
       "  display: grid;\n",
       "  grid-template-columns: 150px auto auto 1fr 20px 20px;\n",
       "}\n",
       "\n",
       ".xr-section-item {\n",
       "  display: contents;\n",
       "}\n",
       "\n",
       ".xr-section-item input {\n",
       "  display: none;\n",
       "}\n",
       "\n",
       ".xr-section-item input + label {\n",
       "  color: var(--xr-disabled-color);\n",
       "}\n",
       "\n",
       ".xr-section-item input:enabled + label {\n",
       "  cursor: pointer;\n",
       "  color: var(--xr-font-color2);\n",
       "}\n",
       "\n",
       ".xr-section-item input:enabled + label:hover {\n",
       "  color: var(--xr-font-color0);\n",
       "}\n",
       "\n",
       ".xr-section-summary {\n",
       "  grid-column: 1;\n",
       "  color: var(--xr-font-color2);\n",
       "  font-weight: 500;\n",
       "}\n",
       "\n",
       ".xr-section-summary > span {\n",
       "  display: inline-block;\n",
       "  padding-left: 0.5em;\n",
       "}\n",
       "\n",
       ".xr-section-summary-in:disabled + label {\n",
       "  color: var(--xr-font-color2);\n",
       "}\n",
       "\n",
       ".xr-section-summary-in + label:before {\n",
       "  display: inline-block;\n",
       "  content: '►';\n",
       "  font-size: 11px;\n",
       "  width: 15px;\n",
       "  text-align: center;\n",
       "}\n",
       "\n",
       ".xr-section-summary-in:disabled + label:before {\n",
       "  color: var(--xr-disabled-color);\n",
       "}\n",
       "\n",
       ".xr-section-summary-in:checked + label:before {\n",
       "  content: '▼';\n",
       "}\n",
       "\n",
       ".xr-section-summary-in:checked + label > span {\n",
       "  display: none;\n",
       "}\n",
       "\n",
       ".xr-section-summary,\n",
       ".xr-section-inline-details {\n",
       "  padding-top: 4px;\n",
       "  padding-bottom: 4px;\n",
       "}\n",
       "\n",
       ".xr-section-inline-details {\n",
       "  grid-column: 2 / -1;\n",
       "}\n",
       "\n",
       ".xr-section-details {\n",
       "  display: none;\n",
       "  grid-column: 1 / -1;\n",
       "  margin-bottom: 5px;\n",
       "}\n",
       "\n",
       ".xr-section-summary-in:checked ~ .xr-section-details {\n",
       "  display: contents;\n",
       "}\n",
       "\n",
       ".xr-array-wrap {\n",
       "  grid-column: 1 / -1;\n",
       "  display: grid;\n",
       "  grid-template-columns: 20px auto;\n",
       "}\n",
       "\n",
       ".xr-array-wrap > label {\n",
       "  grid-column: 1;\n",
       "  vertical-align: top;\n",
       "}\n",
       "\n",
       ".xr-preview {\n",
       "  color: var(--xr-font-color3);\n",
       "}\n",
       "\n",
       ".xr-array-preview,\n",
       ".xr-array-data {\n",
       "  padding: 0 5px !important;\n",
       "  grid-column: 2;\n",
       "}\n",
       "\n",
       ".xr-array-data,\n",
       ".xr-array-in:checked ~ .xr-array-preview {\n",
       "  display: none;\n",
       "}\n",
       "\n",
       ".xr-array-in:checked ~ .xr-array-data,\n",
       ".xr-array-preview {\n",
       "  display: inline-block;\n",
       "}\n",
       "\n",
       ".xr-dim-list {\n",
       "  display: inline-block !important;\n",
       "  list-style: none;\n",
       "  padding: 0 !important;\n",
       "  margin: 0;\n",
       "}\n",
       "\n",
       ".xr-dim-list li {\n",
       "  display: inline-block;\n",
       "  padding: 0;\n",
       "  margin: 0;\n",
       "}\n",
       "\n",
       ".xr-dim-list:before {\n",
       "  content: '(';\n",
       "}\n",
       "\n",
       ".xr-dim-list:after {\n",
       "  content: ')';\n",
       "}\n",
       "\n",
       ".xr-dim-list li:not(:last-child):after {\n",
       "  content: ',';\n",
       "  padding-right: 5px;\n",
       "}\n",
       "\n",
       ".xr-has-index {\n",
       "  font-weight: bold;\n",
       "}\n",
       "\n",
       ".xr-var-list,\n",
       ".xr-var-item {\n",
       "  display: contents;\n",
       "}\n",
       "\n",
       ".xr-var-item > div,\n",
       ".xr-var-item label,\n",
       ".xr-var-item > .xr-var-name span {\n",
       "  background-color: var(--xr-background-color-row-even);\n",
       "  margin-bottom: 0;\n",
       "}\n",
       "\n",
       ".xr-var-item > .xr-var-name:hover span {\n",
       "  padding-right: 5px;\n",
       "}\n",
       "\n",
       ".xr-var-list > li:nth-child(odd) > div,\n",
       ".xr-var-list > li:nth-child(odd) > label,\n",
       ".xr-var-list > li:nth-child(odd) > .xr-var-name span {\n",
       "  background-color: var(--xr-background-color-row-odd);\n",
       "}\n",
       "\n",
       ".xr-var-name {\n",
       "  grid-column: 1;\n",
       "}\n",
       "\n",
       ".xr-var-dims {\n",
       "  grid-column: 2;\n",
       "}\n",
       "\n",
       ".xr-var-dtype {\n",
       "  grid-column: 3;\n",
       "  text-align: right;\n",
       "  color: var(--xr-font-color2);\n",
       "}\n",
       "\n",
       ".xr-var-preview {\n",
       "  grid-column: 4;\n",
       "}\n",
       "\n",
       ".xr-index-preview {\n",
       "  grid-column: 2 / 5;\n",
       "  color: var(--xr-font-color2);\n",
       "}\n",
       "\n",
       ".xr-var-name,\n",
       ".xr-var-dims,\n",
       ".xr-var-dtype,\n",
       ".xr-preview,\n",
       ".xr-attrs dt {\n",
       "  white-space: nowrap;\n",
       "  overflow: hidden;\n",
       "  text-overflow: ellipsis;\n",
       "  padding-right: 10px;\n",
       "}\n",
       "\n",
       ".xr-var-name:hover,\n",
       ".xr-var-dims:hover,\n",
       ".xr-var-dtype:hover,\n",
       ".xr-attrs dt:hover {\n",
       "  overflow: visible;\n",
       "  width: auto;\n",
       "  z-index: 1;\n",
       "}\n",
       "\n",
       ".xr-var-attrs,\n",
       ".xr-var-data,\n",
       ".xr-index-data {\n",
       "  display: none;\n",
       "  background-color: var(--xr-background-color) !important;\n",
       "  padding-bottom: 5px !important;\n",
       "}\n",
       "\n",
       ".xr-var-attrs-in:checked ~ .xr-var-attrs,\n",
       ".xr-var-data-in:checked ~ .xr-var-data,\n",
       ".xr-index-data-in:checked ~ .xr-index-data {\n",
       "  display: block;\n",
       "}\n",
       "\n",
       ".xr-var-data > table {\n",
       "  float: right;\n",
       "}\n",
       "\n",
       ".xr-var-name span,\n",
       ".xr-var-data,\n",
       ".xr-index-name div,\n",
       ".xr-index-data,\n",
       ".xr-attrs {\n",
       "  padding-left: 25px !important;\n",
       "}\n",
       "\n",
       ".xr-attrs,\n",
       ".xr-var-attrs,\n",
       ".xr-var-data,\n",
       ".xr-index-data {\n",
       "  grid-column: 1 / -1;\n",
       "}\n",
       "\n",
       "dl.xr-attrs {\n",
       "  padding: 0;\n",
       "  margin: 0;\n",
       "  display: grid;\n",
       "  grid-template-columns: 125px auto;\n",
       "}\n",
       "\n",
       ".xr-attrs dt,\n",
       ".xr-attrs dd {\n",
       "  padding: 0;\n",
       "  margin: 0;\n",
       "  float: left;\n",
       "  padding-right: 10px;\n",
       "  width: auto;\n",
       "}\n",
       "\n",
       ".xr-attrs dt {\n",
       "  font-weight: normal;\n",
       "  grid-column: 1;\n",
       "}\n",
       "\n",
       ".xr-attrs dt:hover span {\n",
       "  display: inline-block;\n",
       "  background: var(--xr-background-color);\n",
       "  padding-right: 10px;\n",
       "}\n",
       "\n",
       ".xr-attrs dd {\n",
       "  grid-column: 2;\n",
       "  white-space: pre-wrap;\n",
       "  word-break: break-all;\n",
       "}\n",
       "\n",
       ".xr-icon-database,\n",
       ".xr-icon-file-text2,\n",
       ".xr-no-icon {\n",
       "  display: inline-block;\n",
       "  vertical-align: middle;\n",
       "  width: 1em;\n",
       "  height: 1.5em !important;\n",
       "  stroke-width: 0;\n",
       "  stroke: currentColor;\n",
       "  fill: currentColor;\n",
       "}\n",
       "</style><pre class='xr-text-repr-fallback'>&lt;xarray.DataArray &#x27;mask&#x27; (region: 1, north_south: 540, east_west: 660)&gt;\n",
       "array([[[False, False, False, ..., False, False, False],\n",
       "        [False, False, False, ..., False, False, False],\n",
       "        [False, False, False, ..., False, False, False],\n",
       "        ...,\n",
       "        [False, False, False, ..., False, False, False],\n",
       "        [False, False, False, ..., False, False, False],\n",
       "        [False, False, False, ..., False, False, False]]])\n",
       "Coordinates:\n",
       "  * north_south  (north_south) float64 -21.0 -20.95 -20.9 ... 5.9 5.95 6.0\n",
       "  * east_west    (east_west) float64 -82.0 -81.95 -81.9 ... -49.1 -49.05 -49.0\n",
       "  * region       (region) int64 90\n",
       "Attributes:\n",
       "    standard_name:  region</pre><div class='xr-wrap' style='display:none'><div class='xr-header'><div class='xr-obj-type'>xarray.DataArray</div><div class='xr-array-name'>'mask'</div><ul class='xr-dim-list'><li><span class='xr-has-index'>region</span>: 1</li><li><span class='xr-has-index'>north_south</span>: 540</li><li><span class='xr-has-index'>east_west</span>: 660</li></ul></div><ul class='xr-sections'><li class='xr-section-item'><div class='xr-array-wrap'><input id='section-ea9d98f1-5e95-4aab-bfa2-dfdec9850df2' class='xr-array-in' type='checkbox' checked><label for='section-ea9d98f1-5e95-4aab-bfa2-dfdec9850df2' title='Show/hide data repr'><svg class='icon xr-icon-database'><use xlink:href='#icon-database'></use></svg></label><div class='xr-array-preview xr-preview'><span>False False False False False False ... False False False False False</span></div><div class='xr-array-data'><pre>array([[[False, False, False, ..., False, False, False],\n",
       "        [False, False, False, ..., False, False, False],\n",
       "        [False, False, False, ..., False, False, False],\n",
       "        ...,\n",
       "        [False, False, False, ..., False, False, False],\n",
       "        [False, False, False, ..., False, False, False],\n",
       "        [False, False, False, ..., False, False, False]]])</pre></div></div></li><li class='xr-section-item'><input id='section-09914f8b-09eb-41f8-a895-0323165ca4c2' class='xr-section-summary-in' type='checkbox'  checked><label for='section-09914f8b-09eb-41f8-a895-0323165ca4c2' class='xr-section-summary' >Coordinates: <span>(3)</span></label><div class='xr-section-inline-details'></div><div class='xr-section-details'><ul class='xr-var-list'><li class='xr-var-item'><div class='xr-var-name'><span class='xr-has-index'>north_south</span></div><div class='xr-var-dims'>(north_south)</div><div class='xr-var-dtype'>float64</div><div class='xr-var-preview xr-preview'>-21.0 -20.95 -20.9 ... 5.9 5.95 6.0</div><input id='attrs-683668eb-8e76-4f02-8e4f-3999e377ba79' class='xr-var-attrs-in' type='checkbox' ><label for='attrs-683668eb-8e76-4f02-8e4f-3999e377ba79' title='Show/Hide attributes'><svg class='icon xr-icon-file-text2'><use xlink:href='#icon-file-text2'></use></svg></label><input id='data-a7f6be8f-afb3-40b5-ac06-ab0304b0edb7' class='xr-var-data-in' type='checkbox'><label for='data-a7f6be8f-afb3-40b5-ac06-ab0304b0edb7' title='Show/Hide data repr'><svg class='icon xr-icon-database'><use xlink:href='#icon-database'></use></svg></label><div class='xr-var-attrs'><dl class='xr-attrs'><dt><span>units :</span></dt><dd>degrees_n</dd></dl></div><div class='xr-var-data'><pre>array([-21.      , -20.949907, -20.899814, ...,   5.899814,   5.949907,\n",
       "         6.      ])</pre></div></li><li class='xr-var-item'><div class='xr-var-name'><span class='xr-has-index'>east_west</span></div><div class='xr-var-dims'>(east_west)</div><div class='xr-var-dtype'>float64</div><div class='xr-var-preview xr-preview'>-82.0 -81.95 -81.9 ... -49.05 -49.0</div><input id='attrs-c539a77c-bf92-4226-ab68-9ad444caed52' class='xr-var-attrs-in' type='checkbox' ><label for='attrs-c539a77c-bf92-4226-ab68-9ad444caed52' title='Show/Hide attributes'><svg class='icon xr-icon-file-text2'><use xlink:href='#icon-file-text2'></use></svg></label><input id='data-1bafef91-99a2-48d4-a9e3-10ed2674c959' class='xr-var-data-in' type='checkbox'><label for='data-1bafef91-99a2-48d4-a9e3-10ed2674c959' title='Show/Hide data repr'><svg class='icon xr-icon-database'><use xlink:href='#icon-database'></use></svg></label><div class='xr-var-attrs'><dl class='xr-attrs'><dt><span>units :</span></dt><dd>degrees_e</dd></dl></div><div class='xr-var-data'><pre>array([-82.      , -81.949924, -81.899848, ..., -49.100152, -49.050076,\n",
       "       -49.      ])</pre></div></li><li class='xr-var-item'><div class='xr-var-name'><span class='xr-has-index'>region</span></div><div class='xr-var-dims'>(region)</div><div class='xr-var-dtype'>int64</div><div class='xr-var-preview xr-preview'>90</div><input id='attrs-cc97f41b-6ca5-4b82-a835-894e96d47767' class='xr-var-attrs-in' type='checkbox' disabled><label for='attrs-cc97f41b-6ca5-4b82-a835-894e96d47767' title='Show/Hide attributes'><svg class='icon xr-icon-file-text2'><use xlink:href='#icon-file-text2'></use></svg></label><input id='data-7e21ce83-4363-4e8f-987e-4201575a44e9' class='xr-var-data-in' type='checkbox'><label for='data-7e21ce83-4363-4e8f-987e-4201575a44e9' title='Show/Hide data repr'><svg class='icon xr-icon-database'><use xlink:href='#icon-database'></use></svg></label><div class='xr-var-attrs'><dl class='xr-attrs'></dl></div><div class='xr-var-data'><pre>array([90], dtype=int64)</pre></div></li></ul></div></li><li class='xr-section-item'><input id='section-b609b5cb-c87f-449c-a14c-dd201e13fadc' class='xr-section-summary-in' type='checkbox'  ><label for='section-b609b5cb-c87f-449c-a14c-dd201e13fadc' class='xr-section-summary' >Indexes: <span>(3)</span></label><div class='xr-section-inline-details'></div><div class='xr-section-details'><ul class='xr-var-list'><li class='xr-var-item'><div class='xr-index-name'><div>north_south</div></div><div class='xr-index-preview'>PandasIndex</div><div></div><input id='index-990b374e-eb86-47d3-8cfb-390616da3982' class='xr-index-data-in' type='checkbox'/><label for='index-990b374e-eb86-47d3-8cfb-390616da3982' title='Show/Hide index repr'><svg class='icon xr-icon-database'><use xlink:href='#icon-database'></use></svg></label><div class='xr-index-data'><pre>PandasIndex(Index([              -21.0,  -20.94990723562152, -20.899814471243044,\n",
       "       -20.849721706864564, -20.799628942486084, -20.749536178107608,\n",
       "       -20.699443413729128, -20.649350649350648,  -20.59925788497217,\n",
       "       -20.549165120593692,\n",
       "       ...\n",
       "         5.549165120593692,   5.599257884972172,   5.649350649350648,\n",
       "         5.699443413729128,   5.749536178107608,   5.799628942486084,\n",
       "         5.849721706864564,   5.899814471243044,    5.94990723562152,\n",
       "                       6.0],\n",
       "      dtype=&#x27;float64&#x27;, name=&#x27;north_south&#x27;, length=540))</pre></div></li><li class='xr-var-item'><div class='xr-index-name'><div>east_west</div></div><div class='xr-index-preview'>PandasIndex</div><div></div><input id='index-ca43f6a1-ada6-4730-999f-cd96477f4b41' class='xr-index-data-in' type='checkbox'/><label for='index-ca43f6a1-ada6-4730-999f-cd96477f4b41' title='Show/Hide index repr'><svg class='icon xr-icon-database'><use xlink:href='#icon-database'></use></svg></label><div class='xr-index-data'><pre>PandasIndex(Index([              -82.0,  -81.94992412746586,  -81.89984825493171,\n",
       "        -81.84977238239757,  -81.79969650986342,  -81.74962063732929,\n",
       "        -81.69954476479515,    -81.649468892261,  -81.59939301972686,\n",
       "        -81.54931714719271,\n",
       "       ...\n",
       "        -49.45068285280728,  -49.40060698027314,    -49.350531107739,\n",
       "        -49.30045523520486, -49.250379362670714,  -49.20030349013657,\n",
       "       -49.150227617602425,  -49.10015174506829, -49.050075872534144,\n",
       "                     -49.0],\n",
       "      dtype=&#x27;float64&#x27;, name=&#x27;east_west&#x27;, length=660))</pre></div></li><li class='xr-var-item'><div class='xr-index-name'><div>region</div></div><div class='xr-index-preview'>PandasIndex</div><div></div><input id='index-290869bb-2dd7-4f08-a6e1-777f83c3bcae' class='xr-index-data-in' type='checkbox'/><label for='index-290869bb-2dd7-4f08-a6e1-777f83c3bcae' title='Show/Hide index repr'><svg class='icon xr-icon-database'><use xlink:href='#icon-database'></use></svg></label><div class='xr-index-data'><pre>PandasIndex(Index([90], dtype=&#x27;int64&#x27;, name=&#x27;region&#x27;))</pre></div></li></ul></div></li><li class='xr-section-item'><input id='section-16714c20-b306-42d3-bd18-76339489ec31' class='xr-section-summary-in' type='checkbox'  checked><label for='section-16714c20-b306-42d3-bd18-76339489ec31' class='xr-section-summary' >Attributes: <span>(1)</span></label><div class='xr-section-inline-details'></div><div class='xr-section-details'><dl class='xr-attrs'><dt><span>standard_name :</span></dt><dd>region</dd></dl></div></li></ul></div></div>"
      ],
      "text/plain": [
       "<xarray.DataArray 'mask' (region: 1, north_south: 540, east_west: 660)>\n",
       "array([[[False, False, False, ..., False, False, False],\n",
       "        [False, False, False, ..., False, False, False],\n",
       "        [False, False, False, ..., False, False, False],\n",
       "        ...,\n",
       "        [False, False, False, ..., False, False, False],\n",
       "        [False, False, False, ..., False, False, False],\n",
       "        [False, False, False, ..., False, False, False]]])\n",
       "Coordinates:\n",
       "  * north_south  (north_south) float64 -21.0 -20.95 -20.9 ... 5.9 5.95 6.0\n",
       "  * east_west    (east_west) float64 -82.0 -81.95 -81.9 ... -49.1 -49.05 -49.0\n",
       "  * region       (region) int64 90\n",
       "Attributes:\n",
       "    standard_name:  region"
      ]
     },
     "execution_count": 4,
     "metadata": {},
     "output_type": "execute_result"
    }
   ],
   "source": [
    "# Select a region from the shapefile\n",
    "aoi = hybas_sa_lev05[hybas_sa_lev05.PFAF_ID == 62297]\n",
    "\n",
    "# Create a 3d mask - this contains the true / false values identifying pixels\n",
    "# inside vs outside of the mask region\n",
    "aoi_mask = regionmask.mask_3D_geopandas(aoi,\n",
    "                                         ds.east_west,\n",
    "                                         ds.north_south)\n",
    "aoi_mask\n"
   ]
  },
  {
   "cell_type": "code",
   "execution_count": 5,
   "metadata": {},
   "outputs": [
    {
     "data": {
      "text/html": [
       "<div><svg style=\"position: absolute; width: 0; height: 0; overflow: hidden\">\n",
       "<defs>\n",
       "<symbol id=\"icon-database\" viewBox=\"0 0 32 32\">\n",
       "<path d=\"M16 0c-8.837 0-16 2.239-16 5v4c0 2.761 7.163 5 16 5s16-2.239 16-5v-4c0-2.761-7.163-5-16-5z\"></path>\n",
       "<path d=\"M16 17c-8.837 0-16-2.239-16-5v6c0 2.761 7.163 5 16 5s16-2.239 16-5v-6c0 2.761-7.163 5-16 5z\"></path>\n",
       "<path d=\"M16 26c-8.837 0-16-2.239-16-5v6c0 2.761 7.163 5 16 5s16-2.239 16-5v-6c0 2.761-7.163 5-16 5z\"></path>\n",
       "</symbol>\n",
       "<symbol id=\"icon-file-text2\" viewBox=\"0 0 32 32\">\n",
       "<path d=\"M28.681 7.159c-0.694-0.947-1.662-2.053-2.724-3.116s-2.169-2.030-3.116-2.724c-1.612-1.182-2.393-1.319-2.841-1.319h-15.5c-1.378 0-2.5 1.121-2.5 2.5v27c0 1.378 1.122 2.5 2.5 2.5h23c1.378 0 2.5-1.122 2.5-2.5v-19.5c0-0.448-0.137-1.23-1.319-2.841zM24.543 5.457c0.959 0.959 1.712 1.825 2.268 2.543h-4.811v-4.811c0.718 0.556 1.584 1.309 2.543 2.268zM28 29.5c0 0.271-0.229 0.5-0.5 0.5h-23c-0.271 0-0.5-0.229-0.5-0.5v-27c0-0.271 0.229-0.5 0.5-0.5 0 0 15.499-0 15.5 0v7c0 0.552 0.448 1 1 1h7v19.5z\"></path>\n",
       "<path d=\"M23 26h-14c-0.552 0-1-0.448-1-1s0.448-1 1-1h14c0.552 0 1 0.448 1 1s-0.448 1-1 1z\"></path>\n",
       "<path d=\"M23 22h-14c-0.552 0-1-0.448-1-1s0.448-1 1-1h14c0.552 0 1 0.448 1 1s-0.448 1-1 1z\"></path>\n",
       "<path d=\"M23 18h-14c-0.552 0-1-0.448-1-1s0.448-1 1-1h14c0.552 0 1 0.448 1 1s-0.448 1-1 1z\"></path>\n",
       "</symbol>\n",
       "</defs>\n",
       "</svg>\n",
       "<style>/* CSS stylesheet for displaying xarray objects in jupyterlab.\n",
       " *\n",
       " */\n",
       "\n",
       ":root {\n",
       "  --xr-font-color0: var(--jp-content-font-color0, rgba(0, 0, 0, 1));\n",
       "  --xr-font-color2: var(--jp-content-font-color2, rgba(0, 0, 0, 0.54));\n",
       "  --xr-font-color3: var(--jp-content-font-color3, rgba(0, 0, 0, 0.38));\n",
       "  --xr-border-color: var(--jp-border-color2, #e0e0e0);\n",
       "  --xr-disabled-color: var(--jp-layout-color3, #bdbdbd);\n",
       "  --xr-background-color: var(--jp-layout-color0, white);\n",
       "  --xr-background-color-row-even: var(--jp-layout-color1, white);\n",
       "  --xr-background-color-row-odd: var(--jp-layout-color2, #eeeeee);\n",
       "}\n",
       "\n",
       "html[theme=dark],\n",
       "body[data-theme=dark],\n",
       "body.vscode-dark {\n",
       "  --xr-font-color0: rgba(255, 255, 255, 1);\n",
       "  --xr-font-color2: rgba(255, 255, 255, 0.54);\n",
       "  --xr-font-color3: rgba(255, 255, 255, 0.38);\n",
       "  --xr-border-color: #1F1F1F;\n",
       "  --xr-disabled-color: #515151;\n",
       "  --xr-background-color: #111111;\n",
       "  --xr-background-color-row-even: #111111;\n",
       "  --xr-background-color-row-odd: #313131;\n",
       "}\n",
       "\n",
       ".xr-wrap {\n",
       "  display: block !important;\n",
       "  min-width: 300px;\n",
       "  max-width: 700px;\n",
       "}\n",
       "\n",
       ".xr-text-repr-fallback {\n",
       "  /* fallback to plain text repr when CSS is not injected (untrusted notebook) */\n",
       "  display: none;\n",
       "}\n",
       "\n",
       ".xr-header {\n",
       "  padding-top: 6px;\n",
       "  padding-bottom: 6px;\n",
       "  margin-bottom: 4px;\n",
       "  border-bottom: solid 1px var(--xr-border-color);\n",
       "}\n",
       "\n",
       ".xr-header > div,\n",
       ".xr-header > ul {\n",
       "  display: inline;\n",
       "  margin-top: 0;\n",
       "  margin-bottom: 0;\n",
       "}\n",
       "\n",
       ".xr-obj-type,\n",
       ".xr-array-name {\n",
       "  margin-left: 2px;\n",
       "  margin-right: 10px;\n",
       "}\n",
       "\n",
       ".xr-obj-type {\n",
       "  color: var(--xr-font-color2);\n",
       "}\n",
       "\n",
       ".xr-sections {\n",
       "  padding-left: 0 !important;\n",
       "  display: grid;\n",
       "  grid-template-columns: 150px auto auto 1fr 20px 20px;\n",
       "}\n",
       "\n",
       ".xr-section-item {\n",
       "  display: contents;\n",
       "}\n",
       "\n",
       ".xr-section-item input {\n",
       "  display: none;\n",
       "}\n",
       "\n",
       ".xr-section-item input + label {\n",
       "  color: var(--xr-disabled-color);\n",
       "}\n",
       "\n",
       ".xr-section-item input:enabled + label {\n",
       "  cursor: pointer;\n",
       "  color: var(--xr-font-color2);\n",
       "}\n",
       "\n",
       ".xr-section-item input:enabled + label:hover {\n",
       "  color: var(--xr-font-color0);\n",
       "}\n",
       "\n",
       ".xr-section-summary {\n",
       "  grid-column: 1;\n",
       "  color: var(--xr-font-color2);\n",
       "  font-weight: 500;\n",
       "}\n",
       "\n",
       ".xr-section-summary > span {\n",
       "  display: inline-block;\n",
       "  padding-left: 0.5em;\n",
       "}\n",
       "\n",
       ".xr-section-summary-in:disabled + label {\n",
       "  color: var(--xr-font-color2);\n",
       "}\n",
       "\n",
       ".xr-section-summary-in + label:before {\n",
       "  display: inline-block;\n",
       "  content: '►';\n",
       "  font-size: 11px;\n",
       "  width: 15px;\n",
       "  text-align: center;\n",
       "}\n",
       "\n",
       ".xr-section-summary-in:disabled + label:before {\n",
       "  color: var(--xr-disabled-color);\n",
       "}\n",
       "\n",
       ".xr-section-summary-in:checked + label:before {\n",
       "  content: '▼';\n",
       "}\n",
       "\n",
       ".xr-section-summary-in:checked + label > span {\n",
       "  display: none;\n",
       "}\n",
       "\n",
       ".xr-section-summary,\n",
       ".xr-section-inline-details {\n",
       "  padding-top: 4px;\n",
       "  padding-bottom: 4px;\n",
       "}\n",
       "\n",
       ".xr-section-inline-details {\n",
       "  grid-column: 2 / -1;\n",
       "}\n",
       "\n",
       ".xr-section-details {\n",
       "  display: none;\n",
       "  grid-column: 1 / -1;\n",
       "  margin-bottom: 5px;\n",
       "}\n",
       "\n",
       ".xr-section-summary-in:checked ~ .xr-section-details {\n",
       "  display: contents;\n",
       "}\n",
       "\n",
       ".xr-array-wrap {\n",
       "  grid-column: 1 / -1;\n",
       "  display: grid;\n",
       "  grid-template-columns: 20px auto;\n",
       "}\n",
       "\n",
       ".xr-array-wrap > label {\n",
       "  grid-column: 1;\n",
       "  vertical-align: top;\n",
       "}\n",
       "\n",
       ".xr-preview {\n",
       "  color: var(--xr-font-color3);\n",
       "}\n",
       "\n",
       ".xr-array-preview,\n",
       ".xr-array-data {\n",
       "  padding: 0 5px !important;\n",
       "  grid-column: 2;\n",
       "}\n",
       "\n",
       ".xr-array-data,\n",
       ".xr-array-in:checked ~ .xr-array-preview {\n",
       "  display: none;\n",
       "}\n",
       "\n",
       ".xr-array-in:checked ~ .xr-array-data,\n",
       ".xr-array-preview {\n",
       "  display: inline-block;\n",
       "}\n",
       "\n",
       ".xr-dim-list {\n",
       "  display: inline-block !important;\n",
       "  list-style: none;\n",
       "  padding: 0 !important;\n",
       "  margin: 0;\n",
       "}\n",
       "\n",
       ".xr-dim-list li {\n",
       "  display: inline-block;\n",
       "  padding: 0;\n",
       "  margin: 0;\n",
       "}\n",
       "\n",
       ".xr-dim-list:before {\n",
       "  content: '(';\n",
       "}\n",
       "\n",
       ".xr-dim-list:after {\n",
       "  content: ')';\n",
       "}\n",
       "\n",
       ".xr-dim-list li:not(:last-child):after {\n",
       "  content: ',';\n",
       "  padding-right: 5px;\n",
       "}\n",
       "\n",
       ".xr-has-index {\n",
       "  font-weight: bold;\n",
       "}\n",
       "\n",
       ".xr-var-list,\n",
       ".xr-var-item {\n",
       "  display: contents;\n",
       "}\n",
       "\n",
       ".xr-var-item > div,\n",
       ".xr-var-item label,\n",
       ".xr-var-item > .xr-var-name span {\n",
       "  background-color: var(--xr-background-color-row-even);\n",
       "  margin-bottom: 0;\n",
       "}\n",
       "\n",
       ".xr-var-item > .xr-var-name:hover span {\n",
       "  padding-right: 5px;\n",
       "}\n",
       "\n",
       ".xr-var-list > li:nth-child(odd) > div,\n",
       ".xr-var-list > li:nth-child(odd) > label,\n",
       ".xr-var-list > li:nth-child(odd) > .xr-var-name span {\n",
       "  background-color: var(--xr-background-color-row-odd);\n",
       "}\n",
       "\n",
       ".xr-var-name {\n",
       "  grid-column: 1;\n",
       "}\n",
       "\n",
       ".xr-var-dims {\n",
       "  grid-column: 2;\n",
       "}\n",
       "\n",
       ".xr-var-dtype {\n",
       "  grid-column: 3;\n",
       "  text-align: right;\n",
       "  color: var(--xr-font-color2);\n",
       "}\n",
       "\n",
       ".xr-var-preview {\n",
       "  grid-column: 4;\n",
       "}\n",
       "\n",
       ".xr-index-preview {\n",
       "  grid-column: 2 / 5;\n",
       "  color: var(--xr-font-color2);\n",
       "}\n",
       "\n",
       ".xr-var-name,\n",
       ".xr-var-dims,\n",
       ".xr-var-dtype,\n",
       ".xr-preview,\n",
       ".xr-attrs dt {\n",
       "  white-space: nowrap;\n",
       "  overflow: hidden;\n",
       "  text-overflow: ellipsis;\n",
       "  padding-right: 10px;\n",
       "}\n",
       "\n",
       ".xr-var-name:hover,\n",
       ".xr-var-dims:hover,\n",
       ".xr-var-dtype:hover,\n",
       ".xr-attrs dt:hover {\n",
       "  overflow: visible;\n",
       "  width: auto;\n",
       "  z-index: 1;\n",
       "}\n",
       "\n",
       ".xr-var-attrs,\n",
       ".xr-var-data,\n",
       ".xr-index-data {\n",
       "  display: none;\n",
       "  background-color: var(--xr-background-color) !important;\n",
       "  padding-bottom: 5px !important;\n",
       "}\n",
       "\n",
       ".xr-var-attrs-in:checked ~ .xr-var-attrs,\n",
       ".xr-var-data-in:checked ~ .xr-var-data,\n",
       ".xr-index-data-in:checked ~ .xr-index-data {\n",
       "  display: block;\n",
       "}\n",
       "\n",
       ".xr-var-data > table {\n",
       "  float: right;\n",
       "}\n",
       "\n",
       ".xr-var-name span,\n",
       ".xr-var-data,\n",
       ".xr-index-name div,\n",
       ".xr-index-data,\n",
       ".xr-attrs {\n",
       "  padding-left: 25px !important;\n",
       "}\n",
       "\n",
       ".xr-attrs,\n",
       ".xr-var-attrs,\n",
       ".xr-var-data,\n",
       ".xr-index-data {\n",
       "  grid-column: 1 / -1;\n",
       "}\n",
       "\n",
       "dl.xr-attrs {\n",
       "  padding: 0;\n",
       "  margin: 0;\n",
       "  display: grid;\n",
       "  grid-template-columns: 125px auto;\n",
       "}\n",
       "\n",
       ".xr-attrs dt,\n",
       ".xr-attrs dd {\n",
       "  padding: 0;\n",
       "  margin: 0;\n",
       "  float: left;\n",
       "  padding-right: 10px;\n",
       "  width: auto;\n",
       "}\n",
       "\n",
       ".xr-attrs dt {\n",
       "  font-weight: normal;\n",
       "  grid-column: 1;\n",
       "}\n",
       "\n",
       ".xr-attrs dt:hover span {\n",
       "  display: inline-block;\n",
       "  background: var(--xr-background-color);\n",
       "  padding-right: 10px;\n",
       "}\n",
       "\n",
       ".xr-attrs dd {\n",
       "  grid-column: 2;\n",
       "  white-space: pre-wrap;\n",
       "  word-break: break-all;\n",
       "}\n",
       "\n",
       ".xr-icon-database,\n",
       ".xr-icon-file-text2,\n",
       ".xr-no-icon {\n",
       "  display: inline-block;\n",
       "  vertical-align: middle;\n",
       "  width: 1em;\n",
       "  height: 1.5em !important;\n",
       "  stroke-width: 0;\n",
       "  stroke: currentColor;\n",
       "  fill: currentColor;\n",
       "}\n",
       "</style><pre class='xr-text-repr-fallback'>&lt;xarray.DataArray &#x27;Rainf_tavg&#x27; (time: 4, ensemble: 7, north_south: 540,\n",
       "                                east_west: 660, region: 1)&gt;\n",
       "array([[[[[nan],\n",
       "          [nan],\n",
       "          [nan],\n",
       "          ...,\n",
       "          [nan],\n",
       "          [nan],\n",
       "          [nan]],\n",
       "\n",
       "         [[nan],\n",
       "          [nan],\n",
       "          [nan],\n",
       "          ...,\n",
       "          [nan],\n",
       "          [nan],\n",
       "          [nan]],\n",
       "\n",
       "         [[nan],\n",
       "          [nan],\n",
       "          [nan],\n",
       "          ...,\n",
       "...\n",
       "          ...,\n",
       "          [nan],\n",
       "          [nan],\n",
       "          [nan]],\n",
       "\n",
       "         [[nan],\n",
       "          [nan],\n",
       "          [nan],\n",
       "          ...,\n",
       "          [nan],\n",
       "          [nan],\n",
       "          [nan]],\n",
       "\n",
       "         [[nan],\n",
       "          [nan],\n",
       "          [nan],\n",
       "          ...,\n",
       "          [nan],\n",
       "          [nan],\n",
       "          [nan]]]]], dtype=float32)\n",
       "Coordinates:\n",
       "  * time         (time) datetime64[ns] 2024-06-02 2024-06-03 ... 2024-06-05\n",
       "  * ensemble     (ensemble) float32 1.0 2.0 3.0 4.0 5.0 6.0 7.0\n",
       "  * north_south  (north_south) float64 -21.0 -20.95 -20.9 ... 5.9 5.95 6.0\n",
       "  * east_west    (east_west) float64 -82.0 -81.95 -81.9 ... -49.1 -49.05 -49.0\n",
       "  * region       (region) int64 90\n",
       "Attributes:\n",
       "    units:          kg m-2 s-1\n",
       "    standard_name:  precipitation_rate\n",
       "    long_name:      precipitation rate\n",
       "    vmin:           0.0\n",
       "    vmax:           0.0</pre><div class='xr-wrap' style='display:none'><div class='xr-header'><div class='xr-obj-type'>xarray.DataArray</div><div class='xr-array-name'>'Rainf_tavg'</div><ul class='xr-dim-list'><li><span class='xr-has-index'>time</span>: 4</li><li><span class='xr-has-index'>ensemble</span>: 7</li><li><span class='xr-has-index'>north_south</span>: 540</li><li><span class='xr-has-index'>east_west</span>: 660</li><li><span class='xr-has-index'>region</span>: 1</li></ul></div><ul class='xr-sections'><li class='xr-section-item'><div class='xr-array-wrap'><input id='section-6f54f689-f851-4255-b09f-61f9394ec622' class='xr-array-in' type='checkbox' checked><label for='section-6f54f689-f851-4255-b09f-61f9394ec622' title='Show/hide data repr'><svg class='icon xr-icon-database'><use xlink:href='#icon-database'></use></svg></label><div class='xr-array-preview xr-preview'><span>nan nan nan nan nan nan nan nan ... nan nan nan nan nan nan nan nan</span></div><div class='xr-array-data'><pre>array([[[[[nan],\n",
       "          [nan],\n",
       "          [nan],\n",
       "          ...,\n",
       "          [nan],\n",
       "          [nan],\n",
       "          [nan]],\n",
       "\n",
       "         [[nan],\n",
       "          [nan],\n",
       "          [nan],\n",
       "          ...,\n",
       "          [nan],\n",
       "          [nan],\n",
       "          [nan]],\n",
       "\n",
       "         [[nan],\n",
       "          [nan],\n",
       "          [nan],\n",
       "          ...,\n",
       "...\n",
       "          ...,\n",
       "          [nan],\n",
       "          [nan],\n",
       "          [nan]],\n",
       "\n",
       "         [[nan],\n",
       "          [nan],\n",
       "          [nan],\n",
       "          ...,\n",
       "          [nan],\n",
       "          [nan],\n",
       "          [nan]],\n",
       "\n",
       "         [[nan],\n",
       "          [nan],\n",
       "          [nan],\n",
       "          ...,\n",
       "          [nan],\n",
       "          [nan],\n",
       "          [nan]]]]], dtype=float32)</pre></div></div></li><li class='xr-section-item'><input id='section-01eb9988-5308-4616-babf-388b4d29abf4' class='xr-section-summary-in' type='checkbox'  checked><label for='section-01eb9988-5308-4616-babf-388b4d29abf4' class='xr-section-summary' >Coordinates: <span>(5)</span></label><div class='xr-section-inline-details'></div><div class='xr-section-details'><ul class='xr-var-list'><li class='xr-var-item'><div class='xr-var-name'><span class='xr-has-index'>time</span></div><div class='xr-var-dims'>(time)</div><div class='xr-var-dtype'>datetime64[ns]</div><div class='xr-var-preview xr-preview'>2024-06-02 ... 2024-06-05</div><input id='attrs-4b3d9bc0-0b3e-4370-9671-6f4cd1c97944' class='xr-var-attrs-in' type='checkbox' ><label for='attrs-4b3d9bc0-0b3e-4370-9671-6f4cd1c97944' title='Show/Hide attributes'><svg class='icon xr-icon-file-text2'><use xlink:href='#icon-file-text2'></use></svg></label><input id='data-a0734580-7bb8-4118-b107-36db451ec241' class='xr-var-data-in' type='checkbox'><label for='data-a0734580-7bb8-4118-b107-36db451ec241' title='Show/Hide data repr'><svg class='icon xr-icon-database'><use xlink:href='#icon-database'></use></svg></label><div class='xr-var-attrs'><dl class='xr-attrs'><dt><span>long_name :</span></dt><dd>time</dd><dt><span>time_increment :</span></dt><dd>86400</dd><dt><span>begin_date :</span></dt><dd>20240602</dd><dt><span>begin_time :</span></dt><dd>000000</dd></dl></div><div class='xr-var-data'><pre>array([&#x27;2024-06-02T00:00:00.000000000&#x27;, &#x27;2024-06-03T00:00:00.000000000&#x27;,\n",
       "       &#x27;2024-06-04T00:00:00.000000000&#x27;, &#x27;2024-06-05T00:00:00.000000000&#x27;],\n",
       "      dtype=&#x27;datetime64[ns]&#x27;)</pre></div></li><li class='xr-var-item'><div class='xr-var-name'><span class='xr-has-index'>ensemble</span></div><div class='xr-var-dims'>(ensemble)</div><div class='xr-var-dtype'>float32</div><div class='xr-var-preview xr-preview'>1.0 2.0 3.0 4.0 5.0 6.0 7.0</div><input id='attrs-0986558f-6c79-4831-ae13-b9455e17746b' class='xr-var-attrs-in' type='checkbox' ><label for='attrs-0986558f-6c79-4831-ae13-b9455e17746b' title='Show/Hide attributes'><svg class='icon xr-icon-file-text2'><use xlink:href='#icon-file-text2'></use></svg></label><input id='data-f06e4bc8-f1f9-4bd0-9535-7d89e9b596a2' class='xr-var-data-in' type='checkbox'><label for='data-f06e4bc8-f1f9-4bd0-9535-7d89e9b596a2' title='Show/Hide data repr'><svg class='icon xr-icon-database'><use xlink:href='#icon-database'></use></svg></label><div class='xr-var-attrs'><dl class='xr-attrs'><dt><span>units :</span></dt><dd>ensemble number</dd><dt><span>long_name :</span></dt><dd>Ensemble numbers</dd></dl></div><div class='xr-var-data'><pre>array([1., 2., 3., 4., 5., 6., 7.], dtype=float32)</pre></div></li><li class='xr-var-item'><div class='xr-var-name'><span class='xr-has-index'>north_south</span></div><div class='xr-var-dims'>(north_south)</div><div class='xr-var-dtype'>float64</div><div class='xr-var-preview xr-preview'>-21.0 -20.95 -20.9 ... 5.9 5.95 6.0</div><input id='attrs-420d8fe8-889e-4d9c-a10f-59771478dd97' class='xr-var-attrs-in' type='checkbox' ><label for='attrs-420d8fe8-889e-4d9c-a10f-59771478dd97' title='Show/Hide attributes'><svg class='icon xr-icon-file-text2'><use xlink:href='#icon-file-text2'></use></svg></label><input id='data-f02c5dd8-6804-4716-a274-95903e1621e7' class='xr-var-data-in' type='checkbox'><label for='data-f02c5dd8-6804-4716-a274-95903e1621e7' title='Show/Hide data repr'><svg class='icon xr-icon-database'><use xlink:href='#icon-database'></use></svg></label><div class='xr-var-attrs'><dl class='xr-attrs'><dt><span>units :</span></dt><dd>degrees_n</dd></dl></div><div class='xr-var-data'><pre>array([-21.      , -20.949907, -20.899814, ...,   5.899814,   5.949907,\n",
       "         6.      ])</pre></div></li><li class='xr-var-item'><div class='xr-var-name'><span class='xr-has-index'>east_west</span></div><div class='xr-var-dims'>(east_west)</div><div class='xr-var-dtype'>float64</div><div class='xr-var-preview xr-preview'>-82.0 -81.95 -81.9 ... -49.05 -49.0</div><input id='attrs-05f2c6c7-7b81-4d95-b9a3-9304ad48642a' class='xr-var-attrs-in' type='checkbox' ><label for='attrs-05f2c6c7-7b81-4d95-b9a3-9304ad48642a' title='Show/Hide attributes'><svg class='icon xr-icon-file-text2'><use xlink:href='#icon-file-text2'></use></svg></label><input id='data-0512f4e8-7609-4266-88f5-09382197ec70' class='xr-var-data-in' type='checkbox'><label for='data-0512f4e8-7609-4266-88f5-09382197ec70' title='Show/Hide data repr'><svg class='icon xr-icon-database'><use xlink:href='#icon-database'></use></svg></label><div class='xr-var-attrs'><dl class='xr-attrs'><dt><span>units :</span></dt><dd>degrees_e</dd></dl></div><div class='xr-var-data'><pre>array([-82.      , -81.949924, -81.899848, ..., -49.100152, -49.050076,\n",
       "       -49.      ])</pre></div></li><li class='xr-var-item'><div class='xr-var-name'><span class='xr-has-index'>region</span></div><div class='xr-var-dims'>(region)</div><div class='xr-var-dtype'>int64</div><div class='xr-var-preview xr-preview'>90</div><input id='attrs-e3416836-c6be-4951-82b5-4f29b1c40280' class='xr-var-attrs-in' type='checkbox' disabled><label for='attrs-e3416836-c6be-4951-82b5-4f29b1c40280' title='Show/Hide attributes'><svg class='icon xr-icon-file-text2'><use xlink:href='#icon-file-text2'></use></svg></label><input id='data-315b5c0a-f1ca-44af-b6f2-31ad35610975' class='xr-var-data-in' type='checkbox'><label for='data-315b5c0a-f1ca-44af-b6f2-31ad35610975' title='Show/Hide data repr'><svg class='icon xr-icon-database'><use xlink:href='#icon-database'></use></svg></label><div class='xr-var-attrs'><dl class='xr-attrs'></dl></div><div class='xr-var-data'><pre>array([90], dtype=int64)</pre></div></li></ul></div></li><li class='xr-section-item'><input id='section-ea00ac8f-b1cf-4ad3-8950-7f0e41772a5b' class='xr-section-summary-in' type='checkbox'  ><label for='section-ea00ac8f-b1cf-4ad3-8950-7f0e41772a5b' class='xr-section-summary' >Indexes: <span>(5)</span></label><div class='xr-section-inline-details'></div><div class='xr-section-details'><ul class='xr-var-list'><li class='xr-var-item'><div class='xr-index-name'><div>time</div></div><div class='xr-index-preview'>PandasIndex</div><div></div><input id='index-e5cbdccd-06c3-491a-a587-74f3f426eafb' class='xr-index-data-in' type='checkbox'/><label for='index-e5cbdccd-06c3-491a-a587-74f3f426eafb' title='Show/Hide index repr'><svg class='icon xr-icon-database'><use xlink:href='#icon-database'></use></svg></label><div class='xr-index-data'><pre>PandasIndex(DatetimeIndex([&#x27;2024-06-02&#x27;, &#x27;2024-06-03&#x27;, &#x27;2024-06-04&#x27;, &#x27;2024-06-05&#x27;], dtype=&#x27;datetime64[ns]&#x27;, name=&#x27;time&#x27;, freq=None))</pre></div></li><li class='xr-var-item'><div class='xr-index-name'><div>ensemble</div></div><div class='xr-index-preview'>PandasIndex</div><div></div><input id='index-3054e974-4a21-4a02-9adf-3410be30b8d5' class='xr-index-data-in' type='checkbox'/><label for='index-3054e974-4a21-4a02-9adf-3410be30b8d5' title='Show/Hide index repr'><svg class='icon xr-icon-database'><use xlink:href='#icon-database'></use></svg></label><div class='xr-index-data'><pre>PandasIndex(Index([1.0, 2.0, 3.0, 4.0, 5.0, 6.0, 7.0], dtype=&#x27;float32&#x27;, name=&#x27;ensemble&#x27;))</pre></div></li><li class='xr-var-item'><div class='xr-index-name'><div>north_south</div></div><div class='xr-index-preview'>PandasIndex</div><div></div><input id='index-99cdaf9f-db48-4705-a748-9d93e788c3a2' class='xr-index-data-in' type='checkbox'/><label for='index-99cdaf9f-db48-4705-a748-9d93e788c3a2' title='Show/Hide index repr'><svg class='icon xr-icon-database'><use xlink:href='#icon-database'></use></svg></label><div class='xr-index-data'><pre>PandasIndex(Index([              -21.0,  -20.94990723562152, -20.899814471243044,\n",
       "       -20.849721706864564, -20.799628942486084, -20.749536178107608,\n",
       "       -20.699443413729128, -20.649350649350648,  -20.59925788497217,\n",
       "       -20.549165120593692,\n",
       "       ...\n",
       "         5.549165120593692,   5.599257884972172,   5.649350649350648,\n",
       "         5.699443413729128,   5.749536178107608,   5.799628942486084,\n",
       "         5.849721706864564,   5.899814471243044,    5.94990723562152,\n",
       "                       6.0],\n",
       "      dtype=&#x27;float64&#x27;, name=&#x27;north_south&#x27;, length=540))</pre></div></li><li class='xr-var-item'><div class='xr-index-name'><div>east_west</div></div><div class='xr-index-preview'>PandasIndex</div><div></div><input id='index-e4c3e5e4-bbb6-438d-8a48-68c03d4ba5d0' class='xr-index-data-in' type='checkbox'/><label for='index-e4c3e5e4-bbb6-438d-8a48-68c03d4ba5d0' title='Show/Hide index repr'><svg class='icon xr-icon-database'><use xlink:href='#icon-database'></use></svg></label><div class='xr-index-data'><pre>PandasIndex(Index([              -82.0,  -81.94992412746586,  -81.89984825493171,\n",
       "        -81.84977238239757,  -81.79969650986342,  -81.74962063732929,\n",
       "        -81.69954476479515,    -81.649468892261,  -81.59939301972686,\n",
       "        -81.54931714719271,\n",
       "       ...\n",
       "        -49.45068285280728,  -49.40060698027314,    -49.350531107739,\n",
       "        -49.30045523520486, -49.250379362670714,  -49.20030349013657,\n",
       "       -49.150227617602425,  -49.10015174506829, -49.050075872534144,\n",
       "                     -49.0],\n",
       "      dtype=&#x27;float64&#x27;, name=&#x27;east_west&#x27;, length=660))</pre></div></li><li class='xr-var-item'><div class='xr-index-name'><div>region</div></div><div class='xr-index-preview'>PandasIndex</div><div></div><input id='index-4b60254d-7196-4621-95a0-f1d9aa08ec48' class='xr-index-data-in' type='checkbox'/><label for='index-4b60254d-7196-4621-95a0-f1d9aa08ec48' title='Show/Hide index repr'><svg class='icon xr-icon-database'><use xlink:href='#icon-database'></use></svg></label><div class='xr-index-data'><pre>PandasIndex(Index([90], dtype=&#x27;int64&#x27;, name=&#x27;region&#x27;))</pre></div></li></ul></div></li><li class='xr-section-item'><input id='section-7c52016a-d886-4cc0-9dc8-3f657c32f6ff' class='xr-section-summary-in' type='checkbox'  checked><label for='section-7c52016a-d886-4cc0-9dc8-3f657c32f6ff' class='xr-section-summary' >Attributes: <span>(5)</span></label><div class='xr-section-inline-details'></div><div class='xr-section-details'><dl class='xr-attrs'><dt><span>units :</span></dt><dd>kg m-2 s-1</dd><dt><span>standard_name :</span></dt><dd>precipitation_rate</dd><dt><span>long_name :</span></dt><dd>precipitation rate</dd><dt><span>vmin :</span></dt><dd>0.0</dd><dt><span>vmax :</span></dt><dd>0.0</dd></dl></div></li></ul></div></div>"
      ],
      "text/plain": [
       "<xarray.DataArray 'Rainf_tavg' (time: 4, ensemble: 7, north_south: 540,\n",
       "                                east_west: 660, region: 1)>\n",
       "array([[[[[nan],\n",
       "          [nan],\n",
       "          [nan],\n",
       "          ...,\n",
       "          [nan],\n",
       "          [nan],\n",
       "          [nan]],\n",
       "\n",
       "         [[nan],\n",
       "          [nan],\n",
       "          [nan],\n",
       "          ...,\n",
       "          [nan],\n",
       "          [nan],\n",
       "          [nan]],\n",
       "\n",
       "         [[nan],\n",
       "          [nan],\n",
       "          [nan],\n",
       "          ...,\n",
       "...\n",
       "          ...,\n",
       "          [nan],\n",
       "          [nan],\n",
       "          [nan]],\n",
       "\n",
       "         [[nan],\n",
       "          [nan],\n",
       "          [nan],\n",
       "          ...,\n",
       "          [nan],\n",
       "          [nan],\n",
       "          [nan]],\n",
       "\n",
       "         [[nan],\n",
       "          [nan],\n",
       "          [nan],\n",
       "          ...,\n",
       "          [nan],\n",
       "          [nan],\n",
       "          [nan]]]]], dtype=float32)\n",
       "Coordinates:\n",
       "  * time         (time) datetime64[ns] 2024-06-02 2024-06-03 ... 2024-06-05\n",
       "  * ensemble     (ensemble) float32 1.0 2.0 3.0 4.0 5.0 6.0 7.0\n",
       "  * north_south  (north_south) float64 -21.0 -20.95 -20.9 ... 5.9 5.95 6.0\n",
       "  * east_west    (east_west) float64 -82.0 -81.95 -81.9 ... -49.1 -49.05 -49.0\n",
       "  * region       (region) int64 90\n",
       "Attributes:\n",
       "    units:          kg m-2 s-1\n",
       "    standard_name:  precipitation_rate\n",
       "    long_name:      precipitation rate\n",
       "    vmin:           0.0\n",
       "    vmax:           0.0"
      ]
     },
     "execution_count": 5,
     "metadata": {},
     "output_type": "execute_result"
    }
   ],
   "source": [
    "# Apply the mask we just made using the shapefile to the raster layer we made\n",
    "aoi_ds = ds['Rainf_tavg'].where(aoi_mask)\n",
    "aoi_ds"
   ]
  },
  {
   "cell_type": "code",
   "execution_count": 6,
   "metadata": {},
   "outputs": [
    {
     "data": {
      "text/html": [
       "<div>\n",
       "<style scoped>\n",
       "    .dataframe tbody tr th:only-of-type {\n",
       "        vertical-align: middle;\n",
       "    }\n",
       "\n",
       "    .dataframe tbody tr th {\n",
       "        vertical-align: top;\n",
       "    }\n",
       "\n",
       "    .dataframe thead th {\n",
       "        text-align: right;\n",
       "    }\n",
       "</style>\n",
       "<table border=\"1\" class=\"dataframe\">\n",
       "  <thead>\n",
       "    <tr style=\"text-align: right;\">\n",
       "      <th></th>\n",
       "      <th>time</th>\n",
       "      <th>ensemble</th>\n",
       "      <th>region</th>\n",
       "      <th>Rainf_tavg</th>\n",
       "    </tr>\n",
       "  </thead>\n",
       "  <tbody>\n",
       "    <tr>\n",
       "      <th>0</th>\n",
       "      <td>2024-06-02</td>\n",
       "      <td>1.0</td>\n",
       "      <td>90</td>\n",
       "      <td>0.000044</td>\n",
       "    </tr>\n",
       "    <tr>\n",
       "      <th>1</th>\n",
       "      <td>2024-06-02</td>\n",
       "      <td>2.0</td>\n",
       "      <td>90</td>\n",
       "      <td>0.000044</td>\n",
       "    </tr>\n",
       "    <tr>\n",
       "      <th>2</th>\n",
       "      <td>2024-06-02</td>\n",
       "      <td>3.0</td>\n",
       "      <td>90</td>\n",
       "      <td>0.000045</td>\n",
       "    </tr>\n",
       "    <tr>\n",
       "      <th>3</th>\n",
       "      <td>2024-06-02</td>\n",
       "      <td>4.0</td>\n",
       "      <td>90</td>\n",
       "      <td>0.000045</td>\n",
       "    </tr>\n",
       "    <tr>\n",
       "      <th>4</th>\n",
       "      <td>2024-06-02</td>\n",
       "      <td>5.0</td>\n",
       "      <td>90</td>\n",
       "      <td>0.000043</td>\n",
       "    </tr>\n",
       "    <tr>\n",
       "      <th>5</th>\n",
       "      <td>2024-06-02</td>\n",
       "      <td>6.0</td>\n",
       "      <td>90</td>\n",
       "      <td>0.000044</td>\n",
       "    </tr>\n",
       "    <tr>\n",
       "      <th>6</th>\n",
       "      <td>2024-06-02</td>\n",
       "      <td>7.0</td>\n",
       "      <td>90</td>\n",
       "      <td>0.000043</td>\n",
       "    </tr>\n",
       "    <tr>\n",
       "      <th>7</th>\n",
       "      <td>2024-06-03</td>\n",
       "      <td>1.0</td>\n",
       "      <td>90</td>\n",
       "      <td>0.000055</td>\n",
       "    </tr>\n",
       "    <tr>\n",
       "      <th>8</th>\n",
       "      <td>2024-06-03</td>\n",
       "      <td>2.0</td>\n",
       "      <td>90</td>\n",
       "      <td>0.000055</td>\n",
       "    </tr>\n",
       "    <tr>\n",
       "      <th>9</th>\n",
       "      <td>2024-06-03</td>\n",
       "      <td>3.0</td>\n",
       "      <td>90</td>\n",
       "      <td>0.000056</td>\n",
       "    </tr>\n",
       "    <tr>\n",
       "      <th>10</th>\n",
       "      <td>2024-06-03</td>\n",
       "      <td>4.0</td>\n",
       "      <td>90</td>\n",
       "      <td>0.000056</td>\n",
       "    </tr>\n",
       "    <tr>\n",
       "      <th>11</th>\n",
       "      <td>2024-06-03</td>\n",
       "      <td>5.0</td>\n",
       "      <td>90</td>\n",
       "      <td>0.000052</td>\n",
       "    </tr>\n",
       "    <tr>\n",
       "      <th>12</th>\n",
       "      <td>2024-06-03</td>\n",
       "      <td>6.0</td>\n",
       "      <td>90</td>\n",
       "      <td>0.000055</td>\n",
       "    </tr>\n",
       "    <tr>\n",
       "      <th>13</th>\n",
       "      <td>2024-06-03</td>\n",
       "      <td>7.0</td>\n",
       "      <td>90</td>\n",
       "      <td>0.000052</td>\n",
       "    </tr>\n",
       "    <tr>\n",
       "      <th>14</th>\n",
       "      <td>2024-06-04</td>\n",
       "      <td>1.0</td>\n",
       "      <td>90</td>\n",
       "      <td>0.000062</td>\n",
       "    </tr>\n",
       "    <tr>\n",
       "      <th>15</th>\n",
       "      <td>2024-06-04</td>\n",
       "      <td>2.0</td>\n",
       "      <td>90</td>\n",
       "      <td>0.000062</td>\n",
       "    </tr>\n",
       "    <tr>\n",
       "      <th>16</th>\n",
       "      <td>2024-06-04</td>\n",
       "      <td>3.0</td>\n",
       "      <td>90</td>\n",
       "      <td>0.000060</td>\n",
       "    </tr>\n",
       "    <tr>\n",
       "      <th>17</th>\n",
       "      <td>2024-06-04</td>\n",
       "      <td>4.0</td>\n",
       "      <td>90</td>\n",
       "      <td>0.000061</td>\n",
       "    </tr>\n",
       "    <tr>\n",
       "      <th>18</th>\n",
       "      <td>2024-06-04</td>\n",
       "      <td>5.0</td>\n",
       "      <td>90</td>\n",
       "      <td>0.000061</td>\n",
       "    </tr>\n",
       "    <tr>\n",
       "      <th>19</th>\n",
       "      <td>2024-06-04</td>\n",
       "      <td>6.0</td>\n",
       "      <td>90</td>\n",
       "      <td>0.000061</td>\n",
       "    </tr>\n",
       "    <tr>\n",
       "      <th>20</th>\n",
       "      <td>2024-06-04</td>\n",
       "      <td>7.0</td>\n",
       "      <td>90</td>\n",
       "      <td>0.000061</td>\n",
       "    </tr>\n",
       "    <tr>\n",
       "      <th>21</th>\n",
       "      <td>2024-06-05</td>\n",
       "      <td>1.0</td>\n",
       "      <td>90</td>\n",
       "      <td>0.000070</td>\n",
       "    </tr>\n",
       "    <tr>\n",
       "      <th>22</th>\n",
       "      <td>2024-06-05</td>\n",
       "      <td>2.0</td>\n",
       "      <td>90</td>\n",
       "      <td>0.000071</td>\n",
       "    </tr>\n",
       "    <tr>\n",
       "      <th>23</th>\n",
       "      <td>2024-06-05</td>\n",
       "      <td>3.0</td>\n",
       "      <td>90</td>\n",
       "      <td>0.000062</td>\n",
       "    </tr>\n",
       "    <tr>\n",
       "      <th>24</th>\n",
       "      <td>2024-06-05</td>\n",
       "      <td>4.0</td>\n",
       "      <td>90</td>\n",
       "      <td>0.000062</td>\n",
       "    </tr>\n",
       "    <tr>\n",
       "      <th>25</th>\n",
       "      <td>2024-06-05</td>\n",
       "      <td>5.0</td>\n",
       "      <td>90</td>\n",
       "      <td>0.000072</td>\n",
       "    </tr>\n",
       "    <tr>\n",
       "      <th>26</th>\n",
       "      <td>2024-06-05</td>\n",
       "      <td>6.0</td>\n",
       "      <td>90</td>\n",
       "      <td>0.000070</td>\n",
       "    </tr>\n",
       "    <tr>\n",
       "      <th>27</th>\n",
       "      <td>2024-06-05</td>\n",
       "      <td>7.0</td>\n",
       "      <td>90</td>\n",
       "      <td>0.000072</td>\n",
       "    </tr>\n",
       "  </tbody>\n",
       "</table>\n",
       "</div>"
      ],
      "text/plain": [
       "         time  ensemble  region  Rainf_tavg\n",
       "0  2024-06-02       1.0      90    0.000044\n",
       "1  2024-06-02       2.0      90    0.000044\n",
       "2  2024-06-02       3.0      90    0.000045\n",
       "3  2024-06-02       4.0      90    0.000045\n",
       "4  2024-06-02       5.0      90    0.000043\n",
       "5  2024-06-02       6.0      90    0.000044\n",
       "6  2024-06-02       7.0      90    0.000043\n",
       "7  2024-06-03       1.0      90    0.000055\n",
       "8  2024-06-03       2.0      90    0.000055\n",
       "9  2024-06-03       3.0      90    0.000056\n",
       "10 2024-06-03       4.0      90    0.000056\n",
       "11 2024-06-03       5.0      90    0.000052\n",
       "12 2024-06-03       6.0      90    0.000055\n",
       "13 2024-06-03       7.0      90    0.000052\n",
       "14 2024-06-04       1.0      90    0.000062\n",
       "15 2024-06-04       2.0      90    0.000062\n",
       "16 2024-06-04       3.0      90    0.000060\n",
       "17 2024-06-04       4.0      90    0.000061\n",
       "18 2024-06-04       5.0      90    0.000061\n",
       "19 2024-06-04       6.0      90    0.000061\n",
       "20 2024-06-04       7.0      90    0.000061\n",
       "21 2024-06-05       1.0      90    0.000070\n",
       "22 2024-06-05       2.0      90    0.000071\n",
       "23 2024-06-05       3.0      90    0.000062\n",
       "24 2024-06-05       4.0      90    0.000062\n",
       "25 2024-06-05       5.0      90    0.000072\n",
       "26 2024-06-05       6.0      90    0.000070\n",
       "27 2024-06-05       7.0      90    0.000072"
      ]
     },
     "execution_count": 6,
     "metadata": {},
     "output_type": "execute_result"
    }
   ],
   "source": [
    "summary = aoi_ds.groupby(\"time\").mean([\"north_south\", \"east_west\"])\n",
    "aoi_ds_summary = summary.to_dataframe().reset_index()\n",
    "aoi_ds_summary"
   ]
  },
  {
   "cell_type": "markdown",
   "metadata": {},
   "source": [
    "## Building time series with spread using boxplot"
   ]
  },
  {
   "cell_type": "code",
   "execution_count": 7,
   "metadata": {},
   "outputs": [
    {
     "data": {
      "application/vnd.plotly.v1+json": {
       "config": {
        "plotlyServerURL": "https://plot.ly"
       },
       "data": [
        {
         "alignmentgroup": "True",
         "hovertemplate": "time=%{x}<br>Rainf_tavg=%{y}<extra></extra>",
         "legendgroup": "2024-06-02 00:00:00",
         "marker": {
          "color": "#636efa"
         },
         "name": "2024-06-02 00:00:00",
         "notched": false,
         "offsetgroup": "2024-06-02 00:00:00",
         "orientation": "v",
         "showlegend": true,
         "type": "box",
         "x": [
          "2024-06-02T00:00:00",
          "2024-06-02T00:00:00",
          "2024-06-02T00:00:00",
          "2024-06-02T00:00:00",
          "2024-06-02T00:00:00",
          "2024-06-02T00:00:00",
          "2024-06-02T00:00:00"
         ],
         "x0": " ",
         "xaxis": "x",
         "y": [
          0.000044164651626488194,
          0.00004409303073771298,
          0.000045095293899066746,
          0.000045033852074993774,
          0.00004269915370969102,
          0.000044243293814361095,
          0.000042778039642143995
         ],
         "y0": " ",
         "yaxis": "y"
        },
        {
         "alignmentgroup": "True",
         "hovertemplate": "time=%{x}<br>Rainf_tavg=%{y}<extra></extra>",
         "legendgroup": "2024-06-03 00:00:00",
         "marker": {
          "color": "#EF553B"
         },
         "name": "2024-06-03 00:00:00",
         "notched": false,
         "offsetgroup": "2024-06-03 00:00:00",
         "orientation": "v",
         "showlegend": true,
         "type": "box",
         "x": [
          "2024-06-03T00:00:00",
          "2024-06-03T00:00:00",
          "2024-06-03T00:00:00",
          "2024-06-03T00:00:00",
          "2024-06-03T00:00:00",
          "2024-06-03T00:00:00",
          "2024-06-03T00:00:00"
         ],
         "x0": " ",
         "xaxis": "x",
         "y": [
          0.00005484860957949422,
          0.000054528201872017235,
          0.00005611458618659526,
          0.000056312572269234806,
          0.000051984905439894646,
          0.00005464062633109279,
          0.00005200689338380471
         ],
         "y0": " ",
         "yaxis": "y"
        },
        {
         "alignmentgroup": "True",
         "hovertemplate": "time=%{x}<br>Rainf_tavg=%{y}<extra></extra>",
         "legendgroup": "2024-06-04 00:00:00",
         "marker": {
          "color": "#00cc96"
         },
         "name": "2024-06-04 00:00:00",
         "notched": false,
         "offsetgroup": "2024-06-04 00:00:00",
         "orientation": "v",
         "showlegend": true,
         "type": "box",
         "x": [
          "2024-06-04T00:00:00",
          "2024-06-04T00:00:00",
          "2024-06-04T00:00:00",
          "2024-06-04T00:00:00",
          "2024-06-04T00:00:00",
          "2024-06-04T00:00:00",
          "2024-06-04T00:00:00"
         ],
         "x0": " ",
         "xaxis": "x",
         "y": [
          0.00006163490616017953,
          0.00006156414019642398,
          0.000059721514844568446,
          0.000060620350268436596,
          0.0000613018564763479,
          0.00006095473509049043,
          0.00006120633042883128
         ],
         "y0": " ",
         "yaxis": "y"
        },
        {
         "alignmentgroup": "True",
         "hovertemplate": "time=%{x}<br>Rainf_tavg=%{y}<extra></extra>",
         "legendgroup": "2024-06-05 00:00:00",
         "marker": {
          "color": "#ab63fa"
         },
         "name": "2024-06-05 00:00:00",
         "notched": false,
         "offsetgroup": "2024-06-05 00:00:00",
         "orientation": "v",
         "showlegend": true,
         "type": "box",
         "x": [
          "2024-06-05T00:00:00",
          "2024-06-05T00:00:00",
          "2024-06-05T00:00:00",
          "2024-06-05T00:00:00",
          "2024-06-05T00:00:00",
          "2024-06-05T00:00:00",
          "2024-06-05T00:00:00"
         ],
         "x0": " ",
         "xaxis": "x",
         "y": [
          0.00006994714931352064,
          0.0000712805413058959,
          0.00006173596193548292,
          0.00006220338400453329,
          0.00007231372728710994,
          0.00007011263369349763,
          0.0000721981268725358
         ],
         "y0": " ",
         "yaxis": "y"
        }
       ],
       "layout": {
        "boxmode": "overlay",
        "height": 800,
        "legend": {
         "title": {
          "text": "time"
         },
         "tracegroupgap": 0
        },
        "margin": {
         "t": 60
        },
        "template": {
         "data": {
          "bar": [
           {
            "error_x": {
             "color": "#2a3f5f"
            },
            "error_y": {
             "color": "#2a3f5f"
            },
            "marker": {
             "line": {
              "color": "#E5ECF6",
              "width": 0.5
             },
             "pattern": {
              "fillmode": "overlay",
              "size": 10,
              "solidity": 0.2
             }
            },
            "type": "bar"
           }
          ],
          "barpolar": [
           {
            "marker": {
             "line": {
              "color": "#E5ECF6",
              "width": 0.5
             },
             "pattern": {
              "fillmode": "overlay",
              "size": 10,
              "solidity": 0.2
             }
            },
            "type": "barpolar"
           }
          ],
          "carpet": [
           {
            "aaxis": {
             "endlinecolor": "#2a3f5f",
             "gridcolor": "white",
             "linecolor": "white",
             "minorgridcolor": "white",
             "startlinecolor": "#2a3f5f"
            },
            "baxis": {
             "endlinecolor": "#2a3f5f",
             "gridcolor": "white",
             "linecolor": "white",
             "minorgridcolor": "white",
             "startlinecolor": "#2a3f5f"
            },
            "type": "carpet"
           }
          ],
          "choropleth": [
           {
            "colorbar": {
             "outlinewidth": 0,
             "ticks": ""
            },
            "type": "choropleth"
           }
          ],
          "contour": [
           {
            "colorbar": {
             "outlinewidth": 0,
             "ticks": ""
            },
            "colorscale": [
             [
              0,
              "#0d0887"
             ],
             [
              0.1111111111111111,
              "#46039f"
             ],
             [
              0.2222222222222222,
              "#7201a8"
             ],
             [
              0.3333333333333333,
              "#9c179e"
             ],
             [
              0.4444444444444444,
              "#bd3786"
             ],
             [
              0.5555555555555556,
              "#d8576b"
             ],
             [
              0.6666666666666666,
              "#ed7953"
             ],
             [
              0.7777777777777778,
              "#fb9f3a"
             ],
             [
              0.8888888888888888,
              "#fdca26"
             ],
             [
              1,
              "#f0f921"
             ]
            ],
            "type": "contour"
           }
          ],
          "contourcarpet": [
           {
            "colorbar": {
             "outlinewidth": 0,
             "ticks": ""
            },
            "type": "contourcarpet"
           }
          ],
          "heatmap": [
           {
            "colorbar": {
             "outlinewidth": 0,
             "ticks": ""
            },
            "colorscale": [
             [
              0,
              "#0d0887"
             ],
             [
              0.1111111111111111,
              "#46039f"
             ],
             [
              0.2222222222222222,
              "#7201a8"
             ],
             [
              0.3333333333333333,
              "#9c179e"
             ],
             [
              0.4444444444444444,
              "#bd3786"
             ],
             [
              0.5555555555555556,
              "#d8576b"
             ],
             [
              0.6666666666666666,
              "#ed7953"
             ],
             [
              0.7777777777777778,
              "#fb9f3a"
             ],
             [
              0.8888888888888888,
              "#fdca26"
             ],
             [
              1,
              "#f0f921"
             ]
            ],
            "type": "heatmap"
           }
          ],
          "heatmapgl": [
           {
            "colorbar": {
             "outlinewidth": 0,
             "ticks": ""
            },
            "colorscale": [
             [
              0,
              "#0d0887"
             ],
             [
              0.1111111111111111,
              "#46039f"
             ],
             [
              0.2222222222222222,
              "#7201a8"
             ],
             [
              0.3333333333333333,
              "#9c179e"
             ],
             [
              0.4444444444444444,
              "#bd3786"
             ],
             [
              0.5555555555555556,
              "#d8576b"
             ],
             [
              0.6666666666666666,
              "#ed7953"
             ],
             [
              0.7777777777777778,
              "#fb9f3a"
             ],
             [
              0.8888888888888888,
              "#fdca26"
             ],
             [
              1,
              "#f0f921"
             ]
            ],
            "type": "heatmapgl"
           }
          ],
          "histogram": [
           {
            "marker": {
             "pattern": {
              "fillmode": "overlay",
              "size": 10,
              "solidity": 0.2
             }
            },
            "type": "histogram"
           }
          ],
          "histogram2d": [
           {
            "colorbar": {
             "outlinewidth": 0,
             "ticks": ""
            },
            "colorscale": [
             [
              0,
              "#0d0887"
             ],
             [
              0.1111111111111111,
              "#46039f"
             ],
             [
              0.2222222222222222,
              "#7201a8"
             ],
             [
              0.3333333333333333,
              "#9c179e"
             ],
             [
              0.4444444444444444,
              "#bd3786"
             ],
             [
              0.5555555555555556,
              "#d8576b"
             ],
             [
              0.6666666666666666,
              "#ed7953"
             ],
             [
              0.7777777777777778,
              "#fb9f3a"
             ],
             [
              0.8888888888888888,
              "#fdca26"
             ],
             [
              1,
              "#f0f921"
             ]
            ],
            "type": "histogram2d"
           }
          ],
          "histogram2dcontour": [
           {
            "colorbar": {
             "outlinewidth": 0,
             "ticks": ""
            },
            "colorscale": [
             [
              0,
              "#0d0887"
             ],
             [
              0.1111111111111111,
              "#46039f"
             ],
             [
              0.2222222222222222,
              "#7201a8"
             ],
             [
              0.3333333333333333,
              "#9c179e"
             ],
             [
              0.4444444444444444,
              "#bd3786"
             ],
             [
              0.5555555555555556,
              "#d8576b"
             ],
             [
              0.6666666666666666,
              "#ed7953"
             ],
             [
              0.7777777777777778,
              "#fb9f3a"
             ],
             [
              0.8888888888888888,
              "#fdca26"
             ],
             [
              1,
              "#f0f921"
             ]
            ],
            "type": "histogram2dcontour"
           }
          ],
          "mesh3d": [
           {
            "colorbar": {
             "outlinewidth": 0,
             "ticks": ""
            },
            "type": "mesh3d"
           }
          ],
          "parcoords": [
           {
            "line": {
             "colorbar": {
              "outlinewidth": 0,
              "ticks": ""
             }
            },
            "type": "parcoords"
           }
          ],
          "pie": [
           {
            "automargin": true,
            "type": "pie"
           }
          ],
          "scatter": [
           {
            "fillpattern": {
             "fillmode": "overlay",
             "size": 10,
             "solidity": 0.2
            },
            "type": "scatter"
           }
          ],
          "scatter3d": [
           {
            "line": {
             "colorbar": {
              "outlinewidth": 0,
              "ticks": ""
             }
            },
            "marker": {
             "colorbar": {
              "outlinewidth": 0,
              "ticks": ""
             }
            },
            "type": "scatter3d"
           }
          ],
          "scattercarpet": [
           {
            "marker": {
             "colorbar": {
              "outlinewidth": 0,
              "ticks": ""
             }
            },
            "type": "scattercarpet"
           }
          ],
          "scattergeo": [
           {
            "marker": {
             "colorbar": {
              "outlinewidth": 0,
              "ticks": ""
             }
            },
            "type": "scattergeo"
           }
          ],
          "scattergl": [
           {
            "marker": {
             "colorbar": {
              "outlinewidth": 0,
              "ticks": ""
             }
            },
            "type": "scattergl"
           }
          ],
          "scattermapbox": [
           {
            "marker": {
             "colorbar": {
              "outlinewidth": 0,
              "ticks": ""
             }
            },
            "type": "scattermapbox"
           }
          ],
          "scatterpolar": [
           {
            "marker": {
             "colorbar": {
              "outlinewidth": 0,
              "ticks": ""
             }
            },
            "type": "scatterpolar"
           }
          ],
          "scatterpolargl": [
           {
            "marker": {
             "colorbar": {
              "outlinewidth": 0,
              "ticks": ""
             }
            },
            "type": "scatterpolargl"
           }
          ],
          "scatterternary": [
           {
            "marker": {
             "colorbar": {
              "outlinewidth": 0,
              "ticks": ""
             }
            },
            "type": "scatterternary"
           }
          ],
          "surface": [
           {
            "colorbar": {
             "outlinewidth": 0,
             "ticks": ""
            },
            "colorscale": [
             [
              0,
              "#0d0887"
             ],
             [
              0.1111111111111111,
              "#46039f"
             ],
             [
              0.2222222222222222,
              "#7201a8"
             ],
             [
              0.3333333333333333,
              "#9c179e"
             ],
             [
              0.4444444444444444,
              "#bd3786"
             ],
             [
              0.5555555555555556,
              "#d8576b"
             ],
             [
              0.6666666666666666,
              "#ed7953"
             ],
             [
              0.7777777777777778,
              "#fb9f3a"
             ],
             [
              0.8888888888888888,
              "#fdca26"
             ],
             [
              1,
              "#f0f921"
             ]
            ],
            "type": "surface"
           }
          ],
          "table": [
           {
            "cells": {
             "fill": {
              "color": "#EBF0F8"
             },
             "line": {
              "color": "white"
             }
            },
            "header": {
             "fill": {
              "color": "#C8D4E3"
             },
             "line": {
              "color": "white"
             }
            },
            "type": "table"
           }
          ]
         },
         "layout": {
          "annotationdefaults": {
           "arrowcolor": "#2a3f5f",
           "arrowhead": 0,
           "arrowwidth": 1
          },
          "autotypenumbers": "strict",
          "coloraxis": {
           "colorbar": {
            "outlinewidth": 0,
            "ticks": ""
           }
          },
          "colorscale": {
           "diverging": [
            [
             0,
             "#8e0152"
            ],
            [
             0.1,
             "#c51b7d"
            ],
            [
             0.2,
             "#de77ae"
            ],
            [
             0.3,
             "#f1b6da"
            ],
            [
             0.4,
             "#fde0ef"
            ],
            [
             0.5,
             "#f7f7f7"
            ],
            [
             0.6,
             "#e6f5d0"
            ],
            [
             0.7,
             "#b8e186"
            ],
            [
             0.8,
             "#7fbc41"
            ],
            [
             0.9,
             "#4d9221"
            ],
            [
             1,
             "#276419"
            ]
           ],
           "sequential": [
            [
             0,
             "#0d0887"
            ],
            [
             0.1111111111111111,
             "#46039f"
            ],
            [
             0.2222222222222222,
             "#7201a8"
            ],
            [
             0.3333333333333333,
             "#9c179e"
            ],
            [
             0.4444444444444444,
             "#bd3786"
            ],
            [
             0.5555555555555556,
             "#d8576b"
            ],
            [
             0.6666666666666666,
             "#ed7953"
            ],
            [
             0.7777777777777778,
             "#fb9f3a"
            ],
            [
             0.8888888888888888,
             "#fdca26"
            ],
            [
             1,
             "#f0f921"
            ]
           ],
           "sequentialminus": [
            [
             0,
             "#0d0887"
            ],
            [
             0.1111111111111111,
             "#46039f"
            ],
            [
             0.2222222222222222,
             "#7201a8"
            ],
            [
             0.3333333333333333,
             "#9c179e"
            ],
            [
             0.4444444444444444,
             "#bd3786"
            ],
            [
             0.5555555555555556,
             "#d8576b"
            ],
            [
             0.6666666666666666,
             "#ed7953"
            ],
            [
             0.7777777777777778,
             "#fb9f3a"
            ],
            [
             0.8888888888888888,
             "#fdca26"
            ],
            [
             1,
             "#f0f921"
            ]
           ]
          },
          "colorway": [
           "#636efa",
           "#EF553B",
           "#00cc96",
           "#ab63fa",
           "#FFA15A",
           "#19d3f3",
           "#FF6692",
           "#B6E880",
           "#FF97FF",
           "#FECB52"
          ],
          "font": {
           "color": "#2a3f5f"
          },
          "geo": {
           "bgcolor": "white",
           "lakecolor": "white",
           "landcolor": "#E5ECF6",
           "showlakes": true,
           "showland": true,
           "subunitcolor": "white"
          },
          "hoverlabel": {
           "align": "left"
          },
          "hovermode": "closest",
          "mapbox": {
           "style": "light"
          },
          "paper_bgcolor": "white",
          "plot_bgcolor": "#E5ECF6",
          "polar": {
           "angularaxis": {
            "gridcolor": "white",
            "linecolor": "white",
            "ticks": ""
           },
           "bgcolor": "#E5ECF6",
           "radialaxis": {
            "gridcolor": "white",
            "linecolor": "white",
            "ticks": ""
           }
          },
          "scene": {
           "xaxis": {
            "backgroundcolor": "#E5ECF6",
            "gridcolor": "white",
            "gridwidth": 2,
            "linecolor": "white",
            "showbackground": true,
            "ticks": "",
            "zerolinecolor": "white"
           },
           "yaxis": {
            "backgroundcolor": "#E5ECF6",
            "gridcolor": "white",
            "gridwidth": 2,
            "linecolor": "white",
            "showbackground": true,
            "ticks": "",
            "zerolinecolor": "white"
           },
           "zaxis": {
            "backgroundcolor": "#E5ECF6",
            "gridcolor": "white",
            "gridwidth": 2,
            "linecolor": "white",
            "showbackground": true,
            "ticks": "",
            "zerolinecolor": "white"
           }
          },
          "shapedefaults": {
           "line": {
            "color": "#2a3f5f"
           }
          },
          "ternary": {
           "aaxis": {
            "gridcolor": "white",
            "linecolor": "white",
            "ticks": ""
           },
           "baxis": {
            "gridcolor": "white",
            "linecolor": "white",
            "ticks": ""
           },
           "bgcolor": "#E5ECF6",
           "caxis": {
            "gridcolor": "white",
            "linecolor": "white",
            "ticks": ""
           }
          },
          "title": {
           "x": 0.05
          },
          "xaxis": {
           "automargin": true,
           "gridcolor": "white",
           "linecolor": "white",
           "ticks": "",
           "title": {
            "standoff": 15
           },
           "zerolinecolor": "white",
           "zerolinewidth": 2
          },
          "yaxis": {
           "automargin": true,
           "gridcolor": "white",
           "linecolor": "white",
           "ticks": "",
           "title": {
            "standoff": 15
           },
           "zerolinecolor": "white",
           "zerolinewidth": 2
          }
         }
        },
        "title": {
         "text": "Precipitation of Region (PFAF-ID) 62297"
        },
        "width": 800,
        "xaxis": {
         "anchor": "y",
         "categoryarray": [
          "2024-06-02T00:00:00",
          "2024-06-03T00:00:00",
          "2024-06-04T00:00:00",
          "2024-06-05T00:00:00"
         ],
         "categoryorder": "array",
         "domain": [
          0,
          1
         ],
         "title": {
          "text": "time"
         }
        },
        "yaxis": {
         "anchor": "x",
         "domain": [
          0,
          1
         ],
         "title": {
          "text": "Rainf_tavg"
         }
        }
       }
      }
     },
     "metadata": {},
     "output_type": "display_data"
    }
   ],
   "source": [
    "\n",
    "fig = px.box(aoi_ds_summary, y = 'Rainf_tavg', x = 'time', color='time')\n",
    "fig.update_layout(title='Precipitation of Region (PFAF-ID) 62297', height = 800, width = 800)\n",
    "fig.show()\n",
    "\n"
   ]
  },
  {
   "cell_type": "markdown",
   "metadata": {},
   "source": [
    "Alternative route: making boxplots using Plotly Graph Objects,  styling mean & standard deviation\n"
   ]
  },
  {
   "cell_type": "code",
   "execution_count": 9,
   "metadata": {},
   "outputs": [
    {
     "ename": "TypeError",
     "evalue": "'module' object is not callable",
     "output_type": "error",
     "traceback": [
      "\u001b[1;31m---------------------------------------------------------------------------\u001b[0m",
      "\u001b[1;31mTypeError\u001b[0m                                 Traceback (most recent call last)",
      "Cell \u001b[1;32mIn[9], line 4\u001b[0m\n\u001b[0;32m      1\u001b[0m \u001b[38;5;28;01mimport\u001b[39;00m \u001b[38;5;21;01mplotly\u001b[39;00m\u001b[38;5;21;01m.\u001b[39;00m\u001b[38;5;21;01mgraph_objects\u001b[39;00m \u001b[38;5;28;01mas\u001b[39;00m \u001b[38;5;21;01mgo\u001b[39;00m\n\u001b[0;32m      3\u001b[0m fig \u001b[38;5;241m=\u001b[39m go\u001b[38;5;241m.\u001b[39mFigure()\n\u001b[1;32m----> 4\u001b[0m go\u001b[38;5;241m.\u001b[39mbox(aoi_ds_summary, y \u001b[38;5;241m=\u001b[39m \u001b[38;5;124m'\u001b[39m\u001b[38;5;124mRainf_tavg\u001b[39m\u001b[38;5;124m'\u001b[39m, x \u001b[38;5;241m=\u001b[39m \u001b[38;5;124m'\u001b[39m\u001b[38;5;124mtime\u001b[39m\u001b[38;5;124m'\u001b[39m, color\u001b[38;5;241m=\u001b[39m\u001b[38;5;124m'\u001b[39m\u001b[38;5;124mtime\u001b[39m\u001b[38;5;124m'\u001b[39m)\n",
      "\u001b[1;31mTypeError\u001b[0m: 'module' object is not callable"
     ]
    }
   ],
   "source": [
    "import plotly.graph_objects as go\n",
    "\n",
    "fig = go.Figure()\n",
    "fig.add_trace(go.box(aoi_ds_summary, y = 'Rainf_tavg', x = 'time', color='time'))"
   ]
  }
 ],
 "metadata": {
  "kernelspec": {
   "display_name": "base",
   "language": "python",
   "name": "python3"
  },
  "language_info": {
   "codemirror_mode": {
    "name": "ipython",
    "version": 3
   },
   "file_extension": ".py",
   "mimetype": "text/x-python",
   "name": "python",
   "nbconvert_exporter": "python",
   "pygments_lexer": "ipython3",
   "version": "3.11.7"
  }
 },
 "nbformat": 4,
 "nbformat_minor": 2
}
