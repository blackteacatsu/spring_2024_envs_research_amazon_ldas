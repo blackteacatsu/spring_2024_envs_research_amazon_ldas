{
 "cells": [
  {
   "cell_type": "code",
   "execution_count": 1,
   "metadata": {},
   "outputs": [
    {
     "name": "stderr",
     "output_type": "stream",
     "text": [
      "c:\\Users\\Kris\\AppData\\Local\\anaconda3\\Lib\\site-packages\\paramiko\\transport.py:219: CryptographyDeprecationWarning: Blowfish has been deprecated and will be removed in a future release\n",
      "  \"class\": algorithms.Blowfish,\n"
     ]
    }
   ],
   "source": [
    "# import packages\n",
    "import xarray as xr\n",
    "import geopandas as gpd\n",
    "# from rasterio.features import geometry_mask\n",
    "# from rasterstats import zonal_stats\n",
    "import regionmask\n",
    "import matplotlib.pyplot as plt"
   ]
  },
  {
   "cell_type": "code",
   "execution_count": 3,
   "metadata": {},
   "outputs": [],
   "source": [
    "# Define netCDF file location\n",
    "ds_location = r\"C:\\Users\\Kris\\Documents\\amazonforcast\\data\\2023\\202301\\LIS_HIST_2023_Jan.nc\"\n",
    "# Define shape file location\n",
    "shp_location = r\"C:\\Users\\Kris\\Documents\\amazonforcast\\gisfiles\\hydrobasins shape\\hybas_sa_lev05_areaofstudy.shp\"\n",
    "\n",
    "# netcdf file loader\n",
    "ds = xr.open_dataset(ds_location)\n",
    "# .shp file loader\n",
    "hybas_sa_lev05 = gpd.read_file(shp_location)"
   ]
  },
  {
   "cell_type": "code",
   "execution_count": 4,
   "metadata": {},
   "outputs": [
    {
     "name": "stdout",
     "output_type": "stream",
     "text": [
      "East-West range: -82.0 to -49.0\n",
      "North-South range: -21.0 to 6.0\n",
      "[-9054007.67266785 -2376978.16229946 -5440740.11254905   671070.13011205]\n",
      "Original CRS: EPSG:3857\n",
      "Reprojected CRS: EPSG:4326\n",
      "[-81.33353475 -20.87498542 -48.875        6.01723395]\n"
     ]
    }
   ],
   "source": [
    "# Reproject current crs of gdf to epsg 4326\n",
    "print(f\"East-West range: {ds.east_west.min().item()} to {ds.east_west.max().item()}\")\n",
    "print(f\"North-South range: {ds.north_south.min().item()} to {ds.north_south.max().item()}\")\n",
    "\n",
    "print(hybas_sa_lev05.total_bounds)  # This will print the bounds of the regions in your GeoDataFrame\n",
    "\n",
    "# Print current CRS of the GeoDataFrame\n",
    "print(f\"Original CRS: {hybas_sa_lev05.crs}\")\n",
    "\n",
    "# Reproject to WGS84 (latitude and longitude)\n",
    "hybas_sa_lev05 = hybas_sa_lev05.to_crs(epsg=4326)\n",
    "\n",
    "# Print new CRS to confirm\n",
    "print(f\"Reprojected CRS: {hybas_sa_lev05.crs}\")\n",
    "\n",
    "# Check the bounds again after reprojection\n",
    "print(hybas_sa_lev05.total_bounds)"
   ]
  },
  {
   "cell_type": "code",
   "execution_count": 6,
   "metadata": {},
   "outputs": [
    {
     "data": {
      "text/plain": [
       "geopandas.geodataframe.GeoDataFrame"
      ]
     },
     "execution_count": 6,
     "metadata": {},
     "output_type": "execute_result"
    }
   ],
   "source": [
    "type(hybas_sa_lev05)"
   ]
  },
  {
   "cell_type": "code",
   "execution_count": 7,
   "metadata": {},
   "outputs": [
    {
     "ename": "ValueError",
     "evalue": "shape values cannot be cast to specified dtype: <class 'numpy.uint32'>",
     "output_type": "error",
     "traceback": [
      "\u001b[1;31m---------------------------------------------------------------------------\u001b[0m",
      "\u001b[1;31mValueError\u001b[0m                                Traceback (most recent call last)",
      "Cell \u001b[1;32mIn[7], line 3\u001b[0m\n\u001b[0;32m      1\u001b[0m \u001b[38;5;66;03m# Create a 3d mask - this contains the true / false values identifying pixels\u001b[39;00m\n\u001b[0;32m      2\u001b[0m \u001b[38;5;66;03m# inside vs outside of the mask region\u001b[39;00m\n\u001b[1;32m----> 3\u001b[0m aoi_mask \u001b[38;5;241m=\u001b[39m regionmask\u001b[38;5;241m.\u001b[39mmask_3D_geopandas(hybas_sa_lev05,\n\u001b[0;32m      4\u001b[0m                                          ds\u001b[38;5;241m.\u001b[39meast_west,\n\u001b[0;32m      5\u001b[0m                                          ds\u001b[38;5;241m.\u001b[39mnorth_south)\n\u001b[0;32m      6\u001b[0m aoi_mask\n",
      "File \u001b[1;32mc:\\Users\\Kris\\AppData\\Local\\anaconda3\\Lib\\site-packages\\regionmask\\core\\_deprecate.py:108\u001b[0m, in \u001b[0;36m_deprecate_positional_args.<locals>._decorator.<locals>.inner\u001b[1;34m(*args, **kwargs)\u001b[0m\n\u001b[0;32m    104\u001b[0m     kwargs\u001b[38;5;241m.\u001b[39mupdate({name: arg \u001b[38;5;28;01mfor\u001b[39;00m name, arg \u001b[38;5;129;01min\u001b[39;00m zip_args})\n\u001b[0;32m    106\u001b[0m     \u001b[38;5;28;01mreturn\u001b[39;00m func(\u001b[38;5;241m*\u001b[39margs[:\u001b[38;5;241m-\u001b[39mn_extra_args], \u001b[38;5;241m*\u001b[39m\u001b[38;5;241m*\u001b[39mkwargs)\n\u001b[1;32m--> 108\u001b[0m \u001b[38;5;28;01mreturn\u001b[39;00m func(\u001b[38;5;241m*\u001b[39margs, \u001b[38;5;241m*\u001b[39m\u001b[38;5;241m*\u001b[39mkwargs)\n",
      "File \u001b[1;32mc:\\Users\\Kris\\AppData\\Local\\anaconda3\\Lib\\site-packages\\regionmask\\core\\_geopandas.py:275\u001b[0m, in \u001b[0;36mmask_3D_geopandas\u001b[1;34m(geodataframe, lon_or_obj, lat, drop, lon_name, lat_name, numbers, method, wrap_lon, use_cf, overlap)\u001b[0m\n\u001b[0;32m    257\u001b[0m \u001b[38;5;129m@_deprecate_positional_args\u001b[39m(\u001b[38;5;124m\"\u001b[39m\u001b[38;5;124m0.10.0\u001b[39m\u001b[38;5;124m\"\u001b[39m)\n\u001b[0;32m    258\u001b[0m \u001b[38;5;28;01mdef\u001b[39;00m \u001b[38;5;21mmask_3D_geopandas\u001b[39m(\n\u001b[0;32m    259\u001b[0m     geodataframe,\n\u001b[1;32m   (...)\u001b[0m\n\u001b[0;32m    270\u001b[0m     overlap\u001b[38;5;241m=\u001b[39m\u001b[38;5;28;01mNone\u001b[39;00m,\n\u001b[0;32m    271\u001b[0m ):\n\u001b[0;32m    273\u001b[0m     polygons, numbers \u001b[38;5;241m=\u001b[39m _prepare_gdf_for_mask(geodataframe, numbers\u001b[38;5;241m=\u001b[39mnumbers)\n\u001b[1;32m--> 275\u001b[0m     mask_3D \u001b[38;5;241m=\u001b[39m _mask_3D(\n\u001b[0;32m    276\u001b[0m         polygons\u001b[38;5;241m=\u001b[39mpolygons,\n\u001b[0;32m    277\u001b[0m         numbers\u001b[38;5;241m=\u001b[39mnumbers,\n\u001b[0;32m    278\u001b[0m         lon_or_obj\u001b[38;5;241m=\u001b[39mlon_or_obj,\n\u001b[0;32m    279\u001b[0m         lat\u001b[38;5;241m=\u001b[39mlat,\n\u001b[0;32m    280\u001b[0m         drop\u001b[38;5;241m=\u001b[39mdrop,\n\u001b[0;32m    281\u001b[0m         lon_name\u001b[38;5;241m=\u001b[39mlon_name,\n\u001b[0;32m    282\u001b[0m         lat_name\u001b[38;5;241m=\u001b[39mlat_name,\n\u001b[0;32m    283\u001b[0m         method\u001b[38;5;241m=\u001b[39mmethod,\n\u001b[0;32m    284\u001b[0m         wrap_lon\u001b[38;5;241m=\u001b[39mwrap_lon,\n\u001b[0;32m    285\u001b[0m         overlap\u001b[38;5;241m=\u001b[39moverlap,\n\u001b[0;32m    286\u001b[0m         use_cf\u001b[38;5;241m=\u001b[39muse_cf,\n\u001b[0;32m    287\u001b[0m     )\n\u001b[0;32m    289\u001b[0m     \u001b[38;5;28;01mreturn\u001b[39;00m mask_3D\n",
      "File \u001b[1;32mc:\\Users\\Kris\\AppData\\Local\\anaconda3\\Lib\\site-packages\\regionmask\\core\\mask.py:425\u001b[0m, in \u001b[0;36m_mask_3D\u001b[1;34m(polygons, numbers, lon_or_obj, lat, drop, lon_name, lat_name, method, wrap_lon, overlap, use_cf)\u001b[0m\n\u001b[0;32m    409\u001b[0m \u001b[38;5;28;01mdef\u001b[39;00m \u001b[38;5;21m_mask_3D\u001b[39m(\n\u001b[0;32m    410\u001b[0m     polygons,\n\u001b[0;32m    411\u001b[0m     numbers,\n\u001b[1;32m   (...)\u001b[0m\n\u001b[0;32m    420\u001b[0m     use_cf\u001b[38;5;241m=\u001b[39m\u001b[38;5;28;01mNone\u001b[39;00m,\n\u001b[0;32m    421\u001b[0m ):\n\u001b[0;32m    423\u001b[0m     as_3D \u001b[38;5;241m=\u001b[39m overlap \u001b[38;5;129;01mor\u001b[39;00m overlap \u001b[38;5;129;01mis\u001b[39;00m \u001b[38;5;28;01mNone\u001b[39;00m\n\u001b[1;32m--> 425\u001b[0m     mask \u001b[38;5;241m=\u001b[39m _mask(\n\u001b[0;32m    426\u001b[0m         polygons\u001b[38;5;241m=\u001b[39mpolygons,\n\u001b[0;32m    427\u001b[0m         numbers\u001b[38;5;241m=\u001b[39mnumbers,\n\u001b[0;32m    428\u001b[0m         lon_or_obj\u001b[38;5;241m=\u001b[39mlon_or_obj,\n\u001b[0;32m    429\u001b[0m         lat\u001b[38;5;241m=\u001b[39mlat,\n\u001b[0;32m    430\u001b[0m         lon_name\u001b[38;5;241m=\u001b[39mlon_name,\n\u001b[0;32m    431\u001b[0m         lat_name\u001b[38;5;241m=\u001b[39mlat_name,\n\u001b[0;32m    432\u001b[0m         method\u001b[38;5;241m=\u001b[39mmethod,\n\u001b[0;32m    433\u001b[0m         wrap_lon\u001b[38;5;241m=\u001b[39mwrap_lon,\n\u001b[0;32m    434\u001b[0m         as_3D\u001b[38;5;241m=\u001b[39mas_3D,\n\u001b[0;32m    435\u001b[0m         use_cf\u001b[38;5;241m=\u001b[39muse_cf,\n\u001b[0;32m    436\u001b[0m     )\n\u001b[0;32m    438\u001b[0m     \u001b[38;5;28;01mif\u001b[39;00m as_3D:\n\u001b[0;32m    439\u001b[0m         mask_3D \u001b[38;5;241m=\u001b[39m _3D_to_3D_mask(mask, numbers, drop)\n",
      "File \u001b[1;32mc:\\Users\\Kris\\AppData\\Local\\anaconda3\\Lib\\site-packages\\regionmask\\core\\mask.py:275\u001b[0m, in \u001b[0;36m_mask\u001b[1;34m(polygons, numbers, lon_or_obj, lat, lon_name, lat_name, method, wrap_lon, as_3D, use_cf)\u001b[0m\n\u001b[0;32m    272\u001b[0m     mask_func \u001b[38;5;241m=\u001b[39m _mask_shapely_v2\n\u001b[0;32m    273\u001b[0m     kwargs \u001b[38;5;241m=\u001b[39m {\u001b[38;5;124m\"\u001b[39m\u001b[38;5;124mis_unstructured\u001b[39m\u001b[38;5;124m\"\u001b[39m: is_unstructured}\n\u001b[1;32m--> 275\u001b[0m mask \u001b[38;5;241m=\u001b[39m mask_func(lon_arr, lat_arr, polygons, numbers\u001b[38;5;241m=\u001b[39mnumbers, as_3D\u001b[38;5;241m=\u001b[39mas_3D, \u001b[38;5;241m*\u001b[39m\u001b[38;5;241m*\u001b[39mkwargs)\n\u001b[0;32m    277\u001b[0m \u001b[38;5;66;03m# not False required\u001b[39;00m\n\u001b[0;32m    278\u001b[0m \u001b[38;5;28;01mif\u001b[39;00m wrap_lon \u001b[38;5;129;01mis\u001b[39;00m \u001b[38;5;129;01mnot\u001b[39;00m \u001b[38;5;28;01mFalse\u001b[39;00m:\n\u001b[0;32m    279\u001b[0m     \u001b[38;5;66;03m# treat the points at -180°E/0°E and -90°N\u001b[39;00m\n",
      "File \u001b[1;32mc:\\Users\\Kris\\AppData\\Local\\anaconda3\\Lib\\site-packages\\regionmask\\core\\mask.py:890\u001b[0m, in \u001b[0;36m_mask_rasterize\u001b[1;34m(lon, lat, polygons, numbers, fill, as_3D, **kwargs)\u001b[0m\n\u001b[0;32m    887\u001b[0m \u001b[38;5;28;01mdef\u001b[39;00m \u001b[38;5;21m_mask_rasterize\u001b[39m(lon, lat, polygons, numbers, fill\u001b[38;5;241m=\u001b[39mnp\u001b[38;5;241m.\u001b[39mnan, as_3D\u001b[38;5;241m=\u001b[39m\u001b[38;5;28;01mFalse\u001b[39;00m, \u001b[38;5;241m*\u001b[39m\u001b[38;5;241m*\u001b[39mkwargs):\n\u001b[0;32m    889\u001b[0m     \u001b[38;5;28;01mif\u001b[39;00m as_3D:\n\u001b[1;32m--> 890\u001b[0m         \u001b[38;5;28;01mreturn\u001b[39;00m _mask_rasterize_3D_internal(lon, lat, polygons, \u001b[38;5;241m*\u001b[39m\u001b[38;5;241m*\u001b[39mkwargs)\n\u001b[0;32m    892\u001b[0m     \u001b[38;5;28;01mreturn\u001b[39;00m _mask_rasterize_internal(lon, lat, polygons, numbers, fill\u001b[38;5;241m=\u001b[39mfill, \u001b[38;5;241m*\u001b[39m\u001b[38;5;241m*\u001b[39mkwargs)\n",
      "File \u001b[1;32mc:\\Users\\Kris\\AppData\\Local\\anaconda3\\Lib\\site-packages\\regionmask\\core\\mask.py:916\u001b[0m, in \u001b[0;36m_mask_rasterize_3D_internal\u001b[1;34m(lon, lat, polygons, **kwargs)\u001b[0m\n\u001b[0;32m    912\u001b[0m \u001b[38;5;28;01mfor\u001b[39;00m i \u001b[38;5;129;01min\u001b[39;00m \u001b[38;5;28mrange\u001b[39m(np\u001b[38;5;241m.\u001b[39mceil(n_polygons \u001b[38;5;241m/\u001b[39m \u001b[38;5;241m32\u001b[39m)\u001b[38;5;241m.\u001b[39mastype(\u001b[38;5;28mint\u001b[39m)):\n\u001b[0;32m    914\u001b[0m     sel \u001b[38;5;241m=\u001b[39m \u001b[38;5;28mslice\u001b[39m(\u001b[38;5;241m32\u001b[39m \u001b[38;5;241m*\u001b[39m i, \u001b[38;5;241m32\u001b[39m \u001b[38;5;241m*\u001b[39m (i \u001b[38;5;241m+\u001b[39m \u001b[38;5;241m1\u001b[39m))\n\u001b[1;32m--> 916\u001b[0m     result \u001b[38;5;241m=\u001b[39m _mask_rasterize_internal(\n\u001b[0;32m    917\u001b[0m         lon,\n\u001b[0;32m    918\u001b[0m         lat,\n\u001b[0;32m    919\u001b[0m         polygons[sel],\n\u001b[0;32m    920\u001b[0m         numbers[: \u001b[38;5;28mmin\u001b[39m(\u001b[38;5;241m32\u001b[39m, n_polygons \u001b[38;5;241m-\u001b[39m i \u001b[38;5;241m*\u001b[39m \u001b[38;5;241m32\u001b[39m)],\n\u001b[0;32m    921\u001b[0m         fill\u001b[38;5;241m=\u001b[39m\u001b[38;5;241m0\u001b[39m,\n\u001b[0;32m    922\u001b[0m         dtype\u001b[38;5;241m=\u001b[39mnp\u001b[38;5;241m.\u001b[39muint32,\n\u001b[0;32m    923\u001b[0m         merge_alg\u001b[38;5;241m=\u001b[39mrasterio\u001b[38;5;241m.\u001b[39menums\u001b[38;5;241m.\u001b[39mMergeAlg\u001b[38;5;241m.\u001b[39madd,\n\u001b[0;32m    924\u001b[0m         \u001b[38;5;241m*\u001b[39m\u001b[38;5;241m*\u001b[39mkwargs,\n\u001b[0;32m    925\u001b[0m     )\n\u001b[0;32m    927\u001b[0m     \u001b[38;5;66;03m# disentangle the regions\u001b[39;00m\n\u001b[0;32m    928\u001b[0m     result \u001b[38;5;241m=\u001b[39m unpackbits(result, \u001b[38;5;241m32\u001b[39m)\n",
      "File \u001b[1;32mc:\\Users\\Kris\\AppData\\Local\\anaconda3\\Lib\\site-packages\\regionmask\\core\\mask.py:949\u001b[0m, in \u001b[0;36m_mask_rasterize_internal\u001b[1;34m(lon, lat, polygons, numbers, fill, **kwargs)\u001b[0m\n\u001b[0;32m    946\u001b[0m lon \u001b[38;5;241m=\u001b[39m lon \u001b[38;5;241m-\u001b[39m \u001b[38;5;241m1\u001b[39m \u001b[38;5;241m*\u001b[39m \u001b[38;5;241m10\u001b[39m\u001b[38;5;241m*\u001b[39m\u001b[38;5;241m*\u001b[39m\u001b[38;5;241m-\u001b[39m\u001b[38;5;241m8\u001b[39m\n\u001b[0;32m    947\u001b[0m lat \u001b[38;5;241m=\u001b[39m lat \u001b[38;5;241m-\u001b[39m \u001b[38;5;241m1\u001b[39m \u001b[38;5;241m*\u001b[39m \u001b[38;5;241m10\u001b[39m\u001b[38;5;241m*\u001b[39m\u001b[38;5;241m*\u001b[39m\u001b[38;5;241m-\u001b[39m\u001b[38;5;241m10\u001b[39m\n\u001b[1;32m--> 949\u001b[0m \u001b[38;5;28;01mreturn\u001b[39;00m _mask_rasterize_no_offset(lon, lat, polygons, numbers, fill, \u001b[38;5;241m*\u001b[39m\u001b[38;5;241m*\u001b[39mkwargs)\n",
      "File \u001b[1;32mc:\\Users\\Kris\\AppData\\Local\\anaconda3\\Lib\\site-packages\\regionmask\\core\\mask.py:971\u001b[0m, in \u001b[0;36m_mask_rasterize_no_offset\u001b[1;34m(lon, lat, polygons, numbers, fill, dtype, **kwargs)\u001b[0m\n\u001b[0;32m    968\u001b[0m transform \u001b[38;5;241m=\u001b[39m _transform_from_latlon(lon, lat)\n\u001b[0;32m    969\u001b[0m out_shape \u001b[38;5;241m=\u001b[39m (\u001b[38;5;28mlen\u001b[39m(lat), \u001b[38;5;28mlen\u001b[39m(lon))\n\u001b[1;32m--> 971\u001b[0m raster \u001b[38;5;241m=\u001b[39m features\u001b[38;5;241m.\u001b[39mrasterize(\n\u001b[0;32m    972\u001b[0m     shapes,\n\u001b[0;32m    973\u001b[0m     out_shape\u001b[38;5;241m=\u001b[39mout_shape,\n\u001b[0;32m    974\u001b[0m     fill\u001b[38;5;241m=\u001b[39mfill,\n\u001b[0;32m    975\u001b[0m     transform\u001b[38;5;241m=\u001b[39mtransform,\n\u001b[0;32m    976\u001b[0m     dtype\u001b[38;5;241m=\u001b[39mdtype,\n\u001b[0;32m    977\u001b[0m     \u001b[38;5;241m*\u001b[39m\u001b[38;5;241m*\u001b[39mkwargs,\n\u001b[0;32m    978\u001b[0m )\n\u001b[0;32m    980\u001b[0m \u001b[38;5;28;01mreturn\u001b[39;00m raster\n",
      "File \u001b[1;32m~\\AppData\\Roaming\\Python\\Python311\\site-packages\\rasterio\\env.py:401\u001b[0m, in \u001b[0;36mensure_env.<locals>.wrapper\u001b[1;34m(*args, **kwds)\u001b[0m\n\u001b[0;32m    399\u001b[0m \u001b[38;5;28;01melse\u001b[39;00m:\n\u001b[0;32m    400\u001b[0m     \u001b[38;5;28;01mwith\u001b[39;00m Env\u001b[38;5;241m.\u001b[39mfrom_defaults():\n\u001b[1;32m--> 401\u001b[0m         \u001b[38;5;28;01mreturn\u001b[39;00m f(\u001b[38;5;241m*\u001b[39margs, \u001b[38;5;241m*\u001b[39m\u001b[38;5;241m*\u001b[39mkwds)\n",
      "File \u001b[1;32m~\\AppData\\Roaming\\Python\\Python311\\site-packages\\rasterio\\features.py:342\u001b[0m, in \u001b[0;36mrasterize\u001b[1;34m(shapes, out_shape, fill, out, transform, all_touched, merge_alg, default_value, dtype)\u001b[0m\n\u001b[0;32m    339\u001b[0m     dtype \u001b[38;5;241m=\u001b[39m get_minimum_dtype(np\u001b[38;5;241m.\u001b[39mappend(shape_values, fill))\n\u001b[0;32m    341\u001b[0m \u001b[38;5;28;01melif\u001b[39;00m \u001b[38;5;129;01mnot\u001b[39;00m can_cast_dtype(shape_values, dtype):\n\u001b[1;32m--> 342\u001b[0m     \u001b[38;5;28;01mraise\u001b[39;00m \u001b[38;5;167;01mValueError\u001b[39;00m(format_cast_error(\u001b[38;5;124m'\u001b[39m\u001b[38;5;124mshape values\u001b[39m\u001b[38;5;124m'\u001b[39m, dtype))\n\u001b[0;32m    344\u001b[0m \u001b[38;5;28;01mif\u001b[39;00m out \u001b[38;5;129;01mis\u001b[39;00m \u001b[38;5;129;01mnot\u001b[39;00m \u001b[38;5;28;01mNone\u001b[39;00m:\n\u001b[0;32m    345\u001b[0m     \u001b[38;5;28;01mif\u001b[39;00m _getnpdtype(out\u001b[38;5;241m.\u001b[39mdtype)\u001b[38;5;241m.\u001b[39mname \u001b[38;5;129;01mnot\u001b[39;00m \u001b[38;5;129;01min\u001b[39;00m valid_dtypes:\n",
      "\u001b[1;31mValueError\u001b[0m: shape values cannot be cast to specified dtype: <class 'numpy.uint32'>"
     ]
    }
   ],
   "source": [
    "# Create a 3d mask - this contains the true / false values identifying pixels\n",
    "# inside vs outside of the mask region\n",
    "aoi_mask = regionmask.mask_3D_geopandas(hybas_sa_lev05,\n",
    "                                         ds.east_west,\n",
    "                                         ds.north_south)\n",
    "aoi_mask"
   ]
  }
 ],
 "metadata": {
  "kernelspec": {
   "display_name": "base",
   "language": "python",
   "name": "python3"
  },
  "language_info": {
   "codemirror_mode": {
    "name": "ipython",
    "version": 3
   },
   "file_extension": ".py",
   "mimetype": "text/x-python",
   "name": "python",
   "nbconvert_exporter": "python",
   "pygments_lexer": "ipython3",
   "version": "3.11.7"
  }
 },
 "nbformat": 4,
 "nbformat_minor": 2
}
